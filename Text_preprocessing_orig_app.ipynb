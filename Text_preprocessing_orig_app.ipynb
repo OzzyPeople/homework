{
 "cells": [
  {
   "cell_type": "code",
   "execution_count": 1,
   "metadata": {
    "collapsed": true
   },
   "outputs": [],
   "source": [
    "import pandas as pd\n",
    "import numpy as np\n",
    "import textrank\n",
    "import sklearn\n",
    "import datetime as dt\n",
    "import matplotlib.pyplot as plt\n",
    "import seaborn as sns\n",
    "%matplotlib inline\n",
    "import pickle"
   ]
  },
  {
   "cell_type": "code",
   "execution_count": 2,
   "metadata": {
    "collapsed": true
   },
   "outputs": [],
   "source": [
    "col_labels = ['Date','AppID','AppName','Lang','1', '2', '3', 'Author','Stars','Title','Review','Reply','Device','DeviceType','Tags','Updated']"
   ]
  },
  {
   "cell_type": "code",
   "execution_count": 3,
   "metadata": {
    "collapsed": true
   },
   "outputs": [],
   "source": [
    "df = pd.read_csv('reviews_googleplay_1507788606.csv', \n",
    "                  skiprows=4, engine='python', names = col_labels, index_col=False,\n",
    "                  error_bad_lines=True\n",
    "                 )"
   ]
  },
  {
   "cell_type": "code",
   "execution_count": 4,
   "metadata": {
    "collapsed": true
   },
   "outputs": [],
   "source": [
    "df_1 = df.drop(['AppID','AppName', '1', '2', '3', 'Device','DeviceType','Tags','Updated'], axis =1)"
   ]
  },
  {
   "cell_type": "code",
   "execution_count": 5,
   "metadata": {
    "collapsed": false
   },
   "outputs": [
    {
     "data": {
      "text/html": [
       "<div>\n",
       "<style>\n",
       "    .dataframe thead tr:only-child th {\n",
       "        text-align: right;\n",
       "    }\n",
       "\n",
       "    .dataframe thead th {\n",
       "        text-align: left;\n",
       "    }\n",
       "\n",
       "    .dataframe tbody tr th {\n",
       "        vertical-align: top;\n",
       "    }\n",
       "</style>\n",
       "<table border=\"1\" class=\"dataframe\">\n",
       "  <thead>\n",
       "    <tr style=\"text-align: right;\">\n",
       "      <th></th>\n",
       "      <th>Date</th>\n",
       "      <th>Lang</th>\n",
       "      <th>Author</th>\n",
       "      <th>Stars</th>\n",
       "      <th>Title</th>\n",
       "      <th>Review</th>\n",
       "      <th>Reply</th>\n",
       "    </tr>\n",
       "  </thead>\n",
       "  <tbody>\n",
       "    <tr>\n",
       "      <th>0</th>\n",
       "      <td>\\t2017-10-11</td>\n",
       "      <td>pt</td>\n",
       "      <td>Renato Morais</td>\n",
       "      <td>5</td>\n",
       "      <td>NaN</td>\n",
       "      <td>Muito bom</td>\n",
       "      <td>NaN</td>\n",
       "    </tr>\n",
       "    <tr>\n",
       "      <th>1</th>\n",
       "      <td>\\t2017-10-11</td>\n",
       "      <td>de</td>\n",
       "      <td>NaN</td>\n",
       "      <td>4</td>\n",
       "      <td>NaN</td>\n",
       "      <td>Scheint eine gute App zu sein. Sehr übersichtl...</td>\n",
       "      <td>NaN</td>\n",
       "    </tr>\n",
       "    <tr>\n",
       "      <th>2</th>\n",
       "      <td>\\t2017-10-11</td>\n",
       "      <td>pt</td>\n",
       "      <td>NaN</td>\n",
       "      <td>5</td>\n",
       "      <td>NaN</td>\n",
       "      <td>Perfeito. Consigo controlar todos os dados imp...</td>\n",
       "      <td>NaN</td>\n",
       "    </tr>\n",
       "    <tr>\n",
       "      <th>3</th>\n",
       "      <td>\\t2017-10-11</td>\n",
       "      <td>ru</td>\n",
       "      <td>Eva Lollipop</td>\n",
       "      <td>5</td>\n",
       "      <td>NaN</td>\n",
       "      <td>Огромное спасибо, за ваш труд! Это лучше прило...</td>\n",
       "      <td>NaN</td>\n",
       "    </tr>\n",
       "    <tr>\n",
       "      <th>4</th>\n",
       "      <td>\\t2017-10-11</td>\n",
       "      <td>es</td>\n",
       "      <td>NaN</td>\n",
       "      <td>5</td>\n",
       "      <td>NaN</td>\n",
       "      <td>Excelente</td>\n",
       "      <td>NaN</td>\n",
       "    </tr>\n",
       "    <tr>\n",
       "      <th>5</th>\n",
       "      <td>\\t2017-10-11</td>\n",
       "      <td>pt</td>\n",
       "      <td>Larissa Campos</td>\n",
       "      <td>4</td>\n",
       "      <td>NaN</td>\n",
       "      <td>Troquei de celular e perdi todos os registros ...</td>\n",
       "      <td>NaN</td>\n",
       "    </tr>\n",
       "    <tr>\n",
       "      <th>6</th>\n",
       "      <td>\\t2017-10-11</td>\n",
       "      <td>ko</td>\n",
       "      <td>Seokyeong Jeong</td>\n",
       "      <td>3</td>\n",
       "      <td>NaN</td>\n",
       "      <td>좋기는한데 수유중 뒤로가기하면 수유가 끝나는가 하면, 이전에 왼쪽 수유했는데 오른쪽...</td>\n",
       "      <td>NaN</td>\n",
       "    </tr>\n",
       "    <tr>\n",
       "      <th>7</th>\n",
       "      <td>\\t2017-10-10</td>\n",
       "      <td>pt</td>\n",
       "      <td>NaN</td>\n",
       "      <td>5</td>\n",
       "      <td>NaN</td>\n",
       "      <td>Muito bom consigo amamentar minha bebe nas hor...</td>\n",
       "      <td>NaN</td>\n",
       "    </tr>\n",
       "    <tr>\n",
       "      <th>8</th>\n",
       "      <td>\\t2017-10-10</td>\n",
       "      <td>sr</td>\n",
       "      <td>NaN</td>\n",
       "      <td>5</td>\n",
       "      <td>NaN</td>\n",
       "      <td>Prava stvar za mame</td>\n",
       "      <td>NaN</td>\n",
       "    </tr>\n",
       "    <tr>\n",
       "      <th>9</th>\n",
       "      <td>\\t2017-10-10</td>\n",
       "      <td>de</td>\n",
       "      <td>NaN</td>\n",
       "      <td>4</td>\n",
       "      <td>NaN</td>\n",
       "      <td>Alles super, klasse App für alles Wichtige. Di...</td>\n",
       "      <td>NaN</td>\n",
       "    </tr>\n",
       "    <tr>\n",
       "      <th>10</th>\n",
       "      <td>\\t2017-10-10</td>\n",
       "      <td>pt</td>\n",
       "      <td>NaN</td>\n",
       "      <td>5</td>\n",
       "      <td>NaN</td>\n",
       "      <td>Me ajuda muito no controle de mamadas e fralda...</td>\n",
       "      <td>NaN</td>\n",
       "    </tr>\n",
       "    <tr>\n",
       "      <th>11</th>\n",
       "      <td>\\t2017-10-10</td>\n",
       "      <td>ru</td>\n",
       "      <td>Ирина Фатурова</td>\n",
       "      <td>3</td>\n",
       "      <td>NaN</td>\n",
       "      <td>Приложение некорректно отображает информацию в...</td>\n",
       "      <td>NaN</td>\n",
       "    </tr>\n",
       "    <tr>\n",
       "      <th>12</th>\n",
       "      <td>\\t2017-10-10</td>\n",
       "      <td>ru</td>\n",
       "      <td>Анна Ромас</td>\n",
       "      <td>4</td>\n",
       "      <td>NaN</td>\n",
       "      <td>Почему-то прогулку стало выставлять сразу окон...</td>\n",
       "      <td>NaN</td>\n",
       "    </tr>\n",
       "    <tr>\n",
       "      <th>13</th>\n",
       "      <td>\\t2017-10-10</td>\n",
       "      <td>es</td>\n",
       "      <td>NaN</td>\n",
       "      <td>5</td>\n",
       "      <td>NaN</td>\n",
       "      <td>Muy buena!</td>\n",
       "      <td>NaN</td>\n",
       "    </tr>\n",
       "    <tr>\n",
       "      <th>14</th>\n",
       "      <td>\\t2017-10-10</td>\n",
       "      <td>it</td>\n",
       "      <td>Silvia Rossi</td>\n",
       "      <td>5</td>\n",
       "      <td>NaN</td>\n",
       "      <td>App intuitiva, semplice da usare, utile.</td>\n",
       "      <td>NaN</td>\n",
       "    </tr>\n",
       "    <tr>\n",
       "      <th>15</th>\n",
       "      <td>\\t2017-10-10</td>\n",
       "      <td>ru</td>\n",
       "      <td>Екатерина Артеменкова</td>\n",
       "      <td>5</td>\n",
       "      <td>NaN</td>\n",
       "      <td>Просто, удобно, без рекламы почти</td>\n",
       "      <td>NaN</td>\n",
       "    </tr>\n",
       "    <tr>\n",
       "      <th>16</th>\n",
       "      <td>\\t2017-10-10</td>\n",
       "      <td>ru</td>\n",
       "      <td>Елена Кадрова</td>\n",
       "      <td>5</td>\n",
       "      <td>NaN</td>\n",
       "      <td>Супер! Очень выручает!</td>\n",
       "      <td>NaN</td>\n",
       "    </tr>\n",
       "    <tr>\n",
       "      <th>17</th>\n",
       "      <td>\\t2017-10-10</td>\n",
       "      <td>pt</td>\n",
       "      <td>marina paltrinieri</td>\n",
       "      <td>5</td>\n",
       "      <td>NaN</td>\n",
       "      <td>Muito bom</td>\n",
       "      <td>NaN</td>\n",
       "    </tr>\n",
       "    <tr>\n",
       "      <th>18</th>\n",
       "      <td>\\t2017-10-10</td>\n",
       "      <td>sv</td>\n",
       "      <td>Katrine Ölund</td>\n",
       "      <td>5</td>\n",
       "      <td>NaN</td>\n",
       "      <td>Har precis de amningsfunktioner jag letade eft...</td>\n",
       "      <td>NaN</td>\n",
       "    </tr>\n",
       "    <tr>\n",
       "      <th>19</th>\n",
       "      <td>\\t2017-10-10</td>\n",
       "      <td>es</td>\n",
       "      <td>cyntiahartmann</td>\n",
       "      <td>5</td>\n",
       "      <td>NaN</td>\n",
       "      <td>Muy útil</td>\n",
       "      <td>NaN</td>\n",
       "    </tr>\n",
       "    <tr>\n",
       "      <th>20</th>\n",
       "      <td>\\t2017-10-10</td>\n",
       "      <td>pt</td>\n",
       "      <td>Nyara Gissá</td>\n",
       "      <td>4</td>\n",
       "      <td>NaN</td>\n",
       "      <td>Muito bom!</td>\n",
       "      <td>NaN</td>\n",
       "    </tr>\n",
       "    <tr>\n",
       "      <th>21</th>\n",
       "      <td>\\t2017-10-09</td>\n",
       "      <td>pt</td>\n",
       "      <td>Andrezza Sabino</td>\n",
       "      <td>4</td>\n",
       "      <td>NaN</td>\n",
       "      <td>Adorei, me ajuda muito, a me organizar e lembr...</td>\n",
       "      <td>NaN</td>\n",
       "    </tr>\n",
       "    <tr>\n",
       "      <th>22</th>\n",
       "      <td>\\t2017-10-09</td>\n",
       "      <td>en</td>\n",
       "      <td>Debbi de Waal</td>\n",
       "      <td>4</td>\n",
       "      <td>NaN</td>\n",
       "      <td>User friendly and you can use other apps while...</td>\n",
       "      <td>NaN</td>\n",
       "    </tr>\n",
       "    <tr>\n",
       "      <th>23</th>\n",
       "      <td>\\t2017-10-09</td>\n",
       "      <td>tr</td>\n",
       "      <td>esin tomurcuk</td>\n",
       "      <td>5</td>\n",
       "      <td>NaN</td>\n",
       "      <td>Basit ve kullanisli</td>\n",
       "      <td>NaN</td>\n",
       "    </tr>\n",
       "    <tr>\n",
       "      <th>24</th>\n",
       "      <td>\\t2017-10-09</td>\n",
       "      <td>de</td>\n",
       "      <td>Jenny Löhndorf</td>\n",
       "      <td>4</td>\n",
       "      <td>NaN</td>\n",
       "      <td>App, die alles hat, was man braucht. Stilltime...</td>\n",
       "      <td>NaN</td>\n",
       "    </tr>\n",
       "    <tr>\n",
       "      <th>25</th>\n",
       "      <td>\\t2017-10-09</td>\n",
       "      <td>de</td>\n",
       "      <td>Francesca Barbaro</td>\n",
       "      <td>5</td>\n",
       "      <td>NaN</td>\n",
       "      <td>Finde die App super...vergesse nämlich oft wan...</td>\n",
       "      <td>NaN</td>\n",
       "    </tr>\n",
       "    <tr>\n",
       "      <th>26</th>\n",
       "      <td>\\t2017-10-09</td>\n",
       "      <td>ru</td>\n",
       "      <td>Anna Babashina</td>\n",
       "      <td>4</td>\n",
       "      <td>NaN</td>\n",
       "      <td>Хотелось бы расшифровки в графиках при нажатии...</td>\n",
       "      <td>NaN</td>\n",
       "    </tr>\n",
       "    <tr>\n",
       "      <th>27</th>\n",
       "      <td>\\t2017-10-09</td>\n",
       "      <td>ru</td>\n",
       "      <td>Инна Борщ</td>\n",
       "      <td>5</td>\n",
       "      <td>NaN</td>\n",
       "      <td>очень удобно</td>\n",
       "      <td>NaN</td>\n",
       "    </tr>\n",
       "    <tr>\n",
       "      <th>28</th>\n",
       "      <td>\\t2017-10-09</td>\n",
       "      <td>ru</td>\n",
       "      <td>Алиса Януш</td>\n",
       "      <td>5</td>\n",
       "      <td>NaN</td>\n",
       "      <td>Нравится приложение, как неопытная мамочка веч...</td>\n",
       "      <td>NaN</td>\n",
       "    </tr>\n",
       "    <tr>\n",
       "      <th>29</th>\n",
       "      <td>\\t2017-10-09</td>\n",
       "      <td>ru</td>\n",
       "      <td>Элиза Дорохова</td>\n",
       "      <td>5</td>\n",
       "      <td>NaN</td>\n",
       "      <td>Супер приложение, когда не надо заморачиваться...</td>\n",
       "      <td>NaN</td>\n",
       "    </tr>\n",
       "    <tr>\n",
       "      <th>...</th>\n",
       "      <td>...</td>\n",
       "      <td>...</td>\n",
       "      <td>...</td>\n",
       "      <td>...</td>\n",
       "      <td>...</td>\n",
       "      <td>...</td>\n",
       "      <td>...</td>\n",
       "    </tr>\n",
       "    <tr>\n",
       "      <th>3480</th>\n",
       "      <td>\\t2015-10-06</td>\n",
       "      <td>ru</td>\n",
       "      <td>Eugenia Barvinkova</td>\n",
       "      <td>5</td>\n",
       "      <td>NaN</td>\n",
       "      <td>Полезная программа для тех, кто уже мамы, и дл...</td>\n",
       "      <td>NaN</td>\n",
       "    </tr>\n",
       "    <tr>\n",
       "      <th>3481</th>\n",
       "      <td>\\t2015-10-05</td>\n",
       "      <td>en</td>\n",
       "      <td>Видео-сборка Лучшее</td>\n",
       "      <td>5</td>\n",
       "      <td>NaN</td>\n",
       "      <td>Приложение поможет многим, респект создателю.</td>\n",
       "      <td>Спасибо!</td>\n",
       "    </tr>\n",
       "    <tr>\n",
       "      <th>3482</th>\n",
       "      <td>\\t2015-10-05</td>\n",
       "      <td>ru</td>\n",
       "      <td>Жанна Запруднова</td>\n",
       "      <td>3</td>\n",
       "      <td>Нужна доработка</td>\n",
       "      <td>Добавьте сверху, чтобы было видно сколько врем...</td>\n",
       "      <td>NaN</td>\n",
       "    </tr>\n",
       "    <tr>\n",
       "      <th>3483</th>\n",
       "      <td>\\t2015-10-05</td>\n",
       "      <td>ru</td>\n",
       "      <td>Funny Guy</td>\n",
       "      <td>5</td>\n",
       "      <td>Великолепно</td>\n",
       "      <td>Приложение отличное</td>\n",
       "      <td>NaN</td>\n",
       "    </tr>\n",
       "    <tr>\n",
       "      <th>3484</th>\n",
       "      <td>\\t2015-10-05</td>\n",
       "      <td>ru</td>\n",
       "      <td>Артур Обора</td>\n",
       "      <td>5</td>\n",
       "      <td>NaN</td>\n",
       "      <td>Отличное приложения</td>\n",
       "      <td>NaN</td>\n",
       "    </tr>\n",
       "    <tr>\n",
       "      <th>3485</th>\n",
       "      <td>\\t2015-10-05</td>\n",
       "      <td>ru</td>\n",
       "      <td>Nastya Fleres</td>\n",
       "      <td>5</td>\n",
       "      <td>Отлично.</td>\n",
       "      <td>Очень нужное и удобное приложение )</td>\n",
       "      <td>NaN</td>\n",
       "    </tr>\n",
       "    <tr>\n",
       "      <th>3486</th>\n",
       "      <td>\\t2015-10-03</td>\n",
       "      <td>ru</td>\n",
       "      <td>Lubov Topal</td>\n",
       "      <td>5</td>\n",
       "      <td>Класс</td>\n",
       "      <td>Хорошее приложение, теперь буду пользоваться</td>\n",
       "      <td>NaN</td>\n",
       "    </tr>\n",
       "    <tr>\n",
       "      <th>3487</th>\n",
       "      <td>\\t2015-10-02</td>\n",
       "      <td>ru</td>\n",
       "      <td>vasya sergeev</td>\n",
       "      <td>5</td>\n",
       "      <td>супер</td>\n",
       "      <td>как раз вовремя. теперь мой сын будет под конт...</td>\n",
       "      <td>Спасибо!</td>\n",
       "    </tr>\n",
       "    <tr>\n",
       "      <th>3488</th>\n",
       "      <td>\\t2015-10-02</td>\n",
       "      <td>ru</td>\n",
       "      <td>roman ramon</td>\n",
       "      <td>5</td>\n",
       "      <td>NaN</td>\n",
       "      <td>Полезное приложение.спасибо</td>\n",
       "      <td>NaN</td>\n",
       "    </tr>\n",
       "    <tr>\n",
       "      <th>3489</th>\n",
       "      <td>\\t2015-10-02</td>\n",
       "      <td>ru</td>\n",
       "      <td>Анна Лебединская</td>\n",
       "      <td>5</td>\n",
       "      <td>NaN</td>\n",
       "      <td>Очень актуально</td>\n",
       "      <td>NaN</td>\n",
       "    </tr>\n",
       "    <tr>\n",
       "      <th>3490</th>\n",
       "      <td>\\t2015-10-02</td>\n",
       "      <td>ru</td>\n",
       "      <td>Nurbek Ahmadkulov</td>\n",
       "      <td>5</td>\n",
       "      <td>Супер</td>\n",
       "      <td>Хорошая прога</td>\n",
       "      <td>NaN</td>\n",
       "    </tr>\n",
       "    <tr>\n",
       "      <th>3491</th>\n",
       "      <td>\\t2015-10-02</td>\n",
       "      <td>ru</td>\n",
       "      <td>Ольга Романькова</td>\n",
       "      <td>4</td>\n",
       "      <td>NaN</td>\n",
       "      <td>Все бы хорошо, только с редактированием пробле...</td>\n",
       "      <td>NaN</td>\n",
       "    </tr>\n",
       "    <tr>\n",
       "      <th>3492</th>\n",
       "      <td>\\t2015-10-01</td>\n",
       "      <td>ru</td>\n",
       "      <td>Юля Чернобровкина</td>\n",
       "      <td>5</td>\n",
       "      <td>Нормально</td>\n",
       "      <td>Приложение очень хорошее, а если Ошибку устран...</td>\n",
       "      <td>Спасибо, Юлия. Ошибку устранили, пользуйтесь с...</td>\n",
       "    </tr>\n",
       "    <tr>\n",
       "      <th>3493</th>\n",
       "      <td>\\t2015-10-01</td>\n",
       "      <td>ru</td>\n",
       "      <td>Дима Парш</td>\n",
       "      <td>5</td>\n",
       "      <td>NaN</td>\n",
       "      <td>Отличное приложение</td>\n",
       "      <td>Спасибо!</td>\n",
       "    </tr>\n",
       "    <tr>\n",
       "      <th>3494</th>\n",
       "      <td>\\t2015-10-01</td>\n",
       "      <td>en</td>\n",
       "      <td>Ivan Getman</td>\n",
       "      <td>5</td>\n",
       "      <td>NaN</td>\n",
       "      <td>Очень полезное приложение</td>\n",
       "      <td>Спасибо, Иван!</td>\n",
       "    </tr>\n",
       "    <tr>\n",
       "      <th>3495</th>\n",
       "      <td>\\t2015-10-01</td>\n",
       "      <td>es</td>\n",
       "      <td>Timofey Prokhorov</td>\n",
       "      <td>5</td>\n",
       "      <td>NaN</td>\n",
       "      <td>Очень полезное приложения, отлично</td>\n",
       "      <td>Спасибо, Тимофей!</td>\n",
       "    </tr>\n",
       "    <tr>\n",
       "      <th>3496</th>\n",
       "      <td>\\t2015-10-01</td>\n",
       "      <td>ru</td>\n",
       "      <td>Tynyshtykbay Mukhambetyarov</td>\n",
       "      <td>5</td>\n",
       "      <td>Super</td>\n",
       "      <td>Class game</td>\n",
       "      <td>NaN</td>\n",
       "    </tr>\n",
       "    <tr>\n",
       "      <th>3497</th>\n",
       "      <td>\\t2015-09-30</td>\n",
       "      <td>ru</td>\n",
       "      <td>Витя Бобров</td>\n",
       "      <td>5</td>\n",
       "      <td>NaN</td>\n",
       "      <td>Моей жене понравилось,разрабодчикам спасибо.</td>\n",
       "      <td>Спасибо!</td>\n",
       "    </tr>\n",
       "    <tr>\n",
       "      <th>3498</th>\n",
       "      <td>\\t2015-09-30</td>\n",
       "      <td>ru</td>\n",
       "      <td>Катя Пушова</td>\n",
       "      <td>5</td>\n",
       "      <td>NaN</td>\n",
       "      <td>Мне очень понравилось приложение.</td>\n",
       "      <td>Спасибо!</td>\n",
       "    </tr>\n",
       "    <tr>\n",
       "      <th>3499</th>\n",
       "      <td>\\t2015-09-25</td>\n",
       "      <td>ru</td>\n",
       "      <td>Татьяна Петроченко</td>\n",
       "      <td>4</td>\n",
       "      <td>Исправьте ошибку во времени.</td>\n",
       "      <td>Очень нравится приложение. Исправьте время!! П...</td>\n",
       "      <td>Здравствуйте, Татьяна! В новой версии приложен...</td>\n",
       "    </tr>\n",
       "    <tr>\n",
       "      <th>3500</th>\n",
       "      <td>\\t2015-09-05</td>\n",
       "      <td>ru</td>\n",
       "      <td>Анастасия Д.</td>\n",
       "      <td>2</td>\n",
       "      <td>Очень плохо.</td>\n",
       "      <td>Приложение удобно лишь таймером для кормления....</td>\n",
       "      <td>Спасибо, Анастасия, за отзыв. Подскажите, пожа...</td>\n",
       "    </tr>\n",
       "    <tr>\n",
       "      <th>3501</th>\n",
       "      <td>\\t2015-08-26</td>\n",
       "      <td>pt</td>\n",
       "      <td>João Guimarães</td>\n",
       "      <td>4</td>\n",
       "      <td>Good</td>\n",
       "      <td>Please add more options on medicines like 'dro...</td>\n",
       "      <td>Hi João, Drops added into the latest version o...</td>\n",
       "    </tr>\n",
       "    <tr>\n",
       "      <th>3502</th>\n",
       "      <td>\\t2015-08-14</td>\n",
       "      <td>ru</td>\n",
       "      <td>Evgeniya Sasina</td>\n",
       "      <td>4</td>\n",
       "      <td>Нет общего суммирования</td>\n",
       "      <td>Добавьте плз суточное суммирование, сцеженного...</td>\n",
       "      <td>Здравствуйте, Евгения! Суммарная статистика и ...</td>\n",
       "    </tr>\n",
       "    <tr>\n",
       "      <th>3503</th>\n",
       "      <td>\\t2015-08-13</td>\n",
       "      <td>ru</td>\n",
       "      <td>Olga Bulicheva</td>\n",
       "      <td>4</td>\n",
       "      <td>Хороша программа</td>\n",
       "      <td>Добавьте пожалуйста время бодрствования.</td>\n",
       "      <td>Здравствуйте, Ольга! Но разве недостаточно вре...</td>\n",
       "    </tr>\n",
       "    <tr>\n",
       "      <th>3504</th>\n",
       "      <td>\\t2015-08-03</td>\n",
       "      <td>ru</td>\n",
       "      <td>Дарья Балкаева</td>\n",
       "      <td>3</td>\n",
       "      <td>Проблема со временем</td>\n",
       "      <td>Все данные сохраняются на 1 час позже. Не доба...</td>\n",
       "      <td>Здравствуйте, Дарья! В новой версии приложения...</td>\n",
       "    </tr>\n",
       "    <tr>\n",
       "      <th>3505</th>\n",
       "      <td>\\t2015-08-02</td>\n",
       "      <td>ru</td>\n",
       "      <td>Наталья Копченко</td>\n",
       "      <td>4</td>\n",
       "      <td>NaN</td>\n",
       "      <td>Ярлык не появился на рабочем столе почему то.....</td>\n",
       "      <td>Здравствуйте, Наталья! В новой версии мы улучш...</td>\n",
       "    </tr>\n",
       "    <tr>\n",
       "      <th>3506</th>\n",
       "      <td>\\t2015-07-28</td>\n",
       "      <td>ru</td>\n",
       "      <td>Алексей Попов</td>\n",
       "      <td>5</td>\n",
       "      <td>Отличное приложение!</td>\n",
       "      <td>Если не заморачиваться, о графиках или добавле...</td>\n",
       "      <td>Спасибо, Алексей! Графики, прием медикаментов ...</td>\n",
       "    </tr>\n",
       "    <tr>\n",
       "      <th>3507</th>\n",
       "      <td>\\t2015-07-08</td>\n",
       "      <td>ru</td>\n",
       "      <td>Связной Связной</td>\n",
       "      <td>3</td>\n",
       "      <td>NaN</td>\n",
       "      <td>Время после кормления и всего остального показ...</td>\n",
       "      <td>Здравствуйте! Проверьте, пожалуйста, верный ли...</td>\n",
       "    </tr>\n",
       "    <tr>\n",
       "      <th>3508</th>\n",
       "      <td>\\t2015-07-07</td>\n",
       "      <td>ru</td>\n",
       "      <td>Maxim Kolpakov</td>\n",
       "      <td>5</td>\n",
       "      <td>Удобное приложение</td>\n",
       "      <td>Жена кормит дочку, обязательно фиксируя в этом...</td>\n",
       "      <td>NaN</td>\n",
       "    </tr>\n",
       "    <tr>\n",
       "      <th>3509</th>\n",
       "      <td>\\t2015-07-04</td>\n",
       "      <td>ru</td>\n",
       "      <td>Роман Муратов</td>\n",
       "      <td>5</td>\n",
       "      <td>NaN</td>\n",
       "      <td>Супруга довольна</td>\n",
       "      <td>Спасибо за отзыв!</td>\n",
       "    </tr>\n",
       "  </tbody>\n",
       "</table>\n",
       "<p>3510 rows × 7 columns</p>\n",
       "</div>"
      ],
      "text/plain": [
       "              Date Lang                       Author  Stars  \\\n",
       "0     \\t2017-10-11   pt                Renato Morais      5   \n",
       "1     \\t2017-10-11   de                          NaN      4   \n",
       "2     \\t2017-10-11   pt                          NaN      5   \n",
       "3     \\t2017-10-11   ru                 Eva Lollipop      5   \n",
       "4     \\t2017-10-11   es                          NaN      5   \n",
       "5     \\t2017-10-11   pt               Larissa Campos      4   \n",
       "6     \\t2017-10-11   ko              Seokyeong Jeong      3   \n",
       "7     \\t2017-10-10   pt                          NaN      5   \n",
       "8     \\t2017-10-10   sr                          NaN      5   \n",
       "9     \\t2017-10-10   de                          NaN      4   \n",
       "10    \\t2017-10-10   pt                          NaN      5   \n",
       "11    \\t2017-10-10   ru               Ирина Фатурова      3   \n",
       "12    \\t2017-10-10   ru                   Анна Ромас      4   \n",
       "13    \\t2017-10-10   es                          NaN      5   \n",
       "14    \\t2017-10-10   it                 Silvia Rossi      5   \n",
       "15    \\t2017-10-10   ru        Екатерина Артеменкова      5   \n",
       "16    \\t2017-10-10   ru                Елена Кадрова      5   \n",
       "17    \\t2017-10-10   pt           marina paltrinieri      5   \n",
       "18    \\t2017-10-10   sv                Katrine Ölund      5   \n",
       "19    \\t2017-10-10   es               cyntiahartmann      5   \n",
       "20    \\t2017-10-10   pt                  Nyara Gissá      4   \n",
       "21    \\t2017-10-09   pt              Andrezza Sabino      4   \n",
       "22    \\t2017-10-09   en                Debbi de Waal      4   \n",
       "23    \\t2017-10-09   tr                esin tomurcuk      5   \n",
       "24    \\t2017-10-09   de               Jenny Löhndorf      4   \n",
       "25    \\t2017-10-09   de            Francesca Barbaro      5   \n",
       "26    \\t2017-10-09   ru               Anna Babashina      4   \n",
       "27    \\t2017-10-09   ru                    Инна Борщ      5   \n",
       "28    \\t2017-10-09   ru                   Алиса Януш      5   \n",
       "29    \\t2017-10-09   ru               Элиза Дорохова      5   \n",
       "...            ...  ...                          ...    ...   \n",
       "3480  \\t2015-10-06   ru           Eugenia Barvinkova      5   \n",
       "3481  \\t2015-10-05   en          Видео-сборка Лучшее      5   \n",
       "3482  \\t2015-10-05   ru             Жанна Запруднова      3   \n",
       "3483  \\t2015-10-05   ru                    Funny Guy      5   \n",
       "3484  \\t2015-10-05   ru                  Артур Обора      5   \n",
       "3485  \\t2015-10-05   ru                Nastya Fleres      5   \n",
       "3486  \\t2015-10-03   ru                  Lubov Topal      5   \n",
       "3487  \\t2015-10-02   ru                vasya sergeev      5   \n",
       "3488  \\t2015-10-02   ru                  roman ramon      5   \n",
       "3489  \\t2015-10-02   ru             Анна Лебединская      5   \n",
       "3490  \\t2015-10-02   ru            Nurbek Ahmadkulov      5   \n",
       "3491  \\t2015-10-02   ru             Ольга Романькова      4   \n",
       "3492  \\t2015-10-01   ru            Юля Чернобровкина      5   \n",
       "3493  \\t2015-10-01   ru                    Дима Парш      5   \n",
       "3494  \\t2015-10-01   en                  Ivan Getman      5   \n",
       "3495  \\t2015-10-01   es            Timofey Prokhorov      5   \n",
       "3496  \\t2015-10-01   ru  Tynyshtykbay Mukhambetyarov      5   \n",
       "3497  \\t2015-09-30   ru                  Витя Бобров      5   \n",
       "3498  \\t2015-09-30   ru                  Катя Пушова      5   \n",
       "3499  \\t2015-09-25   ru           Татьяна Петроченко      4   \n",
       "3500  \\t2015-09-05   ru                 Анастасия Д.      2   \n",
       "3501  \\t2015-08-26   pt               João Guimarães      4   \n",
       "3502  \\t2015-08-14   ru              Evgeniya Sasina      4   \n",
       "3503  \\t2015-08-13   ru               Olga Bulicheva      4   \n",
       "3504  \\t2015-08-03   ru               Дарья Балкаева      3   \n",
       "3505  \\t2015-08-02   ru             Наталья Копченко      4   \n",
       "3506  \\t2015-07-28   ru                Алексей Попов      5   \n",
       "3507  \\t2015-07-08   ru              Связной Связной      3   \n",
       "3508  \\t2015-07-07   ru               Maxim Kolpakov      5   \n",
       "3509  \\t2015-07-04   ru                Роман Муратов      5   \n",
       "\n",
       "                             Title  \\\n",
       "0                              NaN   \n",
       "1                              NaN   \n",
       "2                              NaN   \n",
       "3                              NaN   \n",
       "4                              NaN   \n",
       "5                              NaN   \n",
       "6                              NaN   \n",
       "7                              NaN   \n",
       "8                              NaN   \n",
       "9                              NaN   \n",
       "10                             NaN   \n",
       "11                             NaN   \n",
       "12                             NaN   \n",
       "13                             NaN   \n",
       "14                             NaN   \n",
       "15                             NaN   \n",
       "16                             NaN   \n",
       "17                             NaN   \n",
       "18                             NaN   \n",
       "19                             NaN   \n",
       "20                             NaN   \n",
       "21                             NaN   \n",
       "22                             NaN   \n",
       "23                             NaN   \n",
       "24                             NaN   \n",
       "25                             NaN   \n",
       "26                             NaN   \n",
       "27                             NaN   \n",
       "28                             NaN   \n",
       "29                             NaN   \n",
       "...                            ...   \n",
       "3480                           NaN   \n",
       "3481                           NaN   \n",
       "3482               Нужна доработка   \n",
       "3483                   Великолепно   \n",
       "3484                           NaN   \n",
       "3485                      Отлично.   \n",
       "3486                         Класс   \n",
       "3487                         супер   \n",
       "3488                           NaN   \n",
       "3489                           NaN   \n",
       "3490                         Супер   \n",
       "3491                           NaN   \n",
       "3492                     Нормально   \n",
       "3493                           NaN   \n",
       "3494                           NaN   \n",
       "3495                           NaN   \n",
       "3496                         Super   \n",
       "3497                           NaN   \n",
       "3498                           NaN   \n",
       "3499  Исправьте ошибку во времени.   \n",
       "3500                  Очень плохо.   \n",
       "3501                          Good   \n",
       "3502       Нет общего суммирования   \n",
       "3503              Хороша программа   \n",
       "3504          Проблема со временем   \n",
       "3505                           NaN   \n",
       "3506          Отличное приложение!   \n",
       "3507                           NaN   \n",
       "3508            Удобное приложение   \n",
       "3509                           NaN   \n",
       "\n",
       "                                                 Review  \\\n",
       "0                                             Muito bom   \n",
       "1     Scheint eine gute App zu sein. Sehr übersichtl...   \n",
       "2     Perfeito. Consigo controlar todos os dados imp...   \n",
       "3     Огромное спасибо, за ваш труд! Это лучше прило...   \n",
       "4                                             Excelente   \n",
       "5     Troquei de celular e perdi todos os registros ...   \n",
       "6     좋기는한데 수유중 뒤로가기하면 수유가 끝나는가 하면, 이전에 왼쪽 수유했는데 오른쪽...   \n",
       "7     Muito bom consigo amamentar minha bebe nas hor...   \n",
       "8                                   Prava stvar za mame   \n",
       "9     Alles super, klasse App für alles Wichtige. Di...   \n",
       "10    Me ajuda muito no controle de mamadas e fralda...   \n",
       "11    Приложение некорректно отображает информацию в...   \n",
       "12    Почему-то прогулку стало выставлять сразу окон...   \n",
       "13                                           Muy buena!   \n",
       "14             App intuitiva, semplice da usare, utile.   \n",
       "15                    Просто, удобно, без рекламы почти   \n",
       "16                               Супер! Очень выручает!   \n",
       "17                                            Muito bom   \n",
       "18    Har precis de amningsfunktioner jag letade eft...   \n",
       "19                                             Muy útil   \n",
       "20                                           Muito bom!   \n",
       "21    Adorei, me ajuda muito, a me organizar e lembr...   \n",
       "22    User friendly and you can use other apps while...   \n",
       "23                                  Basit ve kullanisli   \n",
       "24    App, die alles hat, was man braucht. Stilltime...   \n",
       "25    Finde die App super...vergesse nämlich oft wan...   \n",
       "26    Хотелось бы расшифровки в графиках при нажатии...   \n",
       "27                                         очень удобно   \n",
       "28    Нравится приложение, как неопытная мамочка веч...   \n",
       "29    Супер приложение, когда не надо заморачиваться...   \n",
       "...                                                 ...   \n",
       "3480  Полезная программа для тех, кто уже мамы, и дл...   \n",
       "3481      Приложение поможет многим, респект создателю.   \n",
       "3482  Добавьте сверху, чтобы было видно сколько врем...   \n",
       "3483                                Приложение отличное   \n",
       "3484                                Отличное приложения   \n",
       "3485                Очень нужное и удобное приложение )   \n",
       "3486       Хорошее приложение, теперь буду пользоваться   \n",
       "3487  как раз вовремя. теперь мой сын будет под конт...   \n",
       "3488                        Полезное приложение.спасибо   \n",
       "3489                                    Очень актуально   \n",
       "3490                                      Хорошая прога   \n",
       "3491  Все бы хорошо, только с редактированием пробле...   \n",
       "3492  Приложение очень хорошее, а если Ошибку устран...   \n",
       "3493                                Отличное приложение   \n",
       "3494                          Очень полезное приложение   \n",
       "3495                 Очень полезное приложения, отлично   \n",
       "3496                                         Class game   \n",
       "3497       Моей жене понравилось,разрабодчикам спасибо.   \n",
       "3498                  Мне очень понравилось приложение.   \n",
       "3499  Очень нравится приложение. Исправьте время!! П...   \n",
       "3500  Приложение удобно лишь таймером для кормления....   \n",
       "3501  Please add more options on medicines like 'dro...   \n",
       "3502  Добавьте плз суточное суммирование, сцеженного...   \n",
       "3503           Добавьте пожалуйста время бодрствования.   \n",
       "3504  Все данные сохраняются на 1 час позже. Не доба...   \n",
       "3505  Ярлык не появился на рабочем столе почему то.....   \n",
       "3506  Если не заморачиваться, о графиках или добавле...   \n",
       "3507  Время после кормления и всего остального показ...   \n",
       "3508  Жена кормит дочку, обязательно фиксируя в этом...   \n",
       "3509                                   Супруга довольна   \n",
       "\n",
       "                                                  Reply  \n",
       "0                                                   NaN  \n",
       "1                                                   NaN  \n",
       "2                                                   NaN  \n",
       "3                                                   NaN  \n",
       "4                                                   NaN  \n",
       "5                                                   NaN  \n",
       "6                                                   NaN  \n",
       "7                                                   NaN  \n",
       "8                                                   NaN  \n",
       "9                                                   NaN  \n",
       "10                                                  NaN  \n",
       "11                                                  NaN  \n",
       "12                                                  NaN  \n",
       "13                                                  NaN  \n",
       "14                                                  NaN  \n",
       "15                                                  NaN  \n",
       "16                                                  NaN  \n",
       "17                                                  NaN  \n",
       "18                                                  NaN  \n",
       "19                                                  NaN  \n",
       "20                                                  NaN  \n",
       "21                                                  NaN  \n",
       "22                                                  NaN  \n",
       "23                                                  NaN  \n",
       "24                                                  NaN  \n",
       "25                                                  NaN  \n",
       "26                                                  NaN  \n",
       "27                                                  NaN  \n",
       "28                                                  NaN  \n",
       "29                                                  NaN  \n",
       "...                                                 ...  \n",
       "3480                                                NaN  \n",
       "3481                                           Спасибо!  \n",
       "3482                                                NaN  \n",
       "3483                                                NaN  \n",
       "3484                                                NaN  \n",
       "3485                                                NaN  \n",
       "3486                                                NaN  \n",
       "3487                                           Спасибо!  \n",
       "3488                                                NaN  \n",
       "3489                                                NaN  \n",
       "3490                                                NaN  \n",
       "3491                                                NaN  \n",
       "3492  Спасибо, Юлия. Ошибку устранили, пользуйтесь с...  \n",
       "3493                                           Спасибо!  \n",
       "3494                                     Спасибо, Иван!  \n",
       "3495                                  Спасибо, Тимофей!  \n",
       "3496                                                NaN  \n",
       "3497                                           Спасибо!  \n",
       "3498                                           Спасибо!  \n",
       "3499  Здравствуйте, Татьяна! В новой версии приложен...  \n",
       "3500  Спасибо, Анастасия, за отзыв. Подскажите, пожа...  \n",
       "3501  Hi João, Drops added into the latest version o...  \n",
       "3502  Здравствуйте, Евгения! Суммарная статистика и ...  \n",
       "3503  Здравствуйте, Ольга! Но разве недостаточно вре...  \n",
       "3504  Здравствуйте, Дарья! В новой версии приложения...  \n",
       "3505  Здравствуйте, Наталья! В новой версии мы улучш...  \n",
       "3506  Спасибо, Алексей! Графики, прием медикаментов ...  \n",
       "3507  Здравствуйте! Проверьте, пожалуйста, верный ли...  \n",
       "3508                                                NaN  \n",
       "3509                                  Спасибо за отзыв!  \n",
       "\n",
       "[3510 rows x 7 columns]"
      ]
     },
     "execution_count": 5,
     "metadata": {},
     "output_type": "execute_result"
    }
   ],
   "source": [
    "df_1 "
   ]
  },
  {
   "cell_type": "code",
   "execution_count": 6,
   "metadata": {
    "collapsed": false
   },
   "outputs": [
    {
     "name": "stdout",
     "output_type": "stream",
     "text": [
      "Languages: {'nl', 'sl', 'pl', 'tr', 'mk', 'es', 'fi', 'cs', 'ro', 'de', 'da', 'az', 'sr', 'el', 'et', 'bg', 'ca', 'lt', 'ru', 'be', 'fr', 'it', 'no', 'hy', 'sv', 'hu', 'pt', 'uk', 'lv', 'en', 'hr', 'sq', 'sk'}\n",
      "Translate directions: ['az-ru', 'be-bg', 'be-cs', 'be-de', 'be-en', 'be-es', 'be-fr', 'be-it', 'be-pl', 'be-ro', 'be-ru', 'be-sr', 'be-tr', 'bg-be', 'bg-ru', 'bg-uk', 'ca-en', 'ca-ru', 'cs-be', 'cs-en', 'cs-ru', 'cs-uk', 'da-en', 'da-ru', 'de-be', 'de-en', 'de-es', 'de-fr', 'de-it', 'de-ru', 'de-tr', 'de-uk', 'el-en', 'el-ru', 'en-be', 'en-ca', 'en-cs', 'en-da', 'en-de', 'en-el', 'en-es', 'en-et', 'en-fi', 'en-fr', 'en-hu', 'en-it', 'en-lt', 'en-lv', 'en-mk', 'en-nl', 'en-no', 'en-pt', 'en-ru', 'en-sk', 'en-sl', 'en-sq', 'en-sv', 'en-tr', 'en-uk', 'es-be', 'es-de', 'es-en', 'es-ru', 'es-uk', 'et-en', 'et-ru', 'fi-en', 'fi-ru', 'fr-be', 'fr-de', 'fr-en', 'fr-ru', 'fr-uk', 'hr-ru', 'hu-en', 'hu-ru', 'hy-ru', 'it-be', 'it-de', 'it-en', 'it-ru', 'it-uk', 'lt-en', 'lt-ru', 'lv-en', 'lv-ru', 'mk-en', 'mk-ru', 'nl-en', 'nl-ru', 'no-en', 'no-ru', 'pl-be', 'pl-ru', 'pl-uk', 'pt-en', 'pt-ru', 'ro-be', 'ro-ru', 'ro-uk', 'ru-az', 'ru-be', 'ru-bg', 'ru-ca', 'ru-cs', 'ru-da', 'ru-de', 'ru-el', 'ru-en', 'ru-es', 'ru-et', 'ru-fi', 'ru-fr', 'ru-hr', 'ru-hu', 'ru-hy', 'ru-it', 'ru-lt', 'ru-lv', 'ru-mk', 'ru-nl', 'ru-no', 'ru-pl', 'ru-pt', 'ru-ro', 'ru-sk', 'ru-sl', 'ru-sq', 'ru-sr', 'ru-sv', 'ru-tr', 'ru-uk', 'sk-en', 'sk-ru', 'sl-en', 'sl-ru', 'sq-en', 'sq-ru', 'sr-be', 'sr-ru', 'sr-uk', 'sv-en', 'sv-ru', 'tr-be', 'tr-de', 'tr-en', 'tr-ru', 'tr-uk', 'uk-bg', 'uk-cs', 'uk-de', 'uk-en', 'uk-es', 'uk-fr', 'uk-it', 'uk-pl', 'uk-ro', 'uk-ru', 'uk-sr', 'uk-tr']\n",
      "Detect language: ru\n",
      "Translate: {'code': 200, 'lang': 'ru-en', 'text': ['Hello world!']}\n"
     ]
    }
   ],
   "source": [
    "from yandex_translate import YandexTranslate\n",
    "translate = YandexTranslate('trnsl.1.1.20171012T153315Z.27f7b7ad41361c04.5bb573e2c4533a4aeafa7deeba56e203de72b930')\n",
    "print('Languages:', translate.langs)\n",
    "print('Translate directions:', translate.directions)\n",
    "print('Detect language:', translate.detect('Привет, мир!'))\n",
    "print('Translate:', translate.translate('Привет, мир!', 'ru-en'))  # or just 'en'"
   ]
  },
  {
   "cell_type": "markdown",
   "metadata": {},
   "source": [
    "## Перевод русских отзывов "
   ]
  },
  {
   "cell_type": "code",
   "execution_count": 7,
   "metadata": {
    "collapsed": false
   },
   "outputs": [
    {
     "ename": "KeyboardInterrupt",
     "evalue": "",
     "output_type": "error",
     "traceback": [
      "\u001b[0;31m---------------------------------------------------------------------------\u001b[0m",
      "\u001b[0;31mKeyboardInterrupt\u001b[0m                         Traceback (most recent call last)",
      "\u001b[0;32m<ipython-input-7-e0ed27687d7b>\u001b[0m in \u001b[0;36m<module>\u001b[0;34m()\u001b[0m\n\u001b[1;32m     16\u001b[0m         \u001b[0mtext_portion\u001b[0m \u001b[0;34m=\u001b[0m \u001b[0mrussian_text_df\u001b[0m\u001b[0;34m[\u001b[0m\u001b[0;34m'Review'\u001b[0m\u001b[0;34m]\u001b[0m\u001b[0;34m[\u001b[0m\u001b[0mx\u001b[0m\u001b[0;34m:\u001b[0m\u001b[0mp\u001b[0m\u001b[0;34m]\u001b[0m \u001b[0;31m# выбираем русский текст и запускаем первый цикл начинаем от 0 до 51\u001b[0m\u001b[0;34m\u001b[0m\u001b[0m\n\u001b[1;32m     17\u001b[0m \u001b[0;34m\u001b[0m\u001b[0m\n\u001b[0;32m---> 18\u001b[0;31m         \u001b[0;32mfor\u001b[0m \u001b[0mtext\u001b[0m \u001b[0;32min\u001b[0m \u001b[0mtext_portion\u001b[0m\u001b[0;34m:\u001b[0m \u001b[0;31m# переводим его через яндекс и выбираем из него словарь текстов\u001b[0m\u001b[0;34m\u001b[0m\u001b[0m\n\u001b[0m\u001b[1;32m     19\u001b[0m             \u001b[0mrussian\u001b[0m \u001b[0;34m=\u001b[0m \u001b[0mtranslate\u001b[0m\u001b[0;34m.\u001b[0m\u001b[0mtranslate\u001b[0m\u001b[0;34m(\u001b[0m\u001b[0mtext\u001b[0m\u001b[0;34m,\u001b[0m \u001b[0;34m'ru-en'\u001b[0m\u001b[0;34m)\u001b[0m\u001b[0;34m[\u001b[0m\u001b[0;34m'text'\u001b[0m\u001b[0;34m]\u001b[0m\u001b[0;34m\u001b[0m\u001b[0m\n\u001b[1;32m     20\u001b[0m             \u001b[0mrussian_list_\u001b[0m\u001b[0;34m.\u001b[0m\u001b[0mappend\u001b[0m\u001b[0;34m(\u001b[0m\u001b[0mrussian\u001b[0m\u001b[0;34m)\u001b[0m\u001b[0;31m#добавляем его в общий словарь\u001b[0m\u001b[0;34m\u001b[0m\u001b[0m\n",
      "\u001b[0;32m/Users/OzzyPeople/anaconda/lib/python3.6/site-packages/pandas/core/series.py\u001b[0m in \u001b[0;36m__iter__\u001b[0;34m(self)\u001b[0m\n\u001b[1;32m   1050\u001b[0m         \"\"\" provide iteration over the values of the Series\n\u001b[1;32m   1051\u001b[0m         box values if necessary \"\"\"\n\u001b[0;32m-> 1052\u001b[0;31m         \u001b[0;32mif\u001b[0m \u001b[0mis_datetimelike\u001b[0m\u001b[0;34m(\u001b[0m\u001b[0mself\u001b[0m\u001b[0;34m)\u001b[0m\u001b[0;34m:\u001b[0m\u001b[0;34m\u001b[0m\u001b[0m\n\u001b[0m\u001b[1;32m   1053\u001b[0m             \u001b[0;32mreturn\u001b[0m \u001b[0;34m(\u001b[0m\u001b[0m_maybe_box_datetimelike\u001b[0m\u001b[0;34m(\u001b[0m\u001b[0mx\u001b[0m\u001b[0;34m)\u001b[0m \u001b[0;32mfor\u001b[0m \u001b[0mx\u001b[0m \u001b[0;32min\u001b[0m \u001b[0mself\u001b[0m\u001b[0;34m.\u001b[0m\u001b[0m_values\u001b[0m\u001b[0;34m)\u001b[0m\u001b[0;34m\u001b[0m\u001b[0m\n\u001b[1;32m   1054\u001b[0m         \u001b[0;32melse\u001b[0m\u001b[0;34m:\u001b[0m\u001b[0;34m\u001b[0m\u001b[0m\n",
      "\u001b[0;32m/Users/OzzyPeople/anaconda/lib/python3.6/site-packages/pandas/core/dtypes/common.py\u001b[0m in \u001b[0;36mis_datetimelike\u001b[0;34m(arr)\u001b[0m\n\u001b[1;32m    649\u001b[0m             \u001b[0mis_timedelta64_dtype\u001b[0m\u001b[0;34m(\u001b[0m\u001b[0marr\u001b[0m\u001b[0;34m)\u001b[0m \u001b[0;32mor\u001b[0m\u001b[0;34m\u001b[0m\u001b[0m\n\u001b[1;32m    650\u001b[0m             \u001b[0misinstance\u001b[0m\u001b[0;34m(\u001b[0m\u001b[0marr\u001b[0m\u001b[0;34m,\u001b[0m \u001b[0mABCPeriodIndex\u001b[0m\u001b[0;34m)\u001b[0m \u001b[0;32mor\u001b[0m\u001b[0;34m\u001b[0m\u001b[0m\n\u001b[0;32m--> 651\u001b[0;31m             is_datetimetz(arr))\n\u001b[0m\u001b[1;32m    652\u001b[0m \u001b[0;34m\u001b[0m\u001b[0m\n\u001b[1;32m    653\u001b[0m \u001b[0;34m\u001b[0m\u001b[0m\n",
      "\u001b[0;32m/Users/OzzyPeople/anaconda/lib/python3.6/site-packages/pandas/core/dtypes/common.py\u001b[0m in \u001b[0;36mis_datetimetz\u001b[0;34m(arr)\u001b[0m\n\u001b[1;32m    263\u001b[0m     return ((isinstance(arr, ABCDatetimeIndex) and\n\u001b[1;32m    264\u001b[0m              getattr(arr, 'tz', None) is not None) or\n\u001b[0;32m--> 265\u001b[0;31m             is_datetime64tz_dtype(arr))\n\u001b[0m\u001b[1;32m    266\u001b[0m \u001b[0;34m\u001b[0m\u001b[0m\n\u001b[1;32m    267\u001b[0m \u001b[0;34m\u001b[0m\u001b[0m\n",
      "\u001b[0;32m/Users/OzzyPeople/anaconda/lib/python3.6/site-packages/pandas/core/dtypes/common.py\u001b[0m in \u001b[0;36mis_datetime64tz_dtype\u001b[0;34m(arr_or_dtype)\u001b[0m\n\u001b[1;32m    366\u001b[0m     \u001b[0;32mif\u001b[0m \u001b[0marr_or_dtype\u001b[0m \u001b[0;32mis\u001b[0m \u001b[0;32mNone\u001b[0m\u001b[0;34m:\u001b[0m\u001b[0;34m\u001b[0m\u001b[0m\n\u001b[1;32m    367\u001b[0m         \u001b[0;32mreturn\u001b[0m \u001b[0;32mFalse\u001b[0m\u001b[0;34m\u001b[0m\u001b[0m\n\u001b[0;32m--> 368\u001b[0;31m     \u001b[0;32mreturn\u001b[0m \u001b[0mDatetimeTZDtype\u001b[0m\u001b[0;34m.\u001b[0m\u001b[0mis_dtype\u001b[0m\u001b[0;34m(\u001b[0m\u001b[0marr_or_dtype\u001b[0m\u001b[0;34m)\u001b[0m\u001b[0;34m\u001b[0m\u001b[0m\n\u001b[0m\u001b[1;32m    369\u001b[0m \u001b[0;34m\u001b[0m\u001b[0m\n\u001b[1;32m    370\u001b[0m \u001b[0;34m\u001b[0m\u001b[0m\n",
      "\u001b[0;32m/Users/OzzyPeople/anaconda/lib/python3.6/site-packages/pandas/core/dtypes/dtypes.py\u001b[0m in \u001b[0;36mis_dtype\u001b[0;34m(cls, dtype)\u001b[0m\n\u001b[1;32m     88\u001b[0m         \"\"\"\n\u001b[1;32m     89\u001b[0m         \u001b[0;32mif\u001b[0m \u001b[0mhasattr\u001b[0m\u001b[0;34m(\u001b[0m\u001b[0mdtype\u001b[0m\u001b[0;34m,\u001b[0m \u001b[0;34m'dtype'\u001b[0m\u001b[0;34m)\u001b[0m\u001b[0;34m:\u001b[0m\u001b[0;34m\u001b[0m\u001b[0m\n\u001b[0;32m---> 90\u001b[0;31m             \u001b[0mdtype\u001b[0m \u001b[0;34m=\u001b[0m \u001b[0mdtype\u001b[0m\u001b[0;34m.\u001b[0m\u001b[0mdtype\u001b[0m\u001b[0;34m\u001b[0m\u001b[0m\n\u001b[0m\u001b[1;32m     91\u001b[0m         \u001b[0;32mif\u001b[0m \u001b[0misinstance\u001b[0m\u001b[0;34m(\u001b[0m\u001b[0mdtype\u001b[0m\u001b[0;34m,\u001b[0m \u001b[0mnp\u001b[0m\u001b[0;34m.\u001b[0m\u001b[0mdtype\u001b[0m\u001b[0;34m)\u001b[0m\u001b[0;34m:\u001b[0m\u001b[0;34m\u001b[0m\u001b[0m\n\u001b[1;32m     92\u001b[0m             \u001b[0;32mreturn\u001b[0m \u001b[0;32mFalse\u001b[0m\u001b[0;34m\u001b[0m\u001b[0m\n",
      "\u001b[0;32m/Users/OzzyPeople/anaconda/lib/python3.6/site-packages/pandas/core/series.py\u001b[0m in \u001b[0;36mdtype\u001b[0;34m(self)\u001b[0m\n\u001b[1;32m    329\u001b[0m \u001b[0;34m\u001b[0m\u001b[0m\n\u001b[1;32m    330\u001b[0m     \u001b[0;31m# ndarray compatibility\u001b[0m\u001b[0;34m\u001b[0m\u001b[0;34m\u001b[0m\u001b[0m\n\u001b[0;32m--> 331\u001b[0;31m     \u001b[0;34m@\u001b[0m\u001b[0mproperty\u001b[0m\u001b[0;34m\u001b[0m\u001b[0m\n\u001b[0m\u001b[1;32m    332\u001b[0m     \u001b[0;32mdef\u001b[0m \u001b[0mdtype\u001b[0m\u001b[0;34m(\u001b[0m\u001b[0mself\u001b[0m\u001b[0;34m)\u001b[0m\u001b[0;34m:\u001b[0m\u001b[0;34m\u001b[0m\u001b[0m\n\u001b[1;32m    333\u001b[0m         \u001b[0;34m\"\"\" return the dtype object of the underlying data \"\"\"\u001b[0m\u001b[0;34m\u001b[0m\u001b[0m\n",
      "\u001b[0;31mKeyboardInterrupt\u001b[0m: "
     ]
    }
   ],
   "source": [
    "russian_text_df = df_1[df_1['Lang'] == 'ru']  \n",
    "ru_length = len(russian_text_df) # количество русских отзывов \n",
    "p = 51 # проверенная порция для яндекс перевода - конец интервала\n",
    "cycles = 3 # кол-во полных циклов \n",
    "cyc_tail = ru_length - (cycles*p) #остаток хвоста \n",
    "\n",
    "russian_list_ =[] #список, где складываем все тексты \n",
    "\n",
    "x = 0 #начало интервала \n",
    "cycles_count = 0 # количество порций / итераций \n",
    "\n",
    "\n",
    "\n",
    "for i in range (cycles):\n",
    "    while cycles_count != cycles:\n",
    "        text_portion = russian_text_df['Review'][x:p] # выбираем русский текст и запускаем первый цикл начинаем от 0 до 51 \n",
    "        \n",
    "        for text in text_portion: # переводим его через яндекс и выбираем из него словарь текстов \n",
    "            russian = translate.translate(text, 'ru-en')['text']\n",
    "            russian_list_.append(russian)#добавляем его в общий словарь \n",
    "            x = p # готовим координаты для следующей порции \n",
    "            p = p + 50\n",
    "            cycles_count += 1\n",
    "    \n",
    "    # добавляем хвост, который не вошел в цикл (до 50)\n",
    "    if cycles_count == cycles:\n",
    "        text_portion_1 = russian_text_df['Review'][p:]\n",
    "        for text in text_portion_l: \n",
    "            russian_l = translate.translate(text, 'ru-en')['text']\n",
    "            russian_list_.append(russian_l)\n",
    "    else:\n",
    "        break\n",
    "        \n",
    "print (len(russian_list_))"
   ]
  },
  {
   "cell_type": "code",
   "execution_count": 8,
   "metadata": {
    "collapsed": false
   },
   "outputs": [
    {
     "data": {
      "text/plain": [
       "['Thank you so much for your work! This is the best app I have installed. 👍👍👍 Has everything you need to analyze the harmonious life of the baby.']"
      ]
     },
     "execution_count": 8,
     "metadata": {},
     "output_type": "execute_result"
    }
   ],
   "source": [
    "russian_list[0]"
   ]
  },
  {
   "cell_type": "markdown",
   "metadata": {},
   "source": [
    "## Русский перевод "
   ]
  },
  {
   "cell_type": "code",
   "execution_count": 7,
   "metadata": {
    "collapsed": true
   },
   "outputs": [],
   "source": [
    "russian_df_total = df_1[df_1['Lang'] == 'ru']"
   ]
  },
  {
   "cell_type": "code",
   "execution_count": null,
   "metadata": {
    "collapsed": true
   },
   "outputs": [],
   "source": [
    "len(russian_df_total)"
   ]
  },
  {
   "cell_type": "code",
   "execution_count": 11,
   "metadata": {
    "collapsed": false
   },
   "outputs": [],
   "source": [
    "russian_df_1 = df_1[df_1['Lang'] == 'ru']['Review'][0:51]"
   ]
  },
  {
   "cell_type": "code",
   "execution_count": 8,
   "metadata": {
    "collapsed": true
   },
   "outputs": [],
   "source": [
    "russian_df_1 = df_1[df_1['Lang'] == 'ru']['Review'][0:51]\n",
    "russian_df_2 = df_1[df_1['Lang'] == 'ru']['Review'][51:101]\n",
    "russian_df_3 = df_1[df_1['Lang'] == 'ru']['Review'][101:151]\n",
    "russian_df_4 = df_1[df_1['Lang'] == 'ru']['Review'][151:201]\n",
    "russian_df_5 = df_1[df_1['Lang'] == 'ru']['Review'][201:251]\n",
    "russian_df_6 = df_1[df_1['Lang'] == 'ru']['Review'][251:301]\n",
    "russian_df_7 = df_1[df_1['Lang'] == 'ru']['Review'][301:351]\n",
    "russian_df_8 = df_1[df_1['Lang'] == 'ru']['Review'][351:401]\n",
    "russian_df_9 = df_1[df_1['Lang'] == 'ru']['Review'][401:451]\n",
    "russian_df_10 = df_1[df_1['Lang'] == 'ru']['Review'][451:501]\n",
    "russian_df_11 = df_1[df_1['Lang'] == 'ru']['Review'][501:551]\n",
    "russian_df_12 = df_1[df_1['Lang'] == 'ru']['Review'][551:601]\n",
    "russian_df_13 = df_1[df_1['Lang'] == 'ru']['Review'][601:651]\n",
    "russian_df_14 = df_1[df_1['Lang'] == 'ru']['Review'][651:701]\n",
    "russian_df_15 = df_1[df_1['Lang'] == 'ru']['Review'][701:751]\n",
    "russian_df_16 = df_1[df_1['Lang'] == 'ru']['Review'][751:801]\n",
    "russian_df_17 = df_1[df_1['Lang'] == 'ru']['Review'][801:851]\n",
    "russian_df_18 = df_1[df_1['Lang'] == 'ru']['Review'][851:901]\n",
    "russian_df_19 = df_1[df_1['Lang'] == 'ru']['Review'][901:951]\n",
    "russian_df_20 = df_1[df_1['Lang'] == 'ru']['Review'][951:1001]\n",
    "russian_df_21 = df_1[df_1['Lang'] == 'ru']['Review'][1001:1051]\n",
    "russian_df_22 = df_1[df_1['Lang'] == 'ru']['Review'][1051:]"
   ]
  },
  {
   "cell_type": "code",
   "execution_count": 145,
   "metadata": {
    "collapsed": true
   },
   "outputs": [],
   "source": [
    "russ_1 = translate.translate(russian_df_1, 'ru-en')['text']\n",
    "russ_2 = translate.translate(russian_df_2, 'ru-en')['text']\n",
    "russ_3 = translate.translate(russian_df_3, 'ru-en')['text']\n",
    "russ_4 = translate.translate(russian_df_4, 'ru-en')['text']\n",
    "russ_5 = translate.translate(russian_df_5, 'ru-en')['text']\n",
    "russ_6 = translate.translate(russian_df_6, 'ru-en')['text']\n",
    "russ_7 = translate.translate(russian_df_7, 'ru-en')['text']\n",
    "russ_8 = translate.translate(russian_df_8, 'ru-en')['text']\n",
    "russ_9 = translate.translate(russian_df_9, 'ru-en')['text']\n",
    "russ_10 = translate.translate(russian_df_10, 'ru-en')['text']\n",
    "russ_11 = translate.translate(russian_df_11, 'ru-en')['text']\n",
    "russ_12 = translate.translate(russian_df_12, 'ru-en')['text']\n",
    "russ_13 = translate.translate(russian_df_13, 'ru-en')['text']\n",
    "russ_14 = translate.translate(russian_df_14, 'ru-en')['text']\n",
    "russ_15 = translate.translate(russian_df_15, 'ru-en')['text']\n",
    "russ_16 = translate.translate(russian_df_16, 'ru-en')['text']\n",
    "russ_17 = translate.translate(russian_df_17, 'ru-en')['text']\n",
    "russ_18 = translate.translate(russian_df_18, 'ru-en')['text']\n",
    "russ_19 = translate.translate(russian_df_19, 'ru-en')['text']\n",
    "russ_20 = translate.translate(russian_df_20, 'ru-en')['text']\n",
    "russ_21 = translate.translate(russian_df_21, 'ru-en')['text']\n",
    "russ_22 = translate.translate(russian_df_22, 'ru-en')['text']"
   ]
  },
  {
   "cell_type": "code",
   "execution_count": 146,
   "metadata": {
    "collapsed": true
   },
   "outputs": [],
   "source": [
    "russ_total_lists = russ_1 + russ_2 + russ_3 + russ_4 + russ_5\\\n",
    "                + russ_6 + russ_7 + russ_8 + russ_9 + russ_10\\\n",
    "                + russ_11 + russ_12 + russ_13 + russ_14 + russ_15\\\n",
    "                + russ_16+ russ_17 +russ_18 +russ_19+ russ_20 +russ_21 + russ_22"
   ]
  },
  {
   "cell_type": "code",
   "execution_count": null,
   "metadata": {
    "collapsed": true
   },
   "outputs": [],
   "source": [
    "russ_total_lists"
   ]
  },
  {
   "cell_type": "code",
   "execution_count": 150,
   "metadata": {
    "collapsed": false
   },
   "outputs": [
    {
     "data": {
      "text/plain": [
       "1081"
      ]
     },
     "execution_count": 150,
     "metadata": {},
     "output_type": "execute_result"
    }
   ],
   "source": [
    "len(russ_total_lists)"
   ]
  },
  {
   "cell_type": "markdown",
   "metadata": {},
   "source": [
    "## Немецкий перевод"
   ]
  },
  {
   "cell_type": "code",
   "execution_count": 15,
   "metadata": {
    "collapsed": true
   },
   "outputs": [],
   "source": [
    "german_df_total = df_1[df_1['Lang'] == 'de']"
   ]
  },
  {
   "cell_type": "code",
   "execution_count": 16,
   "metadata": {
    "collapsed": false
   },
   "outputs": [
    {
     "data": {
      "text/plain": [
       "349"
      ]
     },
     "execution_count": 16,
     "metadata": {},
     "output_type": "execute_result"
    }
   ],
   "source": [
    "len(german_df_total)"
   ]
  },
  {
   "cell_type": "code",
   "execution_count": 19,
   "metadata": {
    "collapsed": true
   },
   "outputs": [],
   "source": [
    "german_df_1 = df_1[df_1['Lang'] == 'de']['Review'][0:51]\n",
    "german_df_2 = df_1[df_1['Lang'] == 'de']['Review'][51:101]\n",
    "german_df_3 = df_1[df_1['Lang'] == 'de']['Review'][101:151]\n",
    "german_df_4 = df_1[df_1['Lang'] == 'de']['Review'][151:201]\n",
    "german_df_5 = df_1[df_1['Lang'] == 'de']['Review'][201:251]\n",
    "german_df_6 = df_1[df_1['Lang'] == 'de']['Review'][251:301]\n",
    "german_df_7 = df_1[df_1['Lang'] == 'de']['Review'][301:]"
   ]
  },
  {
   "cell_type": "code",
   "execution_count": 18,
   "metadata": {
    "collapsed": true
   },
   "outputs": [],
   "source": [
    "de_1 = translate.translate(german_df_1, 'de-en')['text']"
   ]
  },
  {
   "cell_type": "code",
   "execution_count": null,
   "metadata": {
    "collapsed": true
   },
   "outputs": [],
   "source": [
    "# перевод язык"
   ]
  },
  {
   "cell_type": "code",
   "execution_count": null,
   "metadata": {
    "collapsed": true
   },
   "outputs": [],
   "source": [
    "translate.detect('Привет, мир!')"
   ]
  },
  {
   "cell_type": "code",
   "execution_count": 37,
   "metadata": {
    "collapsed": false
   },
   "outputs": [],
   "source": [
    "#df_1[df_1['Lang'] == 'de'].Review"
   ]
  },
  {
   "cell_type": "code",
   "execution_count": 23,
   "metadata": {
    "collapsed": false
   },
   "outputs": [
    {
     "data": {
      "text/plain": [
       "48"
      ]
     },
     "execution_count": 23,
     "metadata": {},
     "output_type": "execute_result"
    }
   ],
   "source": [
    "len(de_1)"
   ]
  },
  {
   "cell_type": "code",
   "execution_count": 20,
   "metadata": {
    "collapsed": true
   },
   "outputs": [],
   "source": [
    "de_2 = translate.translate(german_df_2, 'de-en')['text']\n",
    "de_3 = translate.translate(german_df_3, 'de-en')['text']\n",
    "de_4 = translate.translate(german_df_4, 'de-en')['text']\n",
    "de_5 = translate.translate(german_df_5, 'de-en')['text']\n",
    "de_6 = translate.translate(german_df_6, 'de-en')['text']\n",
    "de_7 = translate.translate(german_df_7, 'de-en')['text']"
   ]
  },
  {
   "cell_type": "code",
   "execution_count": 36,
   "metadata": {
    "collapsed": false
   },
   "outputs": [
    {
     "data": {
      "text/plain": [
       "48"
      ]
     },
     "execution_count": 36,
     "metadata": {},
     "output_type": "execute_result"
    }
   ],
   "source": [
    "len(de_7)"
   ]
  },
  {
   "cell_type": "code",
   "execution_count": 38,
   "metadata": {
    "collapsed": true
   },
   "outputs": [],
   "source": [
    "de_en_total_lists = de_1 + de_2 + de_3 + de_4 + de_5 + de_6 + de_7"
   ]
  },
  {
   "cell_type": "code",
   "execution_count": 39,
   "metadata": {
    "collapsed": false
   },
   "outputs": [
    {
     "data": {
      "text/plain": [
       "346"
      ]
     },
     "execution_count": 39,
     "metadata": {},
     "output_type": "execute_result"
    }
   ],
   "source": [
    "len(de_en_total_lists)"
   ]
  },
  {
   "cell_type": "markdown",
   "metadata": {},
   "source": [
    "## Португальский перевод"
   ]
  },
  {
   "cell_type": "code",
   "execution_count": 40,
   "metadata": {
    "collapsed": true
   },
   "outputs": [],
   "source": [
    "porto_df_total = df_1[df_1['Lang'] == 'pt']"
   ]
  },
  {
   "cell_type": "code",
   "execution_count": 41,
   "metadata": {
    "collapsed": false
   },
   "outputs": [
    {
     "data": {
      "text/plain": [
       "716"
      ]
     },
     "execution_count": 41,
     "metadata": {},
     "output_type": "execute_result"
    }
   ],
   "source": [
    "len(porto_df_total)"
   ]
  },
  {
   "cell_type": "code",
   "execution_count": 47,
   "metadata": {
    "collapsed": true
   },
   "outputs": [],
   "source": [
    "porto_df_1 = df_1[df_1['Lang'] == 'pt']['Review'][0:51]\n",
    "porto_df_2 = df_1[df_1['Lang'] == 'pt']['Review'][51:101]\n",
    "porto_df_3 = df_1[df_1['Lang'] == 'pt']['Review'][101:151]\n",
    "porto_df_4 = df_1[df_1['Lang'] == 'pt']['Review'][151:201]\n",
    "porto_df_5 = df_1[df_1['Lang'] == 'pt']['Review'][201:251]\n",
    "porto_df_6 = df_1[df_1['Lang'] == 'pt']['Review'][251:301]\n",
    "porto_df_7 = df_1[df_1['Lang'] == 'pt']['Review'][301:351]\n",
    "porto_df_8 = df_1[df_1['Lang'] == 'pt']['Review'][351:401]\n",
    "porto_df_9 = df_1[df_1['Lang'] == 'pt']['Review'][401:451]\n",
    "porto_df_10 = df_1[df_1['Lang'] == 'pt']['Review'][451:501]\n",
    "porto_df_11 = df_1[df_1['Lang'] == 'pt']['Review'][501:551]\n",
    "porto_df_12 = df_1[df_1['Lang'] == 'pt']['Review'][551:601]\n",
    "porto_df_13 = df_1[df_1['Lang'] == 'pt']['Review'][601:651]\n",
    "porto_df_14 = df_1[df_1['Lang'] == 'pt']['Review'][651:701]\n",
    "porto_df_15 = df_1[df_1['Lang'] == 'pt']['Review'][701:]"
   ]
  },
  {
   "cell_type": "code",
   "execution_count": null,
   "metadata": {
    "collapsed": true
   },
   "outputs": [],
   "source": [
    "# переводим на английский"
   ]
  },
  {
   "cell_type": "code",
   "execution_count": 48,
   "metadata": {
    "collapsed": true
   },
   "outputs": [],
   "source": [
    "pt_1 = translate.translate(porto_df_1, 'pt-en')['text']\n",
    "pt_2 = translate.translate(porto_df_2, 'pt-en')['text']\n",
    "pt_3 = translate.translate(porto_df_3, 'pt-en')['text']\n",
    "pt_4 = translate.translate(porto_df_4, 'pt-en')['text']\n",
    "pt_5 = translate.translate(porto_df_5, 'pt-en')['text']\n",
    "pt_6 = translate.translate(porto_df_6, 'pt-en')['text']\n",
    "pt_7 = translate.translate(porto_df_7, 'pt-en')['text']\n",
    "pt_8 = translate.translate(porto_df_8, 'pt-en')['text']\n",
    "pt_9 = translate.translate(porto_df_9, 'pt-en')['text']\n",
    "pt_10 = translate.translate(porto_df_10, 'pt-en')['text']\n",
    "pt_11 = translate.translate(porto_df_11, 'pt-en')['text']\n",
    "pt_12 = translate.translate(porto_df_12, 'pt-en')['text']\n",
    "pt_13 = translate.translate(porto_df_13, 'pt-en')['text']\n",
    "pt_14 = translate.translate(porto_df_14, 'pt-en')['text']\n",
    "pt_15 = translate.translate(porto_df_15, 'pt-en')['text']"
   ]
  },
  {
   "cell_type": "code",
   "execution_count": 49,
   "metadata": {
    "collapsed": true
   },
   "outputs": [],
   "source": [
    "pt_en_total_lists = pt_1 + pt_2 + pt_3 + pt_4 + pt_5 +pt_6 +pt_7 +pt_8 + pt_9 +pt_10 + pt_11 + pt_12 +pt_13 + pt_14 +pt_15"
   ]
  },
  {
   "cell_type": "code",
   "execution_count": 50,
   "metadata": {
    "collapsed": false
   },
   "outputs": [
    {
     "data": {
      "text/plain": [
       "716"
      ]
     },
     "execution_count": 50,
     "metadata": {},
     "output_type": "execute_result"
    }
   ],
   "source": [
    "len(pt_en_total_lists)"
   ]
  },
  {
   "cell_type": "markdown",
   "metadata": {},
   "source": [
    "## Испанский перевод "
   ]
  },
  {
   "cell_type": "code",
   "execution_count": 51,
   "metadata": {
    "collapsed": true
   },
   "outputs": [],
   "source": [
    "spanish_df_total = df_1[df_1['Lang'] == 'es']"
   ]
  },
  {
   "cell_type": "code",
   "execution_count": 52,
   "metadata": {
    "collapsed": false
   },
   "outputs": [
    {
     "data": {
      "text/plain": [
       "361"
      ]
     },
     "execution_count": 52,
     "metadata": {},
     "output_type": "execute_result"
    }
   ],
   "source": [
    "len(spanish_df_total)"
   ]
  },
  {
   "cell_type": "code",
   "execution_count": 53,
   "metadata": {
    "collapsed": true
   },
   "outputs": [],
   "source": [
    "spanish_df_1 = df_1[df_1['Lang'] == 'es']['Review'][0:51]\n",
    "spanish_df_2 = df_1[df_1['Lang'] == 'es']['Review'][51:101]\n",
    "spanish_df_3 = df_1[df_1['Lang'] == 'es']['Review'][101:151]\n",
    "spanish_df_4 = df_1[df_1['Lang'] == 'es']['Review'][151:201]\n",
    "spanish_df_5 = df_1[df_1['Lang'] == 'es']['Review'][201:251]\n",
    "spanish_df_6 = df_1[df_1['Lang'] == 'es']['Review'][251:301]\n",
    "spanish_df_7 = df_1[df_1['Lang'] == 'es']['Review'][301:351]\n",
    "spanish_df_8 = df_1[df_1['Lang'] == 'es']['Review'][351:]"
   ]
  },
  {
   "cell_type": "code",
   "execution_count": null,
   "metadata": {
    "collapsed": true
   },
   "outputs": [],
   "source": [
    "# переводим на испанский"
   ]
  },
  {
   "cell_type": "code",
   "execution_count": 54,
   "metadata": {
    "collapsed": true
   },
   "outputs": [],
   "source": [
    "sp_1 = translate.translate(spanish_df_1, 'es-en')['text']\n",
    "sp_2 = translate.translate(spanish_df_2, 'es-en')['text']\n",
    "sp_3 = translate.translate(spanish_df_3, 'es-en')['text']\n",
    "sp_4 = translate.translate(spanish_df_4, 'es-en')['text']\n",
    "sp_5 = translate.translate(spanish_df_5, 'es-en')['text']\n",
    "sp_6 = translate.translate(spanish_df_6, 'es-en')['text']\n",
    "sp_7 = translate.translate(spanish_df_7, 'es-en')['text']\n",
    "sp_8 = translate.translate(spanish_df_8, 'es-en')['text']"
   ]
  },
  {
   "cell_type": "code",
   "execution_count": 55,
   "metadata": {
    "collapsed": true
   },
   "outputs": [],
   "source": [
    "es_en_total_lists = sp_1 + sp_2 +sp_3 + sp_4 + sp_5 + sp_6 +sp_7 +sp_8"
   ]
  },
  {
   "cell_type": "code",
   "execution_count": 56,
   "metadata": {
    "collapsed": false
   },
   "outputs": [
    {
     "data": {
      "text/plain": [
       "361"
      ]
     },
     "execution_count": 56,
     "metadata": {},
     "output_type": "execute_result"
    }
   ],
   "source": [
    "len(es_en_total_lists)"
   ]
  },
  {
   "cell_type": "markdown",
   "metadata": {},
   "source": [
    "## Английский "
   ]
  },
  {
   "cell_type": "code",
   "execution_count": 60,
   "metadata": {
    "collapsed": true
   },
   "outputs": [],
   "source": [
    "english_df_total = df_1[df_1['Lang'] == 'en']['Review']"
   ]
  },
  {
   "cell_type": "code",
   "execution_count": 156,
   "metadata": {
    "collapsed": true
   },
   "outputs": [],
   "source": [
    "english_total_list = list(english_df_total)"
   ]
  },
  {
   "cell_type": "code",
   "execution_count": 157,
   "metadata": {
    "collapsed": false
   },
   "outputs": [
    {
     "data": {
      "text/plain": [
       "list"
      ]
     },
     "execution_count": 157,
     "metadata": {},
     "output_type": "execute_result"
    }
   ],
   "source": [
    "type(english_total_list)"
   ]
  },
  {
   "cell_type": "code",
   "execution_count": 62,
   "metadata": {
    "collapsed": false
   },
   "outputs": [
    {
     "data": {
      "text/plain": [
       "356"
      ]
     },
     "execution_count": 62,
     "metadata": {},
     "output_type": "execute_result"
    }
   ],
   "source": [
    "len(english_df_total)"
   ]
  },
  {
   "cell_type": "markdown",
   "metadata": {},
   "source": [
    "## Французский перевод "
   ]
  },
  {
   "cell_type": "code",
   "execution_count": 63,
   "metadata": {
    "collapsed": true
   },
   "outputs": [],
   "source": [
    "french_df_total = df_1[df_1['Lang'] == 'fr']['Review']"
   ]
  },
  {
   "cell_type": "code",
   "execution_count": 65,
   "metadata": {
    "collapsed": false
   },
   "outputs": [
    {
     "data": {
      "text/plain": [
       "122"
      ]
     },
     "execution_count": 65,
     "metadata": {},
     "output_type": "execute_result"
    }
   ],
   "source": [
    "len(french_df_total)"
   ]
  },
  {
   "cell_type": "code",
   "execution_count": 66,
   "metadata": {
    "collapsed": true
   },
   "outputs": [],
   "source": [
    "french_df_1 = df_1[df_1['Lang'] == 'fr']['Review'][0:51]\n",
    "french_df_2 = df_1[df_1['Lang'] == 'fr']['Review'][51:101]\n",
    "french_df_3 = df_1[df_1['Lang'] == 'fr']['Review'][101:151]"
   ]
  },
  {
   "cell_type": "code",
   "execution_count": null,
   "metadata": {
    "collapsed": true
   },
   "outputs": [],
   "source": [
    "# переводим француский на английсикй "
   ]
  },
  {
   "cell_type": "code",
   "execution_count": 67,
   "metadata": {
    "collapsed": true
   },
   "outputs": [],
   "source": [
    "fr_1 = translate.translate(french_df_1, 'fr-en')['text']\n",
    "fr_2 = translate.translate(french_df_2, 'fr-en')['text']\n",
    "fr_3 = translate.translate(french_df_3, 'fr-en')['text']"
   ]
  },
  {
   "cell_type": "code",
   "execution_count": 68,
   "metadata": {
    "collapsed": true
   },
   "outputs": [],
   "source": [
    "fr_en_total_lists =  fr_1 + fr_2 + fr_3 "
   ]
  },
  {
   "cell_type": "code",
   "execution_count": 69,
   "metadata": {
    "collapsed": false
   },
   "outputs": [
    {
     "data": {
      "text/plain": [
       "122"
      ]
     },
     "execution_count": 69,
     "metadata": {},
     "output_type": "execute_result"
    }
   ],
   "source": [
    "len(fr_en_total_lists)"
   ]
  },
  {
   "cell_type": "markdown",
   "metadata": {},
   "source": [
    "## Польский перевод "
   ]
  },
  {
   "cell_type": "code",
   "execution_count": 70,
   "metadata": {
    "collapsed": true
   },
   "outputs": [],
   "source": [
    "polish_df_total = df_1[df_1['Lang'] == 'pl']['Review']"
   ]
  },
  {
   "cell_type": "code",
   "execution_count": 71,
   "metadata": {
    "collapsed": false
   },
   "outputs": [
    {
     "data": {
      "text/plain": [
       "88"
      ]
     },
     "execution_count": 71,
     "metadata": {},
     "output_type": "execute_result"
    }
   ],
   "source": [
    "len(polish_df_total)"
   ]
  },
  {
   "cell_type": "code",
   "execution_count": 78,
   "metadata": {
    "collapsed": true
   },
   "outputs": [],
   "source": [
    "polish_df_1 = df_1[df_1['Lang'] == 'pl']['Review'][0:51]\n",
    "polish_df_2 = df_1[df_1['Lang'] == 'pl']['Review'][51:]"
   ]
  },
  {
   "cell_type": "code",
   "execution_count": null,
   "metadata": {
    "collapsed": true
   },
   "outputs": [],
   "source": [
    "# переводим польский на английсикй "
   ]
  },
  {
   "cell_type": "code",
   "execution_count": 79,
   "metadata": {
    "collapsed": true
   },
   "outputs": [],
   "source": [
    "pl_1 = translate.translate(polish_df_1, 'pl-en')['text']\n",
    "pl_2 = translate.translate(polish_df_2, 'pl-en')['text']"
   ]
  },
  {
   "cell_type": "code",
   "execution_count": 80,
   "metadata": {
    "collapsed": true
   },
   "outputs": [],
   "source": [
    "pl_en_total_lists =  pl_1 + pl_2 "
   ]
  },
  {
   "cell_type": "code",
   "execution_count": 81,
   "metadata": {
    "collapsed": false
   },
   "outputs": [
    {
     "data": {
      "text/plain": [
       "88"
      ]
     },
     "execution_count": 81,
     "metadata": {},
     "output_type": "execute_result"
    }
   ],
   "source": [
    "len (pl_en_total_lists )"
   ]
  },
  {
   "cell_type": "markdown",
   "metadata": {},
   "source": [
    "## Итальянский перевод "
   ]
  },
  {
   "cell_type": "code",
   "execution_count": 86,
   "metadata": {
    "collapsed": true
   },
   "outputs": [],
   "source": [
    "italian_df_total = df_1[df_1['Lang'] == 'it']['Review']"
   ]
  },
  {
   "cell_type": "code",
   "execution_count": 87,
   "metadata": {
    "collapsed": false
   },
   "outputs": [
    {
     "data": {
      "text/plain": [
       "79"
      ]
     },
     "execution_count": 87,
     "metadata": {},
     "output_type": "execute_result"
    }
   ],
   "source": [
    "len(italian_df_total)"
   ]
  },
  {
   "cell_type": "code",
   "execution_count": 88,
   "metadata": {
    "collapsed": true
   },
   "outputs": [],
   "source": [
    "italian_df_1 = df_1[df_1['Lang'] == 'it']['Review'][0:51]\n",
    "italian_df_2 = df_1[df_1['Lang'] == 'it']['Review'][51:]"
   ]
  },
  {
   "cell_type": "code",
   "execution_count": 90,
   "metadata": {
    "collapsed": true
   },
   "outputs": [],
   "source": [
    "it_1 = translate.translate(italian_df_1, 'it-en')['text']\n",
    "it_2 = translate.translate(italian_df_2, 'it-en')['text']"
   ]
  },
  {
   "cell_type": "code",
   "execution_count": 91,
   "metadata": {
    "collapsed": true
   },
   "outputs": [],
   "source": [
    "it_en_total_lists =  it_1 + it_2 "
   ]
  },
  {
   "cell_type": "code",
   "execution_count": 92,
   "metadata": {
    "collapsed": false
   },
   "outputs": [
    {
     "data": {
      "text/plain": [
       "79"
      ]
     },
     "execution_count": 92,
     "metadata": {},
     "output_type": "execute_result"
    }
   ],
   "source": [
    "len(it_en_total_lists)"
   ]
  },
  {
   "cell_type": "markdown",
   "metadata": {},
   "source": [
    "## Турецкий перевод "
   ]
  },
  {
   "cell_type": "code",
   "execution_count": 93,
   "metadata": {
    "collapsed": true
   },
   "outputs": [],
   "source": [
    "turkish_df_total = df_1[df_1['Lang'] == 'tr']['Review']"
   ]
  },
  {
   "cell_type": "code",
   "execution_count": 95,
   "metadata": {
    "collapsed": false
   },
   "outputs": [
    {
     "data": {
      "text/plain": [
       "54"
      ]
     },
     "execution_count": 95,
     "metadata": {},
     "output_type": "execute_result"
    }
   ],
   "source": [
    "len(turkish_df_total)"
   ]
  },
  {
   "cell_type": "code",
   "execution_count": 100,
   "metadata": {
    "collapsed": true
   },
   "outputs": [],
   "source": [
    "turkish_df_1 = df_1[df_1['Lang'] == 'tr']['Review']"
   ]
  },
  {
   "cell_type": "code",
   "execution_count": 147,
   "metadata": {
    "collapsed": true
   },
   "outputs": [],
   "source": [
    "tr_1 = translate.translate(turkish_df_1, 'tr-en')['text']"
   ]
  },
  {
   "cell_type": "code",
   "execution_count": 148,
   "metadata": {
    "collapsed": true
   },
   "outputs": [],
   "source": [
    "tr_en_total_lists = tr_1"
   ]
  },
  {
   "cell_type": "code",
   "execution_count": 149,
   "metadata": {
    "collapsed": false
   },
   "outputs": [
    {
     "data": {
      "text/plain": [
       "54"
      ]
     },
     "execution_count": 149,
     "metadata": {},
     "output_type": "execute_result"
    }
   ],
   "source": [
    "len(tr_en_total_lists)"
   ]
  },
  {
   "cell_type": "markdown",
   "metadata": {},
   "source": [
    "## Нидерланды перевод "
   ]
  },
  {
   "cell_type": "code",
   "execution_count": 104,
   "metadata": {
    "collapsed": true
   },
   "outputs": [],
   "source": [
    "nl_df_total = df_1[df_1['Lang'] == 'nl']['Review']"
   ]
  },
  {
   "cell_type": "code",
   "execution_count": 105,
   "metadata": {
    "collapsed": false
   },
   "outputs": [
    {
     "data": {
      "text/plain": [
       "50"
      ]
     },
     "execution_count": 105,
     "metadata": {},
     "output_type": "execute_result"
    }
   ],
   "source": [
    "len(nl_df_total)"
   ]
  },
  {
   "cell_type": "code",
   "execution_count": 106,
   "metadata": {
    "collapsed": true
   },
   "outputs": [],
   "source": [
    "nl_en_total_list = translate.translate(nl_df_total, 'nl-en')['text']"
   ]
  },
  {
   "cell_type": "code",
   "execution_count": 110,
   "metadata": {
    "collapsed": false
   },
   "outputs": [
    {
     "data": {
      "text/plain": [
       "50"
      ]
     },
     "execution_count": 110,
     "metadata": {},
     "output_type": "execute_result"
    }
   ],
   "source": [
    "len(nl_en_total_list)"
   ]
  },
  {
   "cell_type": "markdown",
   "metadata": {},
   "source": [
    "## Чешский перевод "
   ]
  },
  {
   "cell_type": "code",
   "execution_count": 107,
   "metadata": {
    "collapsed": true
   },
   "outputs": [],
   "source": [
    "cs_df_total = df_1[df_1['Lang'] == 'cs']['Review']"
   ]
  },
  {
   "cell_type": "code",
   "execution_count": 108,
   "metadata": {
    "collapsed": false
   },
   "outputs": [
    {
     "data": {
      "text/plain": [
       "37"
      ]
     },
     "execution_count": 108,
     "metadata": {},
     "output_type": "execute_result"
    }
   ],
   "source": [
    "len(cs_df_total)"
   ]
  },
  {
   "cell_type": "code",
   "execution_count": 112,
   "metadata": {
    "collapsed": true
   },
   "outputs": [],
   "source": [
    "cs_en_total_list = translate.translate(cs_df_total, 'cs-en')['text']"
   ]
  },
  {
   "cell_type": "code",
   "execution_count": 113,
   "metadata": {
    "collapsed": false
   },
   "outputs": [
    {
     "data": {
      "text/plain": [
       "37"
      ]
     },
     "execution_count": 113,
     "metadata": {},
     "output_type": "execute_result"
    }
   ],
   "source": [
    "len (cs_en_total_list)"
   ]
  },
  {
   "cell_type": "markdown",
   "metadata": {},
   "source": [
    "## Greek translation "
   ]
  },
  {
   "cell_type": "code",
   "execution_count": 114,
   "metadata": {
    "collapsed": true
   },
   "outputs": [],
   "source": [
    "el_df_total = df_1[df_1['Lang'] == 'el']['Review']"
   ]
  },
  {
   "cell_type": "code",
   "execution_count": 115,
   "metadata": {
    "collapsed": false
   },
   "outputs": [
    {
     "data": {
      "text/plain": [
       "17"
      ]
     },
     "execution_count": 115,
     "metadata": {},
     "output_type": "execute_result"
    }
   ],
   "source": [
    "len(el_df_total)"
   ]
  },
  {
   "cell_type": "code",
   "execution_count": 116,
   "metadata": {
    "collapsed": true
   },
   "outputs": [],
   "source": [
    "el_en_total_list = translate.translate(el_df_total, 'el-en')['text']"
   ]
  },
  {
   "cell_type": "code",
   "execution_count": 117,
   "metadata": {
    "collapsed": false
   },
   "outputs": [
    {
     "data": {
      "text/plain": [
       "17"
      ]
     },
     "execution_count": 117,
     "metadata": {},
     "output_type": "execute_result"
    }
   ],
   "source": [
    "len(el_en_total_list)"
   ]
  },
  {
   "cell_type": "markdown",
   "metadata": {},
   "source": [
    "## Finish translation "
   ]
  },
  {
   "cell_type": "code",
   "execution_count": 14,
   "metadata": {
    "collapsed": true
   },
   "outputs": [],
   "source": [
    "fi_df_total = df_1[df_1['Lang'] == 'fi']['Review']"
   ]
  },
  {
   "cell_type": "code",
   "execution_count": 16,
   "metadata": {
    "collapsed": false
   },
   "outputs": [
    {
     "data": {
      "text/plain": [
       "pandas.core.series.Series"
      ]
     },
     "execution_count": 16,
     "metadata": {},
     "output_type": "execute_result"
    }
   ],
   "source": [
    "type(fi_df_total)"
   ]
  },
  {
   "cell_type": "code",
   "execution_count": 120,
   "metadata": {
    "collapsed": false
   },
   "outputs": [
    {
     "data": {
      "text/plain": [
       "6"
      ]
     },
     "execution_count": 120,
     "metadata": {},
     "output_type": "execute_result"
    }
   ],
   "source": [
    "len(fi_df_total)"
   ]
  },
  {
   "cell_type": "code",
   "execution_count": 121,
   "metadata": {
    "collapsed": true
   },
   "outputs": [],
   "source": [
    "fi_en_total_list = translate.translate(fi_df_total, 'fi-en')['text']"
   ]
  },
  {
   "cell_type": "code",
   "execution_count": 122,
   "metadata": {
    "collapsed": false
   },
   "outputs": [
    {
     "data": {
      "text/plain": [
       "6"
      ]
     },
     "execution_count": 122,
     "metadata": {},
     "output_type": "execute_result"
    }
   ],
   "source": [
    "len(fi_en_total_list)"
   ]
  },
  {
   "cell_type": "markdown",
   "metadata": {},
   "source": [
    "## Danish translation "
   ]
  },
  {
   "cell_type": "code",
   "execution_count": 123,
   "metadata": {
    "collapsed": true
   },
   "outputs": [],
   "source": [
    "da_df_total = df_1[df_1['Lang'] == 'da']['Review']"
   ]
  },
  {
   "cell_type": "code",
   "execution_count": 124,
   "metadata": {
    "collapsed": false
   },
   "outputs": [
    {
     "data": {
      "text/plain": [
       "5"
      ]
     },
     "execution_count": 124,
     "metadata": {},
     "output_type": "execute_result"
    }
   ],
   "source": [
    "len(da_df_total)"
   ]
  },
  {
   "cell_type": "code",
   "execution_count": 125,
   "metadata": {
    "collapsed": true
   },
   "outputs": [],
   "source": [
    "da_en_total_list = translate.translate(da_df_total, 'da-en')['text']"
   ]
  },
  {
   "cell_type": "code",
   "execution_count": 126,
   "metadata": {
    "collapsed": false
   },
   "outputs": [
    {
     "data": {
      "text/plain": [
       "5"
      ]
     },
     "execution_count": 126,
     "metadata": {},
     "output_type": "execute_result"
    }
   ],
   "source": [
    "len(da_en_total_list)"
   ]
  },
  {
   "cell_type": "markdown",
   "metadata": {},
   "source": [
    "## Norwegian translation"
   ]
  },
  {
   "cell_type": "code",
   "execution_count": 127,
   "metadata": {
    "collapsed": true
   },
   "outputs": [],
   "source": [
    "no_df_total = df_1[df_1['Lang'] == 'no']['Review']"
   ]
  },
  {
   "cell_type": "code",
   "execution_count": 128,
   "metadata": {
    "collapsed": false
   },
   "outputs": [
    {
     "data": {
      "text/plain": [
       "4"
      ]
     },
     "execution_count": 128,
     "metadata": {},
     "output_type": "execute_result"
    }
   ],
   "source": [
    "len(no_df_total )"
   ]
  },
  {
   "cell_type": "code",
   "execution_count": 129,
   "metadata": {
    "collapsed": true
   },
   "outputs": [],
   "source": [
    "no_en_total_list = translate.translate(no_df_total, 'no-en')['text']"
   ]
  },
  {
   "cell_type": "code",
   "execution_count": 130,
   "metadata": {
    "collapsed": false
   },
   "outputs": [
    {
     "data": {
      "text/plain": [
       "4"
      ]
     },
     "execution_count": 130,
     "metadata": {},
     "output_type": "execute_result"
    }
   ],
   "source": [
    "len(no_en_total_list)"
   ]
  },
  {
   "cell_type": "markdown",
   "metadata": {},
   "source": [
    "## Slovakian translation "
   ]
  },
  {
   "cell_type": "code",
   "execution_count": 131,
   "metadata": {
    "collapsed": true
   },
   "outputs": [],
   "source": [
    "sk_df_total = df_1[df_1['Lang'] == 'sk']['Review']"
   ]
  },
  {
   "cell_type": "code",
   "execution_count": 132,
   "metadata": {
    "collapsed": false
   },
   "outputs": [
    {
     "data": {
      "text/plain": [
       "4"
      ]
     },
     "execution_count": 132,
     "metadata": {},
     "output_type": "execute_result"
    }
   ],
   "source": [
    "len(sk_df_total)"
   ]
  },
  {
   "cell_type": "code",
   "execution_count": 133,
   "metadata": {
    "collapsed": true
   },
   "outputs": [],
   "source": [
    "sk_en_total_list = translate.translate(sk_df_total, 'sk-en')['text']"
   ]
  },
  {
   "cell_type": "code",
   "execution_count": 134,
   "metadata": {
    "collapsed": false
   },
   "outputs": [
    {
     "data": {
      "text/plain": [
       "4"
      ]
     },
     "execution_count": 134,
     "metadata": {},
     "output_type": "execute_result"
    }
   ],
   "source": [
    "len(sk_df_total)"
   ]
  },
  {
   "cell_type": "markdown",
   "metadata": {},
   "source": [
    "## Croatian translation "
   ]
  },
  {
   "cell_type": "code",
   "execution_count": 135,
   "metadata": {
    "collapsed": true
   },
   "outputs": [],
   "source": [
    "hr_df_total = df_1[df_1['Lang'] == 'hr']['Review']"
   ]
  },
  {
   "cell_type": "code",
   "execution_count": 136,
   "metadata": {
    "collapsed": false
   },
   "outputs": [
    {
     "data": {
      "text/plain": [
       "3"
      ]
     },
     "execution_count": 136,
     "metadata": {},
     "output_type": "execute_result"
    }
   ],
   "source": [
    "len(hr_df_total)"
   ]
  },
  {
   "cell_type": "code",
   "execution_count": 137,
   "metadata": {
    "collapsed": true
   },
   "outputs": [],
   "source": [
    "hr_en_total_list = translate.translate(hr_df_total, 'hr-en')['text']"
   ]
  },
  {
   "cell_type": "code",
   "execution_count": 138,
   "metadata": {
    "collapsed": false
   },
   "outputs": [
    {
     "data": {
      "text/plain": [
       "3"
      ]
     },
     "execution_count": 138,
     "metadata": {},
     "output_type": "execute_result"
    }
   ],
   "source": [
    "len(hr_en_total_list)"
   ]
  },
  {
   "cell_type": "markdown",
   "metadata": {},
   "source": [
    "## Bolgarian translation "
   ]
  },
  {
   "cell_type": "code",
   "execution_count": 139,
   "metadata": {
    "collapsed": true
   },
   "outputs": [],
   "source": [
    "bg_df_total = df_1[df_1['Lang'] == 'bg']['Review']"
   ]
  },
  {
   "cell_type": "code",
   "execution_count": 140,
   "metadata": {
    "collapsed": false
   },
   "outputs": [
    {
     "data": {
      "text/plain": [
       "3"
      ]
     },
     "execution_count": 140,
     "metadata": {},
     "output_type": "execute_result"
    }
   ],
   "source": [
    "len(bg_df_total)"
   ]
  },
  {
   "cell_type": "code",
   "execution_count": 141,
   "metadata": {
    "collapsed": true
   },
   "outputs": [],
   "source": [
    "bg_en_total_list = translate.translate(bg_df_total, 'bg-en')['text']"
   ]
  },
  {
   "cell_type": "code",
   "execution_count": 142,
   "metadata": {
    "collapsed": false
   },
   "outputs": [
    {
     "data": {
      "text/plain": [
       "3"
      ]
     },
     "execution_count": 142,
     "metadata": {},
     "output_type": "execute_result"
    }
   ],
   "source": [
    "len(bg_en_total_list)"
   ]
  },
  {
   "cell_type": "markdown",
   "metadata": {},
   "source": [
    "## Объединяем все переводы "
   ]
  },
  {
   "cell_type": "code",
   "execution_count": 160,
   "metadata": {
    "collapsed": false
   },
   "outputs": [],
   "source": [
    "united_list = russ_total_lists + de_en_total_lists + pt_en_total_lists + es_en_total_lists + english_total_list\\\n",
    "                + fr_en_total_lists + pl_en_total_lists\\\n",
    "                + it_en_total_lists + tr_en_total_lists + nl_en_total_list + cs_en_total_list + el_en_total_list\\\n",
    "                + fi_en_total_list + da_en_total_list + no_en_total_list\\\n",
    "                + sk_en_total_list + hr_en_total_list + bg_en_total_list"
   ]
  },
  {
   "cell_type": "code",
   "execution_count": 161,
   "metadata": {
    "collapsed": false
   },
   "outputs": [
    {
     "data": {
      "text/plain": [
       "3332"
      ]
     },
     "execution_count": 161,
     "metadata": {},
     "output_type": "execute_result"
    }
   ],
   "source": [
    "len(united_list)"
   ]
  },
  {
   "cell_type": "markdown",
   "metadata": {},
   "source": [
    "## переводим весь текст в нижний регитр "
   ]
  },
  {
   "cell_type": "code",
   "execution_count": 167,
   "metadata": {
    "collapsed": true
   },
   "outputs": [],
   "source": [
    "united_list_lower=[i.lower() for i in united_list]"
   ]
  },
  {
   "cell_type": "code",
   "execution_count": 168,
   "metadata": {
    "collapsed": false
   },
   "outputs": [],
   "source": [
    "with open('united_list_lower.pickle', 'wb') as f:\n",
    "    # Pickle the 'data' dictionary using the highest protocol available.\n",
    "    pickle.dump(united_list_lower, f, pickle.HIGHEST_PROTOCOL)"
   ]
  },
  {
   "cell_type": "code",
   "execution_count": 12,
   "metadata": {
    "collapsed": true
   },
   "outputs": [],
   "source": [
    "with open('united_list_lower.pickle', 'rb') as f:\n",
    "    # The protocol version used is detected automatically, so we do not\n",
    "    # have to specify it.\n",
    "    united_list_lower = pickle.load(f)"
   ]
  },
  {
   "cell_type": "code",
   "execution_count": 13,
   "metadata": {
    "collapsed": false
   },
   "outputs": [
    {
     "data": {
      "text/plain": [
       "['thank you so much for your work! this is the best app i have installed. 👍👍👍 has everything you need to analyze the harmonious life of the baby.',\n",
       " \"the app correctly displays the information in the end of the day. for example, the child's sleep consists of 37 hours per day. how can this be? when the baby was sleeping 11 hours. or walk, walking one hour, the application writes the results of 14 hours. developers, pay attention to it.\",\n",
       " 'somehow, the walk began to set ending time. that is, you cannot run it like a dream, and to note the completion time. walk immediately puts the beginning and end of the minute. you have to edit the time manually',\n",
       " 'simple, convenient, no ads almost',\n",
       " 'super! very helpful!',\n",
       " 'i would like to decrypt in the charts clicking on a filled plot',\n",
       " 'very convenient',\n",
       " 'like the app, as an inexperienced mother i always forget when and what, so thank the developers for such a utility',\n",
       " 'super app when you do not have to bother with all sorts of graphs. very easy and simple',\n",
       " 'cool',\n",
       " 'i really like it. if you add some functions will not. add the ability to leave comments to weight, and simply add notes during the day (so you can specify, for example, vomiting, babies with colic, etc.). well, the opportunity to write comments longer. the allotted number of characters i, personally, do not have enough',\n",
       " 'very handy app）',\n",
       " 'the app is user friendly, everything you need + nice visualization of graphs. but somehow it does not display correctly feeding at the time of the day. i would also like to be able to keep records in ml and breast milk is not expressed, as many mothers in certain periods there is a need to measure how much a child eats.',\n",
       " 'very convenient',\n",
       " 'until all happy! very convenient!',\n",
       " 'the app is good, use regularly for 4 months. there are a couple of podobnosti for me personally... i would like to have the opportunity to transfer data to another device. to expand the function of \"remind\". so for example you could remind me in 12 hours to give one drug, and in 3 hours more.',\n",
       " 'i like this app! very convenient version.',\n",
       " 'all super',\n",
       " 'the app, now i can test the power of your read, thank you)',\n",
       " 'very good app. helps me 😉',\n",
       " 'it is convenient for me',\n",
       " 'the app is super, everything is simple and clear. very convenient to track the daily routine of the baby.',\n",
       " 'convenient and amazing. saves especially in terms of feedings. always forget what scrudu fed',\n",
       " 'everything is convenient and beautiful. but why in the mode of the day dream displayed correctly at the time, and the food is not? sleeping and eating we are not at the same time, and according to the schedule even as there are. last week everything worked as it should)',\n",
       " 'the app is just great! but please developers tell me, is there a way to sync the app to another phone. so i want to save all the data',\n",
       " 'app super. simple, without unnecessary and very comfortable. respect the developers',\n",
       " 'great app! without in any way! everything is thought out and very comfortable',\n",
       " 'i personally very helpful app!)',\n",
       " 'the app is super! to me it is very helpful to track the mode of a daughter',\n",
       " 'very handy app',\n",
       " 'great app, simple and convenient',\n",
       " 'the app is good. but the question arose - downloaded when the baby is already 2.5 months, and it is possible the date of birth to put \"july\", and keep a diary in october (to the current date are displayed)?',\n",
       " 'good app but sometimes shows incorrect statistics for the day.',\n",
       " 'good app, but it incorrectly displays the statistics, in particular the mode of the day. sleep and feeding there somehow overlap in time, though in fact no. it would be nice to have the possibility of a direct transition from statistics to action(s) click on the chart. also lacks the short (compact) display the day\\'s actions, where each action takes one line. not enough option activity simply \"vigil\".',\n",
       " 'a useful application. a lot of functions, but all well-made and clear. the creators of the app - thanks.',\n",
       " 'the app is not written again. i am glad that in fact, you can make feeding time if forgotten or not had time to celebrate the start of',\n",
       " 'app good 👍👍👍',\n",
       " 'very important diary',\n",
       " 'the app is extremely helpful! one big disadvantage - you cannot create a backup and restore all the records on the new device!',\n",
       " 'i love this app. but when you change your phone are not transferred data. if i want to finish this time.',\n",
       " 'very convenient',\n",
       " \"amazing!!! for feeding and sleeping is very comfortable,everything else i just don't have time.record,but if prioritise to fill in all, it will be a complete picture of the first days of life baby\",\n",
       " 'the app is super! indispensable to me now! and somehow you can save data and transfer to another phone?',\n",
       " 'very convenient. there are problems with chronology when making events of the past days. when you edit these events, everything is corrected.',\n",
       " 'handy app we like )',\n",
       " 'very handy app!',\n",
       " 'super',\n",
       " 'i like',\n",
       " \"changes after the upgrade didn't like. the fact that it is not always on hand phone and therefore it is not possible to set a timer during feeding, so it happens that watch point after the fact - by default, the program feeding the left chest, choose the right and the feeding time is changed to current, it is necessary to expose anew. as for feeding both right and left breast, before you could set the total time for both, now for each separately. again, this is useful for those who not releases the phone from his hands. i would like to return, as before the opportunity to exhibit the total time without losing the innovations for those who prefer. there is no timer for walks and, in my opinion, you need a widget or a separate button to start feeding\",\n",
       " 'well']"
      ]
     },
     "execution_count": 13,
     "metadata": {},
     "output_type": "execute_result"
    }
   ],
   "source": [
    "united_list_lower[0:50]"
   ]
  },
  {
   "cell_type": "code",
   "execution_count": null,
   "metadata": {
    "collapsed": true
   },
   "outputs": [],
   "source": []
  }
 ],
 "metadata": {
  "kernelspec": {
   "display_name": "Python 3",
   "language": "python",
   "name": "python3"
  },
  "language_info": {
   "codemirror_mode": {
    "name": "ipython",
    "version": 3
   },
   "file_extension": ".py",
   "mimetype": "text/x-python",
   "name": "python",
   "nbconvert_exporter": "python",
   "pygments_lexer": "ipython3",
   "version": "3.6.0"
  }
 },
 "nbformat": 4,
 "nbformat_minor": 2
}
