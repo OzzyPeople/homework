{
 "cells": [
  {
   "cell_type": "code",
   "execution_count": 2,
   "metadata": {
    "collapsed": true
   },
   "outputs": [],
   "source": [
    "import grab\n",
    "import logging\n",
    "from grab.spider import Task, Spider"
   ]
  },
  {
   "cell_type": "code",
   "execution_count": 19,
   "metadata": {
    "collapsed": true
   },
   "outputs": [],
   "source": [
    "import pandas as pd"
   ]
  },
  {
   "cell_type": "code",
   "execution_count": 3,
   "metadata": {
    "collapsed": true
   },
   "outputs": [],
   "source": [
    "import json"
   ]
  },
  {
   "cell_type": "code",
   "execution_count": 8,
   "metadata": {
    "collapsed": false
   },
   "outputs": [],
   "source": [
    "class ReviewSpider(Spider):\n",
    "    # С этого списка начинается краулинг.\n",
    "    # Дальше мы можем добавлять задания на основе контента каждого элемента списка (но может быть и один, конечно)\n",
    "    initial_urls = ['https://play.google.com/store/apps/category/FAMILY?age=AGE_RANGE1&hl=ru']\n",
    "    # список приложений на Google Play до 5 лет \n",
    "    # для каждого элемента списка initial_urls автоматически создается новый объект класса Task с параметром initial\n",
    "\n",
    "    def prepare(self):\n",
    "        # Здесь мы можем подготовить все, что нам надо: соединиться с базой данных, открыть нужные файлы для записи и так далее\n",
    "        # Мы будем писать результаты в виде текста на диск\n",
    "        self.results = []\n",
    "        self.counter = 1\n",
    "        self.template = 'news_{}.txt'\n",
    "    \n",
    "    # Вытащим ссылки на приложения из страницы\n",
    "    def task_initial(self, grab, task):\n",
    "        # Здесь происходит обработка изначальных урлов и отсюда генерируются новые задачи\n",
    "        # task передается этой функции которая вызывается внутри grab\n",
    "        # у любого обработчика должны быть аргументы задачи - grab - все скаченное и task - св-во события (номер документа или в \n",
    "        # в нашем случае url) и когда мы создаем эту инструкцию, для каждого элемента создаем новое событие \n",
    "        \n",
    "        logging.debug ('Обработка изначальных URLов')\n",
    "        for elem in grab.doc.select('//div[@class=\"details\"]//a[contains(@class, \"title\")]'):\n",
    "            # Для каждой статьи создадим задачу другого типа, которая будет обработана функцией task_<название_типа>\n",
    "            yield Task('post', url=grab.make_url_absolute(elem.attr('href'))) \n",
    "            \n",
    "            # новый эксземпляр Task типа таск\n",
    "            # attr - позволяет за счет атрибута вытащить значение атрибута как индекс\n",
    "            # make_url_absolute - не относительный, а полный url \n",
    "            # 'post' - название которые мы дали всей задачи и оно напрямую связано с названием task_post(self, grab, task)\n",
    "    \n",
    "    #Вытащим тексты отзывов для каждой ссылки  \n",
    "    # отдельная функция - отдельная страница \n",
    "    def task_post(self, grab, task):\n",
    "        logging.debug ('Скачиваем review по адресу {}'.format(task.url)) ## это для ошибок ???\n",
    "        \n",
    "        # один блок  @class = \"single-review\"\n",
    "\n",
    "        review_block = grab.doc.select('//div[@class = \"single-review\"]') \n",
    "        review_text = review_block.select('//div[@class=\"review-body with-review-wrapper\"]') \n",
    "        review_date = review_block.select('//div[@class=\"review-info\"]//span[@class=\"review-date\"]')\n",
    "        \n",
    "        text_list = []\n",
    "        date_list = []\n",
    "        \n",
    "        for review in review_text:\n",
    "            text = '{}'.format(review.text() if len(review_text) else 'no text')\n",
    "            text_list.append(text)\n",
    "        \n",
    "        for date in review_date:\n",
    "            date_ = '{}'.format(date.text() if len(review_date) else 'no date')\n",
    "            date_list.append(date_)\n",
    "                \n",
    "        # список элементов, у которых есть свои методы и атрибуты \n",
    "        # условия равно ReviewText-  отзыв \n",
    "        # review_text - это по формату список, и хотя мы получаем всего один элемент в список, \n",
    "        # дальше мы обращаемся к нему, как к списку review_text[0]\n",
    "        \n",
    "        path = self.template.format(self.counter)\n",
    "        grab.doc.save(path)\n",
    "\n",
    "        \n",
    "        with(open(path, 'w', encoding='utf-8')) as out_file:\n",
    "            #out_file.write(''.join(text_list))\n",
    "            json.dump(({'text': text_list, 'url': task.url}), out_file)\n",
    "            #сохраняя файл в json  в виде словаря с двумя ключами 'text' и 'url'\n",
    "            #, 'date': date_list\n",
    "            \n",
    "        self.counter += 1"
   ]
  },
  {
   "cell_type": "code",
   "execution_count": 9,
   "metadata": {
    "collapsed": false
   },
   "outputs": [],
   "source": [
    "bot = ReviewSpider(thread_number=2) # экзмепляр класса на практике \n",
    "\n",
    "# thread_number - кол-во потоков \n",
    "# многопоточное программирование - внутри программы может работать несколько потоков \n",
    "# или скачивание сразу 2-х отзывов \n",
    "# чем больше потоков, тем больше нагрузка на сеть "
   ]
  },
  {
   "cell_type": "code",
   "execution_count": 10,
   "metadata": {
    "collapsed": false
   },
   "outputs": [],
   "source": [
    "bot.run() # запускается grab - есть очеред скачивание, дальше кладет в очередь новые задачи, сначали типа 0\n",
    "# сначала кладет по одной задаче в очередь из initial_urls \n",
    "# дальше || если очередь не пустая он берет 1 элемент и запускает обработчик типа "
   ]
  },
  {
   "cell_type": "markdown",
   "metadata": {},
   "source": [
    "## Объединяем все файлы "
   ]
  },
  {
   "cell_type": "code",
   "execution_count": 12,
   "metadata": {
    "collapsed": false
   },
   "outputs": [],
   "source": [
    "import glob2"
   ]
  },
  {
   "cell_type": "code",
   "execution_count": 13,
   "metadata": {
    "collapsed": false
   },
   "outputs": [],
   "source": [
    "filenames = glob2.glob('*.txt')  # list of all .txt files in the directory\n",
    "\n",
    "www = {}  #key - urls, values -texts\n",
    "\n",
    "for file in filenames:\n",
    "    if file.startswith('news'):\n",
    "        with open(file) as inp_file:\n",
    "            data = json.load(inp_file)\n",
    "            www[data['url']] = data['text'] #(data['date'], ) #создаем их двух ключей словаря, один ключ и значение\n",
    "\n",
    "with open('outfile_json.txt', 'w') as f: \n",
    "    json.dump(www, f, sort_keys=True, indent=2) #indent - отступы "
   ]
  },
  {
   "cell_type": "code",
   "execution_count": 4,
   "metadata": {
    "collapsed": false
   },
   "outputs": [],
   "source": [
    "with open('news_1.txt', 'r') as ff: \n",
    "    data_1 = json.load(ff)"
   ]
  },
  {
   "cell_type": "code",
   "execution_count": 14,
   "metadata": {
    "collapsed": true
   },
   "outputs": [],
   "source": [
    "with open('outfile_json.txt', 'r') as f: \n",
    "    data_new = json.load(f)"
   ]
  },
  {
   "cell_type": "markdown",
   "metadata": {},
   "source": [
    "## Создаем dataframe "
   ]
  },
  {
   "cell_type": "code",
   "execution_count": 87,
   "metadata": {
    "collapsed": false
   },
   "outputs": [],
   "source": [
    "df_text = pd.DataFrame()"
   ]
  },
  {
   "cell_type": "code",
   "execution_count": 88,
   "metadata": {
    "collapsed": true
   },
   "outputs": [],
   "source": [
    "text_review = []\n",
    "for x in data_new.values():\n",
    "    for k in x:\n",
    "        k=k.replace('Читать дальше',\"\")\n",
    "        if len(k) > 35:\n",
    "            text_review.append(k)\n",
    "        else:\n",
    "            break"
   ]
  },
  {
   "cell_type": "code",
   "execution_count": 96,
   "metadata": {
    "collapsed": true
   },
   "outputs": [],
   "source": [
    "text_review_all = [x for x in text_review]"
   ]
  },
  {
   "cell_type": "code",
   "execution_count": 97,
   "metadata": {
    "collapsed": false
   },
   "outputs": [],
   "source": [
    "df_text['review'] = text_review_all"
   ]
  },
  {
   "cell_type": "code",
   "execution_count": 98,
   "metadata": {
    "collapsed": false
   },
   "outputs": [
    {
     "data": {
      "text/html": [
       "<div>\n",
       "<style>\n",
       "    .dataframe thead tr:only-child th {\n",
       "        text-align: right;\n",
       "    }\n",
       "\n",
       "    .dataframe thead th {\n",
       "        text-align: left;\n",
       "    }\n",
       "\n",
       "    .dataframe tbody tr th {\n",
       "        vertical-align: top;\n",
       "    }\n",
       "</style>\n",
       "<table border=\"1\" class=\"dataframe\">\n",
       "  <thead>\n",
       "    <tr style=\"text-align: right;\">\n",
       "      <th></th>\n",
       "      <th>review</th>\n",
       "    </tr>\n",
       "  </thead>\n",
       "  <tbody>\n",
       "    <tr>\n",
       "      <th>13050</th>\n",
       "      <td>Ребенку очень нравится. Играет с судовольствием.</td>\n",
       "    </tr>\n",
       "    <tr>\n",
       "      <th>13051</th>\n",
       "      <td>Дочке 2 года, очень нравится. Красочно, забавн...</td>\n",
       "    </tr>\n",
       "    <tr>\n",
       "      <th>13052</th>\n",
       "      <td>Харошая игра маему ребёнку понравилось и мне т...</td>\n",
       "    </tr>\n",
       "    <tr>\n",
       "      <th>13053</th>\n",
       "      <td>Игра интересная, ребенку очень нравится. Но по...</td>\n",
       "    </tr>\n",
       "    <tr>\n",
       "      <th>13054</th>\n",
       "      <td>Очень хорошее, качественное озвученное приложе...</td>\n",
       "    </tr>\n",
       "  </tbody>\n",
       "</table>\n",
       "</div>"
      ],
      "text/plain": [
       "                                                  review\n",
       "13050  Ребенку очень нравится. Играет с судовольствием. \n",
       "13051  Дочке 2 года, очень нравится. Красочно, забавн...\n",
       "13052  Харошая игра маему ребёнку понравилось и мне т...\n",
       "13053  Игра интересная, ребенку очень нравится. Но по...\n",
       "13054  Очень хорошее, качественное озвученное приложе..."
      ]
     },
     "execution_count": 98,
     "metadata": {},
     "output_type": "execute_result"
    }
   ],
   "source": [
    "df_text.tail()"
   ]
  },
  {
   "cell_type": "code",
   "execution_count": 92,
   "metadata": {
    "collapsed": false
   },
   "outputs": [
    {
     "data": {
      "text/plain": [
       "42"
      ]
     },
     "execution_count": 92,
     "metadata": {},
     "output_type": "execute_result"
    }
   ],
   "source": [
    "len(df_text.review[1])"
   ]
  },
  {
   "cell_type": "code",
   "execution_count": 93,
   "metadata": {
    "collapsed": false
   },
   "outputs": [
    {
     "name": "stdout",
     "output_type": "stream",
     "text": [
      "<class 'pandas.core.frame.DataFrame'>\n",
      "RangeIndex: 13055 entries, 0 to 13054\n",
      "Data columns (total 1 columns):\n",
      "review    13055 non-null object\n",
      "dtypes: object(1)\n",
      "memory usage: 102.1+ KB\n"
     ]
    }
   ],
   "source": [
    "df_text.info()"
   ]
  },
  {
   "cell_type": "code",
   "execution_count": null,
   "metadata": {
    "collapsed": true
   },
   "outputs": [],
   "source": [
    "## Сохраняем DF в pickle "
   ]
  },
  {
   "cell_type": "code",
   "execution_count": 95,
   "metadata": {
    "collapsed": true
   },
   "outputs": [],
   "source": [
    "import pickle"
   ]
  },
  {
   "cell_type": "code",
   "execution_count": 99,
   "metadata": {
    "collapsed": true
   },
   "outputs": [],
   "source": [
    "with open('text_review_all.pickle', 'wb') as f:\n",
    "    # Pickle the 'data' dictionary using the highest protocol available.\n",
    "    pickle.dump(text_review_all, f, pickle.HIGHEST_PROTOCOL)"
   ]
  },
  {
   "cell_type": "code",
   "execution_count": null,
   "metadata": {
    "collapsed": true
   },
   "outputs": [],
   "source": []
  }
 ],
 "metadata": {
  "kernelspec": {
   "display_name": "Python 3",
   "language": "python",
   "name": "python3"
  },
  "language_info": {
   "codemirror_mode": {
    "name": "ipython",
    "version": 3
   },
   "file_extension": ".py",
   "mimetype": "text/x-python",
   "name": "python",
   "nbconvert_exporter": "python",
   "pygments_lexer": "ipython3",
   "version": "3.6.0"
  }
 },
 "nbformat": 4,
 "nbformat_minor": 2
}
