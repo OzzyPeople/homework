{
 "cells": [
  {
   "cell_type": "code",
   "execution_count": 1,
   "metadata": {
    "collapsed": true
   },
   "outputs": [],
   "source": [
    "import pandas as pd\n",
    "import nltk\n",
    "import numpy as np\n",
    "import textrank\n",
    "import sklearn\n",
    "import datetime as dt\n",
    "import matplotlib.pyplot as plt\n",
    "import seaborn as sns\n",
    "%matplotlib inline\n",
    "import re\n",
    "import collections\n",
    "from collections import defaultdict"
   ]
  },
  {
   "cell_type": "code",
   "execution_count": 2,
   "metadata": {
    "collapsed": false
   },
   "outputs": [
    {
     "name": "stderr",
     "output_type": "stream",
     "text": [
      "Using TensorFlow backend.\n"
     ]
    }
   ],
   "source": [
    "import gensim"
   ]
  },
  {
   "cell_type": "code",
   "execution_count": 3,
   "metadata": {
    "collapsed": true
   },
   "outputs": [],
   "source": [
    "import pickle"
   ]
  },
  {
   "cell_type": "code",
   "execution_count": 4,
   "metadata": {
    "collapsed": true
   },
   "outputs": [],
   "source": [
    "col_labels = ['Date','AppID','AppName','Lang','1', '2', '3', 'Author','Stars','Title','Review','Reply','Device','DeviceType','Tags','Updated']"
   ]
  },
  {
   "cell_type": "code",
   "execution_count": 5,
   "metadata": {
    "collapsed": false
   },
   "outputs": [],
   "source": [
    "df = pd.read_csv('reviews_googleplay_1513852115.csv',  \n",
    "                  skiprows=4, engine='python', names = col_labels, index_col=False,\n",
    "                  error_bad_lines=True\n",
    "                 )"
   ]
  },
  {
   "cell_type": "code",
   "execution_count": 7,
   "metadata": {
    "collapsed": false
   },
   "outputs": [
    {
     "data": {
      "text/html": [
       "<div>\n",
       "<style>\n",
       "    .dataframe thead tr:only-child th {\n",
       "        text-align: right;\n",
       "    }\n",
       "\n",
       "    .dataframe thead th {\n",
       "        text-align: left;\n",
       "    }\n",
       "\n",
       "    .dataframe tbody tr th {\n",
       "        vertical-align: top;\n",
       "    }\n",
       "</style>\n",
       "<table border=\"1\" class=\"dataframe\">\n",
       "  <thead>\n",
       "    <tr style=\"text-align: right;\">\n",
       "      <th></th>\n",
       "      <th>Date</th>\n",
       "      <th>AppID</th>\n",
       "      <th>AppName</th>\n",
       "      <th>Lang</th>\n",
       "      <th>1</th>\n",
       "      <th>2</th>\n",
       "      <th>3</th>\n",
       "      <th>Author</th>\n",
       "      <th>Stars</th>\n",
       "      <th>Title</th>\n",
       "      <th>Review</th>\n",
       "      <th>Reply</th>\n",
       "      <th>Device</th>\n",
       "      <th>DeviceType</th>\n",
       "      <th>Tags</th>\n",
       "      <th>Updated</th>\n",
       "    </tr>\n",
       "  </thead>\n",
       "  <tbody>\n",
       "    <tr>\n",
       "      <th>0</th>\n",
       "      <td>\\t2017-12-21</td>\n",
       "      <td>com.wachanga.babycare</td>\n",
       "      <td>Baby Breastfeeding Tracker. Newborn Diary</td>\n",
       "      <td>es</td>\n",
       "      <td>NaN</td>\n",
       "      <td>NaN</td>\n",
       "      <td>NaN</td>\n",
       "      <td>Aser Moreiro</td>\n",
       "      <td>4</td>\n",
       "      <td>NaN</td>\n",
       "      <td>Los primeros días y por la falta de sueño, cas...</td>\n",
       "      <td>NaN</td>\n",
       "      <td>NaN</td>\n",
       "      <td>NaN</td>\n",
       "      <td>NaN</td>\n",
       "      <td>NaN</td>\n",
       "    </tr>\n",
       "    <tr>\n",
       "      <th>1</th>\n",
       "      <td>\\t2017-12-21</td>\n",
       "      <td>com.wachanga.babycare</td>\n",
       "      <td>Baby Breastfeeding Tracker. Newborn Diary</td>\n",
       "      <td>tr</td>\n",
       "      <td>NaN</td>\n",
       "      <td>NaN</td>\n",
       "      <td>NaN</td>\n",
       "      <td>Serra Bora</td>\n",
       "      <td>5</td>\n",
       "      <td>NaN</td>\n",
       "      <td>Verileri kaybet riskine karsi mail yada baska ...</td>\n",
       "      <td>NaN</td>\n",
       "      <td>NaN</td>\n",
       "      <td>NaN</td>\n",
       "      <td>NaN</td>\n",
       "      <td>NaN</td>\n",
       "    </tr>\n",
       "    <tr>\n",
       "      <th>2</th>\n",
       "      <td>\\t2017-12-20</td>\n",
       "      <td>com.wachanga.babycare</td>\n",
       "      <td>Baby Breastfeeding Tracker. Newborn Diary</td>\n",
       "      <td>de</td>\n",
       "      <td>NaN</td>\n",
       "      <td>NaN</td>\n",
       "      <td>NaN</td>\n",
       "      <td>Kerstin Meitz</td>\n",
       "      <td>3</td>\n",
       "      <td>NaN</td>\n",
       "      <td>Im Prinzip ist die App ganz gut und erfüllt au...</td>\n",
       "      <td>NaN</td>\n",
       "      <td>NaN</td>\n",
       "      <td>NaN</td>\n",
       "      <td>NaN</td>\n",
       "      <td>NaN</td>\n",
       "    </tr>\n",
       "    <tr>\n",
       "      <th>3</th>\n",
       "      <td>\\t2017-12-20</td>\n",
       "      <td>com.wachanga.babycare</td>\n",
       "      <td>Baby Breastfeeding Tracker. Newborn Diary</td>\n",
       "      <td>fr</td>\n",
       "      <td>NaN</td>\n",
       "      <td>NaN</td>\n",
       "      <td>NaN</td>\n",
       "      <td>Sonia Lamotte</td>\n",
       "      <td>5</td>\n",
       "      <td>NaN</td>\n",
       "      <td>J'ai l'impression qu'il y a un énorme beug dep...</td>\n",
       "      <td>NaN</td>\n",
       "      <td>NaN</td>\n",
       "      <td>NaN</td>\n",
       "      <td>NaN</td>\n",
       "      <td>1.0</td>\n",
       "    </tr>\n",
       "    <tr>\n",
       "      <th>4</th>\n",
       "      <td>\\t2017-12-20</td>\n",
       "      <td>com.wachanga.babycare</td>\n",
       "      <td>Baby Breastfeeding Tracker. Newborn Diary</td>\n",
       "      <td>cs</td>\n",
       "      <td>NaN</td>\n",
       "      <td>NaN</td>\n",
       "      <td>NaN</td>\n",
       "      <td>NaN</td>\n",
       "      <td>4</td>\n",
       "      <td>NaN</td>\n",
       "      <td>Super aplikace, ale docela by se jeste hodil p...</td>\n",
       "      <td>NaN</td>\n",
       "      <td>NaN</td>\n",
       "      <td>NaN</td>\n",
       "      <td>NaN</td>\n",
       "      <td>NaN</td>\n",
       "    </tr>\n",
       "  </tbody>\n",
       "</table>\n",
       "</div>"
      ],
      "text/plain": [
       "           Date                  AppID  \\\n",
       "0  \\t2017-12-21  com.wachanga.babycare   \n",
       "1  \\t2017-12-21  com.wachanga.babycare   \n",
       "2  \\t2017-12-20  com.wachanga.babycare   \n",
       "3  \\t2017-12-20  com.wachanga.babycare   \n",
       "4  \\t2017-12-20  com.wachanga.babycare   \n",
       "\n",
       "                                     AppName Lang   1   2   3         Author  \\\n",
       "0  Baby Breastfeeding Tracker. Newborn Diary   es NaN NaN NaN   Aser Moreiro   \n",
       "1  Baby Breastfeeding Tracker. Newborn Diary   tr NaN NaN NaN     Serra Bora   \n",
       "2  Baby Breastfeeding Tracker. Newborn Diary   de NaN NaN NaN  Kerstin Meitz   \n",
       "3  Baby Breastfeeding Tracker. Newborn Diary   fr NaN NaN NaN  Sonia Lamotte   \n",
       "4  Baby Breastfeeding Tracker. Newborn Diary   cs NaN NaN NaN            NaN   \n",
       "\n",
       "   Stars Title                                             Review Reply  \\\n",
       "0      4   NaN  Los primeros días y por la falta de sueño, cas...   NaN   \n",
       "1      5   NaN  Verileri kaybet riskine karsi mail yada baska ...   NaN   \n",
       "2      3   NaN  Im Prinzip ist die App ganz gut und erfüllt au...   NaN   \n",
       "3      5   NaN  J'ai l'impression qu'il y a un énorme beug dep...   NaN   \n",
       "4      4   NaN  Super aplikace, ale docela by se jeste hodil p...   NaN   \n",
       "\n",
       "   Device  DeviceType Tags  Updated  \n",
       "0     NaN         NaN  NaN      NaN  \n",
       "1     NaN         NaN  NaN      NaN  \n",
       "2     NaN         NaN  NaN      NaN  \n",
       "3     NaN         NaN  NaN      1.0  \n",
       "4     NaN         NaN  NaN      NaN  "
      ]
     },
     "execution_count": 7,
     "metadata": {},
     "output_type": "execute_result"
    }
   ],
   "source": [
    "df.head()"
   ]
  },
  {
   "cell_type": "code",
   "execution_count": 8,
   "metadata": {
    "collapsed": false
   },
   "outputs": [],
   "source": [
    "df_1 = df.drop(['AppID','AppName', '1', '2', '3', 'Device','DeviceType','Tags','Updated'], axis =1)\n",
    "\n",
    "#col_labels = ['Date',,'Lang', 'Author','Stars','Title','Review','Reply',]"
   ]
  },
  {
   "cell_type": "code",
   "execution_count": 9,
   "metadata": {
    "collapsed": false
   },
   "outputs": [
    {
     "data": {
      "text/html": [
       "<div>\n",
       "<style>\n",
       "    .dataframe thead tr:only-child th {\n",
       "        text-align: right;\n",
       "    }\n",
       "\n",
       "    .dataframe thead th {\n",
       "        text-align: left;\n",
       "    }\n",
       "\n",
       "    .dataframe tbody tr th {\n",
       "        vertical-align: top;\n",
       "    }\n",
       "</style>\n",
       "<table border=\"1\" class=\"dataframe\">\n",
       "  <thead>\n",
       "    <tr style=\"text-align: right;\">\n",
       "      <th></th>\n",
       "      <th>Date</th>\n",
       "      <th>Lang</th>\n",
       "      <th>Author</th>\n",
       "      <th>Stars</th>\n",
       "      <th>Title</th>\n",
       "      <th>Review</th>\n",
       "      <th>Reply</th>\n",
       "    </tr>\n",
       "  </thead>\n",
       "  <tbody>\n",
       "    <tr>\n",
       "      <th>4685</th>\n",
       "      <td>\\t2015-07-08</td>\n",
       "      <td>ru</td>\n",
       "      <td>Связной Связной</td>\n",
       "      <td>3</td>\n",
       "      <td>NaN</td>\n",
       "      <td>Время после кормления и всего остального показ...</td>\n",
       "      <td>Здравствуйте! Проверьте, пожалуйста, верный ли...</td>\n",
       "    </tr>\n",
       "    <tr>\n",
       "      <th>4686</th>\n",
       "      <td>\\t2015-07-07</td>\n",
       "      <td>ru</td>\n",
       "      <td>Maxim Kolpakov</td>\n",
       "      <td>5</td>\n",
       "      <td>Удобное приложение</td>\n",
       "      <td>Жена кормит дочку, обязательно фиксируя в этом...</td>\n",
       "      <td>NaN</td>\n",
       "    </tr>\n",
       "    <tr>\n",
       "      <th>4687</th>\n",
       "      <td>\\t2015-07-04</td>\n",
       "      <td>ru</td>\n",
       "      <td>Роман Муратов</td>\n",
       "      <td>5</td>\n",
       "      <td>NaN</td>\n",
       "      <td>Супруга довольна</td>\n",
       "      <td>Спасибо за отзыв!</td>\n",
       "    </tr>\n",
       "  </tbody>\n",
       "</table>\n",
       "</div>"
      ],
      "text/plain": [
       "              Date Lang           Author  Stars               Title  \\\n",
       "4685  \\t2015-07-08   ru  Связной Связной      3                 NaN   \n",
       "4686  \\t2015-07-07   ru   Maxim Kolpakov      5  Удобное приложение   \n",
       "4687  \\t2015-07-04   ru    Роман Муратов      5                 NaN   \n",
       "\n",
       "                                                 Review  \\\n",
       "4685  Время после кормления и всего остального показ...   \n",
       "4686  Жена кормит дочку, обязательно фиксируя в этом...   \n",
       "4687                                   Супруга довольна   \n",
       "\n",
       "                                                  Reply  \n",
       "4685  Здравствуйте! Проверьте, пожалуйста, верный ли...  \n",
       "4686                                                NaN  \n",
       "4687                                  Спасибо за отзыв!  "
      ]
     },
     "execution_count": 9,
     "metadata": {},
     "output_type": "execute_result"
    }
   ],
   "source": [
    "df_1.tail(3)"
   ]
  },
  {
   "cell_type": "code",
   "execution_count": 10,
   "metadata": {
    "collapsed": false
   },
   "outputs": [
    {
     "data": {
      "text/plain": [
       "(4688, 7)"
      ]
     },
     "execution_count": 10,
     "metadata": {},
     "output_type": "execute_result"
    }
   ],
   "source": [
    "df_1.shape"
   ]
  },
  {
   "cell_type": "code",
   "execution_count": 11,
   "metadata": {
    "collapsed": false
   },
   "outputs": [
    {
     "name": "stdout",
     "output_type": "stream",
     "text": [
      "<class 'pandas.core.frame.DataFrame'>\n",
      "RangeIndex: 4688 entries, 0 to 4687\n",
      "Data columns (total 7 columns):\n",
      "Date      4688 non-null object\n",
      "Lang      4688 non-null object\n",
      "Author    3914 non-null object\n",
      "Stars     4688 non-null int64\n",
      "Title     197 non-null object\n",
      "Review    4687 non-null object\n",
      "Reply     526 non-null object\n",
      "dtypes: int64(1), object(6)\n",
      "memory usage: 256.5+ KB\n"
     ]
    }
   ],
   "source": [
    "df_1.info()"
   ]
  },
  {
   "cell_type": "code",
   "execution_count": null,
   "metadata": {
    "collapsed": false
   },
   "outputs": [],
   "source": [
    "#plt.plot(x)"
   ]
  },
  {
   "cell_type": "code",
   "execution_count": 12,
   "metadata": {
    "collapsed": false
   },
   "outputs": [],
   "source": [
    "x = df_1.groupby('Lang').Review.count().sort_values(ascending = False)\n",
    "#sns.distplot(x)"
   ]
  },
  {
   "cell_type": "code",
   "execution_count": 13,
   "metadata": {
    "collapsed": true
   },
   "outputs": [],
   "source": [
    "x_Lang = pd.DataFrame(x)"
   ]
  },
  {
   "cell_type": "code",
   "execution_count": 15,
   "metadata": {
    "collapsed": false
   },
   "outputs": [
    {
     "data": {
      "text/html": [
       "<style  type=\"text/css\" >\n",
       "    #T_190ff848_e70c_11e7_9c22_9cf387c17a2crow0_col0 {\n",
       "            width:  10em;\n",
       "             height:  80%;\n",
       "            background:  linear-gradient(90deg,#d65f5f 100.0%, transparent 0%);\n",
       "        }    #T_190ff848_e70c_11e7_9c22_9cf387c17a2crow1_col0 {\n",
       "            width:  10em;\n",
       "             height:  80%;\n",
       "            background:  linear-gradient(90deg,#d65f5f 74.6%, transparent 0%);\n",
       "        }    #T_190ff848_e70c_11e7_9c22_9cf387c17a2crow2_col0 {\n",
       "            width:  10em;\n",
       "             height:  80%;\n",
       "            background:  linear-gradient(90deg,#d65f5f 39.1%, transparent 0%);\n",
       "        }    #T_190ff848_e70c_11e7_9c22_9cf387c17a2crow3_col0 {\n",
       "            width:  10em;\n",
       "             height:  80%;\n",
       "            background:  linear-gradient(90deg,#d65f5f 35.6%, transparent 0%);\n",
       "        }    #T_190ff848_e70c_11e7_9c22_9cf387c17a2crow4_col0 {\n",
       "            width:  10em;\n",
       "             height:  80%;\n",
       "            background:  linear-gradient(90deg,#d65f5f 33.1%, transparent 0%);\n",
       "        }    #T_190ff848_e70c_11e7_9c22_9cf387c17a2crow5_col0 {\n",
       "            width:  10em;\n",
       "             height:  80%;\n",
       "            background:  linear-gradient(90deg,#d65f5f 13.9%, transparent 0%);\n",
       "        }    #T_190ff848_e70c_11e7_9c22_9cf387c17a2crow6_col0 {\n",
       "            width:  10em;\n",
       "             height:  80%;\n",
       "            background:  linear-gradient(90deg,#d65f5f 9.7%, transparent 0%);\n",
       "        }    #T_190ff848_e70c_11e7_9c22_9cf387c17a2crow7_col0 {\n",
       "            width:  10em;\n",
       "             height:  80%;\n",
       "            background:  linear-gradient(90deg,#d65f5f 9.2%, transparent 0%);\n",
       "        }    #T_190ff848_e70c_11e7_9c22_9cf387c17a2crow8_col0 {\n",
       "            width:  10em;\n",
       "             height:  80%;\n",
       "            background:  linear-gradient(90deg,#d65f5f 6.5%, transparent 0%);\n",
       "        }    #T_190ff848_e70c_11e7_9c22_9cf387c17a2crow9_col0 {\n",
       "            width:  10em;\n",
       "             height:  80%;\n",
       "            background:  linear-gradient(90deg,#d65f5f 3.8%, transparent 0%);\n",
       "        }    #T_190ff848_e70c_11e7_9c22_9cf387c17a2crow10_col0 {\n",
       "            width:  10em;\n",
       "             height:  80%;\n",
       "            background:  linear-gradient(90deg,#d65f5f 3.6%, transparent 0%);\n",
       "        }    #T_190ff848_e70c_11e7_9c22_9cf387c17a2crow11_col0 {\n",
       "            width:  10em;\n",
       "             height:  80%;\n",
       "            background:  linear-gradient(90deg,#d65f5f 2.6%, transparent 0%);\n",
       "        }    #T_190ff848_e70c_11e7_9c22_9cf387c17a2crow12_col0 {\n",
       "            width:  10em;\n",
       "             height:  80%;\n",
       "            background:  linear-gradient(90deg,#d65f5f 0.9%, transparent 0%);\n",
       "        }    #T_190ff848_e70c_11e7_9c22_9cf387c17a2crow13_col0 {\n",
       "            width:  10em;\n",
       "             height:  80%;\n",
       "            background:  linear-gradient(90deg,#d65f5f 0.7%, transparent 0%);\n",
       "        }    #T_190ff848_e70c_11e7_9c22_9cf387c17a2crow14_col0 {\n",
       "            width:  10em;\n",
       "             height:  80%;\n",
       "        }</style>  \n",
       "<table id=\"T_190ff848_e70c_11e7_9c22_9cf387c17a2c\" > \n",
       "<thead>    <tr> \n",
       "        <th class=\"blank level0\" ></th> \n",
       "        <th class=\"col_heading level0 col0\" >Review</th> \n",
       "    </tr>    <tr> \n",
       "        <th class=\"index_name level0\" >Lang</th> \n",
       "        <th class=\"blank\" ></th> \n",
       "    </tr></thead> \n",
       "<tbody>    <tr> \n",
       "        <th id=\"T_190ff848_e70c_11e7_9c22_9cf387c17a2clevel0_row0\" class=\"row_heading level0 row0\" >ru</th> \n",
       "        <td id=\"T_190ff848_e70c_11e7_9c22_9cf387c17a2crow0_col0\" class=\"data row0 col0\" >1295</td> \n",
       "    </tr>    <tr> \n",
       "        <th id=\"T_190ff848_e70c_11e7_9c22_9cf387c17a2clevel0_row1\" class=\"row_heading level0 row1\" >pt</th> \n",
       "        <td id=\"T_190ff848_e70c_11e7_9c22_9cf387c17a2crow1_col0\" class=\"data row1 col0\" >972</td> \n",
       "    </tr>    <tr> \n",
       "        <th id=\"T_190ff848_e70c_11e7_9c22_9cf387c17a2clevel0_row2\" class=\"row_heading level0 row2\" >es</th> \n",
       "        <td id=\"T_190ff848_e70c_11e7_9c22_9cf387c17a2crow2_col0\" class=\"data row2 col0\" >521</td> \n",
       "    </tr>    <tr> \n",
       "        <th id=\"T_190ff848_e70c_11e7_9c22_9cf387c17a2clevel0_row3\" class=\"row_heading level0 row3\" >de</th> \n",
       "        <td id=\"T_190ff848_e70c_11e7_9c22_9cf387c17a2crow3_col0\" class=\"data row3 col0\" >477</td> \n",
       "    </tr>    <tr> \n",
       "        <th id=\"T_190ff848_e70c_11e7_9c22_9cf387c17a2clevel0_row4\" class=\"row_heading level0 row4\" >en</th> \n",
       "        <td id=\"T_190ff848_e70c_11e7_9c22_9cf387c17a2crow4_col0\" class=\"data row4 col0\" >446</td> \n",
       "    </tr>    <tr> \n",
       "        <th id=\"T_190ff848_e70c_11e7_9c22_9cf387c17a2clevel0_row5\" class=\"row_heading level0 row5\" >fr</th> \n",
       "        <td id=\"T_190ff848_e70c_11e7_9c22_9cf387c17a2crow5_col0\" class=\"data row5 col0\" >201</td> \n",
       "    </tr>    <tr> \n",
       "        <th id=\"T_190ff848_e70c_11e7_9c22_9cf387c17a2clevel0_row6\" class=\"row_heading level0 row6\" >ko</th> \n",
       "        <td id=\"T_190ff848_e70c_11e7_9c22_9cf387c17a2crow6_col0\" class=\"data row6 col0\" >148</td> \n",
       "    </tr>    <tr> \n",
       "        <th id=\"T_190ff848_e70c_11e7_9c22_9cf387c17a2clevel0_row7\" class=\"row_heading level0 row7\" >pl</th> \n",
       "        <td id=\"T_190ff848_e70c_11e7_9c22_9cf387c17a2crow7_col0\" class=\"data row7 col0\" >142</td> \n",
       "    </tr>    <tr> \n",
       "        <th id=\"T_190ff848_e70c_11e7_9c22_9cf387c17a2clevel0_row8\" class=\"row_heading level0 row8\" >it</th> \n",
       "        <td id=\"T_190ff848_e70c_11e7_9c22_9cf387c17a2crow8_col0\" class=\"data row8 col0\" >108</td> \n",
       "    </tr>    <tr> \n",
       "        <th id=\"T_190ff848_e70c_11e7_9c22_9cf387c17a2clevel0_row9\" class=\"row_heading level0 row9\" >nl</th> \n",
       "        <td id=\"T_190ff848_e70c_11e7_9c22_9cf387c17a2crow9_col0\" class=\"data row9 col0\" >73</td> \n",
       "    </tr>    <tr> \n",
       "        <th id=\"T_190ff848_e70c_11e7_9c22_9cf387c17a2clevel0_row10\" class=\"row_heading level0 row10\" >tr</th> \n",
       "        <td id=\"T_190ff848_e70c_11e7_9c22_9cf387c17a2crow10_col0\" class=\"data row10 col0\" >71</td> \n",
       "    </tr>    <tr> \n",
       "        <th id=\"T_190ff848_e70c_11e7_9c22_9cf387c17a2clevel0_row11\" class=\"row_heading level0 row11\" >cs</th> \n",
       "        <td id=\"T_190ff848_e70c_11e7_9c22_9cf387c17a2crow11_col0\" class=\"data row11 col0\" >58</td> \n",
       "    </tr>    <tr> \n",
       "        <th id=\"T_190ff848_e70c_11e7_9c22_9cf387c17a2clevel0_row12\" class=\"row_heading level0 row12\" >hu</th> \n",
       "        <td id=\"T_190ff848_e70c_11e7_9c22_9cf387c17a2crow12_col0\" class=\"data row12 col0\" >36</td> \n",
       "    </tr>    <tr> \n",
       "        <th id=\"T_190ff848_e70c_11e7_9c22_9cf387c17a2clevel0_row13\" class=\"row_heading level0 row13\" >ja</th> \n",
       "        <td id=\"T_190ff848_e70c_11e7_9c22_9cf387c17a2crow13_col0\" class=\"data row13 col0\" >34</td> \n",
       "    </tr>    <tr> \n",
       "        <th id=\"T_190ff848_e70c_11e7_9c22_9cf387c17a2clevel0_row14\" class=\"row_heading level0 row14\" >el</th> \n",
       "        <td id=\"T_190ff848_e70c_11e7_9c22_9cf387c17a2crow14_col0\" class=\"data row14 col0\" >25</td> \n",
       "    </tr></tbody> \n",
       "</table> "
      ],
      "text/plain": [
       "<pandas.io.formats.style.Styler at 0x129c26860>"
      ]
     },
     "execution_count": 15,
     "metadata": {},
     "output_type": "execute_result"
    }
   ],
   "source": [
    "x_Lang[0:15].style.bar()"
   ]
  },
  {
   "cell_type": "markdown",
   "metadata": {},
   "source": [
    "## загружаем подготовленный текст с переводом"
   ]
  },
  {
   "cell_type": "code",
   "execution_count": 501,
   "metadata": {
    "collapsed": true
   },
   "outputs": [],
   "source": [
    "with open('united_list_lower.pickle', 'rb') as f:\n",
    "    # The protocol version used is detected automatically, so we do not\n",
    "    # have to specify it.\n",
    "    united_list_lower = pickle.load(f)"
   ]
  },
  {
   "cell_type": "code",
   "execution_count": 502,
   "metadata": {
    "collapsed": false
   },
   "outputs": [
    {
     "data": {
      "text/plain": [
       "3332"
      ]
     },
     "execution_count": 502,
     "metadata": {},
     "output_type": "execute_result"
    }
   ],
   "source": [
    "len (total_list_lower)"
   ]
  },
  {
   "cell_type": "code",
   "execution_count": 588,
   "metadata": {
    "collapsed": true
   },
   "outputs": [],
   "source": [
    "with open('united_list_fresh_lower.pickle', 'rb') as ff:\n",
    "    # The protocol version used is detected automatically, so we do not\n",
    "    # have to specify it.\n",
    "    united_list_fresh_lower = pickle.load(ff)"
   ]
  },
  {
   "cell_type": "code",
   "execution_count": 589,
   "metadata": {
    "collapsed": false
   },
   "outputs": [
    {
     "data": {
      "text/plain": [
       "1031"
      ]
     },
     "execution_count": 589,
     "metadata": {},
     "output_type": "execute_result"
    }
   ],
   "source": [
    "len (united_list_fresh_lower)"
   ]
  },
  {
   "cell_type": "code",
   "execution_count": 590,
   "metadata": {
    "collapsed": true
   },
   "outputs": [],
   "source": [
    "total_list_lower = united_list_lower + united_list_fresh_lower"
   ]
  },
  {
   "cell_type": "code",
   "execution_count": 591,
   "metadata": {
    "collapsed": false
   },
   "outputs": [
    {
     "data": {
      "text/plain": [
       "4363"
      ]
     },
     "execution_count": 591,
     "metadata": {},
     "output_type": "execute_result"
    }
   ],
   "source": [
    "len(total_list_lower)"
   ]
  },
  {
   "cell_type": "markdown",
   "metadata": {},
   "source": [
    "## Создаем стоп словарь "
   ]
  },
  {
   "cell_type": "code",
   "execution_count": 507,
   "metadata": {
    "collapsed": true
   },
   "outputs": [],
   "source": [
    "# формируем список стоп слова\n",
    "import string\n",
    "from nltk.corpus import stopwords\n",
    "from nltk.tokenize import wordpunct_tokenize"
   ]
  },
  {
   "cell_type": "markdown",
   "metadata": {},
   "source": [
    "### включаем пунктуацию "
   ]
  },
  {
   "cell_type": "code",
   "execution_count": 508,
   "metadata": {
    "collapsed": false
   },
   "outputs": [
    {
     "data": {
      "text/plain": [
       "'!\"#$%&\\'()*+,-./:;<=>?@[\\\\]^_`{|}~'"
      ]
     },
     "execution_count": 508,
     "metadata": {},
     "output_type": "execute_result"
    }
   ],
   "source": [
    "punct = string.punctuation\n",
    "punct"
   ]
  },
  {
   "cell_type": "code",
   "execution_count": 509,
   "metadata": {
    "collapsed": true
   },
   "outputs": [],
   "source": [
    "list_punct = [x for x in punct]"
   ]
  },
  {
   "cell_type": "code",
   "execution_count": 510,
   "metadata": {
    "collapsed": false
   },
   "outputs": [
    {
     "name": "stdout",
     "output_type": "stream",
     "text": [
      "['!', '\"', '#', '$', '%', '&', \"'\", '(', ')', '*', '+', ',', '-', '.', '/', ':', ';', '<', '=', '>', '?', '@', '[', '\\\\', ']', '^', '_', '`', '{', '|', '}', '~']\n"
     ]
    }
   ],
   "source": [
    "print (list_punct)"
   ]
  },
  {
   "cell_type": "code",
   "execution_count": 511,
   "metadata": {
    "collapsed": false
   },
   "outputs": [],
   "source": [
    "stop_words_f = set(stopwords.words('english'))\n",
    "stop_words_f.update(list_punct)"
   ]
  },
  {
   "cell_type": "code",
   "execution_count": 512,
   "metadata": {
    "collapsed": false
   },
   "outputs": [
    {
     "data": {
      "text/plain": [
       "185"
      ]
     },
     "execution_count": 512,
     "metadata": {},
     "output_type": "execute_result"
    }
   ],
   "source": [
    "len(stop_words_f)"
   ]
  },
  {
   "cell_type": "markdown",
   "metadata": {},
   "source": [
    "### Добавляем в список стоп слов позитивные слова из словаря"
   ]
  },
  {
   "cell_type": "code",
   "execution_count": null,
   "metadata": {
    "collapsed": true
   },
   "outputs": [],
   "source": [
    "# загружаем сентименты из датафрейма -словаря \n",
    "# https://hlt-nlp.fbk.eu/technologies/sentiwords"
   ]
  },
  {
   "cell_type": "code",
   "execution_count": 513,
   "metadata": {
    "collapsed": true
   },
   "outputs": [],
   "source": [
    "df_sentiments = pd.read_pickle('df_sentiments.pkl')"
   ]
  },
  {
   "cell_type": "code",
   "execution_count": 514,
   "metadata": {
    "collapsed": false
   },
   "outputs": [
    {
     "data": {
      "text/html": [
       "<div>\n",
       "<style>\n",
       "    .dataframe thead tr:only-child th {\n",
       "        text-align: right;\n",
       "    }\n",
       "\n",
       "    .dataframe thead th {\n",
       "        text-align: left;\n",
       "    }\n",
       "\n",
       "    .dataframe tbody tr th {\n",
       "        vertical-align: top;\n",
       "    }\n",
       "</style>\n",
       "<table border=\"1\" class=\"dataframe\">\n",
       "  <thead>\n",
       "    <tr style=\"text-align: right;\">\n",
       "      <th></th>\n",
       "      <th>lemma</th>\n",
       "      <th>PoS</th>\n",
       "      <th>prior_polarity_score</th>\n",
       "    </tr>\n",
       "  </thead>\n",
       "  <tbody>\n",
       "    <tr>\n",
       "      <th>155282</th>\n",
       "      <td>zymolytic</td>\n",
       "      <td>a</td>\n",
       "      <td>-0.19821</td>\n",
       "    </tr>\n",
       "    <tr>\n",
       "      <th>155283</th>\n",
       "      <td>zymosis</td>\n",
       "      <td>n</td>\n",
       "      <td>0.15754</td>\n",
       "    </tr>\n",
       "    <tr>\n",
       "      <th>155284</th>\n",
       "      <td>zymotic</td>\n",
       "      <td>a</td>\n",
       "      <td>-0.08847</td>\n",
       "    </tr>\n",
       "    <tr>\n",
       "      <th>155285</th>\n",
       "      <td>zymurgy</td>\n",
       "      <td>n</td>\n",
       "      <td>0</td>\n",
       "    </tr>\n",
       "    <tr>\n",
       "      <th>155286</th>\n",
       "      <td>zyrian</td>\n",
       "      <td>n</td>\n",
       "      <td>0</td>\n",
       "    </tr>\n",
       "  </tbody>\n",
       "</table>\n",
       "</div>"
      ],
      "text/plain": [
       "            lemma PoS prior_polarity_score\n",
       "155282  zymolytic   a             -0.19821\n",
       "155283    zymosis   n              0.15754\n",
       "155284    zymotic   a             -0.08847\n",
       "155285    zymurgy   n                    0\n",
       "155286     zyrian   n                    0"
      ]
     },
     "execution_count": 514,
     "metadata": {},
     "output_type": "execute_result"
    }
   ],
   "source": [
    "df_sentiments.tail()"
   ]
  },
  {
   "cell_type": "code",
   "execution_count": 515,
   "metadata": {
    "collapsed": false
   },
   "outputs": [],
   "source": [
    "df_sentiments['score'] = [float(x) for x in df_sentiments.prior_polarity_score]"
   ]
  },
  {
   "cell_type": "code",
   "execution_count": 516,
   "metadata": {
    "collapsed": false
   },
   "outputs": [
    {
     "data": {
      "text/html": [
       "<div>\n",
       "<style>\n",
       "    .dataframe thead tr:only-child th {\n",
       "        text-align: right;\n",
       "    }\n",
       "\n",
       "    .dataframe thead th {\n",
       "        text-align: left;\n",
       "    }\n",
       "\n",
       "    .dataframe tbody tr th {\n",
       "        vertical-align: top;\n",
       "    }\n",
       "</style>\n",
       "<table border=\"1\" class=\"dataframe\">\n",
       "  <thead>\n",
       "    <tr style=\"text-align: right;\">\n",
       "      <th></th>\n",
       "      <th>lemma</th>\n",
       "      <th>PoS</th>\n",
       "      <th>prior_polarity_score</th>\n",
       "      <th>score</th>\n",
       "    </tr>\n",
       "  </thead>\n",
       "  <tbody>\n",
       "    <tr>\n",
       "      <th>155282</th>\n",
       "      <td>zymolytic</td>\n",
       "      <td>a</td>\n",
       "      <td>-0.19821</td>\n",
       "      <td>-0.19821</td>\n",
       "    </tr>\n",
       "    <tr>\n",
       "      <th>155283</th>\n",
       "      <td>zymosis</td>\n",
       "      <td>n</td>\n",
       "      <td>0.15754</td>\n",
       "      <td>0.15754</td>\n",
       "    </tr>\n",
       "    <tr>\n",
       "      <th>155284</th>\n",
       "      <td>zymotic</td>\n",
       "      <td>a</td>\n",
       "      <td>-0.08847</td>\n",
       "      <td>-0.08847</td>\n",
       "    </tr>\n",
       "    <tr>\n",
       "      <th>155285</th>\n",
       "      <td>zymurgy</td>\n",
       "      <td>n</td>\n",
       "      <td>0</td>\n",
       "      <td>0.00000</td>\n",
       "    </tr>\n",
       "    <tr>\n",
       "      <th>155286</th>\n",
       "      <td>zyrian</td>\n",
       "      <td>n</td>\n",
       "      <td>0</td>\n",
       "      <td>0.00000</td>\n",
       "    </tr>\n",
       "  </tbody>\n",
       "</table>\n",
       "</div>"
      ],
      "text/plain": [
       "            lemma PoS prior_polarity_score    score\n",
       "155282  zymolytic   a             -0.19821 -0.19821\n",
       "155283    zymosis   n              0.15754  0.15754\n",
       "155284    zymotic   a             -0.08847 -0.08847\n",
       "155285    zymurgy   n                    0  0.00000\n",
       "155286     zyrian   n                    0  0.00000"
      ]
     },
     "execution_count": 516,
     "metadata": {},
     "output_type": "execute_result"
    }
   ],
   "source": [
    "df_sentiments.tail()"
   ]
  },
  {
   "cell_type": "code",
   "execution_count": null,
   "metadata": {
    "collapsed": true
   },
   "outputs": [],
   "source": [
    "## в словаре есть рейтинг у каждого слова prior_polarity_score. Посмотрим, как он оценивает по рейтингу слова,\n",
    "#которые нам раньше выдавала модель \n",
    "# perfect 0.54757, useful 0.52504, convenient 0.53754, super 0.51256, easy 0.61758, excellent \t0.64003, \n",
    "#helpful 0.60754, satisfied 0.54009\n",
    "# учитывая, что нам нужны более отриацтельные ключевые слова, мы поставим порог для ключевых слов - 0,3 "
   ]
  },
  {
   "cell_type": "code",
   "execution_count": 517,
   "metadata": {
    "collapsed": false
   },
   "outputs": [],
   "source": [
    "start_with = df_sentiments[df_sentiments.lemma.str.startswith('satisfied')]"
   ]
  },
  {
   "cell_type": "code",
   "execution_count": 518,
   "metadata": {
    "collapsed": true
   },
   "outputs": [],
   "source": [
    "start_with1 = df_sentiments[df_sentiments.lemma.str.startswith('problem')]"
   ]
  },
  {
   "cell_type": "code",
   "execution_count": 519,
   "metadata": {
    "collapsed": false
   },
   "outputs": [
    {
     "data": {
      "text/html": [
       "<div>\n",
       "<style>\n",
       "    .dataframe thead tr:only-child th {\n",
       "        text-align: right;\n",
       "    }\n",
       "\n",
       "    .dataframe thead th {\n",
       "        text-align: left;\n",
       "    }\n",
       "\n",
       "    .dataframe tbody tr th {\n",
       "        vertical-align: top;\n",
       "    }\n",
       "</style>\n",
       "<table border=\"1\" class=\"dataframe\">\n",
       "  <thead>\n",
       "    <tr style=\"text-align: right;\">\n",
       "      <th></th>\n",
       "      <th>lemma</th>\n",
       "      <th>PoS</th>\n",
       "      <th>prior_polarity_score</th>\n",
       "      <th>score</th>\n",
       "    </tr>\n",
       "  </thead>\n",
       "  <tbody>\n",
       "    <tr>\n",
       "      <th>110035</th>\n",
       "      <td>problem_solver</td>\n",
       "      <td>n</td>\n",
       "      <td>0</td>\n",
       "      <td>0.00000</td>\n",
       "    </tr>\n",
       "    <tr>\n",
       "      <th>110036</th>\n",
       "      <td>problem_solving</td>\n",
       "      <td>n</td>\n",
       "      <td>0</td>\n",
       "      <td>0.00000</td>\n",
       "    </tr>\n",
       "    <tr>\n",
       "      <th>110037</th>\n",
       "      <td>problem-oriented_language</td>\n",
       "      <td>n</td>\n",
       "      <td>0</td>\n",
       "      <td>0.00000</td>\n",
       "    </tr>\n",
       "    <tr>\n",
       "      <th>110038</th>\n",
       "      <td>problem</td>\n",
       "      <td>n</td>\n",
       "      <td>-0.37002</td>\n",
       "      <td>-0.37002</td>\n",
       "    </tr>\n",
       "    <tr>\n",
       "      <th>110039</th>\n",
       "      <td>problematic</td>\n",
       "      <td>a</td>\n",
       "      <td>-0.60501</td>\n",
       "      <td>-0.60501</td>\n",
       "    </tr>\n",
       "    <tr>\n",
       "      <th>110040</th>\n",
       "      <td>problematical</td>\n",
       "      <td>a</td>\n",
       "      <td>-0.10451</td>\n",
       "      <td>-0.10451</td>\n",
       "    </tr>\n",
       "    <tr>\n",
       "      <th>110041</th>\n",
       "      <td>problematically</td>\n",
       "      <td>r</td>\n",
       "      <td>0</td>\n",
       "      <td>0.00000</td>\n",
       "    </tr>\n",
       "  </tbody>\n",
       "</table>\n",
       "</div>"
      ],
      "text/plain": [
       "                            lemma PoS prior_polarity_score    score\n",
       "110035             problem_solver   n                    0  0.00000\n",
       "110036            problem_solving   n                    0  0.00000\n",
       "110037  problem-oriented_language   n                    0  0.00000\n",
       "110038                    problem   n             -0.37002 -0.37002\n",
       "110039                problematic   a             -0.60501 -0.60501\n",
       "110040              problematical   a             -0.10451 -0.10451\n",
       "110041            problematically   r                    0  0.00000"
      ]
     },
     "execution_count": 519,
     "metadata": {},
     "output_type": "execute_result"
    }
   ],
   "source": [
    "start_with1"
   ]
  },
  {
   "cell_type": "code",
   "execution_count": null,
   "metadata": {
    "collapsed": true
   },
   "outputs": [],
   "source": [
    "# В среднем, prior_polarity_score у позитивных слов составляет 0.5. Это будет порогом для ключевых слов в нашем списке стоп слов"
   ]
  },
  {
   "cell_type": "markdown",
   "metadata": {},
   "source": [
    "### добавляем в список стоп слов все слова, у которых рейтинг равен или выше 0,5"
   ]
  },
  {
   "cell_type": "code",
   "execution_count": 520,
   "metadata": {
    "collapsed": false
   },
   "outputs": [],
   "source": [
    "df_sentiments_0_5 = df_sentiments[(df_sentiments['score'] > -0.3)]"
   ]
  },
  {
   "cell_type": "code",
   "execution_count": 521,
   "metadata": {
    "collapsed": false
   },
   "outputs": [
    {
     "name": "stdout",
     "output_type": "stream",
     "text": [
      "<class 'pandas.core.frame.DataFrame'>\n",
      "Int64Index: 147388 entries, 0 to 155286\n",
      "Data columns (total 4 columns):\n",
      "lemma                   147388 non-null object\n",
      "PoS                     147388 non-null object\n",
      "prior_polarity_score    147388 non-null object\n",
      "score                   147388 non-null float64\n",
      "dtypes: float64(1), object(3)\n",
      "memory usage: 5.6+ MB\n"
     ]
    }
   ],
   "source": [
    "df_sentiments_0_5.info()"
   ]
  },
  {
   "cell_type": "code",
   "execution_count": 523,
   "metadata": {
    "collapsed": true
   },
   "outputs": [],
   "source": [
    "positive_words = [x for x in df_sentiments_0_5.lemma]"
   ]
  },
  {
   "cell_type": "code",
   "execution_count": 525,
   "metadata": {
    "collapsed": false
   },
   "outputs": [
    {
     "data": {
      "text/plain": [
       "147388"
      ]
     },
     "execution_count": 525,
     "metadata": {},
     "output_type": "execute_result"
    }
   ],
   "source": [
    "len(positive_words)"
   ]
  },
  {
   "cell_type": "code",
   "execution_count": 526,
   "metadata": {
    "collapsed": true
   },
   "outputs": [],
   "source": [
    "## обновляем список стоп слов"
   ]
  },
  {
   "cell_type": "code",
   "execution_count": 527,
   "metadata": {
    "collapsed": false
   },
   "outputs": [],
   "source": [
    "stop_words_f.update(positive_words)"
   ]
  },
  {
   "cell_type": "code",
   "execution_count": 528,
   "metadata": {
    "collapsed": false
   },
   "outputs": [
    {
     "data": {
      "text/plain": [
       "140412"
      ]
     },
     "execution_count": 528,
     "metadata": {},
     "output_type": "execute_result"
    }
   ],
   "source": [
    "len(stop_words_f)"
   ]
  },
  {
   "cell_type": "code",
   "execution_count": null,
   "metadata": {
    "collapsed": true
   },
   "outputs": [],
   "source": [
    "## по результам работы модели, имеет смысл добавить список наиоболее частотных слов, которые характерны для этих отзывов"
   ]
  },
  {
   "cell_type": "code",
   "execution_count": 669,
   "metadata": {
    "collapsed": true
   },
   "outputs": [],
   "source": [
    "typical_words = [\"everything\",\"app\",\"lot\", \"application\", 'breastfeeding', 'breast-feeding', 'apps']"
   ]
  },
  {
   "cell_type": "code",
   "execution_count": 670,
   "metadata": {
    "collapsed": false
   },
   "outputs": [],
   "source": [
    "stop_words_f.update(typical_words)"
   ]
  },
  {
   "cell_type": "markdown",
   "metadata": {},
   "source": [
    "## Создаем список ключевых слов используя алгоритм textrank "
   ]
  },
  {
   "cell_type": "code",
   "execution_count": 634,
   "metadata": {
    "collapsed": false
   },
   "outputs": [
    {
     "name": "stderr",
     "output_type": "stream",
     "text": [
      "/Users/OzzyPeople/anaconda/lib/python3.6/site-packages/networkx/generators/stochastic.py:56: UserWarning: zero out-degree for node super\n",
      "  warnings.warn('zero out-degree for node %s' % u)\n"
     ]
    }
   ],
   "source": [
    "# находим ключевые слова через алгоритм textrank, ставим ограничения по кол-ву 35 и ссодержанию больше 0\n",
    "united_list_good = [] #список отзывов, длины которых более 35 символов \n",
    "key_phrases = []\n",
    "for i in total_list_lower:\n",
    "    y = [b for b in textrank.extract_key_phrases(i) if b not in stop_words_f and not any(w in stop_words_f for w in b.split()) ] # вытаскиваем ключевые слова \n",
    "    if len(i) > 35 and len(y) > 0:\n",
    "        key_phrases.append(y)\n",
    "        united_list_good.append(i)"
   ]
  },
  {
   "cell_type": "code",
   "execution_count": null,
   "metadata": {
    "collapsed": true
   },
   "outputs": [],
   "source": [
    "# Сохраняем данные на диске в формате python списка "
   ]
  },
  {
   "cell_type": "code",
   "execution_count": 716,
   "metadata": {
    "collapsed": true
   },
   "outputs": [],
   "source": [
    "with open('key_phrases.pickle', 'wb') as f:\n",
    "    # Pickle the 'data' dictionary using the highest protocol available.\n",
    "    pickle.dump(key_phrases, f, pickle.HIGHEST_PROTOCOL)"
   ]
  },
  {
   "cell_type": "code",
   "execution_count": 717,
   "metadata": {
    "collapsed": true
   },
   "outputs": [],
   "source": [
    "with open('key_phrases.pickle', 'rb') as f:\n",
    "    # The protocol version used is detected automatically, so we do not\n",
    "    # have to specify it.\n",
    "    key_phrases = pickle.load(f)"
   ]
  },
  {
   "cell_type": "markdown",
   "metadata": {},
   "source": [
    "## Эксперимент 1 Text Rank"
   ]
  },
  {
   "cell_type": "markdown",
   "metadata": {},
   "source": [
    "##  Векторизация "
   ]
  },
  {
   "cell_type": "code",
   "execution_count": 635,
   "metadata": {
    "collapsed": false
   },
   "outputs": [],
   "source": [
    "import sklearn.feature_extraction.text\n",
    "vctr = sklearn.feature_extraction.text.CountVectorizer(tokenizer = lambda key_phrases: key_phrases, preprocessor=lambda key_phrases: key_phrases)\n",
    "\n",
    "# tokenizer = lambda key_phrases: key_phrases - должен взять список и отдать список \n",
    "#(вместо взять сплошной текст и отдать список слов)\n",
    "# preprocessor=lambda x: x - должен взять список и отдать список"
   ]
  },
  {
   "cell_type": "code",
   "execution_count": 636,
   "metadata": {
    "collapsed": false
   },
   "outputs": [],
   "source": [
    "X_train = vctr.fit_transform(key_phrases) # скармливаем весь текст ключевых слов "
   ]
  },
  {
   "cell_type": "code",
   "execution_count": 637,
   "metadata": {
    "collapsed": false
   },
   "outputs": [
    {
     "data": {
      "text/plain": [
       "(587, 447)"
      ]
     },
     "execution_count": 637,
     "metadata": {},
     "output_type": "execute_result"
    }
   ],
   "source": [
    "# 1965 - количество текстов в которых встречается 1464 ключевых слова в разных комбинациях \n",
    "X_train.shape"
   ]
  },
  {
   "cell_type": "markdown",
   "metadata": {},
   "source": [
    "## Кластеризация "
   ]
  },
  {
   "cell_type": "code",
   "execution_count": 638,
   "metadata": {
    "collapsed": true
   },
   "outputs": [],
   "source": [
    "from sklearn.cluster import KMeans"
   ]
  },
  {
   "cell_type": "code",
   "execution_count": 537,
   "metadata": {
    "collapsed": true
   },
   "outputs": [],
   "source": [
    "# Выбираем оптимальное кол-во кластеров "
   ]
  },
  {
   "cell_type": "code",
   "execution_count": 639,
   "metadata": {
    "collapsed": false
   },
   "outputs": [
    {
     "data": {
      "image/png": "[encoded data removed]",
      "text/plain": [
       "<matplotlib.figure.Figure at 0x1234fd908>"
      ]
     },
     "metadata": {},
     "output_type": "display_data"
    }
   ],
   "source": [
    "inertia = []\n",
    "for k in range(1, 45):\n",
    "    kmeans = KMeans(n_clusters=k, random_state=1).fit(X_train)\n",
    "    inertia.append(np.sqrt(kmeans.inertia_))\n",
    "\n",
    "plt.plot(range(1, 45), inertia, marker='s');\n",
    "plt.xlabel('$k$') # количество кластеров \n",
    "plt.ylabel('$J(C_k)$'); # среднее расстояние до центроидов "
   ]
  },
  {
   "cell_type": "code",
   "execution_count": 640,
   "metadata": {
    "collapsed": true
   },
   "outputs": [],
   "source": [
    "n_clusters_0 = 35"
   ]
  },
  {
   "cell_type": "code",
   "execution_count": 641,
   "metadata": {
    "collapsed": false
   },
   "outputs": [],
   "source": [
    "clf_kmeans0 = KMeans(n_clusters=n_clusters_0) #создается необученный кластеризатор "
   ]
  },
  {
   "cell_type": "code",
   "execution_count": 602,
   "metadata": {
    "collapsed": true
   },
   "outputs": [],
   "source": [
    "# Передаем в модель все данные "
   ]
  },
  {
   "cell_type": "code",
   "execution_count": 642,
   "metadata": {
    "collapsed": true
   },
   "outputs": [],
   "source": [
    "clusters_kmeans_predict0 = clf_kmeans0.fit_predict(X_train)\n",
    "## чем отличается фит от предикт - делает фит (обучает модель) и предсказывает"
   ]
  },
  {
   "cell_type": "code",
   "execution_count": 643,
   "metadata": {
    "collapsed": false
   },
   "outputs": [
    {
     "data": {
      "text/plain": [
       "(587,)"
      ]
     },
     "execution_count": 643,
     "metadata": {},
     "output_type": "execute_result"
    }
   ],
   "source": [
    "clusters_kmeans_predict0.shape"
   ]
  },
  {
   "cell_type": "code",
   "execution_count": 644,
   "metadata": {
    "collapsed": true
   },
   "outputs": [],
   "source": [
    "clusters_kmeans0 = clf_kmeans0.fit(X_train) # фит обучает кластеризатор "
   ]
  },
  {
   "cell_type": "code",
   "execution_count": null,
   "metadata": {
    "collapsed": true
   },
   "outputs": [],
   "source": [
    "# центроид - среднее значение расстояний в одном классе \n",
    "# разница - между центроидом и длиной расстояний - это классифицировать по уменьшению "
   ]
  },
  {
   "cell_type": "markdown",
   "metadata": {},
   "source": [
    "## Оценка кластеров"
   ]
  },
  {
   "cell_type": "code",
   "execution_count": 645,
   "metadata": {
    "collapsed": false
   },
   "outputs": [],
   "source": [
    "# Создаем словарь - номер кластера это ключ, а значение - это текст (отзыв), который соответствует кластеру \n",
    "dict_c0 = defaultdict(list) \n",
    "\n",
    "# Создаем словарь - номер кластера это ключ, а значение - это список ключевых слов каждого отзыв, который соответствует кластеру \n",
    "dict_kp0 = defaultdict(list)\n",
    "\n",
    "\n",
    "for i, elem in enumerate(clusters_kmeans_predict0):\n",
    "    dict_c0[elem].append(united_list_good[i])\n",
    "    dict_kp0[elem].append(key_phrases[i])"
   ]
  },
  {
   "cell_type": "code",
   "execution_count": 646,
   "metadata": {
    "collapsed": false
   },
   "outputs": [
    {
     "data": {
      "text/plain": [
       "35"
      ]
     },
     "execution_count": 646,
     "metadata": {},
     "output_type": "execute_result"
    }
   ],
   "source": [
    "len(dict_c0)"
   ]
  },
  {
   "cell_type": "code",
   "execution_count": 647,
   "metadata": {
    "collapsed": false
   },
   "outputs": [
    {
     "data": {
      "text/plain": [
       "35"
      ]
     },
     "execution_count": 647,
     "metadata": {},
     "output_type": "execute_result"
    }
   ],
   "source": [
    "len(dict_kp0)"
   ]
  },
  {
   "cell_type": "code",
   "execution_count": 652,
   "metadata": {
    "collapsed": true
   },
   "outputs": [],
   "source": [
    "dict_kp0_0 = dict_kp0[0]"
   ]
  },
  {
   "cell_type": "markdown",
   "metadata": {},
   "source": [
    "### Определим топ N близких ключевых слов к центроидам\n",
    "### чтобы вывести наиболее характерные слова для каждого кластера"
   ]
  },
  {
   "cell_type": "code",
   "execution_count": 654,
   "metadata": {
    "collapsed": true
   },
   "outputs": [],
   "source": [
    "# находим центроиды - это среднее значение всех точек в кластере\n",
    "centroids0 = clusters_kmeans0.cluster_centers_"
   ]
  },
  {
   "cell_type": "code",
   "execution_count": 655,
   "metadata": {
    "collapsed": false
   },
   "outputs": [
    {
     "data": {
      "text/plain": [
       "sklearn.cluster.k_means_.KMeans"
      ]
     },
     "execution_count": 655,
     "metadata": {},
     "output_type": "execute_result"
    }
   ],
   "source": [
    "type (clusters_kmeans0)"
   ]
  },
  {
   "cell_type": "code",
   "execution_count": 656,
   "metadata": {
    "collapsed": false
   },
   "outputs": [
    {
     "data": {
      "text/plain": [
       "(35, 447)"
      ]
     },
     "execution_count": 656,
     "metadata": {},
     "output_type": "execute_result"
    }
   ],
   "source": [
    "centroids0.shape"
   ]
  },
  {
   "cell_type": "code",
   "execution_count": 657,
   "metadata": {
    "collapsed": true
   },
   "outputs": [],
   "source": [
    "from sklearn.metrics.pairwise import euclidean_distances"
   ]
  },
  {
   "cell_type": "code",
   "execution_count": 658,
   "metadata": {
    "collapsed": true
   },
   "outputs": [],
   "source": [
    "# находим среднее расстояние до центроида от каждой точки (ключевого слова из тренировачных данных)\n",
    "dist_center_0 = euclidean_distances(centroids0, X_train)"
   ]
  },
  {
   "cell_type": "code",
   "execution_count": 659,
   "metadata": {
    "collapsed": true
   },
   "outputs": [],
   "source": [
    "dict_clust_keywords_0 = {} # номер кластера и список его индексов \n",
    "dict_clust_index_0 = {} # номер кластера и список ключевых слов \n",
    "n_words = 5 # количество наиболее близких слова\n",
    "for i in range (n_clusters_0):\n",
    "    dict_clust_index_0[i] = dist_center_0[i].argsort()[:n_words].tolist()\n",
    "for b, k in dict_clust_index_0.items():\n",
    "    dict_clust_keywords_0[b] = []\n",
    "    for c in k:\n",
    "        dict_clust_keywords_0[b].extend(key_phrases[c])\n",
    "    dict_clust_keywords_0[b] = list(set(dict_clust_keywords_0[b]))"
   ]
  },
  {
   "cell_type": "code",
   "execution_count": 701,
   "metadata": {
    "collapsed": false
   },
   "outputs": [
    {
     "data": {
      "text/plain": [
       "2"
      ]
     },
     "execution_count": 701,
     "metadata": {},
     "output_type": "execute_result"
    }
   ],
   "source": [
    "len(dict_clust_keywords_0[0])"
   ]
  },
  {
   "cell_type": "code",
   "execution_count": 660,
   "metadata": {
    "collapsed": false
   },
   "outputs": [
    {
     "data": {
      "text/plain": [
       "(35, 587)"
      ]
     },
     "execution_count": 660,
     "metadata": {},
     "output_type": "execute_result"
    }
   ],
   "source": [
    "dist_center_0.shape"
   ]
  },
  {
   "cell_type": "markdown",
   "metadata": {},
   "source": [
    "## Представим данные в виде таблички dataframe"
   ]
  },
  {
   "cell_type": "code",
   "execution_count": 661,
   "metadata": {
    "collapsed": true
   },
   "outputs": [],
   "source": [
    "columns_df_rank_kw = ['volume','keywords']"
   ]
  },
  {
   "cell_type": "code",
   "execution_count": 662,
   "metadata": {
    "collapsed": false
   },
   "outputs": [],
   "source": [
    "df_rank_kw = pd.DataFrame(index = dict_clust_keywords_0.keys(), columns=columns_df_rank_kw)"
   ]
  },
  {
   "cell_type": "code",
   "execution_count": 663,
   "metadata": {
    "collapsed": false
   },
   "outputs": [],
   "source": [
    "df_rank_kw['volume'] = [(len(dict_c0[i])) for i in sorted(dict_c0, reverse=False)] # кол-во текстов "
   ]
  },
  {
   "cell_type": "code",
   "execution_count": 664,
   "metadata": {
    "collapsed": false
   },
   "outputs": [],
   "source": [
    "df_rank_kw['keywords'] = [', '.join(k) for i, k in sorted (dict_clust_keywords_0.items(), reverse=False)] # топ 5 пересекающихся ключевых слов"
   ]
  },
  {
   "cell_type": "code",
   "execution_count": 665,
   "metadata": {
    "collapsed": false
   },
   "outputs": [],
   "source": [
    "df_rank_kw['texts'] = ['| '.join(k) for i, k in sorted(dict_c0.items(),reverse=False) ]"
   ]
  },
  {
   "cell_type": "code",
   "execution_count": 666,
   "metadata": {
    "collapsed": false
   },
   "outputs": [],
   "source": [
    "df_rank_kw['textsvol'] = [sum(len(elem) for elem in k) for i, k in sorted(dict_c0.items(),reverse=False)]"
   ]
  },
  {
   "cell_type": "code",
   "execution_count": 667,
   "metadata": {
    "collapsed": false
   },
   "outputs": [],
   "source": [
    "df_rank_kw['avetext'] = round(df_rank_kw['textsvol'] / df_rank_kw['volume'])"
   ]
  },
  {
   "cell_type": "code",
   "execution_count": 668,
   "metadata": {
    "collapsed": false
   },
   "outputs": [
    {
     "data": {
      "text/html": [
       "<div>\n",
       "<style>\n",
       "    .dataframe thead tr:only-child th {\n",
       "        text-align: right;\n",
       "    }\n",
       "\n",
       "    .dataframe thead th {\n",
       "        text-align: left;\n",
       "    }\n",
       "\n",
       "    .dataframe tbody tr th {\n",
       "        vertical-align: top;\n",
       "    }\n",
       "</style>\n",
       "<table border=\"1\" class=\"dataframe\">\n",
       "  <thead>\n",
       "    <tr style=\"text-align: right;\">\n",
       "      <th></th>\n",
       "      <th>volume</th>\n",
       "      <th>keywords</th>\n",
       "      <th>texts</th>\n",
       "      <th>textsvol</th>\n",
       "      <th>avetext</th>\n",
       "    </tr>\n",
       "  </thead>\n",
       "  <tbody>\n",
       "    <tr>\n",
       "      <th>0</th>\n",
       "      <td>334</td>\n",
       "      <td>forget, error</td>\n",
       "      <td>like the app, as an inexperienced mother i alw...</td>\n",
       "      <td>64526</td>\n",
       "      <td>193.0</td>\n",
       "    </tr>\n",
       "    <tr>\n",
       "      <th>1</th>\n",
       "      <td>3</td>\n",
       "      <td>diaper</td>\n",
       "      <td>thanks for the app. like everything, but to me...</td>\n",
       "      <td>433</td>\n",
       "      <td>144.0</td>\n",
       "    </tr>\n",
       "    <tr>\n",
       "      <th>2</th>\n",
       "      <td>8</td>\n",
       "      <td>deprivation, complaint, annoyance, facebook</td>\n",
       "      <td>use the application for the third month. like....</td>\n",
       "      <td>2466</td>\n",
       "      <td>308.0</td>\n",
       "    </tr>\n",
       "    <tr>\n",
       "      <th>3</th>\n",
       "      <td>12</td>\n",
       "      <td>hospital, 😁🍼👍, syncronisation, panaloc, downlo...</td>\n",
       "      <td>the app is good, all very much. conveniently f...</td>\n",
       "      <td>2167</td>\n",
       "      <td>181.0</td>\n",
       "    </tr>\n",
       "    <tr>\n",
       "      <th>4</th>\n",
       "      <td>28</td>\n",
       "      <td>confused, 'bottle</td>\n",
       "      <td>downloaded when the baby was almost a month. v...</td>\n",
       "      <td>8342</td>\n",
       "      <td>298.0</td>\n",
       "    </tr>\n",
       "    <tr>\n",
       "      <th>5</th>\n",
       "      <td>7</td>\n",
       "      <td>everyone</td>\n",
       "      <td>great app, before i tried to record, but it wa...</td>\n",
       "      <td>1997</td>\n",
       "      <td>285.0</td>\n",
       "    </tr>\n",
       "    <tr>\n",
       "      <th>6</th>\n",
       "      <td>18</td>\n",
       "      <td>operation</td>\n",
       "      <td>good app, easy-to-use and absolutely free. i w...</td>\n",
       "      <td>1874</td>\n",
       "      <td>104.0</td>\n",
       "    </tr>\n",
       "    <tr>\n",
       "      <th>7</th>\n",
       "      <td>15</td>\n",
       "      <td>medication</td>\n",
       "      <td>put 5! considered almost everything in the app...</td>\n",
       "      <td>4230</td>\n",
       "      <td>282.0</td>\n",
       "    </tr>\n",
       "    <tr>\n",
       "      <th>8</th>\n",
       "      <td>27</td>\n",
       "      <td>anything</td>\n",
       "      <td>all well and good, but there is one real minus...</td>\n",
       "      <td>7406</td>\n",
       "      <td>274.0</td>\n",
       "    </tr>\n",
       "    <tr>\n",
       "      <th>9</th>\n",
       "      <td>16</td>\n",
       "      <td>something, graciasss</td>\n",
       "      <td>really like the app. use from the birth of the...</td>\n",
       "      <td>3954</td>\n",
       "      <td>247.0</td>\n",
       "    </tr>\n",
       "    <tr>\n",
       "      <th>10</th>\n",
       "      <td>5</td>\n",
       "      <td>problem</td>\n",
       "      <td>thank you very much. this solved my problem😁 h...</td>\n",
       "      <td>978</td>\n",
       "      <td>196.0</td>\n",
       "    </tr>\n",
       "    <tr>\n",
       "      <th>11</th>\n",
       "      <td>27</td>\n",
       "      <td>difficult</td>\n",
       "      <td>recommend. of the minuses - there is no author...</td>\n",
       "      <td>6900</td>\n",
       "      <td>256.0</td>\n",
       "    </tr>\n",
       "    <tr>\n",
       "      <th>12</th>\n",
       "      <td>1</td>\n",
       "      <td>inconvenient</td>\n",
       "      <td>please, develop feature to sync up data in dif...</td>\n",
       "      <td>405</td>\n",
       "      <td>405.0</td>\n",
       "    </tr>\n",
       "    <tr>\n",
       "      <th>13</th>\n",
       "      <td>5</td>\n",
       "      <td>paper/pen, =breast, inexperienced</td>\n",
       "      <td>everything was great, except for the missing w...</td>\n",
       "      <td>630</td>\n",
       "      <td>126.0</td>\n",
       "    </tr>\n",
       "    <tr>\n",
       "      <th>14</th>\n",
       "      <td>12</td>\n",
       "      <td>something</td>\n",
       "      <td>super app when you do not have to bother with ...</td>\n",
       "      <td>2856</td>\n",
       "      <td>238.0</td>\n",
       "    </tr>\n",
       "    <tr>\n",
       "      <th>15</th>\n",
       "      <td>9</td>\n",
       "      <td>graphs</td>\n",
       "      <td>very convenient. the third child of bad memory...</td>\n",
       "      <td>2090</td>\n",
       "      <td>232.0</td>\n",
       "    </tr>\n",
       "    <tr>\n",
       "      <th>16</th>\n",
       "      <td>1</td>\n",
       "      <td>poprosite rotronic, delay, weasel, vazhko, cer...</td>\n",
       "      <td>good app, but i have not figured out to schedu...</td>\n",
       "      <td>644</td>\n",
       "      <td>644.0</td>\n",
       "    </tr>\n",
       "    <tr>\n",
       "      <th>17</th>\n",
       "      <td>2</td>\n",
       "      <td>easy-to-use</td>\n",
       "      <td>great app with many features. however, i wish,...</td>\n",
       "      <td>378</td>\n",
       "      <td>189.0</td>\n",
       "    </tr>\n",
       "    <tr>\n",
       "      <th>18</th>\n",
       "      <td>4</td>\n",
       "      <td>highlighted, uncomfortable</td>\n",
       "      <td>the app is extremely helpful! one big disadvan...</td>\n",
       "      <td>859</td>\n",
       "      <td>215.0</td>\n",
       "    </tr>\n",
       "    <tr>\n",
       "      <th>19</th>\n",
       "      <td>4</td>\n",
       "      <td>forgetful</td>\n",
       "      <td>overall this has been a he great little app fo...</td>\n",
       "      <td>1155</td>\n",
       "      <td>289.0</td>\n",
       "    </tr>\n",
       "    <tr>\n",
       "      <th>20</th>\n",
       "      <td>5</td>\n",
       "      <td>slept, inexperienced</td>\n",
       "      <td>the app is very good, but in day mode error: t...</td>\n",
       "      <td>1339</td>\n",
       "      <td>268.0</td>\n",
       "    </tr>\n",
       "    <tr>\n",
       "      <th>21</th>\n",
       "      <td>4</td>\n",
       "      <td>=breast, delay, time-axis, prebalovani, jednor...</td>\n",
       "      <td>for convenience, add a timer report of the per...</td>\n",
       "      <td>926</td>\n",
       "      <td>232.0</td>\n",
       "    </tr>\n",
       "    <tr>\n",
       "      <th>22</th>\n",
       "      <td>4</td>\n",
       "      <td>re-usable, something, last/wrap-feed, missing</td>\n",
       "      <td>i am very satisfied with the app. to me, it pr...</td>\n",
       "      <td>710</td>\n",
       "      <td>178.0</td>\n",
       "    </tr>\n",
       "    <tr>\n",
       "      <th>23</th>\n",
       "      <td>3</td>\n",
       "      <td>команда разработчиков, приложение, минорный, о...</td>\n",
       "      <td>to improve: the recommended time in argentina ...</td>\n",
       "      <td>474</td>\n",
       "      <td>158.0</td>\n",
       "    </tr>\n",
       "    <tr>\n",
       "      <th>24</th>\n",
       "      <td>6</td>\n",
       "      <td>missing</td>\n",
       "      <td>app fire! the appearance, functionality, appli...</td>\n",
       "      <td>2200</td>\n",
       "      <td>367.0</td>\n",
       "    </tr>\n",
       "    <tr>\n",
       "      <th>25</th>\n",
       "      <td>3</td>\n",
       "      <td>hospital, export/import, pudhusu, intrusive, d...</td>\n",
       "      <td>reminder for bedtime is, say, 3 hours 30 minut...</td>\n",
       "      <td>704</td>\n",
       "      <td>235.0</td>\n",
       "    </tr>\n",
       "    <tr>\n",
       "      <th>26</th>\n",
       "      <td>1</td>\n",
       "      <td>downside, миллиметр, июльском, свидетельствова...</td>\n",
       "      <td>the best, most intuitive baby feeding app out ...</td>\n",
       "      <td>303</td>\n",
       "      <td>303.0</td>\n",
       "    </tr>\n",
       "    <tr>\n",
       "      <th>27</th>\n",
       "      <td>1</td>\n",
       "      <td>impossible, minus-it</td>\n",
       "      <td>very cool app. add item notes for example. goo...</td>\n",
       "      <td>321</td>\n",
       "      <td>321.0</td>\n",
       "    </tr>\n",
       "    <tr>\n",
       "      <th>28</th>\n",
       "      <td>1</td>\n",
       "      <td>'zwangerschapdementie, pity, =breast, inexperi...</td>\n",
       "      <td>команда разработчиков, приложение крутое, но п...</td>\n",
       "      <td>384</td>\n",
       "      <td>384.0</td>\n",
       "    </tr>\n",
       "    <tr>\n",
       "      <th>29</th>\n",
       "      <td>5</td>\n",
       "      <td>forgetfulness, applicatiom, delay, inexperienced</td>\n",
       "      <td>good and useful app for the mamitas forgetful,...</td>\n",
       "      <td>939</td>\n",
       "      <td>188.0</td>\n",
       "    </tr>\n",
       "    <tr>\n",
       "      <th>30</th>\n",
       "      <td>1</td>\n",
       "      <td>partum, dirty, delay, inexperienced</td>\n",
       "      <td>update very quickly with the comment that i ma...</td>\n",
       "      <td>272</td>\n",
       "      <td>272.0</td>\n",
       "    </tr>\n",
       "    <tr>\n",
       "      <th>31</th>\n",
       "      <td>8</td>\n",
       "      <td>delay, paper/pen, thought-out, inexperienced</td>\n",
       "      <td>the app is very good, very convenient! whateve...</td>\n",
       "      <td>1278</td>\n",
       "      <td>160.0</td>\n",
       "    </tr>\n",
       "    <tr>\n",
       "      <th>32</th>\n",
       "      <td>1</td>\n",
       "      <td>problem😁, apps</td>\n",
       "      <td>is pretty good, but not be able to import/expo...</td>\n",
       "      <td>504</td>\n",
       "      <td>504.0</td>\n",
       "    </tr>\n",
       "    <tr>\n",
       "      <th>33</th>\n",
       "      <td>3</td>\n",
       "      <td>impossible</td>\n",
       "      <td>1. in the list of feedings does not specify ho...</td>\n",
       "      <td>528</td>\n",
       "      <td>176.0</td>\n",
       "    </tr>\n",
       "    <tr>\n",
       "      <th>34</th>\n",
       "      <td>3</td>\n",
       "      <td>delay, avtividad, paper/pen, inexperienced, ap...</td>\n",
       "      <td>very good,i can jot down the day's activities....</td>\n",
       "      <td>625</td>\n",
       "      <td>208.0</td>\n",
       "    </tr>\n",
       "  </tbody>\n",
       "</table>\n",
       "</div>"
      ],
      "text/plain": [
       "    volume                                           keywords  \\\n",
       "0      334                                      forget, error   \n",
       "1        3                                             diaper   \n",
       "2        8        deprivation, complaint, annoyance, facebook   \n",
       "3       12  hospital, 😁🍼👍, syncronisation, panaloc, downlo...   \n",
       "4       28                                  confused, 'bottle   \n",
       "5        7                                           everyone   \n",
       "6       18                                          operation   \n",
       "7       15                                         medication   \n",
       "8       27                                           anything   \n",
       "9       16                               something, graciasss   \n",
       "10       5                                            problem   \n",
       "11      27                                          difficult   \n",
       "12       1                                       inconvenient   \n",
       "13       5                  paper/pen, =breast, inexperienced   \n",
       "14      12                                          something   \n",
       "15       9                                             graphs   \n",
       "16       1  poprosite rotronic, delay, weasel, vazhko, cer...   \n",
       "17       2                                        easy-to-use   \n",
       "18       4                         highlighted, uncomfortable   \n",
       "19       4                                          forgetful   \n",
       "20       5                               slept, inexperienced   \n",
       "21       4  =breast, delay, time-axis, prebalovani, jednor...   \n",
       "22       4      re-usable, something, last/wrap-feed, missing   \n",
       "23       3  команда разработчиков, приложение, минорный, о...   \n",
       "24       6                                            missing   \n",
       "25       3  hospital, export/import, pudhusu, intrusive, d...   \n",
       "26       1  downside, миллиметр, июльском, свидетельствова...   \n",
       "27       1                               impossible, minus-it   \n",
       "28       1  'zwangerschapdementie, pity, =breast, inexperi...   \n",
       "29       5   forgetfulness, applicatiom, delay, inexperienced   \n",
       "30       1                partum, dirty, delay, inexperienced   \n",
       "31       8       delay, paper/pen, thought-out, inexperienced   \n",
       "32       1                                     problem😁, apps   \n",
       "33       3                                         impossible   \n",
       "34       3  delay, avtividad, paper/pen, inexperienced, ap...   \n",
       "\n",
       "                                                texts  textsvol  avetext  \n",
       "0   like the app, as an inexperienced mother i alw...     64526    193.0  \n",
       "1   thanks for the app. like everything, but to me...       433    144.0  \n",
       "2   use the application for the third month. like....      2466    308.0  \n",
       "3   the app is good, all very much. conveniently f...      2167    181.0  \n",
       "4   downloaded when the baby was almost a month. v...      8342    298.0  \n",
       "5   great app, before i tried to record, but it wa...      1997    285.0  \n",
       "6   good app, easy-to-use and absolutely free. i w...      1874    104.0  \n",
       "7   put 5! considered almost everything in the app...      4230    282.0  \n",
       "8   all well and good, but there is one real minus...      7406    274.0  \n",
       "9   really like the app. use from the birth of the...      3954    247.0  \n",
       "10  thank you very much. this solved my problem😁 h...       978    196.0  \n",
       "11  recommend. of the minuses - there is no author...      6900    256.0  \n",
       "12  please, develop feature to sync up data in dif...       405    405.0  \n",
       "13  everything was great, except for the missing w...       630    126.0  \n",
       "14  super app when you do not have to bother with ...      2856    238.0  \n",
       "15  very convenient. the third child of bad memory...      2090    232.0  \n",
       "16  good app, but i have not figured out to schedu...       644    644.0  \n",
       "17  great app with many features. however, i wish,...       378    189.0  \n",
       "18  the app is extremely helpful! one big disadvan...       859    215.0  \n",
       "19  overall this has been a he great little app fo...      1155    289.0  \n",
       "20  the app is very good, but in day mode error: t...      1339    268.0  \n",
       "21  for convenience, add a timer report of the per...       926    232.0  \n",
       "22  i am very satisfied with the app. to me, it pr...       710    178.0  \n",
       "23  to improve: the recommended time in argentina ...       474    158.0  \n",
       "24  app fire! the appearance, functionality, appli...      2200    367.0  \n",
       "25  reminder for bedtime is, say, 3 hours 30 minut...       704    235.0  \n",
       "26  the best, most intuitive baby feeding app out ...       303    303.0  \n",
       "27  very cool app. add item notes for example. goo...       321    321.0  \n",
       "28  команда разработчиков, приложение крутое, но п...       384    384.0  \n",
       "29  good and useful app for the mamitas forgetful,...       939    188.0  \n",
       "30  update very quickly with the comment that i ma...       272    272.0  \n",
       "31  the app is very good, very convenient! whateve...      1278    160.0  \n",
       "32  is pretty good, but not be able to import/expo...       504    504.0  \n",
       "33  1. in the list of feedings does not specify ho...       528    176.0  \n",
       "34  very good,i can jot down the day's activities....       625    208.0  "
      ]
     },
     "execution_count": 668,
     "metadata": {},
     "output_type": "execute_result"
    }
   ],
   "source": [
    "df_rank_kw"
   ]
  },
  {
   "cell_type": "code",
   "execution_count": 569,
   "metadata": {
    "collapsed": false
   },
   "outputs": [
    {
     "data": {
      "text/plain": [
       "'very good app, just would it it supplement on the par trivia - eg. in prebalovani could be the pick, whether it was diaper jednorazova or latkova, could be available even the daily chart and i could be a better job with the charts and record podanych leku or but temperature could be seen in the time-axis. so maybe in the future 😉. but otherwise i am satisfied 😀'"
      ]
     },
     "execution_count": 569,
     "metadata": {},
     "output_type": "execute_result"
    }
   ],
   "source": [
    "df_rank_kw.texts[39]"
   ]
  },
  {
   "cell_type": "markdown",
   "metadata": {},
   "source": [
    "## найдем похожие слова между ключевыми словами, чтобы объединить кластеры"
   ]
  },
  {
   "cell_type": "markdown",
   "metadata": {},
   "source": [
    "https://rare-technologies.com/word2vec-tutorial/"
   ]
  },
  {
   "cell_type": "code",
   "execution_count": 237,
   "metadata": {
    "collapsed": true
   },
   "outputs": [],
   "source": [
    "import word2vec"
   ]
  },
  {
   "cell_type": "code",
   "execution_count": 677,
   "metadata": {
    "collapsed": true
   },
   "outputs": [],
   "source": [
    "with open('total_review_apps_eng_lower.pickle', 'rb') as d:\n",
    "    # The protocol version used is detected automatically, so we do not\n",
    "    # have to specify it.\n",
    "    total_review_apps_eng_lower = pickle.load(d)"
   ]
  },
  {
   "cell_type": "code",
   "execution_count": 679,
   "metadata": {
    "collapsed": false
   },
   "outputs": [],
   "source": [
    "tt = total_review_apps_eng_lower + total_list_lower"
   ]
  },
  {
   "cell_type": "code",
   "execution_count": 680,
   "metadata": {
    "collapsed": false
   },
   "outputs": [
    {
     "data": {
      "text/plain": [
       "8432"
      ]
     },
     "execution_count": 680,
     "metadata": {},
     "output_type": "execute_result"
    }
   ],
   "source": [
    "len(tt)"
   ]
  },
  {
   "cell_type": "code",
   "execution_count": 683,
   "metadata": {
    "collapsed": false
   },
   "outputs": [
    {
     "name": "stderr",
     "output_type": "stream",
     "text": [
      "2017-12-22 00:21:09,331 : INFO : collecting all words and their counts\n",
      "2017-12-22 00:21:09,332 : INFO : PROGRESS: at sentence #0, processed 0 words, keeping 0 word types\n",
      "2017-12-22 00:21:09,389 : INFO : collected 8519 word types from a corpus of 209891 raw words and 8432 sentences\n",
      "2017-12-22 00:21:09,390 : INFO : Loading a fresh vocabulary\n",
      "2017-12-22 00:21:09,408 : INFO : min_count=3 retains 2814 unique words (33% of original 8519, drops 5705)\n",
      "2017-12-22 00:21:09,410 : INFO : min_count=3 leaves 203187 word corpus (96% of original 209891, drops 6704)\n",
      "2017-12-22 00:21:09,440 : INFO : deleting the raw counts dictionary of 8519 items\n",
      "2017-12-22 00:21:09,441 : INFO : sample=0.001 downsamples 58 most-common words\n",
      "2017-12-22 00:21:09,442 : INFO : downsampling leaves estimated 139853 word corpus (68.8% of prior 203187)\n",
      "2017-12-22 00:21:09,444 : INFO : estimated required memory for 2814 words and 100 dimensions: 3658200 bytes\n",
      "2017-12-22 00:21:09,456 : INFO : resetting layer weights\n",
      "2017-12-22 00:21:09,508 : INFO : training model with 3 workers on 2814 vocabulary and 100 features, using sg=0 hs=0 sample=0.001 negative=5 window=5\n",
      "2017-12-22 00:21:10,287 : INFO : worker thread finished; awaiting finish of 2 more threads\n",
      "2017-12-22 00:21:10,292 : INFO : worker thread finished; awaiting finish of 1 more threads\n",
      "2017-12-22 00:21:10,296 : INFO : worker thread finished; awaiting finish of 0 more threads\n",
      "2017-12-22 00:21:10,298 : INFO : training on 1049455 raw words (699365 effective words) took 0.8s, 904430 effective words/s\n"
     ]
    }
   ],
   "source": [
    "# import modules & set up logging\n",
    "import gensim, logging\n",
    "logging.basicConfig(format='%(asctime)s : %(levelname)s : %(message)s', level=logging.INFO)\n",
    " \n",
    "sentences = [x.split(\" \") for x in tt]\n",
    "\n",
    "# передать все тексты для тренировки \n",
    "# потом можно \n",
    "\n",
    "# train word2vec on the two sentences\n",
    "model = gensim.models.Word2Vec(sentences, min_count=3) # можно увеличить 2 - только "
   ]
  },
  {
   "cell_type": "code",
   "execution_count": 684,
   "metadata": {
    "collapsed": false
   },
   "outputs": [
    {
     "data": {
      "text/plain": [
       "{'this': <gensim.models.keyedvectors.Vocab at 0x12a169518>,\n",
       " 'is': <gensim.models.keyedvectors.Vocab at 0x12a169588>,\n",
       " 'not': <gensim.models.keyedvectors.Vocab at 0x12a1696a0>,\n",
       " 'a': <gensim.models.keyedvectors.Vocab at 0x12a169630>,\n",
       " 'game': <gensim.models.keyedvectors.Vocab at 0x12a1696d8>,\n",
       " 'but': <gensim.models.keyedvectors.Vocab at 0x12a169668>,\n",
       " 'of': <gensim.models.keyedvectors.Vocab at 0x12a169780>,\n",
       " 'uncomfortable': <gensim.models.keyedvectors.Vocab at 0x12a1697b8>,\n",
       " 'advertising': <gensim.models.keyedvectors.Vocab at 0x12a169828>,\n",
       " 'and': <gensim.models.keyedvectors.Vocab at 0x12a169860>,\n",
       " 'so': <gensim.models.keyedvectors.Vocab at 0x12a169898>,\n",
       " 'that': <gensim.models.keyedvectors.Vocab at 0x12a1698d0>,\n",
       " 'it': <gensim.models.keyedvectors.Vocab at 0x12a169908>,\n",
       " 'possible': <gensim.models.keyedvectors.Vocab at 0x12a169940>,\n",
       " 'to': <gensim.models.keyedvectors.Vocab at 0x12a169978>,\n",
       " '': <gensim.models.keyedvectors.Vocab at 0x12a1699b0>,\n",
       " 'the': <gensim.models.keyedvectors.Vocab at 0x12a1699e8>,\n",
       " 'child': <gensim.models.keyedvectors.Vocab at 0x12a169a20>,\n",
       " 'likes.': <gensim.models.keyedvectors.Vocab at 0x12a169a58>,\n",
       " 'pity': <gensim.models.keyedvectors.Vocab at 0x12a169a90>,\n",
       " 'what': <gensim.models.keyedvectors.Vocab at 0x12a169ac8>,\n",
       " 'in': <gensim.models.keyedvectors.Vocab at 0x12a169b00>,\n",
       " 'russian': <gensim.models.keyedvectors.Vocab at 0x12a169b38>,\n",
       " 'most': <gensim.models.keyedvectors.Vocab at 0x12a169b70>,\n",
       " 'beautiful': <gensim.models.keyedvectors.Vocab at 0x12a169ba8>,\n",
       " 'cool': <gensim.models.keyedvectors.Vocab at 0x12a169be0>,\n",
       " 'game!': <gensim.models.keyedvectors.Vocab at 0x12a169c18>,\n",
       " 'better': <gensim.models.keyedvectors.Vocab at 0x12a169c50>,\n",
       " 'working': <gensim.models.keyedvectors.Vocab at 0x12a169c88>,\n",
       " 'with': <gensim.models.keyedvectors.Vocab at 0x12a169cc0>,\n",
       " 'head': <gensim.models.keyedvectors.Vocab at 0x12a169cf8>,\n",
       " 'into': <gensim.models.keyedvectors.Vocab at 0x12a169d30>,\n",
       " 'place': <gensim.models.keyedvectors.Vocab at 0x12a169d68>,\n",
       " 'good': <gensim.models.keyedvectors.Vocab at 0x12a169da0>,\n",
       " 'very': <gensim.models.keyedvectors.Vocab at 0x12a169dd8>,\n",
       " 'liked': <gensim.models.keyedvectors.Vocab at 0x12a169e10>,\n",
       " '.': <gensim.models.keyedvectors.Vocab at 0x12a169e48>,\n",
       " 'i': <gensim.models.keyedvectors.Vocab at 0x12a169e80>,\n",
       " 'decided': <gensim.models.keyedvectors.Vocab at 0x12a169eb8>,\n",
       " 'buy': <gensim.models.keyedvectors.Vocab at 0x12a169ef0>,\n",
       " 'full': <gensim.models.keyedvectors.Vocab at 0x12a169f28>,\n",
       " 'money': <gensim.models.keyedvectors.Vocab at 0x12a169f60>,\n",
       " 'were': <gensim.models.keyedvectors.Vocab at 0x12a169f98>,\n",
       " 'all': <gensim.models.keyedvectors.Vocab at 0x12a169fd0>,\n",
       " 'was': <gensim.models.keyedvectors.Vocab at 0x12998b048>,\n",
       " 'under': <gensim.models.keyedvectors.Vocab at 0x12998b080>,\n",
       " 'lock': <gensim.models.keyedvectors.Vocab at 0x12998b0b8>,\n",
       " 'has': <gensim.models.keyedvectors.Vocab at 0x12998b0f0>,\n",
       " 'there': <gensim.models.keyedvectors.Vocab at 0x12998b128>,\n",
       " 'press': <gensim.models.keyedvectors.Vocab at 0x12998b160>,\n",
       " 'offers': <gensim.models.keyedvectors.Vocab at 0x12998b198>,\n",
       " 'writes': <gensim.models.keyedvectors.Vocab at 0x12998b1d0>,\n",
       " 'already': <gensim.models.keyedvectors.Vocab at 0x12998b208>,\n",
       " 'purchased': <gensim.models.keyedvectors.Vocab at 0x12998b240>,\n",
       " 'does': <gensim.models.keyedvectors.Vocab at 0x12998b278>,\n",
       " 'open': <gensim.models.keyedvectors.Vocab at 0x12998b2b0>,\n",
       " 'again.': <gensim.models.keyedvectors.Vocab at 0x12998b2e8>,\n",
       " 'reinstall': <gensim.models.keyedvectors.Vocab at 0x12998b320>,\n",
       " 'did': <gensim.models.keyedvectors.Vocab at 0x12998b358>,\n",
       " 'help': <gensim.models.keyedvectors.Vocab at 0x12998b390>,\n",
       " 'freezes': <gensim.models.keyedvectors.Vocab at 0x12998b3c8>,\n",
       " 'now': <gensim.models.keyedvectors.Vocab at 0x12998b400>,\n",
       " 'on': <gensim.models.keyedvectors.Vocab at 0x12998b438>,\n",
       " 'android': <gensim.models.keyedvectors.Vocab at 0x12998b470>,\n",
       " '6': <gensim.models.keyedvectors.Vocab at 0x12998b4a8>,\n",
       " 'useless,': <gensim.models.keyedvectors.Vocab at 0x12998b4e0>,\n",
       " 'hangs': <gensim.models.keyedvectors.Vocab at 0x12998b518>,\n",
       " 'slows': <gensim.models.keyedvectors.Vocab at 0x12998b550>,\n",
       " 'down': <gensim.models.keyedvectors.Vocab at 0x12998b588>,\n",
       " 'tired': <gensim.models.keyedvectors.Vocab at 0x12998b5c0>,\n",
       " 'wait': <gensim.models.keyedvectors.Vocab at 0x12998b5f8>,\n",
       " 'super': <gensim.models.keyedvectors.Vocab at 0x12998b630>,\n",
       " 'son': <gensim.models.keyedvectors.Vocab at 0x12998b668>,\n",
       " 'happy.': <gensim.models.keyedvectors.Vocab at 0x12998b6a0>,\n",
       " 'sometimes': <gensim.models.keyedvectors.Vocab at 0x12998b6d8>,\n",
       " 'hangs.': <gensim.models.keyedvectors.Vocab at 0x12998b710>,\n",
       " 'excellent': <gensim.models.keyedvectors.Vocab at 0x12998b748>,\n",
       " 'some': <gensim.models.keyedvectors.Vocab at 0x12998b780>,\n",
       " 'games': <gensim.models.keyedvectors.Vocab at 0x12998b7b8>,\n",
       " 'bought': <gensim.models.keyedvectors.Vocab at 0x12998b7f0>,\n",
       " 'version.': <gensim.models.keyedvectors.Vocab at 0x12998b828>,\n",
       " 'where': <gensim.models.keyedvectors.Vocab at 0x12998b860>,\n",
       " 'you': <gensim.models.keyedvectors.Vocab at 0x12998b898>,\n",
       " 'have': <gensim.models.keyedvectors.Vocab at 0x12998b8d0>,\n",
       " 'collect': <gensim.models.keyedvectors.Vocab at 0x12998b908>,\n",
       " 'application': <gensim.models.keyedvectors.Vocab at 0x12998b940>,\n",
       " 'which': <gensim.models.keyedvectors.Vocab at 0x12998b978>,\n",
       " 'right,': <gensim.models.keyedvectors.Vocab at 0x12998b9b0>,\n",
       " 'flies': <gensim.models.keyedvectors.Vocab at 0x12998b9e8>,\n",
       " 'off': <gensim.models.keyedvectors.Vocab at 0x12998ba20>,\n",
       " 'screen,': <gensim.models.keyedvectors.Vocab at 0x12998ba58>,\n",
       " 'can': <gensim.models.keyedvectors.Vocab at 0x12998ba90>,\n",
       " 'finish': <gensim.models.keyedvectors.Vocab at 0x12998bac8>,\n",
       " 'go': <gensim.models.keyedvectors.Vocab at 0x12998bb00>,\n",
       " 'another': <gensim.models.keyedvectors.Vocab at 0x12998bb38>,\n",
       " 'impossible.': <gensim.models.keyedvectors.Vocab at 0x12998bb70>,\n",
       " 'phone': <gensim.models.keyedvectors.Vocab at 0x12998bba8>,\n",
       " 'got': <gensim.models.keyedvectors.Vocab at 0x12998bbe0>,\n",
       " 'upset.': <gensim.models.keyedvectors.Vocab at 0x12998bc18>,\n",
       " 'game.': <gensim.models.keyedvectors.Vocab at 0x12998bc50>,\n",
       " 'my': <gensim.models.keyedvectors.Vocab at 0x12998bc88>,\n",
       " 'brother': <gensim.models.keyedvectors.Vocab at 0x12998bcc0>,\n",
       " 'like.': <gensim.models.keyedvectors.Vocab at 0x12998bcf8>,\n",
       " 'wanted': <gensim.models.keyedvectors.Vocab at 0x12998bd30>,\n",
       " 'game,': <gensim.models.keyedvectors.Vocab at 0x12998bd68>,\n",
       " 'removed': <gensim.models.keyedvectors.Vocab at 0x12998bda0>,\n",
       " 'from': <gensim.models.keyedvectors.Vocab at 0x12998bdd8>,\n",
       " 'card': <gensim.models.keyedvectors.Vocab at 0x12998be10>,\n",
       " 'well,': <gensim.models.keyedvectors.Vocab at 0x12998be48>,\n",
       " \"you're\": <gensim.models.keyedvectors.Vocab at 0x12998be80>,\n",
       " 'developers': <gensim.models.keyedvectors.Vocab at 0x12998beb8>,\n",
       " 'am': <gensim.models.keyedvectors.Vocab at 0x12998bef0>,\n",
       " 'happy': <gensim.models.keyedvectors.Vocab at 0x12998bf28>,\n",
       " 'too,': <gensim.models.keyedvectors.Vocab at 0x12998bf60>,\n",
       " 'why': <gensim.models.keyedvectors.Vocab at 0x12998bf98>,\n",
       " 'do': <gensim.models.keyedvectors.Vocab at 0x12998bfd0>,\n",
       " 'collected': <gensim.models.keyedvectors.Vocab at 0x12a16a048>,\n",
       " 'want': <gensim.models.keyedvectors.Vocab at 0x12a16a080>,\n",
       " 'love': <gensim.models.keyedvectors.Vocab at 0x12a16a0b8>,\n",
       " 'it!!!': <gensim.models.keyedvectors.Vocab at 0x12a16a0f0>,\n",
       " 'great': <gensim.models.keyedvectors.Vocab at 0x12a16a128>,\n",
       " 'app.': <gensim.models.keyedvectors.Vocab at 0x12a16a160>,\n",
       " 'after': <gensim.models.keyedvectors.Vocab at 0x12a16a198>,\n",
       " 'update': <gensim.models.keyedvectors.Vocab at 0x12a16a1d0>,\n",
       " 'tab': <gensim.models.keyedvectors.Vocab at 0x12a16a208>,\n",
       " 'how': <gensim.models.keyedvectors.Vocab at 0x12a16a240>,\n",
       " 'set': <gensim.models.keyedvectors.Vocab at 0x12a16a278>,\n",
       " 'two': <gensim.models.keyedvectors.Vocab at 0x12a16a2b0>,\n",
       " 'different': <gensim.models.keyedvectors.Vocab at 0x12a16a2e8>,\n",
       " 'devices': <gensim.models.keyedvectors.Vocab at 0x12a16a320>,\n",
       " 'same': <gensim.models.keyedvectors.Vocab at 0x12a16a358>,\n",
       " 'when': <gensim.models.keyedvectors.Vocab at 0x12a16a390>,\n",
       " 'try': <gensim.models.keyedvectors.Vocab at 0x12a16a3c8>,\n",
       " 'version': <gensim.models.keyedvectors.Vocab at 0x12a16a400>,\n",
       " 'device,': <gensim.models.keyedvectors.Vocab at 0x12a16a438>,\n",
       " 'message': <gensim.models.keyedvectors.Vocab at 0x12a16a470>,\n",
       " 'appears': <gensim.models.keyedvectors.Vocab at 0x12a16a4a8>,\n",
       " 'app': <gensim.models.keyedvectors.Vocab at 0x12a16a4e0>,\n",
       " 'installed': <gensim.models.keyedvectors.Vocab at 0x12a16a518>,\n",
       " 'baby': <gensim.models.keyedvectors.Vocab at 0x12a16a550>,\n",
       " 'it,': <gensim.models.keyedvectors.Vocab at 0x12a16a588>,\n",
       " 'for': <gensim.models.keyedvectors.Vocab at 0x12a16a5c0>,\n",
       " 'purchase': <gensim.models.keyedvectors.Vocab at 0x12a16a5f8>,\n",
       " 'removed,': <gensim.models.keyedvectors.Vocab at 0x12a16a630>,\n",
       " 'still': <gensim.models.keyedvectors.Vocab at 0x12a16a668>,\n",
       " 'says': <gensim.models.keyedvectors.Vocab at 0x12a16a6a0>,\n",
       " 'written': <gensim.models.keyedvectors.Vocab at 0x12a16a6d8>,\n",
       " 'these': <gensim.models.keyedvectors.Vocab at 0x12a16a710>,\n",
       " 'account': <gensim.models.keyedvectors.Vocab at 0x12a16a748>,\n",
       " '2': <gensim.models.keyedvectors.Vocab at 0x12a16a780>,\n",
       " 'times.': <gensim.models.keyedvectors.Vocab at 0x12a16a7b8>,\n",
       " 'however,': <gensim.models.keyedvectors.Vocab at 0x12a16a7f0>,\n",
       " 'made': <gensim.models.keyedvectors.Vocab at 0x12a16a828>,\n",
       " 'return,': <gensim.models.keyedvectors.Vocab at 0x12a16a860>,\n",
       " 'necessary': <gensim.models.keyedvectors.Vocab at 0x12a16a898>,\n",
       " '30': <gensim.models.keyedvectors.Vocab at 0x12a16a8d0>,\n",
       " 'days.': <gensim.models.keyedvectors.Vocab at 0x12a16a908>,\n",
       " \"don't\": <gensim.models.keyedvectors.Vocab at 0x12a16a940>,\n",
       " 'know': <gensim.models.keyedvectors.Vocab at 0x12a16a978>,\n",
       " 'who': <gensim.models.keyedvectors.Vocab at 0x12a16a9b0>,\n",
       " '5': <gensim.models.keyedvectors.Vocab at 0x12a16a9e8>,\n",
       " 'end': <gensim.models.keyedvectors.Vocab at 0x12a16aa20>,\n",
       " 'had': <gensim.models.keyedvectors.Vocab at 0x12a16aa58>,\n",
       " 'pay': <gensim.models.keyedvectors.Vocab at 0x12a16aa90>,\n",
       " '3': <gensim.models.keyedvectors.Vocab at 0x12a16aac8>,\n",
       " 'times': <gensim.models.keyedvectors.Vocab at 0x12a16ab00>,\n",
       " 'opened.': <gensim.models.keyedvectors.Vocab at 0x12a16ab38>,\n",
       " 'we': <gensim.models.keyedvectors.Vocab at 0x12a16ab70>,\n",
       " 'rubles': <gensim.models.keyedvectors.Vocab at 0x12a16aba8>,\n",
       " 'are': <gensim.models.keyedvectors.Vocab at 0x12a16abe0>,\n",
       " 'people,': <gensim.models.keyedvectors.Vocab at 0x12a16ac18>,\n",
       " 'also': <gensim.models.keyedvectors.Vocab at 0x12a16ac50>,\n",
       " 'paid': <gensim.models.keyedvectors.Vocab at 0x12a16ac88>,\n",
       " 'people': <gensim.models.keyedvectors.Vocab at 0x12a16acc0>,\n",
       " 'importantly': <gensim.models.keyedvectors.Vocab at 0x12a16acf8>,\n",
       " 'waiting': <gensim.models.keyedvectors.Vocab at 0x12a16ad30>,\n",
       " 'crying': <gensim.models.keyedvectors.Vocab at 0x12a16ad68>,\n",
       " 'levels': <gensim.models.keyedvectors.Vocab at 0x12a16ada0>,\n",
       " \"it's\": <gensim.models.keyedvectors.Vocab at 0x12a16add8>,\n",
       " 'good.': <gensim.models.keyedvectors.Vocab at 0x12a16ae10>,\n",
       " 'years': <gensim.models.keyedvectors.Vocab at 0x12a16ae48>,\n",
       " 'interesting': <gensim.models.keyedvectors.Vocab at 0x12a16ae80>,\n",
       " 'daughter': <gensim.models.keyedvectors.Vocab at 0x12a16aeb8>,\n",
       " 'plays': <gensim.models.keyedvectors.Vocab at 0x12a16aef0>,\n",
       " 'thanks': <gensim.models.keyedvectors.Vocab at 0x12a16af28>,\n",
       " 'would': <gensim.models.keyedvectors.Vocab at 0x12a16af60>,\n",
       " 'everywhere': <gensim.models.keyedvectors.Vocab at 0x12a16af98>,\n",
       " 'rate': <gensim.models.keyedvectors.Vocab at 0x12a16afd0>,\n",
       " 'possible.': <gensim.models.keyedvectors.Vocab at 0x12a16b048>,\n",
       " 'further': <gensim.models.keyedvectors.Vocab at 0x12a16b080>,\n",
       " 'action': <gensim.models.keyedvectors.Vocab at 0x12a16b0b8>,\n",
       " 'if': <gensim.models.keyedvectors.Vocab at 0x12a16b0f0>,\n",
       " 'came': <gensim.models.keyedvectors.Vocab at 0x12a16b128>,\n",
       " 'never': <gensim.models.keyedvectors.Vocab at 0x12a16b160>,\n",
       " 'return': <gensim.models.keyedvectors.Vocab at 0x12a16b198>,\n",
       " 'closed': <gensim.models.keyedvectors.Vocab at 0x12a16b1d0>,\n",
       " 'no': <gensim.models.keyedvectors.Vocab at 0x12a16b208>,\n",
       " 'sense': <gensim.models.keyedvectors.Vocab at 0x12a16b240>,\n",
       " 'giving': <gensim.models.keyedvectors.Vocab at 0x12a16b278>,\n",
       " 'job': <gensim.models.keyedvectors.Vocab at 0x12a16b2b0>,\n",
       " 'too': <gensim.models.keyedvectors.Vocab at 0x12a16b2e8>,\n",
       " '+': <gensim.models.keyedvectors.Vocab at 0x12a16b320>,\n",
       " 'normal': <gensim.models.keyedvectors.Vocab at 0x12a16b358>,\n",
       " 'annoying': <gensim.models.keyedvectors.Vocab at 0x12a16b390>,\n",
       " 'advertising,': <gensim.models.keyedvectors.Vocab at 0x12a16b3c8>,\n",
       " 'such': <gensim.models.keyedvectors.Vocab at 0x12a16b400>,\n",
       " 'as': <gensim.models.keyedvectors.Vocab at 0x12a16b438>,\n",
       " 'like': <gensim.models.keyedvectors.Vocab at 0x12a16b470>,\n",
       " 'often': <gensim.models.keyedvectors.Vocab at 0x12a16b4a8>,\n",
       " 'well': <gensim.models.keyedvectors.Vocab at 0x12a16b4e0>,\n",
       " 'something': <gensim.models.keyedvectors.Vocab at 0x12a16b518>,\n",
       " 'exactly': <gensim.models.keyedvectors.Vocab at 0x12a16b550>,\n",
       " 'right': <gensim.models.keyedvectors.Vocab at 0x12a16b588>,\n",
       " 'just': <gensim.models.keyedvectors.Vocab at 0x12a16b5c0>,\n",
       " 'mermaid': <gensim.models.keyedvectors.Vocab at 0x12a16b5f8>,\n",
       " 'drawn': <gensim.models.keyedvectors.Vocab at 0x12a16b630>,\n",
       " 'shows': <gensim.models.keyedvectors.Vocab at 0x12a16b668>,\n",
       " 'thought': <gensim.models.keyedvectors.Vocab at 0x12a16b6a0>,\n",
       " 'dress': <gensim.models.keyedvectors.Vocab at 0x12a16b6d8>,\n",
       " 'will': <gensim.models.keyedvectors.Vocab at 0x12a16b710>,\n",
       " 'give': <gensim.models.keyedvectors.Vocab at 0x12a16b748>,\n",
       " 'them': <gensim.models.keyedvectors.Vocab at 0x12a16b780>,\n",
       " 'given': <gensim.models.keyedvectors.Vocab at 0x12a16b7b8>,\n",
       " 'explain': <gensim.models.keyedvectors.Vocab at 0x12a16b7f0>,\n",
       " 'me': <gensim.models.keyedvectors.Vocab at 0x12a16b828>,\n",
       " \"that's\": <gensim.models.keyedvectors.Vocab at 0x12a16b860>,\n",
       " '!': <gensim.models.keyedvectors.Vocab at 0x12a16b898>,\n",
       " 'download': <gensim.models.keyedvectors.Vocab at 0x12a16b8d0>,\n",
       " 'think': <gensim.models.keyedvectors.Vocab at 0x12a16b908>,\n",
       " 'awesome': <gensim.models.keyedvectors.Vocab at 0x12a16b940>,\n",
       " 'be': <gensim.models.keyedvectors.Vocab at 0x12a16b978>,\n",
       " 'here': <gensim.models.keyedvectors.Vocab at 0x12a16b9b0>,\n",
       " 'even': <gensim.models.keyedvectors.Vocab at 0x12a16b9e8>,\n",
       " 'everything': <gensim.models.keyedvectors.Vocab at 0x12a16ba20>,\n",
       " 'perfect': <gensim.models.keyedvectors.Vocab at 0x12a16ba58>,\n",
       " 'much': <gensim.models.keyedvectors.Vocab at 0x12a16ba90>,\n",
       " 'those': <gensim.models.keyedvectors.Vocab at 0x12a16bac8>,\n",
       " 'ads': <gensim.models.keyedvectors.Vocab at 0x12a16bb00>,\n",
       " 'problem': <gensim.models.keyedvectors.Vocab at 0x12a16bb38>,\n",
       " 'lot': <gensim.models.keyedvectors.Vocab at 0x12a16bb70>,\n",
       " \"i'm\": <gensim.models.keyedvectors.Vocab at 0x12a16bba8>,\n",
       " 'dream': <gensim.models.keyedvectors.Vocab at 0x12a16bbe0>,\n",
       " 'really': <gensim.models.keyedvectors.Vocab at 0x12a16bc18>,\n",
       " '14': <gensim.models.keyedvectors.Vocab at 0x12a16bc50>,\n",
       " 'bad': <gensim.models.keyedvectors.Vocab at 0x12a16bc88>,\n",
       " 'only': <gensim.models.keyedvectors.Vocab at 0x12a16bcc0>,\n",
       " 'other': <gensim.models.keyedvectors.Vocab at 0x12a16bcf8>,\n",
       " 'closed!!!': <gensim.models.keyedvectors.Vocab at 0x12a16bd30>,\n",
       " 'amount': <gensim.models.keyedvectors.Vocab at 0x12a16bd68>,\n",
       " 'get': <gensim.models.keyedvectors.Vocab at 0x12a16bda0>,\n",
       " 'dear': <gensim.models.keyedvectors.Vocab at 0x12a16bdd8>,\n",
       " 'developers!': <gensim.models.keyedvectors.Vocab at 0x12a16be10>,\n",
       " 'second': <gensim.models.keyedvectors.Vocab at 0x12a16be48>,\n",
       " 'time': <gensim.models.keyedvectors.Vocab at 0x12a16be80>,\n",
       " 'packages': <gensim.models.keyedvectors.Vocab at 0x12a16beb8>,\n",
       " 'again,': <gensim.models.keyedvectors.Vocab at 0x12a16bef0>,\n",
       " \"can't\": <gensim.models.keyedvectors.Vocab at 0x12a16bf28>,\n",
       " 'restore': <gensim.models.keyedvectors.Vocab at 0x12a16bf60>,\n",
       " 'please.': <gensim.models.keyedvectors.Vocab at 0x12a16bf98>,\n",
       " 'guys': <gensim.models.keyedvectors.Vocab at 0x12a16bfd0>,\n",
       " 'tell': <gensim.models.keyedvectors.Vocab at 0x12a16c048>,\n",
       " 'remove': <gensim.models.keyedvectors.Vocab at 0x12a16c080>,\n",
       " 'turn': <gensim.models.keyedvectors.Vocab at 0x12a16c0b8>,\n",
       " 'or': <gensim.models.keyedvectors.Vocab at 0x12a16c0f0>,\n",
       " 'mobile': <gensim.models.keyedvectors.Vocab at 0x12a16c128>,\n",
       " 'agree': <gensim.models.keyedvectors.Vocab at 0x12a16c160>,\n",
       " 'write': <gensim.models.keyedvectors.Vocab at 0x12a16c198>,\n",
       " 'comments': <gensim.models.keyedvectors.Vocab at 0x12a16c1d0>,\n",
       " 'put': <gensim.models.keyedvectors.Vocab at 0x12a16c208>,\n",
       " 'one': <gensim.models.keyedvectors.Vocab at 0x12a16c240>,\n",
       " 'star.': <gensim.models.keyedvectors.Vocab at 0x12a16c278>,\n",
       " 'impossible': <gensim.models.keyedvectors.Vocab at 0x12a16c2b0>,\n",
       " 'fun': <gensim.models.keyedvectors.Vocab at 0x12a16c2e8>,\n",
       " 'play': <gensim.models.keyedvectors.Vocab at 0x12a16c320>,\n",
       " 'make': <gensim.models.keyedvectors.Vocab at 0x12a16c358>,\n",
       " 'free': <gensim.models.keyedvectors.Vocab at 0x12a16c390>,\n",
       " 'review.': <gensim.models.keyedvectors.Vocab at 0x12a16c3c8>,\n",
       " 'overall': <gensim.models.keyedvectors.Vocab at 0x12a16c400>,\n",
       " 'big': <gensim.models.keyedvectors.Vocab at 0x12a16c438>,\n",
       " 'disadvantage': <gensim.models.keyedvectors.Vocab at 0x12a16c470>,\n",
       " 'need': <gensim.models.keyedvectors.Vocab at 0x12a16c4a8>,\n",
       " 'real': <gensim.models.keyedvectors.Vocab at 0x12a16c4e0>,\n",
       " 'any': <gensim.models.keyedvectors.Vocab at 0x12a16c518>,\n",
       " 'kind': <gensim.models.keyedvectors.Vocab at 0x12a16c550>,\n",
       " 'stars': <gensim.models.keyedvectors.Vocab at 0x12a16c588>,\n",
       " 'example': <gensim.models.keyedvectors.Vocab at 0x12a16c5c0>,\n",
       " 'because': <gensim.models.keyedvectors.Vocab at 0x12a16c5f8>,\n",
       " 'every': <gensim.models.keyedvectors.Vocab at 0x12a16c630>,\n",
       " 'developers,': <gensim.models.keyedvectors.Vocab at 0x12a16c668>,\n",
       " 'trying': <gensim.models.keyedvectors.Vocab at 0x12a16c6a0>,\n",
       " 'many': <gensim.models.keyedvectors.Vocab at 0x12a16c6d8>,\n",
       " 'simply': <gensim.models.keyedvectors.Vocab at 0x12a16c710>,\n",
       " 'upset': <gensim.models.keyedvectors.Vocab at 0x12a16c748>,\n",
       " 'his': <gensim.models.keyedvectors.Vocab at 0x12a16c780>,\n",
       " 'parents': <gensim.models.keyedvectors.Vocab at 0x12a16c7b8>,\n",
       " \"won't\": <gensim.models.keyedvectors.Vocab at 0x12a16c7f0>,\n",
       " 'so,': <gensim.models.keyedvectors.Vocab at 0x12a16c828>,\n",
       " 'should': <gensim.models.keyedvectors.Vocab at 0x12a16c860>,\n",
       " 'they': <gensim.models.keyedvectors.Vocab at 0x12a16c898>,\n",
       " 'spend': <gensim.models.keyedvectors.Vocab at 0x12a16c8d0>,\n",
       " 'your': <gensim.models.keyedvectors.Vocab at 0x12a16c908>,\n",
       " 'minutes': <gensim.models.keyedvectors.Vocab at 0x12a16c940>,\n",
       " '*': <gensim.models.keyedvectors.Vocab at 0x12a16c978>,\n",
       " 'whole': <gensim.models.keyedvectors.Vocab at 0x12a16c9b0>,\n",
       " 'long': <gensim.models.keyedvectors.Vocab at 0x12a16c9e8>,\n",
       " 'good,': <gensim.models.keyedvectors.Vocab at 0x12a16ca20>,\n",
       " 'since': <gensim.models.keyedvectors.Vocab at 0x12a16ca58>,\n",
       " 'kids,': <gensim.models.keyedvectors.Vocab at 0x12a16ca90>,\n",
       " 'items': <gensim.models.keyedvectors.Vocab at 0x12a16cac8>,\n",
       " 'free!': <gensim.models.keyedvectors.Vocab at 0x12a16cb00>,\n",
       " 'please': <gensim.models.keyedvectors.Vocab at 0x12a16cb38>,\n",
       " 'free.': <gensim.models.keyedvectors.Vocab at 0x12a16cb70>,\n",
       " 'children': <gensim.models.keyedvectors.Vocab at 0x12a16cba8>,\n",
       " 'interesting.': <gensim.models.keyedvectors.Vocab at 0x12a16cbe0>,\n",
       " 'all,': <gensim.models.keyedvectors.Vocab at 0x12a16cc18>,\n",
       " 'bread': <gensim.models.keyedvectors.Vocab at 0x12a16cc50>,\n",
       " 'someone': <gensim.models.keyedvectors.Vocab at 0x12a16cc88>,\n",
       " 'money,': <gensim.models.keyedvectors.Vocab at 0x12a16ccc0>,\n",
       " 'nothing': <gensim.models.keyedvectors.Vocab at 0x12a16ccf8>,\n",
       " 'features,': <gensim.models.keyedvectors.Vocab at 0x12a16cd30>,\n",
       " 'then': <gensim.models.keyedvectors.Vocab at 0x12a16cd68>,\n",
       " 'hope': <gensim.models.keyedvectors.Vocab at 0x12a16cda0>,\n",
       " 'me.': <gensim.models.keyedvectors.Vocab at 0x12a16cdd8>,\n",
       " 'thank': <gensim.models.keyedvectors.Vocab at 0x12a16ce10>,\n",
       " 'luck': <gensim.models.keyedvectors.Vocab at 0x12a16ce48>,\n",
       " 'advance': <gensim.models.keyedvectors.Vocab at 0x12a16ce80>,\n",
       " 'field': <gensim.models.keyedvectors.Vocab at 0x12a16ceb8>,\n",
       " 'understand': <gensim.models.keyedvectors.Vocab at 0x12a16cef0>,\n",
       " 'at': <gensim.models.keyedvectors.Vocab at 0x12a16cf28>,\n",
       " 'always': <gensim.models.keyedvectors.Vocab at 0x12a16cf60>,\n",
       " 'd': <gensim.models.keyedvectors.Vocab at 0x12a16cf98>,\n",
       " 'us': <gensim.models.keyedvectors.Vocab at 0x12a16cfd0>,\n",
       " 'much.': <gensim.models.keyedvectors.Vocab at 0x12a16d048>,\n",
       " 'language': <gensim.models.keyedvectors.Vocab at 0x12a16d080>,\n",
       " 'hello': <gensim.models.keyedvectors.Vocab at 0x12a16d0b8>,\n",
       " 'least': <gensim.models.keyedvectors.Vocab at 0x12a16d0f0>,\n",
       " 'half': <gensim.models.keyedvectors.Vocab at 0x12a16d128>,\n",
       " 'email': <gensim.models.keyedvectors.Vocab at 0x12a16d160>,\n",
       " 'general': <gensim.models.keyedvectors.Vocab at 0x12a16d198>,\n",
       " 'huge': <gensim.models.keyedvectors.Vocab at 0x12a16d1d0>,\n",
       " 'start': <gensim.models.keyedvectors.Vocab at 0x12a16d208>,\n",
       " 'little': <gensim.models.keyedvectors.Vocab at 0x12a16d240>,\n",
       " 'otherwise,': <gensim.models.keyedvectors.Vocab at 0x12a16d278>,\n",
       " 'sucks': <gensim.models.keyedvectors.Vocab at 0x12a16d2b0>,\n",
       " 'things': <gensim.models.keyedvectors.Vocab at 0x12a16d2e8>,\n",
       " 'crazy': <gensim.models.keyedvectors.Vocab at 0x12a16d320>,\n",
       " 'kids': <gensim.models.keyedvectors.Vocab at 0x12a16d358>,\n",
       " 'five': <gensim.models.keyedvectors.Vocab at 0x12a16d390>,\n",
       " 'until': <gensim.models.keyedvectors.Vocab at 0x12a16d3c8>,\n",
       " 'appreciated': <gensim.models.keyedvectors.Vocab at 0x12a16d400>,\n",
       " 'score': <gensim.models.keyedvectors.Vocab at 0x12a16d438>,\n",
       " 'horror': <gensim.models.keyedvectors.Vocab at 0x12a16d470>,\n",
       " 'awful': <gensim.models.keyedvectors.Vocab at 0x12a16d4a8>,\n",
       " 'star': <gensim.models.keyedvectors.Vocab at 0x12a16d4e0>,\n",
       " 'things.': <gensim.models.keyedvectors.Vocab at 0x12a16d518>,\n",
       " 'she': <gensim.models.keyedvectors.Vocab at 0x12a16d550>,\n",
       " 'gone': <gensim.models.keyedvectors.Vocab at 0x12a16d588>,\n",
       " 'ago': <gensim.models.keyedvectors.Vocab at 0x12a16d5c0>,\n",
       " 'asked': <gensim.models.keyedvectors.Vocab at 0x12a16d5f8>,\n",
       " 'downloaded': <gensim.models.keyedvectors.Vocab at 0x12a16d630>,\n",
       " \"doesn't\": <gensim.models.keyedvectors.Vocab at 0x12a16d668>,\n",
       " 'games,': <gensim.models.keyedvectors.Vocab at 0x12a16d6a0>,\n",
       " 'complete': <gensim.models.keyedvectors.Vocab at 0x12a16d6d8>,\n",
       " 'gave': <gensim.models.keyedvectors.Vocab at 0x12a16d710>,\n",
       " '4': <gensim.models.keyedvectors.Vocab at 0x12a16d748>,\n",
       " 'supposed': <gensim.models.keyedvectors.Vocab at 0x12a16d780>,\n",
       " 'their': <gensim.models.keyedvectors.Vocab at 0x12a16d7b8>,\n",
       " 'own': <gensim.models.keyedvectors.Vocab at 0x12a16d7f0>,\n",
       " 'according': <gensim.models.keyedvectors.Vocab at 0x12a16d828>,\n",
       " 'english': <gensim.models.keyedvectors.Vocab at 0x12a16d860>,\n",
       " 'live': <gensim.models.keyedvectors.Vocab at 0x12a16d898>,\n",
       " 'lives': <gensim.models.keyedvectors.Vocab at 0x12a16d8d0>,\n",
       " 'normally': <gensim.models.keyedvectors.Vocab at 0x12a16d908>,\n",
       " 's': <gensim.models.keyedvectors.Vocab at 0x12a16d940>,\n",
       " 'milk': <gensim.models.keyedvectors.Vocab at 0x12a16d978>,\n",
       " 'nada': <gensim.models.keyedvectors.Vocab at 0x12a16d9b0>,\n",
       " 'hours': <gensim.models.keyedvectors.Vocab at 0x12a16d9e8>,\n",
       " '!!!': <gensim.models.keyedvectors.Vocab at 0x12a16da20>,\n",
       " 'bad,': <gensim.models.keyedvectors.Vocab at 0x12a16da58>,\n",
       " 'food': <gensim.models.keyedvectors.Vocab at 0x12a16da90>,\n",
       " 'desserts': <gensim.models.keyedvectors.Vocab at 0x12a16dac8>,\n",
       " 'say': <gensim.models.keyedvectors.Vocab at 0x12a16db00>,\n",
       " 'three': <gensim.models.keyedvectors.Vocab at 0x12a16db38>,\n",
       " 'stars.': <gensim.models.keyedvectors.Vocab at 0x12a16db70>,\n",
       " 'create': <gensim.models.keyedvectors.Vocab at 0x12a16dba8>,\n",
       " 'great!': <gensim.models.keyedvectors.Vocab at 0x12a16dbe0>,\n",
       " 'closed,': <gensim.models.keyedvectors.Vocab at 0x12a16dc18>,\n",
       " 'access': <gensim.models.keyedvectors.Vocab at 0x12a16dc50>,\n",
       " 'duzhe': <gensim.models.keyedvectors.Vocab at 0x12a16dc88>,\n",
       " 'money.': <gensim.models.keyedvectors.Vocab at 0x12a16dcc0>,\n",
       " 'not.': <gensim.models.keyedvectors.Vocab at 0x12a16dcf8>,\n",
       " 'course': <gensim.models.keyedvectors.Vocab at 0x12a16dd30>,\n",
       " 'horrible': <gensim.models.keyedvectors.Vocab at 0x12a16dd68>,\n",
       " 'blue': <gensim.models.keyedvectors.Vocab at 0x12a16dda0>,\n",
       " 'color': <gensim.models.keyedvectors.Vocab at 0x12a16ddd8>,\n",
       " 'old': <gensim.models.keyedvectors.Vocab at 0x12a16de10>,\n",
       " 'out': <gensim.models.keyedvectors.Vocab at 0x12a16de48>,\n",
       " 'cake': <gensim.models.keyedvectors.Vocab at 0x12a16de80>,\n",
       " 'about': <gensim.models.keyedvectors.Vocab at 0x12a16deb8>,\n",
       " 'than': <gensim.models.keyedvectors.Vocab at 0x12a16def0>,\n",
       " 'advise': <gensim.models.keyedvectors.Vocab at 0x12a16df28>,\n",
       " 'everyone': <gensim.models.keyedvectors.Vocab at 0x12a16df60>,\n",
       " 'fixed': <gensim.models.keyedvectors.Vocab at 0x12a16df98>,\n",
       " 'different,': <gensim.models.keyedvectors.Vocab at 0x12a16dfd0>,\n",
       " 'plus': <gensim.models.keyedvectors.Vocab at 0x12a1b7048>,\n",
       " 'comes': <gensim.models.keyedvectors.Vocab at 0x12a1b7080>,\n",
       " 'yes': <gensim.models.keyedvectors.Vocab at 0x12a1b70b8>,\n",
       " 'hell': <gensim.models.keyedvectors.Vocab at 0x12a1b70f0>,\n",
       " 'on.': <gensim.models.keyedvectors.Vocab at 0x12a1b7128>,\n",
       " 'maybe': <gensim.models.keyedvectors.Vocab at 0x12a1b7160>,\n",
       " 'anything': <gensim.models.keyedvectors.Vocab at 0x12a1b7198>,\n",
       " 'except': <gensim.models.keyedvectors.Vocab at 0x12a1b71d0>,\n",
       " 'khalimat': <gensim.models.keyedvectors.Vocab at 0x12a1b7208>,\n",
       " 'ofigel': <gensim.models.keyedvectors.Vocab at 0x12a1b7240>,\n",
       " 'webse': <gensim.models.keyedvectors.Vocab at 0x12a1b7278>,\n",
       " 'bullied': <gensim.models.keyedvectors.Vocab at 0x12a1b72b0>,\n",
       " 'vsevolish': <gensim.models.keyedvectors.Vocab at 0x12a1b72e8>,\n",
       " 'cocktail': <gensim.models.keyedvectors.Vocab at 0x12a1b7320>,\n",
       " 'opened': <gensim.models.keyedvectors.Vocab at 0x12a1b7358>,\n",
       " 'cheat': <gensim.models.keyedvectors.Vocab at 0x12a1b7390>,\n",
       " 'oh,': <gensim.models.keyedvectors.Vocab at 0x12a1b73c8>,\n",
       " 'miser,': <gensim.models.keyedvectors.Vocab at 0x12a1b7400>,\n",
       " 'decided?': <gensim.models.keyedvectors.Vocab at 0x12a1b7438>,\n",
       " 'hints': <gensim.models.keyedvectors.Vocab at 0x12a1b7470>,\n",
       " 'donut': <gensim.models.keyedvectors.Vocab at 0x12a1b74a8>,\n",
       " 'seen.': <gensim.models.keyedvectors.Vocab at 0x12a1b74e0>,\n",
       " 'look,': <gensim.models.keyedvectors.Vocab at 0x12a1b7518>,\n",
       " 'care': <gensim.models.keyedvectors.Vocab at 0x12a1b7550>,\n",
       " 'all.': <gensim.models.keyedvectors.Vocab at 0x12a1b7588>,\n",
       " 'main': <gensim.models.keyedvectors.Vocab at 0x12a1b75c0>,\n",
       " 'thing': <gensim.models.keyedvectors.Vocab at 0x12a1b75f8>,\n",
       " 'was.': <gensim.models.keyedvectors.Vocab at 0x12a1b7630>,\n",
       " 'right?': <gensim.models.keyedvectors.Vocab at 0x12a1b7668>,\n",
       " 'stupid': <gensim.models.keyedvectors.Vocab at 0x12a1b76a0>,\n",
       " 'phew!': <gensim.models.keyedvectors.Vocab at 0x12a1b76d8>,\n",
       " 'closed!': <gensim.models.keyedvectors.Vocab at 0x12a1b7710>,\n",
       " 'sohou': <gensim.models.keyedvectors.Vocab at 0x12a1b7748>,\n",
       " 'tipo': <gensim.models.keyedvectors.Vocab at 0x12a1b7780>,\n",
       " '&lt;&lt;': <gensim.models.keyedvectors.Vocab at 0x12a1b77b8>,\n",
       " 'discovered': <gensim.models.keyedvectors.Vocab at 0x12a1b77f0>,\n",
       " 'overlay&gt;&gt;': <gensim.models.keyedvectors.Vocab at 0x12a1b7828>,\n",
       " 'click': <gensim.models.keyedvectors.Vocab at 0x12a1b7860>,\n",
       " 'reject,': <gensim.models.keyedvectors.Vocab at 0x12a1b7898>,\n",
       " 'four': <gensim.models.keyedvectors.Vocab at 0x12a1b78d0>,\n",
       " 'english!': <gensim.models.keyedvectors.Vocab at 0x12a1b7908>,\n",
       " 'play!': <gensim.models.keyedvectors.Vocab at 0x12a1b7940>,\n",
       " 'correct': <gensim.models.keyedvectors.Vocab at 0x12a1b7978>,\n",
       " '5!': <gensim.models.keyedvectors.Vocab at 0x12a1b79b0>,\n",
       " 'lose': <gensim.models.keyedvectors.Vocab at 0x12a1b79e8>,\n",
       " 'bonuses!': <gensim.models.keyedvectors.Vocab at 0x12a1b7a20>,\n",
       " 'lazy': <gensim.models.keyedvectors.Vocab at 0x12a1b7a58>,\n",
       " 'fix': <gensim.models.keyedvectors.Vocab at 0x12a1b7a90>,\n",
       " 'riddance': <gensim.models.keyedvectors.Vocab at 0x12a1b7ac8>,\n",
       " 'zilch!': <gensim.models.keyedvectors.Vocab at 0x12a1b7b00>,\n",
       " 'sorry': <gensim.models.keyedvectors.Vocab at 0x12a1b7b38>,\n",
       " 'words.': <gensim.models.keyedvectors.Vocab at 0x12a1b7b70>,\n",
       " '1звезда': <gensim.models.keyedvectors.Vocab at 0x12a1b7ba8>,\n",
       " 'because.1зависает.2': <gensim.models.keyedvectors.Vocab at 0x12a1b7be0>,\n",
       " 'all.3': <gensim.models.keyedvectors.Vocab at 0x12a1b7c18>,\n",
       " 'ice': <gensim.models.keyedvectors.Vocab at 0x12a1b7c50>,\n",
       " 'cream': <gensim.models.keyedvectors.Vocab at 0x12a1b7c88>,\n",
       " 'frozen,': <gensim.models.keyedvectors.Vocab at 0x12a1b7cc0>,\n",
       " 'order': <gensim.models.keyedvectors.Vocab at 0x12a1b7cf8>,\n",
       " 'execute': <gensim.models.keyedvectors.Vocab at 0x12a1b7d30>,\n",
       " 'closed.5': <gensim.models.keyedvectors.Vocab at 0x12a1b7d68>,\n",
       " 'loading': <gensim.models.keyedvectors.Vocab at 0x12a1b7da0>,\n",
       " 'sometimes.6': <gensim.models.keyedvectors.Vocab at 0x12a1b7dd8>,\n",
       " 'fu.': <gensim.models.keyedvectors.Vocab at 0x12a1b7e10>,\n",
       " 'cocktail?': <gensim.models.keyedvectors.Vocab at 0x12a1b7e48>,\n",
       " 'two!': <gensim.models.keyedvectors.Vocab at 0x12a1b7e80>,\n",
       " 'greedy.': <gensim.models.keyedvectors.Vocab at 0x12a1b7eb8>,\n",
       " '8': <gensim.models.keyedvectors.Vocab at 0x12a1b7ef0>,\n",
       " 'old,': <gensim.models.keyedvectors.Vocab at 0x12a1b7f28>,\n",
       " 'buy,': <gensim.models.keyedvectors.Vocab at 0x12a1b7f60>,\n",
       " 'small': <gensim.models.keyedvectors.Vocab at 0x12a1b7f98>,\n",
       " 'understand!': <gensim.models.keyedvectors.Vocab at 0x12a1b7fd0>,\n",
       " 'class,': <gensim.models.keyedvectors.Vocab at 0x12a1b8048>,\n",
       " 'russian!': <gensim.models.keyedvectors.Vocab at 0x12a1b8080>,\n",
       " 'please!': <gensim.models.keyedvectors.Vocab at 0x12a1b80b8>,\n",
       " 'disappointed!': <gensim.models.keyedvectors.Vocab at 0x12a1b80f0>,\n",
       " 'tubes': <gensim.models.keyedvectors.Vocab at 0x12a1b8128>,\n",
       " 'too.': <gensim.models.keyedvectors.Vocab at 0x12a1b8160>,\n",
       " '5,': <gensim.models.keyedvectors.Vocab at 0x12a1b8198>,\n",
       " 'rudeness.': <gensim.models.keyedvectors.Vocab at 0x12a1b81d0>,\n",
       " '...': <gensim.models.keyedvectors.Vocab at 0x12a1b8208>,\n",
       " 'damn': <gensim.models.keyedvectors.Vocab at 0x12a1b8240>,\n",
       " 'greedy': <gensim.models.keyedvectors.Vocab at 0x12a1b8278>,\n",
       " '?': <gensim.models.keyedvectors.Vocab at 0x12a1b82b0>,\n",
       " 'probably': <gensim.models.keyedvectors.Vocab at 0x12a1b82e8>,\n",
       " 'more': <gensim.models.keyedvectors.Vocab at 0x12a1b8320>,\n",
       " 'youtube!': <gensim.models.keyedvectors.Vocab at 0x12a1b8358>,\n",
       " 'enjoy': <gensim.models.keyedvectors.Vocab at 0x12a1b8390>,\n",
       " \"didn't.\": <gensim.models.keyedvectors.Vocab at 0x12a1b83c8>,\n",
       " 'black': <gensim.models.keyedvectors.Vocab at 0x12a1b8400>,\n",
       " 'screen': <gensim.models.keyedvectors.Vocab at 0x12a1b8438>,\n",
       " 'white': <gensim.models.keyedvectors.Vocab at 0x12a1b8470>,\n",
       " 'sign': <gensim.models.keyedvectors.Vocab at 0x12a1b84a8>,\n",
       " 'letters.': <gensim.models.keyedvectors.Vocab at 0x12a1b84e0>,\n",
       " 'general,': <gensim.models.keyedvectors.Vocab at 0x12a1b8518>,\n",
       " 'yuck!': <gensim.models.keyedvectors.Vocab at 0x12a1b8550>,\n",
       " 'prepare': <gensim.models.keyedvectors.Vocab at 0x12a1b8588>,\n",
       " 'oranges,': <gensim.models.keyedvectors.Vocab at 0x12a1b85c0>,\n",
       " 'orange': <gensim.models.keyedvectors.Vocab at 0x12a1b85f8>,\n",
       " 'tube': <gensim.models.keyedvectors.Vocab at 0x12a1b8630>,\n",
       " 'this!': <gensim.models.keyedvectors.Vocab at 0x12a1b8668>,\n",
       " 'ads!': <gensim.models.keyedvectors.Vocab at 0x12a1b86a0>,\n",
       " 'thing,i': <gensim.models.keyedvectors.Vocab at 0x12a1b86d8>,\n",
       " 'opens': <gensim.models.keyedvectors.Vocab at 0x12a1b8710>,\n",
       " '2nd': <gensim.models.keyedvectors.Vocab at 0x12a1b8748>,\n",
       " 'level,and': <gensim.models.keyedvectors.Vocab at 0x12a1b8780>,\n",
       " 'asks': <gensim.models.keyedvectors.Vocab at 0x12a1b87b8>,\n",
       " 'her!': <gensim.models.keyedvectors.Vocab at 0x12a1b87f0>,\n",
       " 'fire': <gensim.models.keyedvectors.Vocab at 0x12a1b8828>,\n",
       " 'aaa': <gensim.models.keyedvectors.Vocab at 0x12a1b8860>,\n",
       " 'louis': <gensim.models.keyedvectors.Vocab at 0x12a1b8898>,\n",
       " 'ta!': <gensim.models.keyedvectors.Vocab at 0x12a1b88d0>,\n",
       " 'played': <gensim.models.keyedvectors.Vocab at 0x12a1b8908>,\n",
       " 'usual': <gensim.models.keyedvectors.Vocab at 0x12a1b8940>,\n",
       " 'sudden': <gensim.models.keyedvectors.Vocab at 0x12a1b8978>,\n",
       " 'pressed': <gensim.models.keyedvectors.Vocab at 0x12a1b89b0>,\n",
       " 'button': <gensim.models.keyedvectors.Vocab at 0x12a1b89e8>,\n",
       " 'weight!!': <gensim.models.keyedvectors.Vocab at 0x12a1b8a20>,\n",
       " \"game.i'm\": <gensim.models.keyedvectors.Vocab at 0x12a1b8a58>,\n",
       " 'first': <gensim.models.keyedvectors.Vocab at 0x12a1b8a90>,\n",
       " '10': <gensim.models.keyedvectors.Vocab at 0x12a1b8ac8>,\n",
       " 'old.': <gensim.models.keyedvectors.Vocab at 0x12a1b8b00>,\n",
       " 'invented': <gensim.models.keyedvectors.Vocab at 0x12a1b8b38>,\n",
       " 'much!!!': <gensim.models.keyedvectors.Vocab at 0x12a1b8b70>,\n",
       " 'horror.': <gensim.models.keyedvectors.Vocab at 0x12a1b8ba8>,\n",
       " 'playing': <gensim.models.keyedvectors.Vocab at 0x12a1b8be0>,\n",
       " 'ask': <gensim.models.keyedvectors.Vocab at 0x12a1b8c18>,\n",
       " 'trubaчку.': <gensim.models.keyedvectors.Vocab at 0x12a1b8c50>,\n",
       " 'girlfriend': <gensim.models.keyedvectors.Vocab at 0x12a1b8c88>,\n",
       " '.i': <gensim.models.keyedvectors.Vocab at 0x12a1b8cc0>,\n",
       " 'game.a': <gensim.models.keyedvectors.Vocab at 0x12a1b8cf8>,\n",
       " 'friend': <gensim.models.keyedvectors.Vocab at 0x12a1b8d30>,\n",
       " 'tablet': <gensim.models.keyedvectors.Vocab at 0x12a1b8d68>,\n",
       " 'had.': <gensim.models.keyedvectors.Vocab at 0x12a1b8da0>,\n",
       " '5th': <gensim.models.keyedvectors.Vocab at 0x12a1b8dd8>,\n",
       " 'month': <gensim.models.keyedvectors.Vocab at 0x12a1b8e10>,\n",
       " 'you!!!!🙆🙌📄': <gensim.models.keyedvectors.Vocab at 0x12a1b8e48>,\n",
       " 'what?': <gensim.models.keyedvectors.Vocab at 0x12a1b8e80>,\n",
       " 'afigel?': <gensim.models.keyedvectors.Vocab at 0x12a1b8eb8>,\n",
       " 'picking': <gensim.models.keyedvectors.Vocab at 0x12a1b8ef0>,\n",
       " 'money!!!!': <gensim.models.keyedvectors.Vocab at 0x12a1b8f28>,\n",
       " 'osnovnom': <gensim.models.keyedvectors.Vocab at 0x12a1b8f60>,\n",
       " 'navicki': <gensim.models.keyedvectors.Vocab at 0x12a1b8f98>,\n",
       " 'aregawi': <gensim.models.keyedvectors.Vocab at 0x12a1b8fd0>,\n",
       " 'trubochki': <gensim.models.keyedvectors.Vocab at 0x12a1b9048>,\n",
       " 'galuba': <gensim.models.keyedvectors.Vocab at 0x12a1b9080>,\n",
       " 'galuba!!!!': <gensim.models.keyedvectors.Vocab at 0x12a1b90b8>,\n",
       " 'hard': <gensim.models.keyedvectors.Vocab at 0x12a1b90f0>,\n",
       " 'level': <gensim.models.keyedvectors.Vocab at 0x12a1b9128>,\n",
       " 'party': <gensim.models.keyedvectors.Vocab at 0x12a1b9160>,\n",
       " 'available': <gensim.models.keyedvectors.Vocab at 0x12a1b9198>,\n",
       " 'ingredients': <gensim.models.keyedvectors.Vocab at 0x12a1b91d0>,\n",
       " 'tube?!': <gensim.models.keyedvectors.Vocab at 0x12a1b9208>,\n",
       " 'points': <gensim.models.keyedvectors.Vocab at 0x12a1b9240>,\n",
       " 'greed!': <gensim.models.keyedvectors.Vocab at 0x12a1b9278>,\n",
       " 'god': <gensim.models.keyedvectors.Vocab at 0x12a1b92b0>,\n",
       " 'horror!!!!!': <gensim.models.keyedvectors.Vocab at 0x12a1b92e8>,\n",
       " 'jacket': <gensim.models.keyedvectors.Vocab at 0x12a1b9320>,\n",
       " 'locked': <gensim.models.keyedvectors.Vocab at 0x12a1b9358>,\n",
       " 'work': <gensim.models.keyedvectors.Vocab at 0x12a1b9390>,\n",
       " 'ffffuuuuu!': <gensim.models.keyedvectors.Vocab at 0x12a1b93c8>,\n",
       " 'ok,': <gensim.models.keyedvectors.Vocab at 0x12a1b9400>,\n",
       " 'but...open': <gensim.models.keyedvectors.Vocab at 0x12a1b9438>,\n",
       " 'else': <gensim.models.keyedvectors.Vocab at 0x12a1b9470>,\n",
       " '!!!!': <gensim.models.keyedvectors.Vocab at 0x12a1b94a8>,\n",
       " 'meantime,': <gensim.models.keyedvectors.Vocab at 0x12a1b94e0>,\n",
       " 'nafig': <gensim.models.keyedvectors.Vocab at 0x12a1b9518>,\n",
       " '!!': <gensim.models.keyedvectors.Vocab at 0x12a1b9550>,\n",
       " 'kabargin': <gensim.models.keyedvectors.Vocab at 0x12a1b9588>,\n",
       " 'valeria,': <gensim.models.keyedvectors.Vocab at 0x12a1b95c0>,\n",
       " 'by': <gensim.models.keyedvectors.Vocab at 0x12a1b95f8>,\n",
       " 'grandfather': <gensim.models.keyedvectors.Vocab at 0x12a1b9630>,\n",
       " 'ipochemu': <gensim.models.keyedvectors.Vocab at 0x12a1b9668>,\n",
       " '4за': <gensim.models.keyedvectors.Vocab at 0x12a1b96a0>,\n",
       " 'potamuchto': <gensim.models.keyedvectors.Vocab at 0x12a1b96d8>,\n",
       " 'ball': <gensim.models.keyedvectors.Vocab at 0x12a1b9710>,\n",
       " 'jamochnogo': <gensim.models.keyedvectors.Vocab at 0x12a1b9748>,\n",
       " 'super!': <gensim.models.keyedvectors.Vocab at 0x12a1b9780>,\n",
       " 'open!!!': <gensim.models.keyedvectors.Vocab at 0x12a1b97b8>,\n",
       " 'ssuuppeerr!!!': <gensim.models.keyedvectors.Vocab at 0x12a1b97f0>,\n",
       " 'is!': <gensim.models.keyedvectors.Vocab at 0x12a1b9828>,\n",
       " 'purchased.': <gensim.models.keyedvectors.Vocab at 0x12a1b9860>,\n",
       " 'drink': <gensim.models.keyedvectors.Vocab at 0x12a1b9898>,\n",
       " 'passed.': <gensim.models.keyedvectors.Vocab at 0x12a1b98d0>,\n",
       " 'l': <gensim.models.keyedvectors.Vocab at 0x12a1b9908>,\n",
       " '⭐⭐⭐⭐⭐': <gensim.models.keyedvectors.Vocab at 0x12a1b9940>,\n",
       " 'before': <gensim.models.keyedvectors.Vocab at 0x12a1b9978>,\n",
       " 'edge': <gensim.models.keyedvectors.Vocab at 0x12a1b99b0>,\n",
       " 'pojavljaetsja': <gensim.models.keyedvectors.Vocab at 0x12a1b99e8>,\n",
       " 'natpisi': <gensim.models.keyedvectors.Vocab at 0x12a1b9a20>,\n",
       " 'called': <gensim.models.keyedvectors.Vocab at 0x12a1b9a58>,\n",
       " 'forr.': <gensim.models.keyedvectors.Vocab at 0x12a1b9a90>,\n",
       " 'take': <gensim.models.keyedvectors.Vocab at 0x12a1b9ac8>,\n",
       " 'off.': <gensim.models.keyedvectors.Vocab at 0x12a1b9b00>,\n",
       " ';(.': <gensim.models.keyedvectors.Vocab at 0x12a1b9b38>,\n",
       " '1.': <gensim.models.keyedvectors.Vocab at 0x12a1b9b70>,\n",
       " 'swings': <gensim.models.keyedvectors.Vocab at 0x12a1b9ba8>,\n",
       " '.in': <gensim.models.keyedvectors.Vocab at 0x12a1b9be0>,\n",
       " 'title': <gensim.models.keyedvectors.Vocab at 0x12a1b9c18>,\n",
       " '\"': <gensim.models.keyedvectors.Vocab at 0x12a1b9c50>,\n",
       " 'strawberry': <gensim.models.keyedvectors.Vocab at 0x12a1b9c88>,\n",
       " 'produces': <gensim.models.keyedvectors.Vocab at 0x12a1b9cc0>,\n",
       " 'konfety': <gensim.models.keyedvectors.Vocab at 0x12a1b9cf8>,\n",
       " \"there's\": <gensim.models.keyedvectors.Vocab at 0x12a1b9d30>,\n",
       " 'cocktails': <gensim.models.keyedvectors.Vocab at 0x12a1b9d68>,\n",
       " '4,': <gensim.models.keyedvectors.Vocab at 0x12a1b9da0>,\n",
       " 'tube.': <gensim.models.keyedvectors.Vocab at 0x12a1b9dd8>,\n",
       " 'he': <gensim.models.keyedvectors.Vocab at 0x12a1b9e10>,\n",
       " 'somehow': <gensim.models.keyedvectors.Vocab at 0x12a1b9e48>,\n",
       " 'preserved': <gensim.models.keyedvectors.Vocab at 0x12a1b9e80>,\n",
       " 'recipes!': <gensim.models.keyedvectors.Vocab at 0x12a1b9eb8>,\n",
       " 'corrective': <gensim.models.keyedvectors.Vocab at 0x12a1b9ef0>,\n",
       " '5.': <gensim.models.keyedvectors.Vocab at 0x12a1b9f28>,\n",
       " 'created': <gensim.models.keyedvectors.Vocab at 0x12a1b9f60>,\n",
       " 'fool': <gensim.models.keyedvectors.Vocab at 0x12a1b9f98>,\n",
       " 'without': <gensim.models.keyedvectors.Vocab at 0x12a1b9fd0>,\n",
       " 'mozgly': <gensim.models.keyedvectors.Vocab at 0x12a1ba048>,\n",
       " \"isn't\": <gensim.models.keyedvectors.Vocab at 0x12a1ba080>,\n",
       " 'interesting!!!!!!!!!!!!!!!!:(:(:(:(:(:(': <gensim.models.keyedvectors.Vocab at 0x12a1ba0b8>,\n",
       " 'hello,': <gensim.models.keyedvectors.Vocab at 0x12a1ba0f0>,\n",
       " 'it.': <gensim.models.keyedvectors.Vocab at 0x12a1ba128>,\n",
       " 'almost': <gensim.models.keyedvectors.Vocab at 0x12a1ba160>,\n",
       " 'today': <gensim.models.keyedvectors.Vocab at 0x12a1ba198>,\n",
       " 'hochetsa': <gensim.models.keyedvectors.Vocab at 0x12a1ba1d0>,\n",
       " 'rest': <gensim.models.keyedvectors.Vocab at 0x12a1ba208>,\n",
       " '..': <gensim.models.keyedvectors.Vocab at 0x12a1ba240>,\n",
       " '😥😥😥😥😥😥😞😞😞😞😞😞😞': <gensim.models.keyedvectors.Vocab at 0x12a1ba278>,\n",
       " 'minus': <gensim.models.keyedvectors.Vocab at 0x12a1ba2b0>,\n",
       " '1': <gensim.models.keyedvectors.Vocab at 0x12a1ba2e8>,\n",
       " 'occupies': <gensim.models.keyedvectors.Vocab at 0x12a1ba320>,\n",
       " 'space.': <gensim.models.keyedvectors.Vocab at 0x12a1ba358>,\n",
       " '♡♡♡': <gensim.models.keyedvectors.Vocab at 0x12a1ba390>,\n",
       " 'horror!': <gensim.models.keyedvectors.Vocab at 0x12a1ba3c8>,\n",
       " 'that?the': <gensim.models.keyedvectors.Vocab at 0x12a1ba400>,\n",
       " 'trubecki': <gensim.models.keyedvectors.Vocab at 0x12a1ba438>,\n",
       " 'sachem': <gensim.models.keyedvectors.Vocab at 0x12a1ba470>,\n",
       " 'right?!😡😡😡😡😡😡i': <gensim.models.keyedvectors.Vocab at 0x12a1ba4a8>,\n",
       " 'oaoau': <gensim.models.keyedvectors.Vocab at 0x12a1ba4e0>,\n",
       " 'game!!!!': <gensim.models.keyedvectors.Vocab at 0x12a1ba518>,\n",
       " 'vopsche': <gensim.models.keyedvectors.Vocab at 0x12a1ba550>,\n",
       " 'rosmarie!!': <gensim.models.keyedvectors.Vocab at 0x12a1ba588>,\n",
       " 'developer': <gensim.models.keyedvectors.Vocab at 0x12a1ba5c0>,\n",
       " 'expensive.': <gensim.models.keyedvectors.Vocab at 0x12a1ba5f8>,\n",
       " 'finally': <gensim.models.keyedvectors.Vocab at 0x12a1ba630>,\n",
       " 'damn!!!!': <gensim.models.keyedvectors.Vocab at 0x12a1ba668>,\n",
       " '(': <gensim.models.keyedvectors.Vocab at 0x12a1ba6a0>,\n",
       " 'jalovatsa': <gensim.models.keyedvectors.Vocab at 0x12a1ba6d8>,\n",
       " 'how!!!!!!!!!!!': <gensim.models.keyedvectors.Vocab at 0x12a1ba710>,\n",
       " 'th': <gensim.models.keyedvectors.Vocab at 0x12a1ba748>,\n",
       " 'vk': <gensim.models.keyedvectors.Vocab at 0x12a1ba780>,\n",
       " 'veronica': <gensim.models.keyedvectors.Vocab at 0x12a1ba7b8>,\n",
       " 'kitty': <gensim.models.keyedvectors.Vocab at 0x12a1ba7f0>,\n",
       " 'submit.': <gensim.models.keyedvectors.Vocab at 0x12a1ba828>,\n",
       " 'complaint!': <gensim.models.keyedvectors.Vocab at 0x12a1ba860>,\n",
       " 'nightmare!!!!!': <gensim.models.keyedvectors.Vocab at 0x12a1ba898>,\n",
       " 'nice': <gensim.models.keyedvectors.Vocab at 0x12a1ba8d0>,\n",
       " 'few': <gensim.models.keyedvectors.Vocab at 0x12a1ba908>,\n",
       " 'daraga': <gensim.models.keyedvectors.Vocab at 0x12a1ba940>,\n",
       " 'way': <gensim.models.keyedvectors.Vocab at 0x12a1ba978>,\n",
       " '😊😊😊!!!': <gensim.models.keyedvectors.Vocab at 0x12a1ba9b0>,\n",
       " 'kantele': <gensim.models.keyedvectors.Vocab at 0x12a1ba9e8>,\n",
       " 'although': <gensim.models.keyedvectors.Vocab at 0x12a1baa20>,\n",
       " 'cakes': <gensim.models.keyedvectors.Vocab at 0x12a1baa58>,\n",
       " 'ew': <gensim.models.keyedvectors.Vocab at 0x12a1baa90>,\n",
       " 'ie': <gensim.models.keyedvectors.Vocab at 0x12a1baac8>,\n",
       " 'gold': <gensim.models.keyedvectors.Vocab at 0x12a1bab00>,\n",
       " 'good.this': <gensim.models.keyedvectors.Vocab at 0x12a1bab38>,\n",
       " 'sasha': <gensim.models.keyedvectors.Vocab at 0x12a1bab70>,\n",
       " '16': <gensim.models.keyedvectors.Vocab at 0x12a1baba8>,\n",
       " 'stopped': <gensim.models.keyedvectors.Vocab at 0x12a1babe0>,\n",
       " 'apelsinka': <gensim.models.keyedvectors.Vocab at 0x12a1bac18>,\n",
       " 'screwed': <gensim.models.keyedvectors.Vocab at 0x12a1bac50>,\n",
       " ':(': <gensim.models.keyedvectors.Vocab at 0x12a1bac88>,\n",
       " 'nravitsa': <gensim.models.keyedvectors.Vocab at 0x12a1bacc0>,\n",
       " 'escho': <gensim.models.keyedvectors.Vocab at 0x12a1bacf8>,\n",
       " 'cupcakes.': <gensim.models.keyedvectors.Vocab at 0x12a1bad30>,\n",
       " 'yesterday': <gensim.models.keyedvectors.Vocab at 0x12a1bad68>,\n",
       " 'opa': <gensim.models.keyedvectors.Vocab at 0x12a1bada0>,\n",
       " 'pleased': <gensim.models.keyedvectors.Vocab at 0x12a1badd8>,\n",
       " 'terrible': <gensim.models.keyedvectors.Vocab at 0x12a1bae10>,\n",
       " 'vladimir,': <gensim.models.keyedvectors.Vocab at 0x12a1bae48>,\n",
       " 'share': <gensim.models.keyedvectors.Vocab at 0x12a1bae80>,\n",
       " 'pastries': <gensim.models.keyedvectors.Vocab at 0x12a1baeb8>,\n",
       " 'chocolates': <gensim.models.keyedvectors.Vocab at 0x12a1baef0>,\n",
       " 'boring': <gensim.models.keyedvectors.Vocab at 0x12a1baf28>,\n",
       " 'class': <gensim.models.keyedvectors.Vocab at 0x12a1baf60>,\n",
       " \"let's\": <gensim.models.keyedvectors.Vocab at 0x12a1baf98>,\n",
       " 'ok': <gensim.models.keyedvectors.Vocab at 0x12a1bafd0>,\n",
       " 'ugra': <gensim.models.keyedvectors.Vocab at 0x12a1bb048>,\n",
       " 'terribly': <gensim.models.keyedvectors.Vocab at 0x12a1bb080>,\n",
       " 'quite': <gensim.models.keyedvectors.Vocab at 0x12a1bb0b8>,\n",
       " 'throat': <gensim.models.keyedvectors.Vocab at 0x12a1bb0f0>,\n",
       " 'dial': <gensim.models.keyedvectors.Vocab at 0x12a1bb128>,\n",
       " 'reason,': <gensim.models.keyedvectors.Vocab at 0x12a1bb160>,\n",
       " 'wish': <gensim.models.keyedvectors.Vocab at 0x12a1bb198>,\n",
       " 'able': <gensim.models.keyedvectors.Vocab at 0x12a1bb1d0>,\n",
       " 'special': <gensim.models.keyedvectors.Vocab at 0x12a1bb208>,\n",
       " 'yyyy': <gensim.models.keyedvectors.Vocab at 0x12a1bb240>,\n",
       " 'visit': <gensim.models.keyedvectors.Vocab at 0x12a1bb278>,\n",
       " 'channel': <gensim.models.keyedvectors.Vocab at 0x12a1bb2b0>,\n",
       " 'subscribe': <gensim.models.keyedvectors.Vocab at 0x12a1bb2e8>,\n",
       " 'spent,': <gensim.models.keyedvectors.Vocab at 0x12a1bb320>,\n",
       " 'suddenly': <gensim.models.keyedvectors.Vocab at 0x12a1bb358>,\n",
       " 'an': <gensim.models.keyedvectors.Vocab at 0x12a1bb390>,\n",
       " 'assessment': <gensim.models.keyedvectors.Vocab at 0x12a1bb3c8>,\n",
       " 'bullseye': <gensim.models.keyedvectors.Vocab at 0x12a1bb400>,\n",
       " 'uninteresting': <gensim.models.keyedvectors.Vocab at 0x12a1bb438>,\n",
       " '-but': <gensim.models.keyedvectors.Vocab at 0x12a1bb470>,\n",
       " 'generally': <gensim.models.keyedvectors.Vocab at 0x12a1bb4a8>,\n",
       " 'game!!😘': <gensim.models.keyedvectors.Vocab at 0x12a1bb4e0>,\n",
       " 'yak': <gensim.models.keyedvectors.Vocab at 0x12a1bb518>,\n",
       " 'razblokirovat': <gensim.models.keyedvectors.Vocab at 0x12a1bb550>,\n",
       " 'ustanovlen': <gensim.models.keyedvectors.Vocab at 0x12a1bb588>,\n",
       " 'route': <gensim.models.keyedvectors.Vocab at 0x12a1bb5c0>,\n",
       " 'rights': <gensim.models.keyedvectors.Vocab at 0x12a1bb5f8>,\n",
       " 'laci': <gensim.models.keyedvectors.Vocab at 0x12a1bb630>,\n",
       " 'poker': <gensim.models.keyedvectors.Vocab at 0x12a1bb668>,\n",
       " 'probovala': <gensim.models.keyedvectors.Vocab at 0x12a1bb6a0>,\n",
       " 'rabotat❤❤❤❤': <gensim.models.keyedvectors.Vocab at 0x12a1bb6d8>,\n",
       " '5🌟🌟🌟🌟🌟': <gensim.models.keyedvectors.Vocab at 0x12a1bb710>,\n",
       " '5☆☆☆☆☆closed': <gensim.models.keyedvectors.Vocab at 0x12a1bb748>,\n",
       " 'cocktails,': <gensim.models.keyedvectors.Vocab at 0x12a1bb780>,\n",
       " 'pochemuuuu???': <gensim.models.keyedvectors.Vocab at 0x12a1bb7b8>,\n",
       " 'closed???': <gensim.models.keyedvectors.Vocab at 0x12a1bb7f0>,\n",
       " 'huh?': <gensim.models.keyedvectors.Vocab at 0x12a1bb828>,\n",
       " 'abeiku': <gensim.models.keyedvectors.Vocab at 0x12a1bb860>,\n",
       " 'her': <gensim.models.keyedvectors.Vocab at 0x12a1bb898>,\n",
       " 'name': <gensim.models.keyedvectors.Vocab at 0x12a1bb8d0>,\n",
       " 'sip': <gensim.models.keyedvectors.Vocab at 0x12a1bb908>,\n",
       " 'know😍😍': <gensim.models.keyedvectors.Vocab at 0x12a1bb940>,\n",
       " 'balisa': <gensim.models.keyedvectors.Vocab at 0x12a1bb978>,\n",
       " 'part': <gensim.models.keyedvectors.Vocab at 0x12a1bb9b0>,\n",
       " 'pojalouista': <gensim.models.keyedvectors.Vocab at 0x12a1bb9e8>,\n",
       " 'now,': <gensim.models.keyedvectors.Vocab at 0x12a1bba20>,\n",
       " 'igrati': <gensim.models.keyedvectors.Vocab at 0x12a1bba58>,\n",
       " 'and.....': <gensim.models.keyedvectors.Vocab at 0x12a1bba90>,\n",
       " 'flying.': <gensim.models.keyedvectors.Vocab at 0x12a1bbac8>,\n",
       " 'donation': <gensim.models.keyedvectors.Vocab at 0x12a1bbb00>,\n",
       " \"children's\": <gensim.models.keyedvectors.Vocab at 0x12a1bbb38>,\n",
       " 'kachel?': <gensim.models.keyedvectors.Vocab at 0x12a1bbb70>,\n",
       " 'while': <gensim.models.keyedvectors.Vocab at 0x12a1bbba8>,\n",
       " 'wakes': <gensim.models.keyedvectors.Vocab at 0x12a1bbbe0>,\n",
       " 'two.': <gensim.models.keyedvectors.Vocab at 0x12a1bbc18>,\n",
       " 'lada': <gensim.models.keyedvectors.Vocab at 0x12a1bbc50>,\n",
       " 'povtorjaetsja': <gensim.models.keyedvectors.Vocab at 0x12a1bbc88>,\n",
       " 'zilch': <gensim.models.keyedvectors.Vocab at 0x12a1bbcc0>,\n",
       " 'iebe': <gensim.models.keyedvectors.Vocab at 0x12a1bbcf8>,\n",
       " 'true': <gensim.models.keyedvectors.Vocab at 0x12a1bbd30>,\n",
       " 'but...everything': <gensim.models.keyedvectors.Vocab at 0x12a1bbd68>,\n",
       " '5☆☆☆☆☆but': <gensim.models.keyedvectors.Vocab at 0x12a1bbda0>,\n",
       " ',': <gensim.models.keyedvectors.Vocab at 0x12a1bbdd8>,\n",
       " '7': <gensim.models.keyedvectors.Vocab at 0x12a1bbe10>,\n",
       " 'interested': <gensim.models.keyedvectors.Vocab at 0x12a1bbe48>,\n",
       " 'honestly': <gensim.models.keyedvectors.Vocab at 0x12a1bbe80>,\n",
       " 'type': <gensim.models.keyedvectors.Vocab at 0x12a1bbeb8>,\n",
       " 'each': <gensim.models.keyedvectors.Vocab at 0x12a1bbef0>,\n",
       " 'offer': <gensim.models.keyedvectors.Vocab at 0x12a1bbf28>,\n",
       " 'rub': <gensim.models.keyedvectors.Vocab at 0x12a1bbf60>,\n",
       " 'may': <gensim.models.keyedvectors.Vocab at 0x12a1bbf98>,\n",
       " 'charge': <gensim.models.keyedvectors.Vocab at 0x12a1bbfd0>,\n",
       " \"you've\": <gensim.models.keyedvectors.Vocab at 0x12a1bc048>,\n",
       " 'emily': <gensim.models.keyedvectors.Vocab at 0x12a1bc080>,\n",
       " 'done': <gensim.models.keyedvectors.Vocab at 0x12a1bc0b8>,\n",
       " 'touch': <gensim.models.keyedvectors.Vocab at 0x12a1bc0f0>,\n",
       " 'hands': <gensim.models.keyedvectors.Vocab at 0x12a1bc128>,\n",
       " 'pay.': <gensim.models.keyedvectors.Vocab at 0x12a1bc160>,\n",
       " 'interest': <gensim.models.keyedvectors.Vocab at 0x12a1bc198>,\n",
       " 'could': <gensim.models.keyedvectors.Vocab at 0x12a1bc1d0>,\n",
       " ')': <gensim.models.keyedvectors.Vocab at 0x12a1bc208>,\n",
       " 'paid,': <gensim.models.keyedvectors.Vocab at 0x12a1bc240>,\n",
       " 'toys': <gensim.models.keyedvectors.Vocab at 0x12a1bc278>,\n",
       " 'places': <gensim.models.keyedvectors.Vocab at 0x12a1bc2b0>,\n",
       " 'more!': <gensim.models.keyedvectors.Vocab at 0x12a1bc2e8>,\n",
       " 'immediately': <gensim.models.keyedvectors.Vocab at 0x12a1bc320>,\n",
       " 'helped': <gensim.models.keyedvectors.Vocab at 0x12a1bc358>,\n",
       " 'application.': <gensim.models.keyedvectors.Vocab at 0x12a1bc390>,\n",
       " 'know.': <gensim.models.keyedvectors.Vocab at 0x12a1bc3c8>,\n",
       " \"child's\": <gensim.models.keyedvectors.Vocab at 0x12a1bc400>,\n",
       " 'became': <gensim.models.keyedvectors.Vocab at 0x12a1bc438>,\n",
       " 'locked.': <gensim.models.keyedvectors.Vocab at 0x12a1bc470>,\n",
       " 'favorite': <gensim.models.keyedvectors.Vocab at 0x12a1bc4a8>,\n",
       " 'changes': <gensim.models.keyedvectors.Vocab at 0x12a1bc4e0>,\n",
       " 'day': <gensim.models.keyedvectors.Vocab at 0x12a1bc518>,\n",
       " 'night,': <gensim.models.keyedvectors.Vocab at 0x12a1bc550>,\n",
       " 'music': <gensim.models.keyedvectors.Vocab at 0x12a1bc588>,\n",
       " 'it!': <gensim.models.keyedvectors.Vocab at 0x12a1bc5c0>,\n",
       " 'available.': <gensim.models.keyedvectors.Vocab at 0x12a1bc5f8>,\n",
       " 'why?': <gensim.models.keyedvectors.Vocab at 0x12a1bc630>,\n",
       " 'usually': <gensim.models.keyedvectors.Vocab at 0x12a1bc668>,\n",
       " 'good,but': <gensim.models.keyedvectors.Vocab at 0x12a1bc6a0>,\n",
       " 'curve': <gensim.models.keyedvectors.Vocab at 0x12a1bc6d8>,\n",
       " 'now!': <gensim.models.keyedvectors.Vocab at 0x12a1bc710>,\n",
       " 'anyone': <gensim.models.keyedvectors.Vocab at 0x12a1bc748>,\n",
       " 'reads': <gensim.models.keyedvectors.Vocab at 0x12a1bc780>,\n",
       " 'warn': <gensim.models.keyedvectors.Vocab at 0x12a1bc7b8>,\n",
       " 'characters': <gensim.models.keyedvectors.Vocab at 0x12a1bc7f0>,\n",
       " 'back.': <gensim.models.keyedvectors.Vocab at 0x12a1bc828>,\n",
       " 'robot': <gensim.models.keyedvectors.Vocab at 0x12a1bc860>,\n",
       " 'loved': <gensim.models.keyedvectors.Vocab at 0x12a1bc898>,\n",
       " '5+': <gensim.models.keyedvectors.Vocab at 0x12a1bc8d0>,\n",
       " 'around': <gensim.models.keyedvectors.Vocab at 0x12a1bc908>,\n",
       " 'passed': <gensim.models.keyedvectors.Vocab at 0x12a1bc940>,\n",
       " 'best': <gensim.models.keyedvectors.Vocab at 0x12a1bc978>,\n",
       " 'rescue': <gensim.models.keyedvectors.Vocab at 0x12a1bc9b0>,\n",
       " 'bots': <gensim.models.keyedvectors.Vocab at 0x12a1bc9e8>,\n",
       " 'me!': <gensim.models.keyedvectors.Vocab at 0x12a1bca20>,\n",
       " 'but.': <gensim.models.keyedvectors.Vocab at 0x12a1bca58>,\n",
       " 'cool.': <gensim.models.keyedvectors.Vocab at 0x12a1bca90>,\n",
       " 'voice': <gensim.models.keyedvectors.Vocab at 0x12a1bcac8>,\n",
       " 'turns': <gensim.models.keyedvectors.Vocab at 0x12a1bcb00>,\n",
       " 'takes': <gensim.models.keyedvectors.Vocab at 0x12a1bcb38>,\n",
       " 'issue': <gensim.models.keyedvectors.Vocab at 0x12a1bcb70>,\n",
       " 'kill': <gensim.models.keyedvectors.Vocab at 0x12a1bcba8>,\n",
       " 'creators': <gensim.models.keyedvectors.Vocab at 0x12a1bcbe0>,\n",
       " '3rd': <gensim.models.keyedvectors.Vocab at 0x12a1bcc18>,\n",
       " 'third': <gensim.models.keyedvectors.Vocab at 0x12a1bcc50>,\n",
       " 'beyond': <gensim.models.keyedvectors.Vocab at 0x12a1bcc88>,\n",
       " 'earn': <gensim.models.keyedvectors.Vocab at 0x12a1bccc0>,\n",
       " 'extra': <gensim.models.keyedvectors.Vocab at 0x12a1bccf8>,\n",
       " 'find': <gensim.models.keyedvectors.Vocab at 0x12a1bcd30>,\n",
       " 'level,': <gensim.models.keyedvectors.Vocab at 0x12a1bcd68>,\n",
       " 'runs': <gensim.models.keyedvectors.Vocab at 0x12a1bcda0>,\n",
       " 'buggy': <gensim.models.keyedvectors.Vocab at 0x12a1bcdd8>,\n",
       " 'location': <gensim.models.keyedvectors.Vocab at 0x12a1bce10>,\n",
       " 'up': <gensim.models.keyedvectors.Vocab at 0x12a1bce48>,\n",
       " 'fixed,': <gensim.models.keyedvectors.Vocab at 0x12a1bce80>,\n",
       " 'require': <gensim.models.keyedvectors.Vocab at 0x12a1bceb8>,\n",
       " 'useless': <gensim.models.keyedvectors.Vocab at 0x12a1bcef0>,\n",
       " ',but': <gensim.models.keyedvectors.Vocab at 0x12a1bcf28>,\n",
       " 'principle,': <gensim.models.keyedvectors.Vocab at 0x12a1bcf60>,\n",
       " 'is,': <gensim.models.keyedvectors.Vocab at 0x12a1bcf98>,\n",
       " 'crashes,': <gensim.models.keyedvectors.Vocab at 0x12a1bcfd0>,\n",
       " 'use': <gensim.models.keyedvectors.Vocab at 0x12a1bd048>,\n",
       " 'matter': <gensim.models.keyedvectors.Vocab at 0x12a1bd080>,\n",
       " 'requires': <gensim.models.keyedvectors.Vocab at 0x12a1bd0b8>,\n",
       " 'developed': <gensim.models.keyedvectors.Vocab at 0x12a1bd0f0>,\n",
       " 'leave': <gensim.models.keyedvectors.Vocab at 0x12a1bd128>,\n",
       " 'comments,': <gensim.models.keyedvectors.Vocab at 0x12a1bd160>,\n",
       " 'went': <gensim.models.keyedvectors.Vocab at 0x12a1bd198>,\n",
       " 'wrote': <gensim.models.keyedvectors.Vocab at 0x12a1bd1d0>,\n",
       " 'helpful!': <gensim.models.keyedvectors.Vocab at 0x12a1bd208>,\n",
       " 'girl': <gensim.models.keyedvectors.Vocab at 0x12a1bd240>,\n",
       " 'began': <gensim.models.keyedvectors.Vocab at 0x12a1bd278>,\n",
       " '4+': <gensim.models.keyedvectors.Vocab at 0x12a1bd2b0>,\n",
       " 'painting': <gensim.models.keyedvectors.Vocab at 0x12a1bd2e8>,\n",
       " 'bus': <gensim.models.keyedvectors.Vocab at 0x12a1bd320>,\n",
       " 'crashes.': <gensim.models.keyedvectors.Vocab at 0x12a1bd358>,\n",
       " 'passengers': <gensim.models.keyedvectors.Vocab at 0x12a1bd390>,\n",
       " 'stops': <gensim.models.keyedvectors.Vocab at 0x12a1bd3c8>,\n",
       " '(it': <gensim.models.keyedvectors.Vocab at 0x12a1bd400>,\n",
       " 'considered': <gensim.models.keyedvectors.Vocab at 0x12a1bd438>,\n",
       " 'hangs).': <gensim.models.keyedvectors.Vocab at 0x12a1bd470>,\n",
       " 'steep.': <gensim.models.keyedvectors.Vocab at 0x12a1bd4a8>,\n",
       " 'rain,': <gensim.models.keyedvectors.Vocab at 0x12a1bd4e0>,\n",
       " 'etc': <gensim.models.keyedvectors.Vocab at 0x12a1bd518>,\n",
       " 'because,': <gensim.models.keyedvectors.Vocab at 0x12a1bd550>,\n",
       " 'please!!!!': <gensim.models.keyedvectors.Vocab at 0x12a1bd588>,\n",
       " 'passengers,': <gensim.models.keyedvectors.Vocab at 0x12a1bd5c0>,\n",
       " 'add': <gensim.models.keyedvectors.Vocab at 0x12a1bd5f8>,\n",
       " 'a+': <gensim.models.keyedvectors.Vocab at 0x12a1bd630>,\n",
       " 'off,': <gensim.models.keyedvectors.Vocab at 0x12a1bd668>,\n",
       " 'going': <gensim.models.keyedvectors.Vocab at 0x12a1bd6a0>,\n",
       " 'swear': <gensim.models.keyedvectors.Vocab at 0x12a1bd6d8>,\n",
       " 'hundred': <gensim.models.keyedvectors.Vocab at 0x12a1bd710>,\n",
       " 'hello.': <gensim.models.keyedvectors.Vocab at 0x12a1bd748>,\n",
       " 'funky': <gensim.models.keyedvectors.Vocab at 0x12a1bd780>,\n",
       " 'graph.': <gensim.models.keyedvectors.Vocab at 0x12a1bd7b8>,\n",
       " 'accept': <gensim.models.keyedvectors.Vocab at 0x12a1bd7f0>,\n",
       " 'wishes.': <gensim.models.keyedvectors.Vocab at 0x12a1bd828>,\n",
       " 'first,': <gensim.models.keyedvectors.Vocab at 0x12a1bd860>,\n",
       " 'saisies': <gensim.models.keyedvectors.Vocab at 0x12a1bd898>,\n",
       " 'paint': <gensim.models.keyedvectors.Vocab at 0x12a1bd8d0>,\n",
       " 'bus,': <gensim.models.keyedvectors.Vocab at 0x12a1bd908>,\n",
       " 'change': <gensim.models.keyedvectors.Vocab at 0x12a1bd940>,\n",
       " 'stick': <gensim.models.keyedvectors.Vocab at 0x12a1bd978>,\n",
       " 'getting': <gensim.models.keyedvectors.Vocab at 0x12a1bd9b0>,\n",
       " 'white.': <gensim.models.keyedvectors.Vocab at 0x12a1bd9e8>,\n",
       " 'secondly': <gensim.models.keyedvectors.Vocab at 0x12a1bda20>,\n",
       " 'becomes': <gensim.models.keyedvectors.Vocab at 0x12a1bda58>,\n",
       " 'drive': <gensim.models.keyedvectors.Vocab at 0x12a1bda90>,\n",
       " 'bit': <gensim.models.keyedvectors.Vocab at 0x12a1bdac8>,\n",
       " 'animals': <gensim.models.keyedvectors.Vocab at 0x12a1bdb00>,\n",
       " 'horses.': <gensim.models.keyedvectors.Vocab at 0x12a1bdb38>,\n",
       " 'sun': <gensim.models.keyedvectors.Vocab at 0x12a1bdb70>,\n",
       " 'rain.': <gensim.models.keyedvectors.Vocab at 0x12a1bdba8>,\n",
       " 'suggestions!': <gensim.models.keyedvectors.Vocab at 0x12a1bdbe0>,\n",
       " 'colorful,bright,': <gensim.models.keyedvectors.Vocab at 0x12a1bdc18>,\n",
       " 'difficult.': <gensim.models.keyedvectors.Vocab at 0x12a1bdc50>,\n",
       " 'settings': <gensim.models.keyedvectors.Vocab at 0x12a1bdc88>,\n",
       " 'quality': <gensim.models.keyedvectors.Vocab at 0x12a1bdcc0>,\n",
       " 'graphics': <gensim.models.keyedvectors.Vocab at 0x12a1bdcf8>,\n",
       " 'lower': <gensim.models.keyedvectors.Vocab at 0x12a1bdd30>,\n",
       " 'that,': <gensim.models.keyedvectors.Vocab at 0x12a1bdd68>,\n",
       " 'fact': <gensim.models.keyedvectors.Vocab at 0x12a1bdda0>,\n",
       " 'podtarmazhivaet': <gensim.models.keyedvectors.Vocab at 0x12a1bddd8>,\n",
       " 'sometimes.': <gensim.models.keyedvectors.Vocab at 0x12a1bde10>,\n",
       " \"app.i'm\": <gensim.models.keyedvectors.Vocab at 0x12a1bde48>,\n",
       " 'krasica': <gensim.models.keyedvectors.Vocab at 0x12a1bde80>,\n",
       " '.try': <gensim.models.keyedvectors.Vocab at 0x12a1bdeb8>,\n",
       " 'sister': <gensim.models.keyedvectors.Vocab at 0x12a1bdef0>,\n",
       " \"didn't\": <gensim.models.keyedvectors.Vocab at 0x12a1bdf28>,\n",
       " 'fans.': <gensim.models.keyedvectors.Vocab at 0x12a1bdf60>,\n",
       " 'class!': <gensim.models.keyedvectors.Vocab at 0x12a1bdf98>,\n",
       " 'stomach': <gensim.models.keyedvectors.Vocab at 0x12a1bdfd0>,\n",
       " 'seat': <gensim.models.keyedvectors.Vocab at 0x12a1be048>,\n",
       " 'want?': <gensim.models.keyedvectors.Vocab at 0x12a1be080>,\n",
       " 'perehodny': <gensim.models.keyedvectors.Vocab at 0x12a1be0b8>,\n",
       " 'transition?': <gensim.models.keyedvectors.Vocab at 0x12a1be0f0>,\n",
       " 'train,a': <gensim.models.keyedvectors.Vocab at 0x12a1be128>,\n",
       " 'ship': <gensim.models.keyedvectors.Vocab at 0x12a1be160>,\n",
       " 'steer?': <gensim.models.keyedvectors.Vocab at 0x12a1be198>,\n",
       " 'come': <gensim.models.keyedvectors.Vocab at 0x12a1be1d0>,\n",
       " 'crashes': <gensim.models.keyedvectors.Vocab at 0x12a1be208>,\n",
       " 'proezda?': <gensim.models.keyedvectors.Vocab at 0x12a1be240>,\n",
       " 'game♡it♡': <gensim.models.keyedvectors.Vocab at 0x12a1be278>,\n",
       " 'sydit': <gensim.models.keyedvectors.Vocab at 0x12a1be2b0>,\n",
       " 'circle': <gensim.models.keyedvectors.Vocab at 0x12a1be2e8>,\n",
       " 'adatsa': <gensim.models.keyedvectors.Vocab at 0x12a1be320>,\n",
       " 'out.': <gensim.models.keyedvectors.Vocab at 0x12a1be358>,\n",
       " '3⭐-': <gensim.models.keyedvectors.Vocab at 0x12a1be390>,\n",
       " 'great,': <gensim.models.keyedvectors.Vocab at 0x12a1be3c8>,\n",
       " 'interesting,': <gensim.models.keyedvectors.Vocab at 0x12a1be400>,\n",
       " 'exciting!!!': <gensim.models.keyedvectors.Vocab at 0x12a1be438>,\n",
       " '😘.': <gensim.models.keyedvectors.Vocab at 0x12a1be470>,\n",
       " 'soon': <gensim.models.keyedvectors.Vocab at 0x12a1be4a8>,\n",
       " 'begin': <gensim.models.keyedvectors.Vocab at 0x12a1be4e0>,\n",
       " 'crashes😡': <gensim.models.keyedvectors.Vocab at 0x12a1be518>,\n",
       " '⭐': <gensim.models.keyedvectors.Vocab at 0x12a1be550>,\n",
       " 'avtobus': <gensim.models.keyedvectors.Vocab at 0x12a1be588>,\n",
       " 'crap?': <gensim.models.keyedvectors.Vocab at 0x12a1be5c0>,\n",
       " 'words': <gensim.models.keyedvectors.Vocab at 0x12a1be5f8>,\n",
       " 'brush': <gensim.models.keyedvectors.Vocab at 0x12a1be630>,\n",
       " 'teaches': <gensim.models.keyedvectors.Vocab at 0x12a1be668>,\n",
       " 'gift': <gensim.models.keyedvectors.Vocab at 0x12a1be6a0>,\n",
       " 'anna': <gensim.models.keyedvectors.Vocab at 0x12a1be6d8>,\n",
       " 'garanina': <gensim.models.keyedvectors.Vocab at 0x12a1be710>,\n",
       " 'often.': <gensim.models.keyedvectors.Vocab at 0x12a1be748>,\n",
       " 'opschem': <gensim.models.keyedvectors.Vocab at 0x12a1be780>,\n",
       " 'speed': <gensim.models.keyedvectors.Vocab at 0x12a1be7b8>,\n",
       " 'wheel': <gensim.models.keyedvectors.Vocab at 0x12a1be7f0>,\n",
       " 'spinning': <gensim.models.keyedvectors.Vocab at 0x12a1be828>,\n",
       " 'glass': <gensim.models.keyedvectors.Vocab at 0x12a1be860>,\n",
       " 'clean': <gensim.models.keyedvectors.Vocab at 0x12a1be898>,\n",
       " 'flare.': <gensim.models.keyedvectors.Vocab at 0x12a1be8d0>,\n",
       " 'past': <gensim.models.keyedvectors.Vocab at 0x12a1be908>,\n",
       " 'perestanavlivaya': <gensim.models.keyedvectors.Vocab at 0x12a1be940>,\n",
       " 'excellent!': <gensim.models.keyedvectors.Vocab at 0x12a1be978>,\n",
       " 'itself': <gensim.models.keyedvectors.Vocab at 0x12a1be9b0>,\n",
       " 'coolest': <gensim.models.keyedvectors.Vocab at 0x12a1be9e8>,\n",
       " 'firm': <gensim.models.keyedvectors.Vocab at 0x12a1bea20>,\n",
       " 'kids!!!♡♥♡': <gensim.models.keyedvectors.Vocab at 0x12a1bea58>,\n",
       " 'priezzhaesh': <gensim.models.keyedvectors.Vocab at 0x12a1bea90>,\n",
       " 'car': <gensim.models.keyedvectors.Vocab at 0x12a1beac8>,\n",
       " 'question': <gensim.models.keyedvectors.Vocab at 0x12a1beb00>,\n",
       " 'vaapsche': <gensim.models.keyedvectors.Vocab at 0x12a1beb38>,\n",
       " 'download?': <gensim.models.keyedvectors.Vocab at 0x12a1beb70>,\n",
       " 'meniti': <gensim.models.keyedvectors.Vocab at 0x12a1beba8>,\n",
       " 'completely': <gensim.models.keyedvectors.Vocab at 0x12a1bebe0>,\n",
       " 'beginning': <gensim.models.keyedvectors.Vocab at 0x12a1bec18>,\n",
       " 'end.': <gensim.models.keyedvectors.Vocab at 0x12a1bec50>,\n",
       " 'impossible,': <gensim.models.keyedvectors.Vocab at 0x12a1bec88>,\n",
       " 'constantly': <gensim.models.keyedvectors.Vocab at 0x12a1becc0>,\n",
       " 'continuously': <gensim.models.keyedvectors.Vocab at 0x12a1becf8>,\n",
       " 'starts': <gensim.models.keyedvectors.Vocab at 0x12a1bed30>,\n",
       " 'lassana': <gensim.models.keyedvectors.Vocab at 0x12a1bed68>,\n",
       " 'realistic': <gensim.models.keyedvectors.Vocab at 0x12a1beda0>,\n",
       " 'misunderstanding...': <gensim.models.keyedvectors.Vocab at 0x12a1bedd8>,\n",
       " 'stop': <gensim.models.keyedvectors.Vocab at 0x12a1bee10>,\n",
       " 'repainting': <gensim.models.keyedvectors.Vocab at 0x12a1bee48>,\n",
       " 'resets': <gensim.models.keyedvectors.Vocab at 0x12a1bee80>,\n",
       " 'resko!': <gensim.models.keyedvectors.Vocab at 0x12a1beeb8>,\n",
       " 'spravce': <gensim.models.keyedvectors.Vocab at 0x12a1beef0>,\n",
       " 'problem.every': <gensim.models.keyedvectors.Vocab at 0x12a1bef28>,\n",
       " 'reset.': <gensim.models.keyedvectors.Vocab at 0x12a1bef60>,\n",
       " 'cholate': <gensim.models.keyedvectors.Vocab at 0x12a1bef98>,\n",
       " 'much!but': <gensim.models.keyedvectors.Vocab at 0x12a1befd0>,\n",
       " 'repaint': <gensim.models.keyedvectors.Vocab at 0x12a1bf048>,\n",
       " 'throw': <gensim.models.keyedvectors.Vocab at 0x12a1bf080>,\n",
       " 'market)': <gensim.models.keyedvectors.Vocab at 0x12a1bf0b8>,\n",
       " 'games,because': <gensim.models.keyedvectors.Vocab at 0x12a1bf0f0>,\n",
       " 'new': <gensim.models.keyedvectors.Vocab at 0x12a1bf128>,\n",
       " 'well.please': <gensim.models.keyedvectors.Vocab at 0x12a1bf160>,\n",
       " 'parasite': <gensim.models.keyedvectors.Vocab at 0x12a1bf198>,\n",
       " 'bus?': <gensim.models.keyedvectors.Vocab at 0x12a1bf1d0>,\n",
       " 'lags': <gensim.models.keyedvectors.Vocab at 0x12a1bf208>,\n",
       " 'listen': <gensim.models.keyedvectors.Vocab at 0x12a1bf240>,\n",
       " 'driving': <gensim.models.keyedvectors.Vocab at 0x12a1bf278>,\n",
       " 'circles': <gensim.models.keyedvectors.Vocab at 0x12a1bf2b0>,\n",
       " 'vyklyuchaetsya': <gensim.models.keyedvectors.Vocab at 0x12a1bf2e8>,\n",
       " 'problems': <gensim.models.keyedvectors.Vocab at 0x12a1bf320>,\n",
       " 'menu': <gensim.models.keyedvectors.Vocab at 0x12a1bf358>,\n",
       " 'eraser': <gensim.models.keyedvectors.Vocab at 0x12a1bf390>,\n",
       " 'happens!': <gensim.models.keyedvectors.Vocab at 0x12a1bf3c8>,\n",
       " 'scary': <gensim.models.keyedvectors.Vocab at 0x12a1bf400>,\n",
       " 'ride!': <gensim.models.keyedvectors.Vocab at 0x12a1bf4a8>,\n",
       " 'basically': <gensim.models.keyedvectors.Vocab at 0x12a1bf4e0>,\n",
       " ...}"
      ]
     },
     "execution_count": 684,
     "metadata": {},
     "output_type": "execute_result"
    }
   ],
   "source": [
    "model.wv.vocab"
   ]
  },
  {
   "cell_type": "code",
   "execution_count": 351,
   "metadata": {
    "collapsed": false
   },
   "outputs": [
    {
     "data": {
      "text/plain": [
       "array([-0.50300199,  0.04139743,  0.82454377,  0.41891226, -1.084885  ,\n",
       "       -0.03003933,  0.07874607,  0.48014137, -0.66366529,  1.68105388,\n",
       "       -0.37871256, -1.04211962,  0.76086456, -0.38564274, -0.59853166,\n",
       "       -0.04918139, -0.06593145, -0.80067343, -0.06981833,  1.11383295,\n",
       "        0.19199596,  0.95754868, -0.43977851,  0.14806251, -0.42141971,\n",
       "       -0.30786735,  0.14245957,  0.310857  , -0.39109266,  0.5427863 ,\n",
       "        0.15948354,  0.30500302, -0.47283986,  0.08327557, -0.10890892,\n",
       "        0.29025045,  0.30813718,  0.26249543,  1.0311501 ,  0.25586045,\n",
       "       -0.05494288, -0.82644272, -0.22721148,  0.89808345, -0.91322565,\n",
       "       -0.72104716, -0.35385534, -0.15113999,  0.43976849,  0.0560342 ,\n",
       "        0.50092983,  1.05972099, -0.72786349,  0.6489411 , -0.13758892,\n",
       "       -0.58362192, -0.3875894 , -0.55948311, -0.04484276, -0.11134632,\n",
       "       -0.0438694 , -0.08521074, -0.60830629, -0.64786792, -0.18130584,\n",
       "        0.2429572 , -0.19910438,  0.28942937,  0.23924834, -0.49345779,\n",
       "       -0.64330846, -0.0506948 , -0.34874463,  0.40630245, -1.03767896,\n",
       "       -0.02275072, -0.03442358, -0.11201919, -0.4384129 ,  0.2179794 ,\n",
       "       -1.60111988, -0.43415725, -0.61650443,  0.09768828,  0.50230116,\n",
       "       -0.73784065,  0.01349824, -0.53678203, -0.37137327,  0.58895957,\n",
       "       -0.36462301,  0.0165953 ,  0.46628848, -0.93628234, -0.79103285,\n",
       "        0.78959537, -1.00498247, -0.13494676,  1.00345302, -0.61514217], dtype=float32)"
      ]
     },
     "execution_count": 351,
     "metadata": {},
     "output_type": "execute_result"
    }
   ],
   "source": [
    "model['feeding']"
   ]
  },
  {
   "cell_type": "code",
   "execution_count": 82,
   "metadata": {
    "collapsed": false
   },
   "outputs": [],
   "source": [
    "#model0 = gensim.models.KeyedVectors.load_word2vec_format('key_phrases', binary=False)\n",
    "# численный словарь синонимов из гугла "
   ]
  },
  {
   "cell_type": "code",
   "execution_count": 685,
   "metadata": {
    "collapsed": false
   },
   "outputs": [
    {
     "name": "stderr",
     "output_type": "stream",
     "text": [
      "2017-12-22 00:21:25,196 : INFO : precomputing L2-norms of word weight vectors\n"
     ]
    },
    {
     "data": {
      "text/plain": [
       "[('sleep', 0.9394545555114746),\n",
       " ('time', 0.9305657744407654),\n",
       " ('last', 0.9158550500869751),\n",
       " ('waking', 0.9151004552841187),\n",
       " ('breast', 0.9084455966949463),\n",
       " ('day', 0.8818502426147461),\n",
       " ('chest,', 0.8813436031341553),\n",
       " ('registered', 0.8661786317825317),\n",
       " ('hours', 0.863349437713623),\n",
       " ('feeding,', 0.8467268943786621)]"
      ]
     },
     "execution_count": 685,
     "metadata": {},
     "output_type": "execute_result"
    }
   ],
   "source": [
    "model.most_similar('feeding')"
   ]
  },
  {
   "cell_type": "code",
   "execution_count": 687,
   "metadata": {
    "collapsed": false
   },
   "outputs": [
    {
     "data": {
      "text/plain": [
       "0.59415472176442974"
      ]
     },
     "execution_count": 687,
     "metadata": {},
     "output_type": "execute_result"
    }
   ],
   "source": [
    "model.wv.similarity('feeding', 'son')"
   ]
  },
  {
   "cell_type": "code",
   "execution_count": 703,
   "metadata": {
    "collapsed": true
   },
   "outputs": [],
   "source": [
    "## Считаем по всем кластерами среднюю схожесть все ключевых слов внутри кластера по отношению ко всем ключевым словам \n",
    "## из других кластеров. так как у как у нас 35 кластеров, получается, 1225 пар\n",
    "\n",
    "d_par = {}\n",
    "\n",
    "for i in range (n_clusters_0):\n",
    "    for g in range (n_clusters_0):\n",
    "        d_par[(i,g)] = 0.0\n",
    "        n = 0  # сколько раз мы просуммировали, так как в модели может и не быть ключевого слова \n",
    "        if i == g:\n",
    "            continue\n",
    "        for k in df_rank_kw.keywords[i]:\n",
    "            for j in df_rank_kw.keywords[g]:\n",
    "                if j in model.wv.vocab and k in model.wv.vocab:\n",
    "                    d_par[(i,g)] += model.wv.similarity(k, j)\n",
    "                    n+=1\n",
    "        if n > 0:\n",
    "            d_par[(i,g)] =  d_par[(i,g)] / n"
   ]
  },
  {
   "cell_type": "code",
   "execution_count": 704,
   "metadata": {
    "collapsed": false
   },
   "outputs": [
    {
     "data": {
      "text/plain": [
       "1225"
      ]
     },
     "execution_count": 704,
     "metadata": {},
     "output_type": "execute_result"
    }
   ],
   "source": [
    "len(d_par)"
   ]
  },
  {
   "cell_type": "code",
   "execution_count": 715,
   "metadata": {
    "collapsed": false
   },
   "outputs": [
    {
     "name": "stdout",
     "output_type": "stream",
     "text": [
      "(0, 5) forget, error everyone\n",
      "(5, 0) everyone forget, error\n",
      "(5, 10) everyone problem\n",
      "(5, 19) everyone forgetful\n",
      "(10, 5) problem everyone\n",
      "(10, 19) problem forgetful\n",
      "(19, 5) forgetful everyone\n",
      "(19, 10) forgetful problem\n"
     ]
    }
   ],
   "source": [
    "for i, k in d_par.items():\n",
    "    if k > 0.8:\n",
    "        print (i, df_rank_kw.keywords[i[0]], df_rank_kw.keywords[i[1]])"
   ]
  },
  {
   "cell_type": "markdown",
   "metadata": {},
   "source": [
    "## Эксперимент 2 TF - IDF без выделения ключевых слов RANK "
   ]
  },
  {
   "cell_type": "code",
   "execution_count": 718,
   "metadata": {
    "collapsed": true
   },
   "outputs": [],
   "source": [
    "import sklearn.feature_extraction.text\n",
    "vctr1 = sklearn.feature_extraction.text.CountVectorizer()"
   ]
  },
  {
   "cell_type": "code",
   "execution_count": 719,
   "metadata": {
    "collapsed": false
   },
   "outputs": [],
   "source": [
    "X_train1 = vctr1.fit_transform(united_list_good) # векторизируем весь текст - преобразованные тексты \n",
    "#на основе векторизатоа\n",
    "# берем все тексты и ищем уникальные слова\n",
    "# В итоге, vctr1 - обученный векторизатор, X_train1 - это тексты (элементы) в виде точек в пространстве"
   ]
  },
  {
   "cell_type": "code",
   "execution_count": 552,
   "metadata": {
    "collapsed": false
   },
   "outputs": [],
   "source": [
    "# vctr1.vocabulary_ "
   ]
  },
  {
   "cell_type": "code",
   "execution_count": 720,
   "metadata": {
    "collapsed": false
   },
   "outputs": [
    {
     "data": {
      "text/plain": [
       "(587, 2566)"
      ]
     },
     "execution_count": 720,
     "metadata": {},
     "output_type": "execute_result"
    }
   ],
   "source": [
    "X_train1.shape"
   ]
  },
  {
   "cell_type": "code",
   "execution_count": 721,
   "metadata": {
    "collapsed": true
   },
   "outputs": [],
   "source": [
    "from sklearn.feature_extraction.text import TfidfVectorizer"
   ]
  },
  {
   "cell_type": "code",
   "execution_count": 722,
   "metadata": {
    "collapsed": true
   },
   "outputs": [],
   "source": [
    "tfidf = TfidfVectorizer(stop_words=stop_words_f) "
   ]
  },
  {
   "cell_type": "code",
   "execution_count": 723,
   "metadata": {
    "collapsed": true
   },
   "outputs": [],
   "source": [
    "from sklearn.feature_extraction.text import TfidfTransformer"
   ]
  },
  {
   "cell_type": "code",
   "execution_count": 724,
   "metadata": {
    "collapsed": false
   },
   "outputs": [],
   "source": [
    "tfidf_transformer = TfidfTransformer()"
   ]
  },
  {
   "cell_type": "code",
   "execution_count": 725,
   "metadata": {
    "collapsed": false
   },
   "outputs": [],
   "source": [
    "X_train1_tfidf = tfidf_transformer.fit_transform(X_train1)"
   ]
  },
  {
   "cell_type": "code",
   "execution_count": 726,
   "metadata": {
    "collapsed": false
   },
   "outputs": [
    {
     "data": {
      "text/plain": [
       "(587, 2566)"
      ]
     },
     "execution_count": 726,
     "metadata": {},
     "output_type": "execute_result"
    }
   ],
   "source": [
    "X_train1_tfidf.shape"
   ]
  },
  {
   "cell_type": "code",
   "execution_count": 727,
   "metadata": {
    "collapsed": false
   },
   "outputs": [
    {
     "data": {
      "image/png": "[encoded data removed]",
      "text/plain": [
       "<matplotlib.figure.Figure at 0x122ec9a90>"
      ]
     },
     "metadata": {},
     "output_type": "display_data"
    }
   ],
   "source": [
    "inertia1 = []\n",
    "for k in range(1, 50):\n",
    "    kmeans1 = KMeans(n_clusters=k, random_state=1).fit(X_train1_tfidf)\n",
    "    inertia1.append(np.sqrt(kmeans1.inertia_))\n",
    "\n",
    "plt.plot(range(1, 50), inertia1, marker='s');\n",
    "plt.xlabel('$k$')\n",
    "plt.ylabel('$J(C_k)$');"
   ]
  },
  {
   "cell_type": "code",
   "execution_count": 728,
   "metadata": {
    "collapsed": true
   },
   "outputs": [],
   "source": [
    "n_clusters_1 = 45"
   ]
  },
  {
   "cell_type": "code",
   "execution_count": 729,
   "metadata": {
    "collapsed": true
   },
   "outputs": [],
   "source": [
    "clf_kmeans1 = KMeans(n_clusters=n_clusters_1)"
   ]
  },
  {
   "cell_type": "code",
   "execution_count": 730,
   "metadata": {
    "collapsed": true
   },
   "outputs": [],
   "source": [
    "clusters_kmeans_predict1 = clf_kmeans1.fit_predict(X_train1_tfidf)"
   ]
  },
  {
   "cell_type": "code",
   "execution_count": 731,
   "metadata": {
    "collapsed": false
   },
   "outputs": [],
   "source": [
    "clusters_kmeans1 = clf_kmeans1.fit(X_train1_tfidf) # фит обучает кластеризатор "
   ]
  },
  {
   "cell_type": "markdown",
   "metadata": {},
   "source": [
    "## Анализируем кластеры по текстам "
   ]
  },
  {
   "cell_type": "code",
   "execution_count": 732,
   "metadata": {
    "collapsed": false
   },
   "outputs": [],
   "source": [
    "# находим центроиды - это среднее значение всех точек в кластере\n",
    "centroids1 = clusters_kmeans1.cluster_centers_"
   ]
  },
  {
   "cell_type": "code",
   "execution_count": 733,
   "metadata": {
    "collapsed": false
   },
   "outputs": [],
   "source": [
    "# находим расстояние от центроида до каждой точки (отзыва)\n",
    "dist_center_1 = euclidean_distances(centroids1, X_train1_tfidf)"
   ]
  },
  {
   "cell_type": "code",
   "execution_count": 734,
   "metadata": {
    "collapsed": false
   },
   "outputs": [],
   "source": [
    "# словарь всех текстов по кластерам\n",
    "dict_c1 = defaultdict(list)\n",
    "for i, elem in enumerate(clusters_kmeans_predict1):\n",
    "    dict_c1[elem].append(united_list_good[i])"
   ]
  },
  {
   "cell_type": "code",
   "execution_count": 735,
   "metadata": {
    "collapsed": false
   },
   "outputs": [],
   "source": [
    "dict_clust_texts_1 = defaultdict(list) # номер кластера и список наиболее близких индексов текстов\n",
    "dict_clust_index_1 = {} # номер кластера и список отзывов \n",
    "\n",
    "n_texts = 3 # количество наиболее близких текстов\n",
    "\n",
    "for i in range (n_clusters_1):\n",
    "    dict_clust_index_1[i] = dist_center_1[i].argsort()[:n_texts].tolist()\n",
    "\n",
    "for b, k in dict_clust_index_1.items(): #b - номер кластера, k - список индексов \n",
    "    for c in k: # c - каждый индекс в кластере b из списка k\n",
    "        dict_clust_texts_1[b].append(united_list_good[c])"
   ]
  },
  {
   "cell_type": "markdown",
   "metadata": {},
   "source": [
    "## Представим данные в виде таблички dataframe"
   ]
  },
  {
   "cell_type": "code",
   "execution_count": 736,
   "metadata": {
    "collapsed": true
   },
   "outputs": [],
   "source": [
    "columns_df_tfidf = ['volume','keytexts']"
   ]
  },
  {
   "cell_type": "code",
   "execution_count": 737,
   "metadata": {
    "collapsed": false
   },
   "outputs": [],
   "source": [
    "df_tfidf = pd.DataFrame(index = dict_clust_texts_1.keys(), columns=columns_df_tfidf)"
   ]
  },
  {
   "cell_type": "code",
   "execution_count": 738,
   "metadata": {
    "collapsed": true
   },
   "outputs": [],
   "source": [
    "df_tfidf['volume'] = [(len(dict_c1[i])) for i in sorted(dict_c1, reverse=False)] # кол-во текстов "
   ]
  },
  {
   "cell_type": "code",
   "execution_count": 739,
   "metadata": {
    "collapsed": false
   },
   "outputs": [],
   "source": [
    "df_tfidf['keytexts'] = [', '.join(k) for i, k in sorted (dict_clust_texts_1.items(), reverse=False)] # топ 5 пересекающихся ключевых слов"
   ]
  },
  {
   "cell_type": "code",
   "execution_count": 740,
   "metadata": {
    "collapsed": false
   },
   "outputs": [],
   "source": [
    "df_tfidf['texts'] = ['| '.join(k) for i, k in sorted(dict_c1.items(),reverse=False) ]"
   ]
  },
  {
   "cell_type": "code",
   "execution_count": 741,
   "metadata": {
    "collapsed": false
   },
   "outputs": [],
   "source": [
    "df_tfidf['textsvol'] = [sum(len(elem) for elem in k) for i, k in sorted(dict_c1.items(),reverse=False)]"
   ]
  },
  {
   "cell_type": "code",
   "execution_count": 742,
   "metadata": {
    "collapsed": false
   },
   "outputs": [],
   "source": [
    "df_tfidf['avetext'] = round(df_tfidf['textsvol'] / df_tfidf['volume'])"
   ]
  },
  {
   "cell_type": "code",
   "execution_count": 743,
   "metadata": {
    "collapsed": false
   },
   "outputs": [
    {
     "data": {
      "text/html": [
       "<div>\n",
       "<style>\n",
       "    .dataframe thead tr:only-child th {\n",
       "        text-align: right;\n",
       "    }\n",
       "\n",
       "    .dataframe thead th {\n",
       "        text-align: left;\n",
       "    }\n",
       "\n",
       "    .dataframe tbody tr th {\n",
       "        vertical-align: top;\n",
       "    }\n",
       "</style>\n",
       "<table border=\"1\" class=\"dataframe\">\n",
       "  <thead>\n",
       "    <tr style=\"text-align: right;\">\n",
       "      <th></th>\n",
       "      <th>volume</th>\n",
       "      <th>keytexts</th>\n",
       "      <th>texts</th>\n",
       "      <th>textsvol</th>\n",
       "      <th>avetext</th>\n",
       "    </tr>\n",
       "  </thead>\n",
       "  <tbody>\n",
       "    <tr>\n",
       "      <th>0</th>\n",
       "      <td>3</td>\n",
       "      <td>easy-handling. meaningful evaluations. everyth...</td>\n",
       "      <td>all that is described there, but still have no...</td>\n",
       "      <td>290</td>\n",
       "      <td>97.0</td>\n",
       "    </tr>\n",
       "    <tr>\n",
       "      <th>1</th>\n",
       "      <td>35</td>\n",
       "      <td>very good. you have the options to mark the ti...</td>\n",
       "      <td>in shock!great app, very helpful. would be 5* ...</td>\n",
       "      <td>6216</td>\n",
       "      <td>178.0</td>\n",
       "    </tr>\n",
       "    <tr>\n",
       "      <th>2</th>\n",
       "      <td>16</td>\n",
       "      <td>after upgrading somehow flies feeding timer/sl...</td>\n",
       "      <td>very good to keep all of the drinks; sleep, fe...</td>\n",
       "      <td>1990</td>\n",
       "      <td>124.0</td>\n",
       "    </tr>\n",
       "    <tr>\n",
       "      <th>3</th>\n",
       "      <td>8</td>\n",
       "      <td>class app. i am very satisfied. easy to use, y...</td>\n",
       "      <td>the app is very good, very convenient! whateve...</td>\n",
       "      <td>1703</td>\n",
       "      <td>213.0</td>\n",
       "    </tr>\n",
       "    <tr>\n",
       "      <th>4</th>\n",
       "      <td>13</td>\n",
       "      <td>helps me keep track of last diaper and last fe...</td>\n",
       "      <td>recommend. of the minuses - there is no author...</td>\n",
       "      <td>2757</td>\n",
       "      <td>212.0</td>\n",
       "    </tr>\n",
       "    <tr>\n",
       "      <th>5</th>\n",
       "      <td>13</td>\n",
       "      <td>this app makes life with a newborn easier. the...</td>\n",
       "      <td>like the app. but not very useful when timing ...</td>\n",
       "      <td>3589</td>\n",
       "      <td>276.0</td>\n",
       "    </tr>\n",
       "    <tr>\n",
       "      <th>6</th>\n",
       "      <td>9</td>\n",
       "      <td>i like just need to add the bathroom time, som...</td>\n",
       "      <td>very handy app, you can delete , edit,change d...</td>\n",
       "      <td>1625</td>\n",
       "      <td>181.0</td>\n",
       "    </tr>\n",
       "    <tr>\n",
       "      <th>7</th>\n",
       "      <td>106</td>\n",
       "      <td>hello,very good app,easy to use and convenient...</td>\n",
       "      <td>the app is user friendly, everything you need ...</td>\n",
       "      <td>35990</td>\n",
       "      <td>340.0</td>\n",
       "    </tr>\n",
       "    <tr>\n",
       "      <th>8</th>\n",
       "      <td>24</td>\n",
       "      <td>the app is very nice and comfortable. but it i...</td>\n",
       "      <td>all well and good, but there is one real minus...</td>\n",
       "      <td>5653</td>\n",
       "      <td>236.0</td>\n",
       "    </tr>\n",
       "    <tr>\n",
       "      <th>9</th>\n",
       "      <td>5</td>\n",
       "      <td>easy to use. i use it to track feedings and di...</td>\n",
       "      <td>great mom of the first trip helped a lot can🙏|...</td>\n",
       "      <td>528</td>\n",
       "      <td>106.0</td>\n",
       "    </tr>\n",
       "    <tr>\n",
       "      <th>10</th>\n",
       "      <td>11</td>\n",
       "      <td>everything was great, except for the missing w...</td>\n",
       "      <td>very cool app. add item notes for example. goo...</td>\n",
       "      <td>1600</td>\n",
       "      <td>145.0</td>\n",
       "    </tr>\n",
       "    <tr>\n",
       "      <th>11</th>\n",
       "      <td>2</td>\n",
       "      <td>a beautiful app! however, it would be perfect ...</td>\n",
       "      <td>periodically lag time, and the statistics abso...</td>\n",
       "      <td>184</td>\n",
       "      <td>92.0</td>\n",
       "    </tr>\n",
       "    <tr>\n",
       "      <th>12</th>\n",
       "      <td>21</td>\n",
       "      <td>super app and very helpful in the beginning of...</td>\n",
       "      <td>really like the app. use from the birth of the...</td>\n",
       "      <td>6119</td>\n",
       "      <td>291.0</td>\n",
       "    </tr>\n",
       "    <tr>\n",
       "      <th>13</th>\n",
       "      <td>6</td>\n",
       "      <td>it's wonderfully useful, couldn't do without i...</td>\n",
       "      <td>not enough sections for twins. enter each chil...</td>\n",
       "      <td>703</td>\n",
       "      <td>117.0</td>\n",
       "    </tr>\n",
       "    <tr>\n",
       "      <th>14</th>\n",
       "      <td>14</td>\n",
       "      <td>super app, really am very satisfied and can on...</td>\n",
       "      <td>i wish the day could turn into a date, and if ...</td>\n",
       "      <td>3045</td>\n",
       "      <td>218.0</td>\n",
       "    </tr>\n",
       "    <tr>\n",
       "      <th>15</th>\n",
       "      <td>9</td>\n",
       "      <td>for our needs just right. to have a clear and ...</td>\n",
       "      <td>could be a reminder to do as the alarm will re...</td>\n",
       "      <td>1859</td>\n",
       "      <td>207.0</td>\n",
       "    </tr>\n",
       "    <tr>\n",
       "      <th>16</th>\n",
       "      <td>12</td>\n",
       "      <td>the app is really good, the only thing you can...</td>\n",
       "      <td>great app, a godsend for moms. use from birth ...</td>\n",
       "      <td>1994</td>\n",
       "      <td>166.0</td>\n",
       "    </tr>\n",
       "    <tr>\n",
       "      <th>17</th>\n",
       "      <td>6</td>\n",
       "      <td>the app is good,the only minus-it is impossibl...</td>\n",
       "      <td>i would like a widget which would display what...</td>\n",
       "      <td>1178</td>\n",
       "      <td>196.0</td>\n",
       "    </tr>\n",
       "    <tr>\n",
       "      <th>18</th>\n",
       "      <td>7</td>\n",
       "      <td>this is a great app!! i use it since the birth...</td>\n",
       "      <td>for the mothers to breast-dementia suffering i...</td>\n",
       "      <td>493</td>\n",
       "      <td>70.0</td>\n",
       "    </tr>\n",
       "    <tr>\n",
       "      <th>19</th>\n",
       "      <td>26</td>\n",
       "      <td>application complete and easy-to-use, is an ap...</td>\n",
       "      <td>the app is super!!!! but if more walking to do...</td>\n",
       "      <td>6526</td>\n",
       "      <td>251.0</td>\n",
       "    </tr>\n",
       "    <tr>\n",
       "      <th>20</th>\n",
       "      <td>4</td>\n",
       "      <td>easy-to-use. helps me in the day with my baby,...</td>\n",
       "      <td>great prilozenie! everything is clear,easy to ...</td>\n",
       "      <td>378</td>\n",
       "      <td>94.0</td>\n",
       "    </tr>\n",
       "    <tr>\n",
       "      <th>21</th>\n",
       "      <td>8</td>\n",
       "      <td>great and thought-out app. a widget would be g...</td>\n",
       "      <td>hello! would love to be under medication, it w...</td>\n",
       "      <td>2421</td>\n",
       "      <td>303.0</td>\n",
       "    </tr>\n",
       "    <tr>\n",
       "      <th>22</th>\n",
       "      <td>6</td>\n",
       "      <td>i love the app. but now i switched phone and n...</td>\n",
       "      <td>great app very convenient! it was still a good...</td>\n",
       "      <td>839</td>\n",
       "      <td>140.0</td>\n",
       "    </tr>\n",
       "    <tr>\n",
       "      <th>23</th>\n",
       "      <td>18</td>\n",
       "      <td>a diary function is missing. and a command fro...</td>\n",
       "      <td>if not difficult and it can be done, please ad...</td>\n",
       "      <td>5365</td>\n",
       "      <td>298.0</td>\n",
       "    </tr>\n",
       "    <tr>\n",
       "      <th>24</th>\n",
       "      <td>33</td>\n",
       "      <td>great. but it could have option of controlling...</td>\n",
       "      <td>downloaded when the baby was almost a month. v...</td>\n",
       "      <td>5675</td>\n",
       "      <td>172.0</td>\n",
       "    </tr>\n",
       "    <tr>\n",
       "      <th>25</th>\n",
       "      <td>21</td>\n",
       "      <td>great mom of the first trip helped a lot can🙏,...</td>\n",
       "      <td>great app!!! it helps to watch your baby for i...</td>\n",
       "      <td>2015</td>\n",
       "      <td>96.0</td>\n",
       "    </tr>\n",
       "    <tr>\n",
       "      <th>26</th>\n",
       "      <td>14</td>\n",
       "      <td>the only drawback - you can not put the beginn...</td>\n",
       "      <td>very convenient and useful app! i suffered rem...</td>\n",
       "      <td>3009</td>\n",
       "      <td>215.0</td>\n",
       "    </tr>\n",
       "    <tr>\n",
       "      <th>27</th>\n",
       "      <td>11</td>\n",
       "      <td>great app for us moms. has timer with time of ...</td>\n",
       "      <td>super app when you do not have to bother with ...</td>\n",
       "      <td>933</td>\n",
       "      <td>85.0</td>\n",
       "    </tr>\n",
       "    <tr>\n",
       "      <th>28</th>\n",
       "      <td>4</td>\n",
       "      <td>periodically lag time, and the statistics abso...</td>\n",
       "      <td>great app. sorry no vidzhity for efficiency.| ...</td>\n",
       "      <td>376</td>\n",
       "      <td>94.0</td>\n",
       "    </tr>\n",
       "    <tr>\n",
       "      <th>29</th>\n",
       "      <td>12</td>\n",
       "      <td>desirable in a darkened night mode would be., ...</td>\n",
       "      <td>i really like the app to record feedings and d...</td>\n",
       "      <td>2531</td>\n",
       "      <td>211.0</td>\n",
       "    </tr>\n",
       "    <tr>\n",
       "      <th>30</th>\n",
       "      <td>12</td>\n",
       "      <td>in the graphs could show the exact date of the...</td>\n",
       "      <td>i don't have enough information about the walk...</td>\n",
       "      <td>1981</td>\n",
       "      <td>165.0</td>\n",
       "    </tr>\n",
       "    <tr>\n",
       "      <th>31</th>\n",
       "      <td>4</td>\n",
       "      <td>i use it since 1 week : not bad but would real...</td>\n",
       "      <td>everything was great, except for the missing w...</td>\n",
       "      <td>391</td>\n",
       "      <td>98.0</td>\n",
       "    </tr>\n",
       "    <tr>\n",
       "      <th>32</th>\n",
       "      <td>8</td>\n",
       "      <td>perfect for assisting in the control of hours ...</td>\n",
       "      <td>good app but sometimes shows incorrect statist...</td>\n",
       "      <td>913</td>\n",
       "      <td>114.0</td>\n",
       "    </tr>\n",
       "    <tr>\n",
       "      <th>33</th>\n",
       "      <td>4</td>\n",
       "      <td>it is a pity that you cannot control the voice...</td>\n",
       "      <td>i mostly like this app, but i wish it allowed ...</td>\n",
       "      <td>632</td>\n",
       "      <td>158.0</td>\n",
       "    </tr>\n",
       "    <tr>\n",
       "      <th>34</th>\n",
       "      <td>7</td>\n",
       "      <td>good app. see when and which breast was fed, h...</td>\n",
       "      <td>easy to use. it helps keep track of multiple t...</td>\n",
       "      <td>1132</td>\n",
       "      <td>162.0</td>\n",
       "    </tr>\n",
       "    <tr>\n",
       "      <th>35</th>\n",
       "      <td>2</td>\n",
       "      <td>i am very satisfied. i would, however, wish it...</td>\n",
       "      <td>this app is pretty helpful in keeping your bab...</td>\n",
       "      <td>821</td>\n",
       "      <td>410.0</td>\n",
       "    </tr>\n",
       "    <tr>\n",
       "      <th>36</th>\n",
       "      <td>4</td>\n",
       "      <td>all well and good, but there is one real minus...</td>\n",
       "      <td>the app is extremely helpful! one big disadvan...</td>\n",
       "      <td>473</td>\n",
       "      <td>118.0</td>\n",
       "    </tr>\n",
       "    <tr>\n",
       "      <th>37</th>\n",
       "      <td>11</td>\n",
       "      <td>functional and convenient with a nice unclutte...</td>\n",
       "      <td>pts convenient, but it would even better if wa...</td>\n",
       "      <td>2026</td>\n",
       "      <td>184.0</td>\n",
       "    </tr>\n",
       "    <tr>\n",
       "      <th>38</th>\n",
       "      <td>5</td>\n",
       "      <td>give a solid pyaterochka! and i love that! ver...</td>\n",
       "      <td>synchronization no no. buggy the duration of f...</td>\n",
       "      <td>578</td>\n",
       "      <td>116.0</td>\n",
       "    </tr>\n",
       "    <tr>\n",
       "      <th>39</th>\n",
       "      <td>8</td>\n",
       "      <td>clear and easy to use. with a little effort, y...</td>\n",
       "      <td>helps confused which breast to feed the child)...</td>\n",
       "      <td>906</td>\n",
       "      <td>113.0</td>\n",
       "    </tr>\n",
       "    <tr>\n",
       "      <th>40</th>\n",
       "      <td>14</td>\n",
       "      <td>good app but sometimes shows incorrect statist...</td>\n",
       "      <td>like the app, as an inexperienced mother i alw...</td>\n",
       "      <td>3273</td>\n",
       "      <td>234.0</td>\n",
       "    </tr>\n",
       "    <tr>\n",
       "      <th>41</th>\n",
       "      <td>10</td>\n",
       "      <td>after each entry, the app closes,very uncomfor...</td>\n",
       "      <td>functional and convenient with a nice unclutte...</td>\n",
       "      <td>1869</td>\n",
       "      <td>187.0</td>\n",
       "    </tr>\n",
       "    <tr>\n",
       "      <th>42</th>\n",
       "      <td>2</td>\n",
       "      <td>i liked the app. of all the others, this one i...</td>\n",
       "      <td>after each entry, the app closes,very uncomfor...</td>\n",
       "      <td>195</td>\n",
       "      <td>98.0</td>\n",
       "    </tr>\n",
       "    <tr>\n",
       "      <th>43</th>\n",
       "      <td>15</td>\n",
       "      <td>this app has been absolutely wonderful!! while...</td>\n",
       "      <td>i was happy with everything. anything to keep ...</td>\n",
       "      <td>2543</td>\n",
       "      <td>170.0</td>\n",
       "    </tr>\n",
       "    <tr>\n",
       "      <th>44</th>\n",
       "      <td>4</td>\n",
       "      <td>i love this app! it's so easy to navigate and ...</td>\n",
       "      <td>add something like a reminder (alarm) when to ...</td>\n",
       "      <td>480</td>\n",
       "      <td>120.0</td>\n",
       "    </tr>\n",
       "  </tbody>\n",
       "</table>\n",
       "</div>"
      ],
      "text/plain": [
       "    volume                                           keytexts  \\\n",
       "0        3  easy-handling. meaningful evaluations. everyth...   \n",
       "1       35  very good. you have the options to mark the ti...   \n",
       "2       16  after upgrading somehow flies feeding timer/sl...   \n",
       "3        8  class app. i am very satisfied. easy to use, y...   \n",
       "4       13  helps me keep track of last diaper and last fe...   \n",
       "5       13  this app makes life with a newborn easier. the...   \n",
       "6        9  i like just need to add the bathroom time, som...   \n",
       "7      106  hello,very good app,easy to use and convenient...   \n",
       "8       24  the app is very nice and comfortable. but it i...   \n",
       "9        5  easy to use. i use it to track feedings and di...   \n",
       "10      11  everything was great, except for the missing w...   \n",
       "11       2  a beautiful app! however, it would be perfect ...   \n",
       "12      21  super app and very helpful in the beginning of...   \n",
       "13       6  it's wonderfully useful, couldn't do without i...   \n",
       "14      14  super app, really am very satisfied and can on...   \n",
       "15       9  for our needs just right. to have a clear and ...   \n",
       "16      12  the app is really good, the only thing you can...   \n",
       "17       6  the app is good,the only minus-it is impossibl...   \n",
       "18       7  this is a great app!! i use it since the birth...   \n",
       "19      26  application complete and easy-to-use, is an ap...   \n",
       "20       4  easy-to-use. helps me in the day with my baby,...   \n",
       "21       8  great and thought-out app. a widget would be g...   \n",
       "22       6  i love the app. but now i switched phone and n...   \n",
       "23      18  a diary function is missing. and a command fro...   \n",
       "24      33  great. but it could have option of controlling...   \n",
       "25      21  great mom of the first trip helped a lot can🙏,...   \n",
       "26      14  the only drawback - you can not put the beginn...   \n",
       "27      11  great app for us moms. has timer with time of ...   \n",
       "28       4  periodically lag time, and the statistics abso...   \n",
       "29      12  desirable in a darkened night mode would be., ...   \n",
       "30      12  in the graphs could show the exact date of the...   \n",
       "31       4  i use it since 1 week : not bad but would real...   \n",
       "32       8  perfect for assisting in the control of hours ...   \n",
       "33       4  it is a pity that you cannot control the voice...   \n",
       "34       7  good app. see when and which breast was fed, h...   \n",
       "35       2  i am very satisfied. i would, however, wish it...   \n",
       "36       4  all well and good, but there is one real minus...   \n",
       "37      11  functional and convenient with a nice unclutte...   \n",
       "38       5  give a solid pyaterochka! and i love that! ver...   \n",
       "39       8  clear and easy to use. with a little effort, y...   \n",
       "40      14  good app but sometimes shows incorrect statist...   \n",
       "41      10  after each entry, the app closes,very uncomfor...   \n",
       "42       2  i liked the app. of all the others, this one i...   \n",
       "43      15  this app has been absolutely wonderful!! while...   \n",
       "44       4  i love this app! it's so easy to navigate and ...   \n",
       "\n",
       "                                                texts  textsvol  avetext  \n",
       "0   all that is described there, but still have no...       290     97.0  \n",
       "1   in shock!great app, very helpful. would be 5* ...      6216    178.0  \n",
       "2   very good to keep all of the drinks; sleep, fe...      1990    124.0  \n",
       "3   the app is very good, very convenient! whateve...      1703    213.0  \n",
       "4   recommend. of the minuses - there is no author...      2757    212.0  \n",
       "5   like the app. but not very useful when timing ...      3589    276.0  \n",
       "6   very handy app, you can delete , edit,change d...      1625    181.0  \n",
       "7   the app is user friendly, everything you need ...     35990    340.0  \n",
       "8   all well and good, but there is one real minus...      5653    236.0  \n",
       "9   great mom of the first trip helped a lot can🙏|...       528    106.0  \n",
       "10  very cool app. add item notes for example. goo...      1600    145.0  \n",
       "11  periodically lag time, and the statistics abso...       184     92.0  \n",
       "12  really like the app. use from the birth of the...      6119    291.0  \n",
       "13  not enough sections for twins. enter each chil...       703    117.0  \n",
       "14  i wish the day could turn into a date, and if ...      3045    218.0  \n",
       "15  could be a reminder to do as the alarm will re...      1859    207.0  \n",
       "16  great app, a godsend for moms. use from birth ...      1994    166.0  \n",
       "17  i would like a widget which would display what...      1178    196.0  \n",
       "18  for the mothers to breast-dementia suffering i...       493     70.0  \n",
       "19  the app is super!!!! but if more walking to do...      6526    251.0  \n",
       "20  great prilozenie! everything is clear,easy to ...       378     94.0  \n",
       "21  hello! would love to be under medication, it w...      2421    303.0  \n",
       "22  great app very convenient! it was still a good...       839    140.0  \n",
       "23  if not difficult and it can be done, please ad...      5365    298.0  \n",
       "24  downloaded when the baby was almost a month. v...      5675    172.0  \n",
       "25  great app!!! it helps to watch your baby for i...      2015     96.0  \n",
       "26  very convenient and useful app! i suffered rem...      3009    215.0  \n",
       "27  super app when you do not have to bother with ...       933     85.0  \n",
       "28  great app. sorry no vidzhity for efficiency.| ...       376     94.0  \n",
       "29  i really like the app to record feedings and d...      2531    211.0  \n",
       "30  i don't have enough information about the walk...      1981    165.0  \n",
       "31  everything was great, except for the missing w...       391     98.0  \n",
       "32  good app but sometimes shows incorrect statist...       913    114.0  \n",
       "33  i mostly like this app, but i wish it allowed ...       632    158.0  \n",
       "34  easy to use. it helps keep track of multiple t...      1132    162.0  \n",
       "35  this app is pretty helpful in keeping your bab...       821    410.0  \n",
       "36  the app is extremely helpful! one big disadvan...       473    118.0  \n",
       "37  pts convenient, but it would even better if wa...      2026    184.0  \n",
       "38  synchronization no no. buggy the duration of f...       578    116.0  \n",
       "39  helps confused which breast to feed the child)...       906    113.0  \n",
       "40  like the app, as an inexperienced mother i alw...      3273    234.0  \n",
       "41  functional and convenient with a nice unclutte...      1869    187.0  \n",
       "42  after each entry, the app closes,very uncomfor...       195     98.0  \n",
       "43  i was happy with everything. anything to keep ...      2543    170.0  \n",
       "44  add something like a reminder (alarm) when to ...       480    120.0  "
      ]
     },
     "execution_count": 743,
     "metadata": {},
     "output_type": "execute_result"
    }
   ],
   "source": [
    "df_tfidf"
   ]
  },
  {
   "cell_type": "code",
   "execution_count": 1,
   "metadata": {
    "collapsed": false
   },
   "outputs": [
    {
     "ename": "NameError",
     "evalue": "name 'df_tfidf' is not defined",
     "output_type": "error",
     "traceback": [
      "\u001b[0;31m---------------------------------------------------------------------------\u001b[0m",
      "\u001b[0;31mNameError\u001b[0m                                 Traceback (most recent call last)",
      "\u001b[0;32m<ipython-input-1-1d090ef857b5>\u001b[0m in \u001b[0;36m<module>\u001b[0;34m()\u001b[0m\n\u001b[0;32m----> 1\u001b[0;31m \u001b[0mdf_tfidf\u001b[0m\u001b[0;34m[\u001b[0m\u001b[0;36m0\u001b[0m\u001b[0;34m:\u001b[0m\u001b[0;36m5\u001b[0m\u001b[0;34m]\u001b[0m\u001b[0;34m\u001b[0m\u001b[0m\n\u001b[0m",
      "\u001b[0;31mNameError\u001b[0m: name 'df_tfidf' is not defined"
     ]
    }
   ],
   "source": [
    "df_tfidf[0:5]"
   ]
  },
  {
   "cell_type": "code",
   "execution_count": 744,
   "metadata": {
    "collapsed": false
   },
   "outputs": [
    {
     "data": {
      "text/plain": [
       "'easy-handling. meaningful evaluations. everything top!, easy operation, simple menu and everything is available what do i need! top, very clear handling-designed and very simple. perfect for me :)'"
      ]
     },
     "execution_count": 744,
     "metadata": {},
     "output_type": "execute_result"
    }
   ],
   "source": [
    "df_tfidf.keytexts[0]"
   ]
  },
  {
   "cell_type": "markdown",
   "metadata": {},
   "source": [
    "## Эксперимент номер 3 - Rake"
   ]
  },
  {
   "cell_type": "code",
   "execution_count": 745,
   "metadata": {
    "collapsed": true
   },
   "outputs": [],
   "source": [
    "import rake_nltk"
   ]
  },
  {
   "cell_type": "code",
   "execution_count": 812,
   "metadata": {
    "collapsed": true
   },
   "outputs": [],
   "source": [
    "def extract_keywords_from_text(text, min_score):\n",
    "    r = rake_nltk.Rake(language='english')\n",
    "    r.extract_keywords_from_text(text)\n",
    "    return  [word[1] for word in r.get_ranked_phrases_with_scores() if word[0] >= min_score or min_score is None]\n",
    "# если нет score нет, то он не учитывается\n",
    "# word[1] - это уже ключевое слова, а word[0] - это рейтинг "
   ]
  },
  {
   "cell_type": "code",
   "execution_count": 813,
   "metadata": {
    "collapsed": false
   },
   "outputs": [],
   "source": [
    "# находим ключевые слова через алгоритм textrank, ставим ограничения по кол-ву 35 и ссодержанию больше 0\n",
    "# выделить текст и ставим score 3 как показатель \n",
    "\n",
    "united_total_list_rake = []\n",
    "key_phrases_rake = []\n",
    "for i in united_list_lower:\n",
    "    y = [b for b in extract_keywords_from_text(i, 3) if b not in stop_words_f]\n",
    "    if len(i) > 35 and len(y) > 0: \n",
    "        key_phrases_rake.append(y)\n",
    "        united_total_list_rake.append(i)"
   ]
  },
  {
   "cell_type": "code",
   "execution_count": 814,
   "metadata": {
    "collapsed": false
   },
   "outputs": [
    {
     "data": {
      "text/plain": [
       "1766"
      ]
     },
     "execution_count": 814,
     "metadata": {},
     "output_type": "execute_result"
    }
   ],
   "source": [
    "len(united_total_list_rake)"
   ]
  },
  {
   "cell_type": "code",
   "execution_count": 815,
   "metadata": {
    "collapsed": false
   },
   "outputs": [
    {
     "data": {
      "text/plain": [
       "1766"
      ]
     },
     "execution_count": 815,
     "metadata": {},
     "output_type": "execute_result"
    }
   ],
   "source": [
    "len(key_phrases_rake)"
   ]
  },
  {
   "cell_type": "code",
   "execution_count": null,
   "metadata": {
    "collapsed": true
   },
   "outputs": [],
   "source": [
    "# Сохраняем данные на диске в формате python списка "
   ]
  },
  {
   "cell_type": "code",
   "execution_count": 299,
   "metadata": {
    "collapsed": true
   },
   "outputs": [],
   "source": [
    "with open('key_phrases_rake.pickle', 'wb') as f:\n",
    "    # Pickle the 'data' dictionary using the highest protocol available.\n",
    "    pickle.dump(key_phrases_rake, f, pickle.HIGHEST_PROTOCOL)"
   ]
  },
  {
   "cell_type": "code",
   "execution_count": 799,
   "metadata": {
    "collapsed": true
   },
   "outputs": [],
   "source": [
    "with open('key_phrases_rake.pickle', 'rb') as f:\n",
    "    # The protocol version used is detected automatically, so we do not\n",
    "    # have to specify it.\n",
    "    key_phrases_rake = pickle.load(f)"
   ]
  },
  {
   "cell_type": "code",
   "execution_count": null,
   "metadata": {
    "collapsed": true
   },
   "outputs": [],
   "source": [
    "# Сохраняем данные на диске в формате python списка "
   ]
  },
  {
   "cell_type": "code",
   "execution_count": 300,
   "metadata": {
    "collapsed": true
   },
   "outputs": [],
   "source": [
    "with open('united_total_list_rake.pickle', 'wb') as f:\n",
    "    # Pickle the 'data' dictionary using the highest protocol available.\n",
    "    pickle.dump(united_total_list_rake, f, pickle.HIGHEST_PROTOCOL)"
   ]
  },
  {
   "cell_type": "code",
   "execution_count": 800,
   "metadata": {
    "collapsed": true
   },
   "outputs": [],
   "source": [
    "with open('key_phrases_rake.pickle', 'rb') as f:\n",
    "    # The protocol version used is detected automatically, so we do not\n",
    "    # have to specify it.\n",
    "    key_phrases_rake = pickle.load(f)"
   ]
  },
  {
   "cell_type": "markdown",
   "metadata": {},
   "source": [
    "## Векторизируем "
   ]
  },
  {
   "cell_type": "code",
   "execution_count": 816,
   "metadata": {
    "collapsed": false
   },
   "outputs": [],
   "source": [
    "import sklearn.feature_extraction.text\n",
    "vctr2 = sklearn.feature_extraction.text.CountVectorizer(tokenizer = lambda key_phrases_rake: key_phrases_rake, preprocessor=lambda key_phrases_rake: key_phrases_rake)\n",
    "\n",
    "# tokenizer = lambda key_phrases: key_phrases - должен взять список и отдать список \n",
    "#(вместо взять сплошной текст и отдать список слов)\n",
    "# preprocessor=lambda x: x - должен взять список и отдать список"
   ]
  },
  {
   "cell_type": "code",
   "execution_count": 817,
   "metadata": {
    "collapsed": false
   },
   "outputs": [],
   "source": [
    "X_train2 = vctr2.fit_transform(key_phrases_rake) # скармливаем весь текст ключевых слов "
   ]
  },
  {
   "cell_type": "code",
   "execution_count": 818,
   "metadata": {
    "collapsed": false
   },
   "outputs": [
    {
     "data": {
      "text/plain": [
       "(1766, 4103)"
      ]
     },
     "execution_count": 818,
     "metadata": {},
     "output_type": "execute_result"
    }
   ],
   "source": [
    "X_train2.shape"
   ]
  },
  {
   "cell_type": "markdown",
   "metadata": {},
   "source": [
    "## Кластеризация "
   ]
  },
  {
   "cell_type": "code",
   "execution_count": 819,
   "metadata": {
    "collapsed": true
   },
   "outputs": [],
   "source": [
    "from sklearn.cluster import KMeans"
   ]
  },
  {
   "cell_type": "code",
   "execution_count": 820,
   "metadata": {
    "collapsed": true
   },
   "outputs": [],
   "source": [
    "# Выбираем оптимальное кол-во кластеров "
   ]
  },
  {
   "cell_type": "code",
   "execution_count": 821,
   "metadata": {
    "collapsed": false
   },
   "outputs": [
    {
     "data": {
      "image/png": "[encoded data removed]",
      "text/plain": [
       "<matplotlib.figure.Figure at 0x123d3e278>"
      ]
     },
     "metadata": {},
     "output_type": "display_data"
    }
   ],
   "source": [
    "inertia2 = []\n",
    "for k in range(1, 40):\n",
    "    kmeans2 = KMeans(n_clusters=k, random_state=1).fit(X_train2)\n",
    "    inertia2.append(np.sqrt(kmeans2.inertia_))\n",
    "\n",
    "plt.plot(range(1, 40), inertia2, marker='s');\n",
    "plt.xlabel('$k$') # количество кластеров \n",
    "plt.ylabel('$J(C_k)$'); # среднее расстояние до центроидов \n",
    "\n",
    "\n",
    "# интуитивно по графику видно, что он скачет - неравномерный, нет седловой точки \n",
    "# ситуаиция не стабилизируется "
   ]
  },
  {
   "cell_type": "code",
   "execution_count": 822,
   "metadata": {
    "collapsed": true
   },
   "outputs": [],
   "source": [
    "n_clusters_2 = 35"
   ]
  },
  {
   "cell_type": "code",
   "execution_count": 823,
   "metadata": {
    "collapsed": false
   },
   "outputs": [],
   "source": [
    "clf_kmeans2 = KMeans(n_clusters=n_clusters_2) #создается необученный кластеризатор "
   ]
  },
  {
   "cell_type": "code",
   "execution_count": 674,
   "metadata": {
    "collapsed": true
   },
   "outputs": [],
   "source": [
    "# Передаем в модель все данные "
   ]
  },
  {
   "cell_type": "code",
   "execution_count": 824,
   "metadata": {
    "collapsed": true
   },
   "outputs": [],
   "source": [
    "clusters_kmeans_predict2 = clf_kmeans2.fit_predict(X_train2)\n",
    "## чем отличается фит от предикт - делает фит (обучает модель) и предсказывает"
   ]
  },
  {
   "cell_type": "code",
   "execution_count": 825,
   "metadata": {
    "collapsed": false
   },
   "outputs": [
    {
     "data": {
      "text/plain": [
       "(1766,)"
      ]
     },
     "execution_count": 825,
     "metadata": {},
     "output_type": "execute_result"
    }
   ],
   "source": [
    "clusters_kmeans_predict2.shape"
   ]
  },
  {
   "cell_type": "code",
   "execution_count": 826,
   "metadata": {
    "collapsed": true
   },
   "outputs": [],
   "source": [
    "clusters_kmeans2 = clf_kmeans2.fit(X_train2) # фит обучает кластеризатор "
   ]
  },
  {
   "cell_type": "markdown",
   "metadata": {},
   "source": [
    "## Оценка кластеров"
   ]
  },
  {
   "cell_type": "code",
   "execution_count": 827,
   "metadata": {
    "collapsed": false
   },
   "outputs": [],
   "source": [
    "# Создаем словарь - номер кластера это ключ, а значение - это текст (отзыв), который соответствует кластеру \n",
    "dict_c2 = defaultdict(list)\n",
    "\n",
    "# Создаем словарь - номер кластера это ключ, а значение - это список ключевых слов каждого отзыв, который соответствует кластеру \n",
    "dict_kp2 = defaultdict(list)\n",
    "\n",
    "\n",
    "for i, elem in enumerate(clusters_kmeans_predict2):\n",
    "    dict_c2[elem].append(united_total_list_rake[i])\n",
    "    dict_kp2[elem].append(key_phrases_rake[i])"
   ]
  },
  {
   "cell_type": "markdown",
   "metadata": {},
   "source": [
    "### Определим топ N близких ключевых слов к центроидам\n",
    "### чтобы вывести наиболее характерные слова для каждого кластера"
   ]
  },
  {
   "cell_type": "code",
   "execution_count": 828,
   "metadata": {
    "collapsed": true
   },
   "outputs": [],
   "source": [
    "# находим центроиды - это среднее значение всех точек в кластере\n",
    "centroids2 = clusters_kmeans2.cluster_centers_"
   ]
  },
  {
   "cell_type": "code",
   "execution_count": 829,
   "metadata": {
    "collapsed": false
   },
   "outputs": [
    {
     "data": {
      "text/plain": [
       "(35, 4103)"
      ]
     },
     "execution_count": 829,
     "metadata": {},
     "output_type": "execute_result"
    }
   ],
   "source": [
    "centroids2.shape"
   ]
  },
  {
   "cell_type": "code",
   "execution_count": 830,
   "metadata": {
    "collapsed": true
   },
   "outputs": [],
   "source": [
    "# находим среднее расстояние до центроида от каждой точки (ключевого слова из тренировачных данных)\n",
    "dist_center_2 = euclidean_distances(centroids2, X_train2)"
   ]
  },
  {
   "cell_type": "code",
   "execution_count": 831,
   "metadata": {
    "collapsed": false
   },
   "outputs": [
    {
     "data": {
      "text/plain": [
       "(35, 1766)"
      ]
     },
     "execution_count": 831,
     "metadata": {},
     "output_type": "execute_result"
    }
   ],
   "source": [
    "dist_center_2.shape"
   ]
  },
  {
   "cell_type": "code",
   "execution_count": 832,
   "metadata": {
    "collapsed": false
   },
   "outputs": [],
   "source": [
    "dict_clust_keywords_2 = {} # номер кластера и список его индексов \n",
    "dict_clust_index_2 = {} # номер кластера и список ключевых слов \n",
    "n_words = 10 # количество наиболее близких слова\n",
    "for i in range (n_clusters_2):\n",
    "    dict_clust_index_2[i] = dist_center_2[i].argsort()[:n_words].tolist()\n",
    "for b, k in dict_clust_index_2.items():\n",
    "    for c in k:\n",
    "        dict_clust_keywords_2[b] = key_phrases_rake[c]"
   ]
  },
  {
   "cell_type": "markdown",
   "metadata": {},
   "source": [
    "## Представим данные в виде таблички dataframe"
   ]
  },
  {
   "cell_type": "code",
   "execution_count": 833,
   "metadata": {
    "collapsed": true
   },
   "outputs": [],
   "source": [
    "columns_df_rake = ['volume','keywords']"
   ]
  },
  {
   "cell_type": "code",
   "execution_count": 834,
   "metadata": {
    "collapsed": false
   },
   "outputs": [],
   "source": [
    "df_rake = pd.DataFrame(index = dict_clust_keywords_2.keys(), columns=columns_df_rake)"
   ]
  },
  {
   "cell_type": "code",
   "execution_count": 835,
   "metadata": {
    "collapsed": true
   },
   "outputs": [],
   "source": [
    "df_rake['volume'] = [(len(dict_c2[i])) for i in sorted(dict_c2, reverse=False)] # кол-во текстов "
   ]
  },
  {
   "cell_type": "code",
   "execution_count": 836,
   "metadata": {
    "collapsed": false
   },
   "outputs": [],
   "source": [
    "df_rake['keywords'] = [', '.join(k) for i, k in sorted (dict_clust_keywords_2.items(), reverse=False)] # топ 5 пересекающихся ключевых слов"
   ]
  },
  {
   "cell_type": "code",
   "execution_count": 837,
   "metadata": {
    "collapsed": false
   },
   "outputs": [],
   "source": [
    "df_rake['texts'] = ['| '.join(k) for i, k in sorted(dict_c2.items(),reverse=False) ]"
   ]
  },
  {
   "cell_type": "code",
   "execution_count": 838,
   "metadata": {
    "collapsed": false
   },
   "outputs": [],
   "source": [
    "df_rake['textsvol'] = [sum(len(elem) for elem in k) for i, k in sorted(dict_c2.items(),reverse=False)]"
   ]
  },
  {
   "cell_type": "code",
   "execution_count": 839,
   "metadata": {
    "collapsed": false
   },
   "outputs": [],
   "source": [
    "df_rake['avetext'] = round(df_rake['textsvol'] / df_rake['volume'])"
   ]
  },
  {
   "cell_type": "code",
   "execution_count": 840,
   "metadata": {
    "collapsed": false
   },
   "outputs": [
    {
     "data": {
      "text/html": [
       "<div>\n",
       "<style>\n",
       "    .dataframe thead tr:only-child th {\n",
       "        text-align: right;\n",
       "    }\n",
       "\n",
       "    .dataframe thead th {\n",
       "        text-align: left;\n",
       "    }\n",
       "\n",
       "    .dataframe tbody tr th {\n",
       "        vertical-align: top;\n",
       "    }\n",
       "</style>\n",
       "<table border=\"1\" class=\"dataframe\">\n",
       "  <thead>\n",
       "    <tr style=\"text-align: right;\">\n",
       "      <th></th>\n",
       "      <th>volume</th>\n",
       "      <th>keywords</th>\n",
       "      <th>texts</th>\n",
       "      <th>textsvol</th>\n",
       "      <th>avetext</th>\n",
       "    </tr>\n",
       "  </thead>\n",
       "  <tbody>\n",
       "    <tr>\n",
       "      <th>0</th>\n",
       "      <td>1338</td>\n",
       "      <td>q want</td>\n",
       "      <td>thank you so much for your work! this is the b...</td>\n",
       "      <td>174907</td>\n",
       "      <td>131.0</td>\n",
       "    </tr>\n",
       "    <tr>\n",
       "      <th>1</th>\n",
       "      <td>2</td>\n",
       "      <td>keeping track</td>\n",
       "      <td>statistics a little poorly labeled, but always...</td>\n",
       "      <td>164</td>\n",
       "      <td>82.0</td>\n",
       "    </tr>\n",
       "    <tr>\n",
       "      <th>2</th>\n",
       "      <td>60</td>\n",
       "      <td>temperature chart, good app</td>\n",
       "      <td>i would like to decrypt in the charts clicking...</td>\n",
       "      <td>14288</td>\n",
       "      <td>238.0</td>\n",
       "    </tr>\n",
       "    <tr>\n",
       "      <th>3</th>\n",
       "      <td>1</td>\n",
       "      <td>track feedings</td>\n",
       "      <td>this app is so easy to use and the graphs are ...</td>\n",
       "      <td>386</td>\n",
       "      <td>386.0</td>\n",
       "    </tr>\n",
       "    <tr>\n",
       "      <th>4</th>\n",
       "      <td>2</td>\n",
       "      <td>keep track</td>\n",
       "      <td>the app shows a lot of detail and reminds us, ...</td>\n",
       "      <td>250</td>\n",
       "      <td>125.0</td>\n",
       "    </tr>\n",
       "    <tr>\n",
       "      <th>5</th>\n",
       "      <td>1</td>\n",
       "      <td>many possibilities, good app</td>\n",
       "      <td>in a word, great practice feeding time at inte...</td>\n",
       "      <td>242</td>\n",
       "      <td>242.0</td>\n",
       "    </tr>\n",
       "    <tr>\n",
       "      <th>6</th>\n",
       "      <td>60</td>\n",
       "      <td>great app</td>\n",
       "      <td>good app but sometimes shows incorrect statist...</td>\n",
       "      <td>11419</td>\n",
       "      <td>190.0</td>\n",
       "    </tr>\n",
       "    <tr>\n",
       "      <th>7</th>\n",
       "      <td>1</td>\n",
       "      <td>great sense</td>\n",
       "      <td>the mode of the day shows is not correct, shif...</td>\n",
       "      <td>463</td>\n",
       "      <td>463.0</td>\n",
       "    </tr>\n",
       "    <tr>\n",
       "      <th>8</th>\n",
       "      <td>1</td>\n",
       "      <td>great app</td>\n",
       "      <td>very good, but would need to improve the graph...</td>\n",
       "      <td>269</td>\n",
       "      <td>269.0</td>\n",
       "    </tr>\n",
       "    <tr>\n",
       "      <th>9</th>\n",
       "      <td>1</td>\n",
       "      <td>application efficient</td>\n",
       "      <td>put 5 stars instead of 4. at the moment this a...</td>\n",
       "      <td>304</td>\n",
       "      <td>304.0</td>\n",
       "    </tr>\n",
       "    <tr>\n",
       "      <th>10</th>\n",
       "      <td>2</td>\n",
       "      <td>control shots</td>\n",
       "      <td>recommended app! would be great, of weight sta...</td>\n",
       "      <td>330</td>\n",
       "      <td>165.0</td>\n",
       "    </tr>\n",
       "    <tr>\n",
       "      <th>11</th>\n",
       "      <td>38</td>\n",
       "      <td>handy app</td>\n",
       "      <td>very handy app and clear interface. it would b...</td>\n",
       "      <td>4930</td>\n",
       "      <td>130.0</td>\n",
       "    </tr>\n",
       "    <tr>\n",
       "      <th>12</th>\n",
       "      <td>2</td>\n",
       "      <td>convenient app</td>\n",
       "      <td>it would be great if you would see the distanc...</td>\n",
       "      <td>408</td>\n",
       "      <td>204.0</td>\n",
       "    </tr>\n",
       "    <tr>\n",
       "      <th>13</th>\n",
       "      <td>1</td>\n",
       "      <td>great app</td>\n",
       "      <td>after upgrading somehow flies feeding timer/sl...</td>\n",
       "      <td>1018</td>\n",
       "      <td>1018.0</td>\n",
       "    </tr>\n",
       "    <tr>\n",
       "      <th>14</th>\n",
       "      <td>126</td>\n",
       "      <td>tremendous help, 5 stars</td>\n",
       "      <td>great app! without in any way! everything is t...</td>\n",
       "      <td>17805</td>\n",
       "      <td>141.0</td>\n",
       "    </tr>\n",
       "    <tr>\n",
       "      <th>15</th>\n",
       "      <td>1</td>\n",
       "      <td>application efficient</td>\n",
       "      <td>i use it since 1 week : not bad but would real...</td>\n",
       "      <td>1529</td>\n",
       "      <td>1529.0</td>\n",
       "    </tr>\n",
       "    <tr>\n",
       "      <th>16</th>\n",
       "      <td>2</td>\n",
       "      <td>great app</td>\n",
       "      <td>the app is super! i would give 5 stars if the ...</td>\n",
       "      <td>238</td>\n",
       "      <td>119.0</td>\n",
       "    </tr>\n",
       "    <tr>\n",
       "      <th>17</th>\n",
       "      <td>17</td>\n",
       "      <td>great app</td>\n",
       "      <td>experience in the use of a couple of days, but...</td>\n",
       "      <td>3935</td>\n",
       "      <td>231.0</td>\n",
       "    </tr>\n",
       "    <tr>\n",
       "      <th>18</th>\n",
       "      <td>6</td>\n",
       "      <td>would like, food eaten</td>\n",
       "      <td>the app is a perfect pleasure to use. pleased ...</td>\n",
       "      <td>470</td>\n",
       "      <td>78.0</td>\n",
       "    </tr>\n",
       "    <tr>\n",
       "      <th>19</th>\n",
       "      <td>1</td>\n",
       "      <td>control shots</td>\n",
       "      <td>good app, few flaws very upsetting. 1 when out...</td>\n",
       "      <td>413</td>\n",
       "      <td>413.0</td>\n",
       "    </tr>\n",
       "    <tr>\n",
       "      <th>20</th>\n",
       "      <td>1</td>\n",
       "      <td>great app</td>\n",
       "      <td>app, use every day!???? developers: there is o...</td>\n",
       "      <td>715</td>\n",
       "      <td>715.0</td>\n",
       "    </tr>\n",
       "    <tr>\n",
       "      <th>21</th>\n",
       "      <td>1</td>\n",
       "      <td>mums 😊., handy app</td>\n",
       "      <td>good app. highly recommended when you are brea...</td>\n",
       "      <td>255</td>\n",
       "      <td>255.0</td>\n",
       "    </tr>\n",
       "    <tr>\n",
       "      <th>22</th>\n",
       "      <td>1</td>\n",
       "      <td>excellent application</td>\n",
       "      <td>i really like this program, i use it since bir...</td>\n",
       "      <td>494</td>\n",
       "      <td>494.0</td>\n",
       "    </tr>\n",
       "    <tr>\n",
       "      <th>23</th>\n",
       "      <td>1</td>\n",
       "      <td>useful app, know ...</td>\n",
       "      <td>statistics are not informative and difficult t...</td>\n",
       "      <td>548</td>\n",
       "      <td>548.0</td>\n",
       "    </tr>\n",
       "    <tr>\n",
       "      <th>24</th>\n",
       "      <td>1</td>\n",
       "      <td>postpartum period</td>\n",
       "      <td>enjoy the week!!!very happy,thank you!! on thi...</td>\n",
       "      <td>162</td>\n",
       "      <td>162.0</td>\n",
       "    </tr>\n",
       "    <tr>\n",
       "      <th>25</th>\n",
       "      <td>2</td>\n",
       "      <td>days using</td>\n",
       "      <td>i am very satisfied. i would, however, wish it...</td>\n",
       "      <td>586</td>\n",
       "      <td>293.0</td>\n",
       "    </tr>\n",
       "    <tr>\n",
       "      <th>26</th>\n",
       "      <td>1</td>\n",
       "      <td>cannot continue feeding break</td>\n",
       "      <td>handy app to keep track of how long ago the la...</td>\n",
       "      <td>294</td>\n",
       "      <td>294.0</td>\n",
       "    </tr>\n",
       "    <tr>\n",
       "      <th>27</th>\n",
       "      <td>63</td>\n",
       "      <td>q want</td>\n",
       "      <td>very handy app! while the automaticity is not ...</td>\n",
       "      <td>9636</td>\n",
       "      <td>153.0</td>\n",
       "    </tr>\n",
       "    <tr>\n",
       "      <th>28</th>\n",
       "      <td>1</td>\n",
       "      <td>excellent app, enter routine, always know</td>\n",
       "      <td>not a bad app. the only thing i would have ask...</td>\n",
       "      <td>294</td>\n",
       "      <td>294.0</td>\n",
       "    </tr>\n",
       "    <tr>\n",
       "      <th>29</th>\n",
       "      <td>1</td>\n",
       "      <td>control shots</td>\n",
       "      <td>the app is not bad. use for almost 3 months. o...</td>\n",
       "      <td>415</td>\n",
       "      <td>415.0</td>\n",
       "    </tr>\n",
       "    <tr>\n",
       "      <th>30</th>\n",
       "      <td>25</td>\n",
       "      <td>track feedings</td>\n",
       "      <td>very convenient and useful app! don't know wha...</td>\n",
       "      <td>3883</td>\n",
       "      <td>155.0</td>\n",
       "    </tr>\n",
       "    <tr>\n",
       "      <th>31</th>\n",
       "      <td>1</td>\n",
       "      <td>super app, could hold</td>\n",
       "      <td>a very handy app. everything is intuitively cl...</td>\n",
       "      <td>673</td>\n",
       "      <td>673.0</td>\n",
       "    </tr>\n",
       "    <tr>\n",
       "      <th>32</th>\n",
       "      <td>2</td>\n",
       "      <td>great sense</td>\n",
       "      <td>the app is really good, the only thing you can...</td>\n",
       "      <td>498</td>\n",
       "      <td>249.0</td>\n",
       "    </tr>\n",
       "    <tr>\n",
       "      <th>33</th>\n",
       "      <td>1</td>\n",
       "      <td>great app</td>\n",
       "      <td>definitely a helpful app with nice and intuiti...</td>\n",
       "      <td>455</td>\n",
       "      <td>455.0</td>\n",
       "    </tr>\n",
       "    <tr>\n",
       "      <th>34</th>\n",
       "      <td>1</td>\n",
       "      <td>upgrade sprachbaus</td>\n",
       "      <td>its easy to use wish it was a lil faster to ge...</td>\n",
       "      <td>166</td>\n",
       "      <td>166.0</td>\n",
       "    </tr>\n",
       "  </tbody>\n",
       "</table>\n",
       "</div>"
      ],
      "text/plain": [
       "    volume                                   keywords  \\\n",
       "0     1338                                     q want   \n",
       "1        2                              keeping track   \n",
       "2       60                temperature chart, good app   \n",
       "3        1                             track feedings   \n",
       "4        2                                 keep track   \n",
       "5        1               many possibilities, good app   \n",
       "6       60                                  great app   \n",
       "7        1                                great sense   \n",
       "8        1                                  great app   \n",
       "9        1                      application efficient   \n",
       "10       2                              control shots   \n",
       "11      38                                  handy app   \n",
       "12       2                             convenient app   \n",
       "13       1                                  great app   \n",
       "14     126                   tremendous help, 5 stars   \n",
       "15       1                      application efficient   \n",
       "16       2                                  great app   \n",
       "17      17                                  great app   \n",
       "18       6                     would like, food eaten   \n",
       "19       1                              control shots   \n",
       "20       1                                  great app   \n",
       "21       1                         mums 😊., handy app   \n",
       "22       1                      excellent application   \n",
       "23       1                       useful app, know ...   \n",
       "24       1                          postpartum period   \n",
       "25       2                                 days using   \n",
       "26       1              cannot continue feeding break   \n",
       "27      63                                     q want   \n",
       "28       1  excellent app, enter routine, always know   \n",
       "29       1                              control shots   \n",
       "30      25                             track feedings   \n",
       "31       1                      super app, could hold   \n",
       "32       2                                great sense   \n",
       "33       1                                  great app   \n",
       "34       1                         upgrade sprachbaus   \n",
       "\n",
       "                                                texts  textsvol  avetext  \n",
       "0   thank you so much for your work! this is the b...    174907    131.0  \n",
       "1   statistics a little poorly labeled, but always...       164     82.0  \n",
       "2   i would like to decrypt in the charts clicking...     14288    238.0  \n",
       "3   this app is so easy to use and the graphs are ...       386    386.0  \n",
       "4   the app shows a lot of detail and reminds us, ...       250    125.0  \n",
       "5   in a word, great practice feeding time at inte...       242    242.0  \n",
       "6   good app but sometimes shows incorrect statist...     11419    190.0  \n",
       "7   the mode of the day shows is not correct, shif...       463    463.0  \n",
       "8   very good, but would need to improve the graph...       269    269.0  \n",
       "9   put 5 stars instead of 4. at the moment this a...       304    304.0  \n",
       "10  recommended app! would be great, of weight sta...       330    165.0  \n",
       "11  very handy app and clear interface. it would b...      4930    130.0  \n",
       "12  it would be great if you would see the distanc...       408    204.0  \n",
       "13  after upgrading somehow flies feeding timer/sl...      1018   1018.0  \n",
       "14  great app! without in any way! everything is t...     17805    141.0  \n",
       "15  i use it since 1 week : not bad but would real...      1529   1529.0  \n",
       "16  the app is super! i would give 5 stars if the ...       238    119.0  \n",
       "17  experience in the use of a couple of days, but...      3935    231.0  \n",
       "18  the app is a perfect pleasure to use. pleased ...       470     78.0  \n",
       "19  good app, few flaws very upsetting. 1 when out...       413    413.0  \n",
       "20  app, use every day!???? developers: there is o...       715    715.0  \n",
       "21  good app. highly recommended when you are brea...       255    255.0  \n",
       "22  i really like this program, i use it since bir...       494    494.0  \n",
       "23  statistics are not informative and difficult t...       548    548.0  \n",
       "24  enjoy the week!!!very happy,thank you!! on thi...       162    162.0  \n",
       "25  i am very satisfied. i would, however, wish it...       586    293.0  \n",
       "26  handy app to keep track of how long ago the la...       294    294.0  \n",
       "27  very handy app! while the automaticity is not ...      9636    153.0  \n",
       "28  not a bad app. the only thing i would have ask...       294    294.0  \n",
       "29  the app is not bad. use for almost 3 months. o...       415    415.0  \n",
       "30  very convenient and useful app! don't know wha...      3883    155.0  \n",
       "31  a very handy app. everything is intuitively cl...       673    673.0  \n",
       "32  the app is really good, the only thing you can...       498    249.0  \n",
       "33  definitely a helpful app with nice and intuiti...       455    455.0  \n",
       "34  its easy to use wish it was a lil faster to ge...       166    166.0  "
      ]
     },
     "execution_count": 840,
     "metadata": {},
     "output_type": "execute_result"
    }
   ],
   "source": [
    "df_rake"
   ]
  },
  {
   "cell_type": "code",
   "execution_count": null,
   "metadata": {
    "collapsed": true
   },
   "outputs": [],
   "source": []
  }
 ],
 "metadata": {
  "kernelspec": {
   "display_name": "Python 3",
   "language": "python",
   "name": "python3"
  },
  "language_info": {
   "codemirror_mode": {
    "name": "ipython",
    "version": 3
   },
   "file_extension": ".py",
   "mimetype": "text/x-python",
   "name": "python",
   "nbconvert_exporter": "python",
   "pygments_lexer": "ipython3",
   "version": "3.6.0"
  }
 },
 "nbformat": 4,
 "nbformat_minor": 2
}
