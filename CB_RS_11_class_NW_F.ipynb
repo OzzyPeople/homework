{
 "cells": [
  {
   "cell_type": "markdown",
   "metadata": {},
   "source": [
    "CBRS"
   ]
  },
  {
   "cell_type": "code",
   "execution_count": 24,
   "metadata": {
    "collapsed": true
   },
   "outputs": [],
   "source": [
    "import pandas as pd\n",
    "import numpy as np\n",
    "import datetime as dtt\n",
    "\n",
    "from scipy.sparse import csr_matrix\n",
    "%matplotlib inline\n",
    "import matplotlib.pyplot as plt\n",
    "\n",
    "from sklearn.preprocessing import normalize\n",
    "from scipy.sparse import vstack"
   ]
  },
  {
   "cell_type": "code",
   "execution_count": 25,
   "metadata": {
    "collapsed": true
   },
   "outputs": [],
   "source": [
    "# Данные взяты отсюда - http://jmcauley.ucsd.edu/data/amazon/\n",
    "# http://snap.stanford.edu/data/amazon/productGraph/categoryFiles/reviews_Video_Games_5.json.gz\n",
    "JSON_DATA_PATH = \"reviews_Video_Games_5.json\"\n",
    "N = 10"
   ]
  },
  {
   "cell_type": "markdown",
   "metadata": {},
   "source": [
    "## Загружаем данные и формируем dataframe"
   ]
  },
  {
   "cell_type": "code",
   "execution_count": 26,
   "metadata": {
    "collapsed": true
   },
   "outputs": [],
   "source": [
    "import json\n",
    "\n",
    "def iter_json_data(path):\n",
    "    with open(path) as f:\n",
    "        for line in f:\n",
    "            data = json.loads(line)\n",
    "            yield data\n",
    "            \n",
    "def get_data_frame():\n",
    "    uid_to_id = {}\n",
    "    iid_to_id = {}\n",
    "    \n",
    "    cols = [\"uid\", \"iid\", \"review\", \"rating\", \"dt\"]\n",
    "    rows = []\n",
    "    for d in iter_json_data(JSON_DATA_PATH):\n",
    "        uid = uid_to_id.setdefault(d[\"reviewerID\"], len(uid_to_id))\n",
    "        iid = iid_to_id.setdefault(d[\"asin\"], len(iid_to_id))\n",
    "        review = d[\"reviewText\"]\n",
    "        rating = float(d[\"overall\"])\n",
    "        dt = int(d[\"unixReviewTime\"])\n",
    "        rows.append((uid, iid, review, rating, dt))\n",
    "        \n",
    "    return pd.DataFrame(rows, columns=cols)"
   ]
  },
  {
   "cell_type": "code",
   "execution_count": 27,
   "metadata": {
    "collapsed": false
   },
   "outputs": [
    {
     "data": {
      "text/html": [
       "<div>\n",
       "<style>\n",
       "    .dataframe thead tr:only-child th {\n",
       "        text-align: right;\n",
       "    }\n",
       "\n",
       "    .dataframe thead th {\n",
       "        text-align: left;\n",
       "    }\n",
       "\n",
       "    .dataframe tbody tr th {\n",
       "        vertical-align: top;\n",
       "    }\n",
       "</style>\n",
       "<table border=\"1\" class=\"dataframe\">\n",
       "  <thead>\n",
       "    <tr style=\"text-align: right;\">\n",
       "      <th></th>\n",
       "      <th>uid</th>\n",
       "      <th>iid</th>\n",
       "      <th>review</th>\n",
       "      <th>rating</th>\n",
       "      <th>dt</th>\n",
       "    </tr>\n",
       "  </thead>\n",
       "  <tbody>\n",
       "    <tr>\n",
       "      <th>0</th>\n",
       "      <td>0</td>\n",
       "      <td>0</td>\n",
       "      <td>Installing the game was a struggle (because of...</td>\n",
       "      <td>1.0</td>\n",
       "      <td>1341792000</td>\n",
       "    </tr>\n",
       "    <tr>\n",
       "      <th>1</th>\n",
       "      <td>1</td>\n",
       "      <td>0</td>\n",
       "      <td>If you like rally cars get this game you will ...</td>\n",
       "      <td>4.0</td>\n",
       "      <td>1372550400</td>\n",
       "    </tr>\n",
       "    <tr>\n",
       "      <th>2</th>\n",
       "      <td>2</td>\n",
       "      <td>0</td>\n",
       "      <td>1st shipment received a book instead of the ga...</td>\n",
       "      <td>1.0</td>\n",
       "      <td>1403913600</td>\n",
       "    </tr>\n",
       "    <tr>\n",
       "      <th>3</th>\n",
       "      <td>3</td>\n",
       "      <td>0</td>\n",
       "      <td>I got this version instead of the PS3 version,...</td>\n",
       "      <td>3.0</td>\n",
       "      <td>1315958400</td>\n",
       "    </tr>\n",
       "    <tr>\n",
       "      <th>4</th>\n",
       "      <td>4</td>\n",
       "      <td>0</td>\n",
       "      <td>I had Dirt 2 on Xbox 360 and it was an okay ga...</td>\n",
       "      <td>4.0</td>\n",
       "      <td>1308009600</td>\n",
       "    </tr>\n",
       "  </tbody>\n",
       "</table>\n",
       "</div>"
      ],
      "text/plain": [
       "   uid  iid                                             review  rating  \\\n",
       "0    0    0  Installing the game was a struggle (because of...     1.0   \n",
       "1    1    0  If you like rally cars get this game you will ...     4.0   \n",
       "2    2    0  1st shipment received a book instead of the ga...     1.0   \n",
       "3    3    0  I got this version instead of the PS3 version,...     3.0   \n",
       "4    4    0  I had Dirt 2 on Xbox 360 and it was an okay ga...     4.0   \n",
       "\n",
       "           dt  \n",
       "0  1341792000  \n",
       "1  1372550400  \n",
       "2  1403913600  \n",
       "3  1315958400  \n",
       "4  1308009600  "
      ]
     },
     "execution_count": 27,
     "metadata": {},
     "output_type": "execute_result"
    }
   ],
   "source": [
    "df = get_data_frame()\n",
    "df.head()"
   ]
  },
  {
   "cell_type": "markdown",
   "metadata": {},
   "source": [
    "## Pre-processing "
   ]
  },
  {
   "cell_type": "code",
   "execution_count": 28,
   "metadata": {
    "collapsed": false
   },
   "outputs": [
    {
     "data": {
      "text/plain": [
       "<matplotlib.axes._subplots.AxesSubplot at 0x12102d748>"
      ]
     },
     "execution_count": 28,
     "metadata": {},
     "output_type": "execute_result"
    },
    {
     "data": {
      "image/png": "[encoded data removed]",
      "text/plain": [
       "<matplotlib.figure.Figure at 0x11f990e48>"
      ]
     },
     "metadata": {},
     "output_type": "display_data"
    }
   ],
   "source": [
    "plt.title(\"Распределение рейтингов по отзывам\")\n",
    "df.rating.hist()"
   ]
  },
  {
   "cell_type": "markdown",
   "metadata": {},
   "source": [
    "## Готовим выборки"
   ]
  },
  {
   "cell_type": "code",
   "execution_count": 29,
   "metadata": {
    "collapsed": true
   },
   "outputs": [],
   "source": [
    "def split_df_by_dt(df, p=0.8):\n",
    "    \"\"\"Функция разбивает df на тестовую и тренировочную выборки по времени \n",
    "    публикации отзывов (значение времени в поле dt)\n",
    "    \n",
    "    :param p: персентиль значений dt, которые образуют тренировочную выборку. Например p=0.8 означает, что в \n",
    "    тренировочной части будут отзывы, соответствующие первым 80% временного интервала \n",
    "    :return: два pd.DataFrame объекта\n",
    "    \n",
    "    а тестовая выборка - это последние 20% по времени, которая покажет купили ли юзеры или нет \n",
    "    \n",
    "    \"\"\"\n",
    "    border_dt = df.dt.quantile(p)\n",
    "    #print(\"Min=%s, border=%s, max=%s\" % (df.dt.min(), border_dt, df.dt.max()))\n",
    "    training_df, test_df  = df[df.dt <= border_dt], df[df.dt > border_dt]\n",
    "    #print(\"Размер до очистки:\", training_df.shape, test_df.shape)\n",
    "    # удаляем из тестовых данных строки, соответствующие пользователям или объектам, \n",
    "    # которых нет в тренировочных данных \n",
    "    # (пользователи - избегаем проблем для персональных систем, объекты - для всех)\n",
    "    test_df = test_df[test_df.uid.isin(training_df.uid) & test_df.iid.isin(training_df.iid)]\n",
    "    #print(\"Размер после очистки:\", training_df.shape, test_df.shape)\n",
    "    return training_df, test_df"
   ]
  },
  {
   "cell_type": "code",
   "execution_count": 30,
   "metadata": {
    "collapsed": false
   },
   "outputs": [],
   "source": [
    "training_df, test_df = split_df_by_dt(df)\n",
    "del df"
   ]
  },
  {
   "cell_type": "markdown",
   "metadata": {},
   "source": [
    "## Метрика"
   ]
  },
  {
   "cell_type": "code",
   "execution_count": 31,
   "metadata": {
    "collapsed": true
   },
   "outputs": [],
   "source": [
    "def hit_ratio(recs_dict, test_dict):\n",
    "    \"\"\"Функция считает метрику hit-ration для двух словарей\n",
    "    :recs_dict: словарь рекомендаций типа {uid: {iid: score, ...}, ...}\n",
    "    :test_dict: тестовый словарь типа {uid: {iid: score, ...}, ...} уже есть \n",
    "    \"\"\"\n",
    "    hits = 0\n",
    "    for uid in test_dict:\n",
    "        if set(test_dict[uid].keys()).intersection(recs_dict.get(uid, {})):\n",
    "            hits += 1\n",
    "    return hits / len(test_dict)"
   ]
  },
  {
   "cell_type": "code",
   "execution_count": 32,
   "metadata": {
    "collapsed": true
   },
   "outputs": [],
   "source": [
    "def get_test_dict(test_df):\n",
    "    \"\"\"Функция, конвертирующая тестовый df в словарь\n",
    "    \"\"\"\n",
    "    test_dict = {}\n",
    "    for t in test_df.itertuples():\n",
    "        test_dict.setdefault(t.uid, {})\n",
    "        test_dict[t.uid][t.iid] = t.rating\n",
    "    return test_dict\n",
    "\n",
    "test_dict = get_test_dict(test_df)"
   ]
  },
  {
   "cell_type": "code",
   "execution_count": 50,
   "metadata": {
    "collapsed": false
   },
   "outputs": [],
   "source": [
    "uids = test_dict.keys() #  словарь ключей тестовой выборки  "
   ]
  },
  {
   "cell_type": "markdown",
   "metadata": {},
   "source": [
    "## Class"
   ]
  },
  {
   "cell_type": "code",
   "execution_count": 51,
   "metadata": {
    "collapsed": false
   },
   "outputs": [],
   "source": [
    "from sklearn.feature_extraction.text import TfidfVectorizer\n",
    "\n",
    "class ContentBasedRS(object):\n",
    "    \n",
    "    def __init__(self, training_df):\n",
    "        \n",
    "        self.training_df = training_df\n",
    "        self.iid_to_row, self.iid_ftr_m = self.prepare_iid_data() # словарь id item-ов # матрица item profile  \n",
    "        self.uid_to_row, self.uid_ftr_m = self.prepare_uid_data() # словарь id user # матрица user profile\n",
    "    \n",
    "    # Создаем item profile \n",
    "    \n",
    "    def prepare_iid_data(self): \n",
    "        \n",
    "        iid_to_row = {} \n",
    "        rows = []\n",
    "        \n",
    "        # считаем TFIDDF \n",
    "        \n",
    "        review_ftr_m = TfidfVectorizer(stop_words='english').fit_transform(self.training_df.review)\n",
    "        # сразу умножаем на рейтинги TFIDF на рейтинг (переворачиваем строку рейтингов в колонку )\n",
    "        review_ftr_m = review_ftr_m.multiply(self.training_df.rating.values.reshape(-1, 1)).tocsr()\n",
    "        \n",
    "        # делаем словарь и матрицу items \n",
    "\n",
    "        for row_id, iid in enumerate(self.training_df.iid.unique()):\n",
    "\n",
    "            iid_to_row[iid] = row_id\n",
    "            # делаем словарь соответствия идентификатор объекта номер строки в матрице объекта \n",
    "            iid_ftr_m = csr_matrix(review_ftr_m[np.where(self.training_df.iid == iid)[0]].sum(axis=0))\n",
    "            rows.append(iid_ftr_m) # в итоге, получаем большое кол-во строк у каждой из которых \n",
    "            # строка эта матрица  - вектор у которого одна строка и много столбцов \n",
    "        \n",
    "        iid_ftr_m = normalize(vstack(rows, format='csr'))\n",
    "        \n",
    "        return iid_to_row, iid_ftr_m\n",
    "    \n",
    "    \n",
    "    # Создаем user profile\n",
    "    \n",
    "    def prepare_uid_data(self):  \n",
    "\n",
    "        uid_to_row = {} # создаем словарь, где uid пользователя - ключ, а строка матрицы - значение \n",
    "        rows = [] # временное хранилище пользователя и фич \n",
    "\n",
    "        for gr_id, gr_df in self.training_df.groupby(\"uid\"):\n",
    "\n",
    "            uid = gr_id \n",
    "            iid_rows = [] # список объектов, которые уже оценили\n",
    "            ratings = [] # какие рейтинги у каждого объекта, делаем из рейтинга список или строку (А)\n",
    "\n",
    "            for iid, rating in zip (gr_df.iid.values, gr_df.rating.values):\n",
    "                if iid in self.iid_to_row:\n",
    "                    iid_rows.append(self.iid_to_row[iid])\n",
    "                    ratings.append(rating)\n",
    "\n",
    "            # создание профиля пользователя - матрицу user - фича \n",
    "            if iid_rows:\n",
    "                ratings = np.array(ratings).reshape(-1, 1) # строку рейтингу превращаем в колонку, чтобы умножить  (Б)\n",
    "\n",
    "                # создаем одномерную матрицу по каждому пользователю \n",
    "                uid_ftr_m = csr_matrix(\n",
    "                    self.iid_ftr_m[iid_rows].multiply(ratings).sum(axis=0)\n",
    "                ) \n",
    "\n",
    "                uid_to_row[uid] = len(uid_to_row) # делаем индекс - этот пользователь соответствует номер строки в матрице uid_ftr_m\n",
    "                rows.append(uid_ftr_m) # добавляем одномерные матрицы в список\n",
    "            \n",
    "        #  создаем матрицу уже из списка строк, нормализуем данные \n",
    "        uid_ftr_m = normalize(vstack(rows, format='csr')) \n",
    "\n",
    "        return uid_to_row, uid_ftr_m\n",
    "\n",
    "    # Создаем рекомендации для множества тестовых uids\n",
    "    def get_recs1(self, uids, top=N):\n",
    "        \n",
    "        dic ={}\n",
    "        # Т перворачивают матрицу для подсчета рекомендаций с использованием косинусной меры\n",
    "        ftr_iid_m = self.iid_ftr_m.T.tocsr()\n",
    "            \n",
    "        # надо уметь возвращать из индекса строки в индекс объекта, чтобы рекомендации были в пространстве индексов объекта \n",
    "        row_to_iid = {row_id: iid for iid, row_id in self.iid_to_row.items()}\n",
    "        \n",
    "        for uid in list(uids):\n",
    "            recs = {}\n",
    "            if uid in self.uid_to_row:\n",
    "                u_row_id = self.uid_to_row[uid] # номер строки в матрице пользователя - имя\n",
    "                u_row = self.uid_ftr_m[u_row_id] # одномерная матрица профиля пользователя \n",
    "                # самописный cosine similarity\n",
    "                u_recs = u_row.dot(ftr_iid_m)\n",
    "\n",
    "                for arg_id in np.argsort(u_recs.data)[-top:]: \n",
    "                # сортируем от маленьких к большим \n",
    "                    row_id = u_recs.indices[arg_id]\n",
    "                    score = u_recs.data[arg_id]\n",
    "                    recs[row_to_iid[row_id]] = score\n",
    "            dic[uid] = recs\n",
    "            # переводим номера  в названия \n",
    "        return dic"
   ]
  },
  {
   "cell_type": "code",
   "execution_count": 56,
   "metadata": {
    "collapsed": false
   },
   "outputs": [],
   "source": [
    "RS = ContentBasedRS(training_df)"
   ]
  },
  {
   "cell_type": "code",
   "execution_count": 57,
   "metadata": {
    "collapsed": false
   },
   "outputs": [
    {
     "name": "stdout",
     "output_type": "stream",
     "text": [
      "CPU times: user 2min 12s, sys: 3.85 s, total: 2min 16s\n",
      "Wall time: 2min 28s\n"
     ]
    }
   ],
   "source": [
    "%%time\n",
    "Recs = RS.get_recs1(uids, 10) "
   ]
  },
  {
   "cell_type": "code",
   "execution_count": 59,
   "metadata": {
    "collapsed": false
   },
   "outputs": [
    {
     "data": {
      "text/plain": [
       "0.06500366837857667"
      ]
     },
     "execution_count": 59,
     "metadata": {},
     "output_type": "execute_result"
    }
   ],
   "source": [
    "hit_ratio(Recs, test_dict)"
   ]
  },
  {
   "cell_type": "markdown",
   "metadata": {},
   "source": [
    "## Проверяем модель на кросс-валидации "
   ]
  },
  {
   "cell_type": "code",
   "execution_count": 54,
   "metadata": {
    "collapsed": false
   },
   "outputs": [],
   "source": [
    "def cross_validate(training_df, tries):\n",
    "\n",
    "    training_df_cv = training_df.copy() # копируем тренинговую выборку \n",
    "    cv_scores = []\n",
    "    \n",
    "    for i in range(tries):\n",
    "        training_df_cv, test_df_cv = split_df_by_dt(training_df_cv)\n",
    "        RS = ContentBasedRS(training_df_cv)\n",
    "        uids_1 = test_df_cv['uid'].unique()\n",
    "        recommendations = RS.get_recs1(uids_1, 10)\n",
    "        score = hit_ratio(recommendations, get_test_dict(test_df_cv))\n",
    "        cv_scores.append(score)\n",
    "\n",
    "    return cv_scores"
   ]
  },
  {
   "cell_type": "code",
   "execution_count": 55,
   "metadata": {
    "collapsed": false
   },
   "outputs": [
    {
     "name": "stdout",
     "output_type": "stream",
     "text": [
      "CPU times: user 14min 35s, sys: 2min 5s, total: 16min 41s\n",
      "Wall time: 20min 20s\n"
     ]
    },
    {
     "data": {
      "text/plain": [
       "[0.05102776776054814,\n",
       " 0.05316390041493776,\n",
       " 0.044711378044711377,\n",
       " 0.05545112781954887,\n",
       " 0.07138384470882905]"
      ]
     },
     "execution_count": 55,
     "metadata": {},
     "output_type": "execute_result"
    }
   ],
   "source": [
    "%%time\n",
    "cross_validate(training_df, 5)"
   ]
  },
  {
   "cell_type": "markdown",
   "metadata": {
    "collapsed": true
   },
   "source": [
    "### Результат в кросс-валидации не сильно отличается от основного. Модель работает."
   ]
  },
  {
   "cell_type": "code",
   "execution_count": null,
   "metadata": {
    "collapsed": true
   },
   "outputs": [],
   "source": []
  }
 ],
 "metadata": {
  "celltoolbar": "Raw Cell Format",
  "kernelspec": {
   "display_name": "Python 3",
   "language": "python",
   "name": "python3"
  },
  "language_info": {
   "codemirror_mode": {
    "name": "ipython",
    "version": 3
   },
   "file_extension": ".py",
   "mimetype": "text/x-python",
   "name": "python",
   "nbconvert_exporter": "python",
   "pygments_lexer": "ipython3",
   "version": "3.6.0"
  }
 },
 "nbformat": 4,
 "nbformat_minor": 2
}
