{
 "cells": [
  {
   "cell_type": "code",
   "execution_count": 1,
   "metadata": {
    "collapsed": true
   },
   "outputs": [],
   "source": [
    "import pandas as pd\n",
    "import numpy as np\n",
    "import textrank\n",
    "import sklearn\n",
    "import datetime as dt\n",
    "import matplotlib.pyplot as plt\n",
    "import seaborn as sns\n",
    "%matplotlib inline"
   ]
  },
  {
   "cell_type": "code",
   "execution_count": 2,
   "metadata": {
    "collapsed": true
   },
   "outputs": [],
   "source": [
    "col_labels = ['Date','AppID','AppName','Lang','1', '2', '3', 'Author','Stars','Title','Review','Reply','Device','DeviceType','Tags','Updated']"
   ]
  },
  {
   "cell_type": "code",
   "execution_count": 3,
   "metadata": {
    "collapsed": true
   },
   "outputs": [],
   "source": [
    "df = pd.read_csv('reviews_googleplay_1507788606.csv', \n",
    "                  skiprows=4, engine='python', names = col_labels, index_col=False,\n",
    "                  error_bad_lines=True\n",
    "                 )"
   ]
  },
  {
   "cell_type": "code",
   "execution_count": 4,
   "metadata": {
    "collapsed": true
   },
   "outputs": [],
   "source": [
    "df_1 = df.drop(['AppID','AppName', '1', '2', '3', 'Device','DeviceType','Tags','Updated'], axis =1)"
   ]
  },
  {
   "cell_type": "code",
   "execution_count": 5,
   "metadata": {
    "collapsed": false
   },
   "outputs": [
    {
     "data": {
      "text/html": [
       "<div>\n",
       "<style>\n",
       "    .dataframe thead tr:only-child th {\n",
       "        text-align: right;\n",
       "    }\n",
       "\n",
       "    .dataframe thead th {\n",
       "        text-align: left;\n",
       "    }\n",
       "\n",
       "    .dataframe tbody tr th {\n",
       "        vertical-align: top;\n",
       "    }\n",
       "</style>\n",
       "<table border=\"1\" class=\"dataframe\">\n",
       "  <thead>\n",
       "    <tr style=\"text-align: right;\">\n",
       "      <th></th>\n",
       "      <th>Date</th>\n",
       "      <th>Lang</th>\n",
       "      <th>Author</th>\n",
       "      <th>Stars</th>\n",
       "      <th>Title</th>\n",
       "      <th>Review</th>\n",
       "      <th>Reply</th>\n",
       "    </tr>\n",
       "  </thead>\n",
       "  <tbody>\n",
       "    <tr>\n",
       "      <th>0</th>\n",
       "      <td>\\t2017-10-11</td>\n",
       "      <td>pt</td>\n",
       "      <td>Renato Morais</td>\n",
       "      <td>5</td>\n",
       "      <td>NaN</td>\n",
       "      <td>Muito bom</td>\n",
       "      <td>NaN</td>\n",
       "    </tr>\n",
       "    <tr>\n",
       "      <th>1</th>\n",
       "      <td>\\t2017-10-11</td>\n",
       "      <td>de</td>\n",
       "      <td>NaN</td>\n",
       "      <td>4</td>\n",
       "      <td>NaN</td>\n",
       "      <td>Scheint eine gute App zu sein. Sehr übersichtl...</td>\n",
       "      <td>NaN</td>\n",
       "    </tr>\n",
       "    <tr>\n",
       "      <th>2</th>\n",
       "      <td>\\t2017-10-11</td>\n",
       "      <td>pt</td>\n",
       "      <td>NaN</td>\n",
       "      <td>5</td>\n",
       "      <td>NaN</td>\n",
       "      <td>Perfeito. Consigo controlar todos os dados imp...</td>\n",
       "      <td>NaN</td>\n",
       "    </tr>\n",
       "    <tr>\n",
       "      <th>3</th>\n",
       "      <td>\\t2017-10-11</td>\n",
       "      <td>ru</td>\n",
       "      <td>Eva Lollipop</td>\n",
       "      <td>5</td>\n",
       "      <td>NaN</td>\n",
       "      <td>Огромное спасибо, за ваш труд! Это лучше прило...</td>\n",
       "      <td>NaN</td>\n",
       "    </tr>\n",
       "    <tr>\n",
       "      <th>4</th>\n",
       "      <td>\\t2017-10-11</td>\n",
       "      <td>es</td>\n",
       "      <td>NaN</td>\n",
       "      <td>5</td>\n",
       "      <td>NaN</td>\n",
       "      <td>Excelente</td>\n",
       "      <td>NaN</td>\n",
       "    </tr>\n",
       "  </tbody>\n",
       "</table>\n",
       "</div>"
      ],
      "text/plain": [
       "           Date Lang         Author  Stars Title  \\\n",
       "0  \\t2017-10-11   pt  Renato Morais      5   NaN   \n",
       "1  \\t2017-10-11   de            NaN      4   NaN   \n",
       "2  \\t2017-10-11   pt            NaN      5   NaN   \n",
       "3  \\t2017-10-11   ru   Eva Lollipop      5   NaN   \n",
       "4  \\t2017-10-11   es            NaN      5   NaN   \n",
       "\n",
       "                                              Review Reply  \n",
       "0                                          Muito bom   NaN  \n",
       "1  Scheint eine gute App zu sein. Sehr übersichtl...   NaN  \n",
       "2  Perfeito. Consigo controlar todos os dados imp...   NaN  \n",
       "3  Огромное спасибо, за ваш труд! Это лучше прило...   NaN  \n",
       "4                                          Excelente   NaN  "
      ]
     },
     "execution_count": 5,
     "metadata": {},
     "output_type": "execute_result"
    }
   ],
   "source": [
    "df_1.head()"
   ]
  },
  {
   "cell_type": "code",
   "execution_count": 6,
   "metadata": {
    "collapsed": false
   },
   "outputs": [
    {
     "name": "stdout",
     "output_type": "stream",
     "text": [
      "Languages: {'fi', 'be', 'cs', 'pt', 'tr', 'sv', 'az', 'hy', 'sk', 'es', 'nl', 'lv', 'no', 'uk', 'en', 'el', 'de', 'fr', 'ca', 'ro', 'it', 'ru', 'mk', 'lt', 'pl', 'sl', 'sr', 'hr', 'et', 'hu', 'sq', 'da', 'bg'}\n",
      "Translate directions: ['az-ru', 'be-bg', 'be-cs', 'be-de', 'be-en', 'be-es', 'be-fr', 'be-it', 'be-pl', 'be-ro', 'be-ru', 'be-sr', 'be-tr', 'bg-be', 'bg-ru', 'bg-uk', 'ca-en', 'ca-ru', 'cs-be', 'cs-en', 'cs-ru', 'cs-uk', 'da-en', 'da-ru', 'de-be', 'de-en', 'de-es', 'de-fr', 'de-it', 'de-ru', 'de-tr', 'de-uk', 'el-en', 'el-ru', 'en-be', 'en-ca', 'en-cs', 'en-da', 'en-de', 'en-el', 'en-es', 'en-et', 'en-fi', 'en-fr', 'en-hu', 'en-it', 'en-lt', 'en-lv', 'en-mk', 'en-nl', 'en-no', 'en-pt', 'en-ru', 'en-sk', 'en-sl', 'en-sq', 'en-sv', 'en-tr', 'en-uk', 'es-be', 'es-de', 'es-en', 'es-ru', 'es-uk', 'et-en', 'et-ru', 'fi-en', 'fi-ru', 'fr-be', 'fr-de', 'fr-en', 'fr-ru', 'fr-uk', 'hr-ru', 'hu-en', 'hu-ru', 'hy-ru', 'it-be', 'it-de', 'it-en', 'it-ru', 'it-uk', 'lt-en', 'lt-ru', 'lv-en', 'lv-ru', 'mk-en', 'mk-ru', 'nl-en', 'nl-ru', 'no-en', 'no-ru', 'pl-be', 'pl-ru', 'pl-uk', 'pt-en', 'pt-ru', 'ro-be', 'ro-ru', 'ro-uk', 'ru-az', 'ru-be', 'ru-bg', 'ru-ca', 'ru-cs', 'ru-da', 'ru-de', 'ru-el', 'ru-en', 'ru-es', 'ru-et', 'ru-fi', 'ru-fr', 'ru-hr', 'ru-hu', 'ru-hy', 'ru-it', 'ru-lt', 'ru-lv', 'ru-mk', 'ru-nl', 'ru-no', 'ru-pl', 'ru-pt', 'ru-ro', 'ru-sk', 'ru-sl', 'ru-sq', 'ru-sr', 'ru-sv', 'ru-tr', 'ru-uk', 'sk-en', 'sk-ru', 'sl-en', 'sl-ru', 'sq-en', 'sq-ru', 'sr-be', 'sr-ru', 'sr-uk', 'sv-en', 'sv-ru', 'tr-be', 'tr-de', 'tr-en', 'tr-ru', 'tr-uk', 'uk-bg', 'uk-cs', 'uk-de', 'uk-en', 'uk-es', 'uk-fr', 'uk-it', 'uk-pl', 'uk-ro', 'uk-ru', 'uk-sr', 'uk-tr']\n",
      "Detect language: ru\n",
      "Translate: {'code': 200, 'lang': 'ru-en', 'text': ['Hello world!']}\n"
     ]
    }
   ],
   "source": [
    "from yandex_translate import YandexTranslate\n",
    "translate = YandexTranslate('trnsl.1.1.20171012T153315Z.27f7b7ad41361c04.5bb573e2c4533a4aeafa7deeba56e203de72b930')\n",
    "print('Languages:', translate.langs)\n",
    "print('Translate directions:', translate.directions)\n",
    "print('Detect language:', translate.detect('Привет, мир!'))\n",
    "print('Translate:', translate.translate('Привет, мир!', 'ru-en'))  # or just 'en'"
   ]
  },
  {
   "cell_type": "markdown",
   "metadata": {},
   "source": [
    "## Перевод русских отзывов "
   ]
  },
  {
   "cell_type": "code",
   "execution_count": 10,
   "metadata": {
    "collapsed": false
   },
   "outputs": [
    {
     "ename": "YandexTranslateException",
     "evalue": "None",
     "output_type": "error",
     "traceback": [
      "\u001b[0;31m---------------------------------------------------------------------------\u001b[0m",
      "\u001b[0;31mYandexTranslateException\u001b[0m                  Traceback (most recent call last)",
      "\u001b[0;32m<ipython-input-10-315b74c3ead9>\u001b[0m in \u001b[0;36m<module>\u001b[0;34m()\u001b[0m\n\u001b[1;32m     28\u001b[0m         \u001b[0mx\u001b[0m \u001b[0;34m=\u001b[0m \u001b[0mp\u001b[0m\u001b[0;34m\u001b[0m\u001b[0m\n\u001b[1;32m     29\u001b[0m         \u001b[0mtext_portion_1\u001b[0m \u001b[0;34m=\u001b[0m \u001b[0mrussian_text_df\u001b[0m\u001b[0;34m[\u001b[0m\u001b[0;34m'Review'\u001b[0m\u001b[0;34m]\u001b[0m\u001b[0;34m[\u001b[0m\u001b[0mx\u001b[0m\u001b[0;34m:\u001b[0m\u001b[0;34m]\u001b[0m\u001b[0;34m\u001b[0m\u001b[0m\n\u001b[0;32m---> 30\u001b[0;31m         \u001b[0mrussian\u001b[0m \u001b[0;34m=\u001b[0m \u001b[0mtranslate\u001b[0m\u001b[0;34m.\u001b[0m\u001b[0mtranslate\u001b[0m\u001b[0;34m(\u001b[0m\u001b[0mtext_portion_1\u001b[0m\u001b[0;34m,\u001b[0m \u001b[0;34m'ru-en'\u001b[0m\u001b[0;34m)\u001b[0m\u001b[0;34m[\u001b[0m\u001b[0;34m'text'\u001b[0m\u001b[0;34m]\u001b[0m\u001b[0;34m\u001b[0m\u001b[0m\n\u001b[0m\u001b[1;32m     31\u001b[0m         \u001b[0mrussian_list\u001b[0m\u001b[0;34m.\u001b[0m\u001b[0mappend\u001b[0m\u001b[0;34m(\u001b[0m\u001b[0mrussian\u001b[0m\u001b[0;34m)\u001b[0m\u001b[0;34m\u001b[0m\u001b[0m\n\u001b[1;32m     32\u001b[0m \u001b[0;34m\u001b[0m\u001b[0m\n",
      "\u001b[0;32m/Users/OzzyPeople/anaconda/lib/python3.6/site-packages/yandex_translate/__init__.py\u001b[0m in \u001b[0;36mtranslate\u001b[0;34m(self, text, lang, format)\u001b[0m\n\u001b[1;32m    148\u001b[0m     \u001b[0mstatus_code\u001b[0m \u001b[0;34m=\u001b[0m \u001b[0mresponse\u001b[0m\u001b[0;34m.\u001b[0m\u001b[0mget\u001b[0m\u001b[0;34m(\u001b[0m\u001b[0;34m\"code\"\u001b[0m\u001b[0;34m,\u001b[0m \u001b[0;36m200\u001b[0m\u001b[0;34m)\u001b[0m\u001b[0;34m\u001b[0m\u001b[0m\n\u001b[1;32m    149\u001b[0m     \u001b[0;32mif\u001b[0m \u001b[0;32mnot\u001b[0m \u001b[0mstatus_code\u001b[0m \u001b[0;32mis\u001b[0m \u001b[0;36m200\u001b[0m\u001b[0;34m:\u001b[0m\u001b[0;34m\u001b[0m\u001b[0m\n\u001b[0;32m--> 150\u001b[0;31m       \u001b[0;32mraise\u001b[0m \u001b[0mYandexTranslateException\u001b[0m\u001b[0;34m(\u001b[0m\u001b[0mstatus_code\u001b[0m\u001b[0;34m)\u001b[0m\u001b[0;34m\u001b[0m\u001b[0m\n\u001b[0m\u001b[1;32m    151\u001b[0m     \u001b[0;32mreturn\u001b[0m \u001b[0mresponse\u001b[0m\u001b[0;34m\u001b[0m\u001b[0m\n\u001b[1;32m    152\u001b[0m \u001b[0;34m\u001b[0m\u001b[0m\n",
      "\u001b[0;31mYandexTranslateException\u001b[0m: None"
     ]
    }
   ],
   "source": [
    "russian_text_df = df_1[df_1['Lang'] == 'ru']  \n",
    "ru_length = len(russian_text_df) # количество русских отзывов \n",
    "p = 51 # проверенная порция для яндекс перевода \n",
    "cycles = ru_length // p # кол-во полных циклов \n",
    "cyc_tail = ru_length - (cycles*p) #остаток хвоста \n",
    "\n",
    "russian_list =[] #список, где складываем все тексты \n",
    "\n",
    "x = 0 #начало интервала \n",
    "cycles_count = 0 # количество порций / итераций \n",
    "\n",
    "\n",
    "for i in range (cycles):\n",
    "    # выбираем русский текст и запускаем первый цикл начинаем от 0 до 51 \n",
    "    text_portion = russian_text_df['Review'][x:p] \n",
    "    # переводим его через яндекс и выбираем из него словарь текстов \n",
    "    russian = translate.translate(text_portion, 'ru-en')['text']\n",
    "    #добавляем его в общий словарь \n",
    "    russian_list.append(russian)\n",
    "    # готов координаты для следующей порции \n",
    "    x = p\n",
    "    p = p + 50\n",
    "    cycles_count += 1\n",
    "    \n",
    "    # добавляем хвост, который не вошел в цикл (до 50)\n",
    "    \n",
    "    if cycles_count == cycles:\n",
    "        x = p\n",
    "        text_portion_1 = russian_text_df['Review'][x:]\n",
    "        russian = translate.translate(text_portion_1, 'ru-en')['text']\n",
    "        russian_list.append(russian)\n",
    "\n",
    "print (len(russian_list))"
   ]
  },
  {
   "cell_type": "code",
   "execution_count": null,
   "metadata": {
    "collapsed": true
   },
   "outputs": [],
   "source": []
  }
 ],
 "metadata": {
  "kernelspec": {
   "display_name": "Python 3",
   "language": "python",
   "name": "python3"
  },
  "language_info": {
   "codemirror_mode": {
    "name": "ipython",
    "version": 3
   },
   "file_extension": ".py",
   "mimetype": "text/x-python",
   "name": "python",
   "nbconvert_exporter": "python",
   "pygments_lexer": "ipython3",
   "version": "3.6.0"
  }
 },
 "nbformat": 4,
 "nbformat_minor": 2
}
