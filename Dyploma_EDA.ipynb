{
 "cells": [
  {
   "cell_type": "code",
   "execution_count": 486,
   "metadata": {
    "collapsed": true
   },
   "outputs": [],
   "source": [
    "import pandas as pd\n",
    "import numpy as np\n",
    "import textrank\n",
    "import sklearn\n",
    "import datetime as dt\n",
    "import matplotlib.pyplot as plt\n",
    "import seaborn as sns\n",
    "%matplotlib inline\n"
   ]
  },
  {
   "cell_type": "code",
   "execution_count": 487,
   "metadata": {
    "collapsed": true
   },
   "outputs": [],
   "source": [
    "import pickle"
   ]
  },
  {
   "cell_type": "code",
   "execution_count": 206,
   "metadata": {
    "collapsed": true
   },
   "outputs": [],
   "source": [
    "col_labels = ['Date','AppID','AppName','Lang','1', '2', '3', 'Author','Stars','Title','Review','Reply','Device','DeviceType','Tags','Updated']"
   ]
  },
  {
   "cell_type": "code",
   "execution_count": 207,
   "metadata": {
    "collapsed": false
   },
   "outputs": [],
   "source": [
    "df = pd.read_csv('reviews_googleplay_1507788606.csv', \n",
    "                  skiprows=4, engine='python', names = col_labels, index_col=False,\n",
    "                  error_bad_lines=True\n",
    "                 )"
   ]
  },
  {
   "cell_type": "code",
   "execution_count": 208,
   "metadata": {
    "collapsed": false
   },
   "outputs": [
    {
     "data": {
      "text/html": [
       "<div>\n",
       "<style>\n",
       "    .dataframe thead tr:only-child th {\n",
       "        text-align: right;\n",
       "    }\n",
       "\n",
       "    .dataframe thead th {\n",
       "        text-align: left;\n",
       "    }\n",
       "\n",
       "    .dataframe tbody tr th {\n",
       "        vertical-align: top;\n",
       "    }\n",
       "</style>\n",
       "<table border=\"1\" class=\"dataframe\">\n",
       "  <thead>\n",
       "    <tr style=\"text-align: right;\">\n",
       "      <th></th>\n",
       "      <th>Date</th>\n",
       "      <th>AppID</th>\n",
       "      <th>AppName</th>\n",
       "      <th>Lang</th>\n",
       "      <th>1</th>\n",
       "      <th>2</th>\n",
       "      <th>3</th>\n",
       "      <th>Author</th>\n",
       "      <th>Stars</th>\n",
       "      <th>Title</th>\n",
       "      <th>Review</th>\n",
       "      <th>Reply</th>\n",
       "      <th>Device</th>\n",
       "      <th>DeviceType</th>\n",
       "      <th>Tags</th>\n",
       "      <th>Updated</th>\n",
       "    </tr>\n",
       "  </thead>\n",
       "  <tbody>\n",
       "    <tr>\n",
       "      <th>0</th>\n",
       "      <td>\\t2017-10-11</td>\n",
       "      <td>com.wachanga.babycare</td>\n",
       "      <td>Baby Breastfeeding Tracker. Newborn Diary</td>\n",
       "      <td>pt</td>\n",
       "      <td>NaN</td>\n",
       "      <td>NaN</td>\n",
       "      <td>NaN</td>\n",
       "      <td>Renato Morais</td>\n",
       "      <td>5</td>\n",
       "      <td>NaN</td>\n",
       "      <td>Muito bom</td>\n",
       "      <td>NaN</td>\n",
       "      <td>NaN</td>\n",
       "      <td>NaN</td>\n",
       "      <td>NaN</td>\n",
       "      <td>NaN</td>\n",
       "    </tr>\n",
       "    <tr>\n",
       "      <th>1</th>\n",
       "      <td>\\t2017-10-11</td>\n",
       "      <td>com.wachanga.babycare</td>\n",
       "      <td>Baby Breastfeeding Tracker. Newborn Diary</td>\n",
       "      <td>de</td>\n",
       "      <td>NaN</td>\n",
       "      <td>NaN</td>\n",
       "      <td>NaN</td>\n",
       "      <td>NaN</td>\n",
       "      <td>4</td>\n",
       "      <td>NaN</td>\n",
       "      <td>Scheint eine gute App zu sein. Sehr übersichtl...</td>\n",
       "      <td>NaN</td>\n",
       "      <td>NaN</td>\n",
       "      <td>NaN</td>\n",
       "      <td>NaN</td>\n",
       "      <td>NaN</td>\n",
       "    </tr>\n",
       "    <tr>\n",
       "      <th>2</th>\n",
       "      <td>\\t2017-10-11</td>\n",
       "      <td>com.wachanga.babycare</td>\n",
       "      <td>Baby Breastfeeding Tracker. Newborn Diary</td>\n",
       "      <td>pt</td>\n",
       "      <td>NaN</td>\n",
       "      <td>NaN</td>\n",
       "      <td>NaN</td>\n",
       "      <td>NaN</td>\n",
       "      <td>5</td>\n",
       "      <td>NaN</td>\n",
       "      <td>Perfeito. Consigo controlar todos os dados imp...</td>\n",
       "      <td>NaN</td>\n",
       "      <td>NaN</td>\n",
       "      <td>NaN</td>\n",
       "      <td>NaN</td>\n",
       "      <td>NaN</td>\n",
       "    </tr>\n",
       "  </tbody>\n",
       "</table>\n",
       "</div>"
      ],
      "text/plain": [
       "           Date                  AppID  \\\n",
       "0  \\t2017-10-11  com.wachanga.babycare   \n",
       "1  \\t2017-10-11  com.wachanga.babycare   \n",
       "2  \\t2017-10-11  com.wachanga.babycare   \n",
       "\n",
       "                                     AppName Lang   1   2   3         Author  \\\n",
       "0  Baby Breastfeeding Tracker. Newborn Diary   pt NaN NaN NaN  Renato Morais   \n",
       "1  Baby Breastfeeding Tracker. Newborn Diary   de NaN NaN NaN            NaN   \n",
       "2  Baby Breastfeeding Tracker. Newborn Diary   pt NaN NaN NaN            NaN   \n",
       "\n",
       "   Stars Title                                             Review Reply  \\\n",
       "0      5   NaN                                          Muito bom   NaN   \n",
       "1      4   NaN  Scheint eine gute App zu sein. Sehr übersichtl...   NaN   \n",
       "2      5   NaN  Perfeito. Consigo controlar todos os dados imp...   NaN   \n",
       "\n",
       "   Device  DeviceType Tags  Updated  \n",
       "0     NaN         NaN  NaN      NaN  \n",
       "1     NaN         NaN  NaN      NaN  \n",
       "2     NaN         NaN  NaN      NaN  "
      ]
     },
     "execution_count": 208,
     "metadata": {},
     "output_type": "execute_result"
    }
   ],
   "source": [
    "df.head(3)"
   ]
  },
  {
   "cell_type": "code",
   "execution_count": 209,
   "metadata": {
    "collapsed": false
   },
   "outputs": [],
   "source": [
    "df_1 = df.drop(['AppID','AppName', '1', '2', '3', 'Device','DeviceType','Tags','Updated'], axis =1)\n",
    "\n",
    "#col_labels = ['Date',,'Lang', 'Author','Stars','Title','Review','Reply',]"
   ]
  },
  {
   "cell_type": "code",
   "execution_count": 210,
   "metadata": {
    "collapsed": false
   },
   "outputs": [
    {
     "data": {
      "text/html": [
       "<div>\n",
       "<style>\n",
       "    .dataframe thead tr:only-child th {\n",
       "        text-align: right;\n",
       "    }\n",
       "\n",
       "    .dataframe thead th {\n",
       "        text-align: left;\n",
       "    }\n",
       "\n",
       "    .dataframe tbody tr th {\n",
       "        vertical-align: top;\n",
       "    }\n",
       "</style>\n",
       "<table border=\"1\" class=\"dataframe\">\n",
       "  <thead>\n",
       "    <tr style=\"text-align: right;\">\n",
       "      <th></th>\n",
       "      <th>Date</th>\n",
       "      <th>Lang</th>\n",
       "      <th>Author</th>\n",
       "      <th>Stars</th>\n",
       "      <th>Title</th>\n",
       "      <th>Review</th>\n",
       "      <th>Reply</th>\n",
       "    </tr>\n",
       "  </thead>\n",
       "  <tbody>\n",
       "    <tr>\n",
       "      <th>0</th>\n",
       "      <td>\\t2017-10-11</td>\n",
       "      <td>pt</td>\n",
       "      <td>Renato Morais</td>\n",
       "      <td>5</td>\n",
       "      <td>NaN</td>\n",
       "      <td>Muito bom</td>\n",
       "      <td>NaN</td>\n",
       "    </tr>\n",
       "    <tr>\n",
       "      <th>1</th>\n",
       "      <td>\\t2017-10-11</td>\n",
       "      <td>de</td>\n",
       "      <td>NaN</td>\n",
       "      <td>4</td>\n",
       "      <td>NaN</td>\n",
       "      <td>Scheint eine gute App zu sein. Sehr übersichtl...</td>\n",
       "      <td>NaN</td>\n",
       "    </tr>\n",
       "    <tr>\n",
       "      <th>2</th>\n",
       "      <td>\\t2017-10-11</td>\n",
       "      <td>pt</td>\n",
       "      <td>NaN</td>\n",
       "      <td>5</td>\n",
       "      <td>NaN</td>\n",
       "      <td>Perfeito. Consigo controlar todos os dados imp...</td>\n",
       "      <td>NaN</td>\n",
       "    </tr>\n",
       "  </tbody>\n",
       "</table>\n",
       "</div>"
      ],
      "text/plain": [
       "           Date Lang         Author  Stars Title  \\\n",
       "0  \\t2017-10-11   pt  Renato Morais      5   NaN   \n",
       "1  \\t2017-10-11   de            NaN      4   NaN   \n",
       "2  \\t2017-10-11   pt            NaN      5   NaN   \n",
       "\n",
       "                                              Review Reply  \n",
       "0                                          Muito bom   NaN  \n",
       "1  Scheint eine gute App zu sein. Sehr übersichtl...   NaN  \n",
       "2  Perfeito. Consigo controlar todos os dados imp...   NaN  "
      ]
     },
     "execution_count": 210,
     "metadata": {},
     "output_type": "execute_result"
    }
   ],
   "source": [
    "df_1.head(3)"
   ]
  },
  {
   "cell_type": "code",
   "execution_count": 212,
   "metadata": {
    "collapsed": false
   },
   "outputs": [
    {
     "data": {
      "text/plain": [
       "(3510, 7)"
      ]
     },
     "execution_count": 212,
     "metadata": {},
     "output_type": "execute_result"
    }
   ],
   "source": [
    "df_1.shape"
   ]
  },
  {
   "cell_type": "code",
   "execution_count": 213,
   "metadata": {
    "collapsed": false
   },
   "outputs": [
    {
     "name": "stdout",
     "output_type": "stream",
     "text": [
      "<class 'pandas.core.frame.DataFrame'>\n",
      "RangeIndex: 3510 entries, 0 to 3509\n",
      "Data columns (total 7 columns):\n",
      "Date      3510 non-null object\n",
      "Lang      3510 non-null object\n",
      "Author    2949 non-null object\n",
      "Stars     3510 non-null int64\n",
      "Title     197 non-null object\n",
      "Review    3510 non-null object\n",
      "Reply     533 non-null object\n",
      "dtypes: int64(1), object(6)\n",
      "memory usage: 192.0+ KB\n"
     ]
    }
   ],
   "source": [
    "df_1.info()"
   ]
  },
  {
   "cell_type": "code",
   "execution_count": null,
   "metadata": {
    "collapsed": false
   },
   "outputs": [],
   "source": [
    "#plt.plot(x)"
   ]
  },
  {
   "cell_type": "code",
   "execution_count": 214,
   "metadata": {
    "collapsed": false
   },
   "outputs": [],
   "source": [
    "x = df_1.groupby('Lang').Review.count().sort_values(ascending = False)\n",
    "#sns.distplot(x)"
   ]
  },
  {
   "cell_type": "code",
   "execution_count": 215,
   "metadata": {
    "collapsed": true
   },
   "outputs": [],
   "source": [
    "x_Lang = pd.DataFrame(x)"
   ]
  },
  {
   "cell_type": "code",
   "execution_count": 216,
   "metadata": {
    "collapsed": false
   },
   "outputs": [
    {
     "data": {
      "text/html": [
       "<style  type=\"text/css\" >\n",
       "    #T_e3d19182_c3a7_11e7_a4d7_9cf387c17a2crow0_col0 {\n",
       "            width:  10em;\n",
       "             height:  80%;\n",
       "            background:  linear-gradient(90deg,#d65f5f 100.0%, transparent 0%);\n",
       "        }    #T_e3d19182_c3a7_11e7_a4d7_9cf387c17a2crow1_col0 {\n",
       "            width:  10em;\n",
       "             height:  80%;\n",
       "            background:  linear-gradient(90deg,#d65f5f 66.2%, transparent 0%);\n",
       "        }    #T_e3d19182_c3a7_11e7_a4d7_9cf387c17a2crow2_col0 {\n",
       "            width:  10em;\n",
       "             height:  80%;\n",
       "            background:  linear-gradient(90deg,#d65f5f 33.3%, transparent 0%);\n",
       "        }    #T_e3d19182_c3a7_11e7_a4d7_9cf387c17a2crow3_col0 {\n",
       "            width:  10em;\n",
       "             height:  80%;\n",
       "            background:  linear-gradient(90deg,#d65f5f 32.9%, transparent 0%);\n",
       "        }    #T_e3d19182_c3a7_11e7_a4d7_9cf387c17a2crow4_col0 {\n",
       "            width:  10em;\n",
       "             height:  80%;\n",
       "            background:  linear-gradient(90deg,#d65f5f 32.2%, transparent 0%);\n",
       "        }    #T_e3d19182_c3a7_11e7_a4d7_9cf387c17a2crow5_col0 {\n",
       "            width:  10em;\n",
       "             height:  80%;\n",
       "            background:  linear-gradient(90deg,#d65f5f 11.2%, transparent 0%);\n",
       "        }    #T_e3d19182_c3a7_11e7_a4d7_9cf387c17a2crow6_col0 {\n",
       "            width:  10em;\n",
       "             height:  80%;\n",
       "            background:  linear-gradient(90deg,#d65f5f 10.6%, transparent 0%);\n",
       "        }    #T_e3d19182_c3a7_11e7_a4d7_9cf387c17a2crow7_col0 {\n",
       "            width:  10em;\n",
       "             height:  80%;\n",
       "            background:  linear-gradient(90deg,#d65f5f 8.1%, transparent 0%);\n",
       "        }    #T_e3d19182_c3a7_11e7_a4d7_9cf387c17a2crow8_col0 {\n",
       "            width:  10em;\n",
       "             height:  80%;\n",
       "            background:  linear-gradient(90deg,#d65f5f 7.2%, transparent 0%);\n",
       "        }    #T_e3d19182_c3a7_11e7_a4d7_9cf387c17a2crow9_col0 {\n",
       "            width:  10em;\n",
       "             height:  80%;\n",
       "            background:  linear-gradient(90deg,#d65f5f 4.9%, transparent 0%);\n",
       "        }    #T_e3d19182_c3a7_11e7_a4d7_9cf387c17a2crow10_col0 {\n",
       "            width:  10em;\n",
       "             height:  80%;\n",
       "            background:  linear-gradient(90deg,#d65f5f 4.5%, transparent 0%);\n",
       "        }    #T_e3d19182_c3a7_11e7_a4d7_9cf387c17a2crow11_col0 {\n",
       "            width:  10em;\n",
       "             height:  80%;\n",
       "            background:  linear-gradient(90deg,#d65f5f 3.3%, transparent 0%);\n",
       "        }    #T_e3d19182_c3a7_11e7_a4d7_9cf387c17a2crow12_col0 {\n",
       "            width:  10em;\n",
       "             height:  80%;\n",
       "            background:  linear-gradient(90deg,#d65f5f 2.4%, transparent 0%);\n",
       "        }    #T_e3d19182_c3a7_11e7_a4d7_9cf387c17a2crow13_col0 {\n",
       "            width:  10em;\n",
       "             height:  80%;\n",
       "            background:  linear-gradient(90deg,#d65f5f 2.0%, transparent 0%);\n",
       "        }    #T_e3d19182_c3a7_11e7_a4d7_9cf387c17a2crow14_col0 {\n",
       "            width:  10em;\n",
       "             height:  80%;\n",
       "            background:  linear-gradient(90deg,#d65f5f 1.5%, transparent 0%);\n",
       "        }    #T_e3d19182_c3a7_11e7_a4d7_9cf387c17a2crow15_col0 {\n",
       "            width:  10em;\n",
       "             height:  80%;\n",
       "            background:  linear-gradient(90deg,#d65f5f 0.5%, transparent 0%);\n",
       "        }    #T_e3d19182_c3a7_11e7_a4d7_9cf387c17a2crow16_col0 {\n",
       "            width:  10em;\n",
       "             height:  80%;\n",
       "            background:  linear-gradient(90deg,#d65f5f 0.4%, transparent 0%);\n",
       "        }    #T_e3d19182_c3a7_11e7_a4d7_9cf387c17a2crow17_col0 {\n",
       "            width:  10em;\n",
       "             height:  80%;\n",
       "            background:  linear-gradient(90deg,#d65f5f 0.3%, transparent 0%);\n",
       "        }    #T_e3d19182_c3a7_11e7_a4d7_9cf387c17a2crow18_col0 {\n",
       "            width:  10em;\n",
       "             height:  80%;\n",
       "            background:  linear-gradient(90deg,#d65f5f 0.3%, transparent 0%);\n",
       "        }    #T_e3d19182_c3a7_11e7_a4d7_9cf387c17a2crow19_col0 {\n",
       "            width:  10em;\n",
       "             height:  80%;\n",
       "            background:  linear-gradient(90deg,#d65f5f 0.2%, transparent 0%);\n",
       "        }    #T_e3d19182_c3a7_11e7_a4d7_9cf387c17a2crow20_col0 {\n",
       "            width:  10em;\n",
       "             height:  80%;\n",
       "            background:  linear-gradient(90deg,#d65f5f 0.2%, transparent 0%);\n",
       "        }    #T_e3d19182_c3a7_11e7_a4d7_9cf387c17a2crow21_col0 {\n",
       "            width:  10em;\n",
       "             height:  80%;\n",
       "            background:  linear-gradient(90deg,#d65f5f 0.2%, transparent 0%);\n",
       "        }    #T_e3d19182_c3a7_11e7_a4d7_9cf387c17a2crow22_col0 {\n",
       "            width:  10em;\n",
       "             height:  80%;\n",
       "            background:  linear-gradient(90deg,#d65f5f 0.2%, transparent 0%);\n",
       "        }    #T_e3d19182_c3a7_11e7_a4d7_9cf387c17a2crow23_col0 {\n",
       "            width:  10em;\n",
       "             height:  80%;\n",
       "            background:  linear-gradient(90deg,#d65f5f 0.1%, transparent 0%);\n",
       "        }    #T_e3d19182_c3a7_11e7_a4d7_9cf387c17a2crow24_col0 {\n",
       "            width:  10em;\n",
       "             height:  80%;\n",
       "        }</style>  \n",
       "<table id=\"T_e3d19182_c3a7_11e7_a4d7_9cf387c17a2c\" > \n",
       "<thead>    <tr> \n",
       "        <th class=\"blank level0\" ></th> \n",
       "        <th class=\"col_heading level0 col0\" >Review</th> \n",
       "    </tr>    <tr> \n",
       "        <th class=\"index_name level0\" >Lang</th> \n",
       "        <th class=\"blank\" ></th> \n",
       "    </tr></thead> \n",
       "<tbody>    <tr> \n",
       "        <th id=\"T_e3d19182_c3a7_11e7_a4d7_9cf387c17a2clevel0_row0\" class=\"row_heading level0 row0\" >ru</th> \n",
       "        <td id=\"T_e3d19182_c3a7_11e7_a4d7_9cf387c17a2crow0_col0\" class=\"data row0 col0\" >1081</td> \n",
       "    </tr>    <tr> \n",
       "        <th id=\"T_e3d19182_c3a7_11e7_a4d7_9cf387c17a2clevel0_row1\" class=\"row_heading level0 row1\" >pt</th> \n",
       "        <td id=\"T_e3d19182_c3a7_11e7_a4d7_9cf387c17a2crow1_col0\" class=\"data row1 col0\" >716</td> \n",
       "    </tr>    <tr> \n",
       "        <th id=\"T_e3d19182_c3a7_11e7_a4d7_9cf387c17a2clevel0_row2\" class=\"row_heading level0 row2\" >es</th> \n",
       "        <td id=\"T_e3d19182_c3a7_11e7_a4d7_9cf387c17a2crow2_col0\" class=\"data row2 col0\" >361</td> \n",
       "    </tr>    <tr> \n",
       "        <th id=\"T_e3d19182_c3a7_11e7_a4d7_9cf387c17a2clevel0_row3\" class=\"row_heading level0 row3\" >en</th> \n",
       "        <td id=\"T_e3d19182_c3a7_11e7_a4d7_9cf387c17a2crow3_col0\" class=\"data row3 col0\" >356</td> \n",
       "    </tr>    <tr> \n",
       "        <th id=\"T_e3d19182_c3a7_11e7_a4d7_9cf387c17a2clevel0_row4\" class=\"row_heading level0 row4\" >de</th> \n",
       "        <td id=\"T_e3d19182_c3a7_11e7_a4d7_9cf387c17a2crow4_col0\" class=\"data row4 col0\" >349</td> \n",
       "    </tr>    <tr> \n",
       "        <th id=\"T_e3d19182_c3a7_11e7_a4d7_9cf387c17a2clevel0_row5\" class=\"row_heading level0 row5\" >fr</th> \n",
       "        <td id=\"T_e3d19182_c3a7_11e7_a4d7_9cf387c17a2crow5_col0\" class=\"data row5 col0\" >122</td> \n",
       "    </tr>    <tr> \n",
       "        <th id=\"T_e3d19182_c3a7_11e7_a4d7_9cf387c17a2clevel0_row6\" class=\"row_heading level0 row6\" >ko</th> \n",
       "        <td id=\"T_e3d19182_c3a7_11e7_a4d7_9cf387c17a2crow6_col0\" class=\"data row6 col0\" >116</td> \n",
       "    </tr>    <tr> \n",
       "        <th id=\"T_e3d19182_c3a7_11e7_a4d7_9cf387c17a2clevel0_row7\" class=\"row_heading level0 row7\" >pl</th> \n",
       "        <td id=\"T_e3d19182_c3a7_11e7_a4d7_9cf387c17a2crow7_col0\" class=\"data row7 col0\" >88</td> \n",
       "    </tr>    <tr> \n",
       "        <th id=\"T_e3d19182_c3a7_11e7_a4d7_9cf387c17a2clevel0_row8\" class=\"row_heading level0 row8\" >it</th> \n",
       "        <td id=\"T_e3d19182_c3a7_11e7_a4d7_9cf387c17a2crow8_col0\" class=\"data row8 col0\" >79</td> \n",
       "    </tr>    <tr> \n",
       "        <th id=\"T_e3d19182_c3a7_11e7_a4d7_9cf387c17a2clevel0_row9\" class=\"row_heading level0 row9\" >tr</th> \n",
       "        <td id=\"T_e3d19182_c3a7_11e7_a4d7_9cf387c17a2crow9_col0\" class=\"data row9 col0\" >54</td> \n",
       "    </tr>    <tr> \n",
       "        <th id=\"T_e3d19182_c3a7_11e7_a4d7_9cf387c17a2clevel0_row10\" class=\"row_heading level0 row10\" >nl</th> \n",
       "        <td id=\"T_e3d19182_c3a7_11e7_a4d7_9cf387c17a2crow10_col0\" class=\"data row10 col0\" >50</td> \n",
       "    </tr>    <tr> \n",
       "        <th id=\"T_e3d19182_c3a7_11e7_a4d7_9cf387c17a2clevel0_row11\" class=\"row_heading level0 row11\" >cs</th> \n",
       "        <td id=\"T_e3d19182_c3a7_11e7_a4d7_9cf387c17a2crow11_col0\" class=\"data row11 col0\" >37</td> \n",
       "    </tr>    <tr> \n",
       "        <th id=\"T_e3d19182_c3a7_11e7_a4d7_9cf387c17a2clevel0_row12\" class=\"row_heading level0 row12\" >ja</th> \n",
       "        <td id=\"T_e3d19182_c3a7_11e7_a4d7_9cf387c17a2crow12_col0\" class=\"data row12 col0\" >27</td> \n",
       "    </tr>    <tr> \n",
       "        <th id=\"T_e3d19182_c3a7_11e7_a4d7_9cf387c17a2clevel0_row13\" class=\"row_heading level0 row13\" >hu</th> \n",
       "        <td id=\"T_e3d19182_c3a7_11e7_a4d7_9cf387c17a2crow13_col0\" class=\"data row13 col0\" >23</td> \n",
       "    </tr>    <tr> \n",
       "        <th id=\"T_e3d19182_c3a7_11e7_a4d7_9cf387c17a2clevel0_row14\" class=\"row_heading level0 row14\" >el</th> \n",
       "        <td id=\"T_e3d19182_c3a7_11e7_a4d7_9cf387c17a2crow14_col0\" class=\"data row14 col0\" >17</td> \n",
       "    </tr>    <tr> \n",
       "        <th id=\"T_e3d19182_c3a7_11e7_a4d7_9cf387c17a2clevel0_row15\" class=\"row_heading level0 row15\" >fi</th> \n",
       "        <td id=\"T_e3d19182_c3a7_11e7_a4d7_9cf387c17a2crow15_col0\" class=\"data row15 col0\" >6</td> \n",
       "    </tr>    <tr> \n",
       "        <th id=\"T_e3d19182_c3a7_11e7_a4d7_9cf387c17a2clevel0_row16\" class=\"row_heading level0 row16\" >da</th> \n",
       "        <td id=\"T_e3d19182_c3a7_11e7_a4d7_9cf387c17a2crow16_col0\" class=\"data row16 col0\" >5</td> \n",
       "    </tr>    <tr> \n",
       "        <th id=\"T_e3d19182_c3a7_11e7_a4d7_9cf387c17a2clevel0_row17\" class=\"row_heading level0 row17\" >no</th> \n",
       "        <td id=\"T_e3d19182_c3a7_11e7_a4d7_9cf387c17a2crow17_col0\" class=\"data row17 col0\" >4</td> \n",
       "    </tr>    <tr> \n",
       "        <th id=\"T_e3d19182_c3a7_11e7_a4d7_9cf387c17a2clevel0_row18\" class=\"row_heading level0 row18\" >sk</th> \n",
       "        <td id=\"T_e3d19182_c3a7_11e7_a4d7_9cf387c17a2crow18_col0\" class=\"data row18 col0\" >4</td> \n",
       "    </tr>    <tr> \n",
       "        <th id=\"T_e3d19182_c3a7_11e7_a4d7_9cf387c17a2clevel0_row19\" class=\"row_heading level0 row19\" >id</th> \n",
       "        <td id=\"T_e3d19182_c3a7_11e7_a4d7_9cf387c17a2crow19_col0\" class=\"data row19 col0\" >3</td> \n",
       "    </tr>    <tr> \n",
       "        <th id=\"T_e3d19182_c3a7_11e7_a4d7_9cf387c17a2clevel0_row20\" class=\"row_heading level0 row20\" >hr</th> \n",
       "        <td id=\"T_e3d19182_c3a7_11e7_a4d7_9cf387c17a2crow20_col0\" class=\"data row20 col0\" >3</td> \n",
       "    </tr>    <tr> \n",
       "        <th id=\"T_e3d19182_c3a7_11e7_a4d7_9cf387c17a2clevel0_row21\" class=\"row_heading level0 row21\" >sv</th> \n",
       "        <td id=\"T_e3d19182_c3a7_11e7_a4d7_9cf387c17a2crow21_col0\" class=\"data row21 col0\" >3</td> \n",
       "    </tr>    <tr> \n",
       "        <th id=\"T_e3d19182_c3a7_11e7_a4d7_9cf387c17a2clevel0_row22\" class=\"row_heading level0 row22\" >bg</th> \n",
       "        <td id=\"T_e3d19182_c3a7_11e7_a4d7_9cf387c17a2crow22_col0\" class=\"data row22 col0\" >3</td> \n",
       "    </tr>    <tr> \n",
       "        <th id=\"T_e3d19182_c3a7_11e7_a4d7_9cf387c17a2clevel0_row23\" class=\"row_heading level0 row23\" >sr</th> \n",
       "        <td id=\"T_e3d19182_c3a7_11e7_a4d7_9cf387c17a2crow23_col0\" class=\"data row23 col0\" >2</td> \n",
       "    </tr>    <tr> \n",
       "        <th id=\"T_e3d19182_c3a7_11e7_a4d7_9cf387c17a2clevel0_row24\" class=\"row_heading level0 row24\" >th</th> \n",
       "        <td id=\"T_e3d19182_c3a7_11e7_a4d7_9cf387c17a2crow24_col0\" class=\"data row24 col0\" >1</td> \n",
       "    </tr></tbody> \n",
       "</table> "
      ],
      "text/plain": [
       "<pandas.io.formats.style.Styler at 0x113b38240>"
      ]
     },
     "execution_count": 216,
     "metadata": {},
     "output_type": "execute_result"
    }
   ],
   "source": [
    "x_Lang.style.bar()"
   ]
  },
  {
   "cell_type": "code",
   "execution_count": null,
   "metadata": {
    "collapsed": true
   },
   "outputs": [],
   "source": [
    "#chipo_drink_steak_bowl = chipo[(chipo.item_name == \"Canned Soda\") & (chipo.quantity > 1)]\n"
   ]
  },
  {
   "cell_type": "code",
   "execution_count": 217,
   "metadata": {
    "collapsed": false
   },
   "outputs": [
    {
     "data": {
      "text/plain": [
       "(1081, 7)"
      ]
     },
     "execution_count": 217,
     "metadata": {},
     "output_type": "execute_result"
    }
   ],
   "source": [
    "Ru_review = df_1[(df_1.Lang == 'ru')]\n",
    "Ru_review.shape"
   ]
  },
  {
   "cell_type": "code",
   "execution_count": 218,
   "metadata": {
    "collapsed": false
   },
   "outputs": [
    {
     "data": {
      "text/plain": [
       "'Perfeito. Consigo controlar todos os dados importantes do meu filho!'"
      ]
     },
     "execution_count": 218,
     "metadata": {},
     "output_type": "execute_result"
    }
   ],
   "source": [
    "df.Review[2]"
   ]
  },
  {
   "cell_type": "code",
   "execution_count": null,
   "metadata": {
    "collapsed": true
   },
   "outputs": [],
   "source": [
    "## trnsl.1.1.20171012T153315Z.27f7b7ad41361c04.5bb573e2c4533a4aeafa7deeba56e203de72b930"
   ]
  },
  {
   "cell_type": "code",
   "execution_count": 219,
   "metadata": {
    "collapsed": false
   },
   "outputs": [
    {
     "name": "stdout",
     "output_type": "stream",
     "text": [
      "Languages: {'bg', 'et', 'fi', 'ru', 'ca', 'hy', 'it', 'lv', 'be', 'az', 'sv', 'uk', 'el', 'sr', 'tr', 'lt', 'hr', 'hu', 'sq', 'es', 'da', 'en', 'mk', 'no', 'sk', 'nl', 'de', 'pt', 'sl', 'cs', 'pl', 'fr', 'ro'}\n",
      "Translate directions: ['az-ru', 'be-bg', 'be-cs', 'be-de', 'be-en', 'be-es', 'be-fr', 'be-it', 'be-pl', 'be-ro', 'be-ru', 'be-sr', 'be-tr', 'bg-be', 'bg-ru', 'bg-uk', 'ca-en', 'ca-ru', 'cs-be', 'cs-en', 'cs-ru', 'cs-uk', 'da-en', 'da-ru', 'de-be', 'de-en', 'de-es', 'de-fr', 'de-it', 'de-ru', 'de-tr', 'de-uk', 'el-en', 'el-ru', 'en-be', 'en-ca', 'en-cs', 'en-da', 'en-de', 'en-el', 'en-es', 'en-et', 'en-fi', 'en-fr', 'en-hu', 'en-it', 'en-lt', 'en-lv', 'en-mk', 'en-nl', 'en-no', 'en-pt', 'en-ru', 'en-sk', 'en-sl', 'en-sq', 'en-sv', 'en-tr', 'en-uk', 'es-be', 'es-de', 'es-en', 'es-ru', 'es-uk', 'et-en', 'et-ru', 'fi-en', 'fi-ru', 'fr-be', 'fr-de', 'fr-en', 'fr-ru', 'fr-uk', 'hr-ru', 'hu-en', 'hu-ru', 'hy-ru', 'it-be', 'it-de', 'it-en', 'it-ru', 'it-uk', 'lt-en', 'lt-ru', 'lv-en', 'lv-ru', 'mk-en', 'mk-ru', 'nl-en', 'nl-ru', 'no-en', 'no-ru', 'pl-be', 'pl-ru', 'pl-uk', 'pt-en', 'pt-ru', 'ro-be', 'ro-ru', 'ro-uk', 'ru-az', 'ru-be', 'ru-bg', 'ru-ca', 'ru-cs', 'ru-da', 'ru-de', 'ru-el', 'ru-en', 'ru-es', 'ru-et', 'ru-fi', 'ru-fr', 'ru-hr', 'ru-hu', 'ru-hy', 'ru-it', 'ru-lt', 'ru-lv', 'ru-mk', 'ru-nl', 'ru-no', 'ru-pl', 'ru-pt', 'ru-ro', 'ru-sk', 'ru-sl', 'ru-sq', 'ru-sr', 'ru-sv', 'ru-tr', 'ru-uk', 'sk-en', 'sk-ru', 'sl-en', 'sl-ru', 'sq-en', 'sq-ru', 'sr-be', 'sr-ru', 'sr-uk', 'sv-en', 'sv-ru', 'tr-be', 'tr-de', 'tr-en', 'tr-ru', 'tr-uk', 'uk-bg', 'uk-cs', 'uk-de', 'uk-en', 'uk-es', 'uk-fr', 'uk-it', 'uk-pl', 'uk-ro', 'uk-ru', 'uk-sr', 'uk-tr']\n",
      "Detect language: ru\n",
      "Translate: {'code': 200, 'lang': 'ru-en', 'text': ['Hello world!']}\n"
     ]
    }
   ],
   "source": [
    "from yandex_translate import YandexTranslate\n",
    "translate = YandexTranslate('trnsl.1.1.20171012T153315Z.27f7b7ad41361c04.5bb573e2c4533a4aeafa7deeba56e203de72b930')\n",
    "print('Languages:', translate.langs)\n",
    "print('Translate directions:', translate.directions)\n",
    "print('Detect language:', translate.detect('Привет, мир!'))\n",
    "print('Translate:', translate.translate('Привет, мир!', 'ru-en'))  # or just 'en'"
   ]
  },
  {
   "cell_type": "code",
   "execution_count": 220,
   "metadata": {
    "collapsed": false
   },
   "outputs": [
    {
     "data": {
      "text/plain": [
       "'Perfeito. Consigo controlar todos os dados importantes do meu filho!'"
      ]
     },
     "execution_count": 220,
     "metadata": {},
     "output_type": "execute_result"
    }
   ],
   "source": [
    "text = df.Review[2]\n",
    "text"
   ]
  },
  {
   "cell_type": "markdown",
   "metadata": {},
   "source": [
    "## Переведем 10 отзывов для проверки словаря с топ 4-х языков "
   ]
  },
  {
   "cell_type": "markdown",
   "metadata": {
    "collapsed": true
   },
   "source": [
    "### Русский "
   ]
  },
  {
   "cell_type": "code",
   "execution_count": 488,
   "metadata": {
    "collapsed": false
   },
   "outputs": [
    {
     "name": "stdout",
     "output_type": "stream",
     "text": [
      "1081\n"
     ]
    }
   ],
   "source": [
    "m = []\n",
    "for i in russian_df_total.index:\n",
    "    m.append(i)\n",
    "print (len(m))"
   ]
  },
  {
   "cell_type": "code",
   "execution_count": 444,
   "metadata": {
    "collapsed": false
   },
   "outputs": [],
   "source": [
    "q_russian={}\n",
    "for i, elem in enumerate(russ_total):\n",
    "    q_russian[m[i]] = elem"
   ]
  },
  {
   "cell_type": "markdown",
   "metadata": {},
   "source": [
    "## Pickle !!!\n",
    "https://docs.python.org/3/library/pickle.html#examples"
   ]
  },
  {
   "cell_type": "code",
   "execution_count": 445,
   "metadata": {
    "collapsed": false
   },
   "outputs": [],
   "source": [
    "with open('q_russian.pickle', 'wb') as f:\n",
    "    # Pickle the 'data' dictionary using the highest protocol available.\n",
    "    pickle.dump(q_russian, f, pickle.HIGHEST_PROTOCOL)"
   ]
  },
  {
   "cell_type": "code",
   "execution_count": 307,
   "metadata": {
    "collapsed": true
   },
   "outputs": [],
   "source": [
    "''' with open('q_russian.pickle', 'rb') as f:\n",
    "    # The protocol version used is detected automatically, so we do not\n",
    "    # have to specify it.\n",
    "    russian_data = pickle.load(f)\n",
    "'''"
   ]
  },
  {
   "cell_type": "code",
   "execution_count": null,
   "metadata": {
    "collapsed": true
   },
   "outputs": [],
   "source": []
  },
  {
   "cell_type": "code",
   "execution_count": null,
   "metadata": {
    "collapsed": true
   },
   "outputs": [],
   "source": [
    "# создадим dataframe где будет оригинальный отзыв и его перевод с яндекса "
   ]
  },
  {
   "cell_type": "code",
   "execution_count": 419,
   "metadata": {
    "collapsed": false
   },
   "outputs": [
    {
     "data": {
      "text/plain": [
       "1081"
      ]
     },
     "execution_count": 419,
     "metadata": {},
     "output_type": "execute_result"
    }
   ],
   "source": [
    "russian_df_total = df_1[df_1['Lang'] == 'ru']\n",
    "len (russian_df_total)"
   ]
  },
  {
   "cell_type": "code",
   "execution_count": 424,
   "metadata": {
    "collapsed": true
   },
   "outputs": [],
   "source": [
    "russian_df_1 = df_1[df_1['Lang'] == 'ru']['Review'][0:51]\n",
    "russian_df_2 = df_1[df_1['Lang'] == 'ru']['Review'][51:101]\n",
    "russian_df_3 = df_1[df_1['Lang'] == 'ru']['Review'][101:151]\n",
    "russian_df_4 = df_1[df_1['Lang'] == 'ru']['Review'][151:201]\n",
    "russian_df_5 = df_1[df_1['Lang'] == 'ru']['Review'][201:251]\n",
    "russian_df_6 = df_1[df_1['Lang'] == 'ru']['Review'][251:301]\n",
    "russian_df_7 = df_1[df_1['Lang'] == 'ru']['Review'][301:351]\n",
    "russian_df_8 = df_1[df_1['Lang'] == 'ru']['Review'][351:401]\n",
    "russian_df_9 = df_1[df_1['Lang'] == 'ru']['Review'][401:451]\n",
    "russian_df_10 = df_1[df_1['Lang'] == 'ru']['Review'][451:501]\n",
    "russian_df_11 = df_1[df_1['Lang'] == 'ru']['Review'][501:551]\n",
    "russian_df_12 = df_1[df_1['Lang'] == 'ru']['Review'][551:601]\n",
    "russian_df_13 = df_1[df_1['Lang'] == 'ru']['Review'][601:651]\n",
    "russian_df_14 = df_1[df_1['Lang'] == 'ru']['Review'][651:701]\n",
    "russian_df_15 = df_1[df_1['Lang'] == 'ru']['Review'][701:751]\n",
    "russian_df_16 = df_1[df_1['Lang'] == 'ru']['Review'][751:801]\n",
    "russian_df_17 = df_1[df_1['Lang'] == 'ru']['Review'][801:851]\n",
    "russian_df_18 = df_1[df_1['Lang'] == 'ru']['Review'][851:901]\n",
    "russian_df_19 = df_1[df_1['Lang'] == 'ru']['Review'][901:951]\n",
    "russian_df_20 = df_1[df_1['Lang'] == 'ru']['Review'][951:1001]\n",
    "russian_df_21 = df_1[df_1['Lang'] == 'ru']['Review'][1001:1051]\n",
    "russian_df_22 = df_1[df_1['Lang'] == 'ru']['Review'][1051:]"
   ]
  },
  {
   "cell_type": "code",
   "execution_count": 425,
   "metadata": {
    "collapsed": false
   },
   "outputs": [],
   "source": [
    "russ_1 = translate.translate(russian_df_1, 'ru-en')['text']"
   ]
  },
  {
   "cell_type": "code",
   "execution_count": 360,
   "metadata": {
    "collapsed": true
   },
   "outputs": [],
   "source": [
    "russ_2 = translate.translate(russian_df_2, 'ru-en')['text']"
   ]
  },
  {
   "cell_type": "code",
   "execution_count": 361,
   "metadata": {
    "collapsed": true
   },
   "outputs": [],
   "source": [
    "russ_3 = translate.translate(russian_df_3, 'ru-en')['text']"
   ]
  },
  {
   "cell_type": "code",
   "execution_count": 362,
   "metadata": {
    "collapsed": true
   },
   "outputs": [],
   "source": [
    "russ_4 = translate.translate(russian_df_4, 'ru-en')['text']"
   ]
  },
  {
   "cell_type": "code",
   "execution_count": 363,
   "metadata": {
    "collapsed": true
   },
   "outputs": [],
   "source": [
    "russ_5 = translate.translate(russian_df_5, 'ru-en')['text']"
   ]
  },
  {
   "cell_type": "code",
   "execution_count": 364,
   "metadata": {
    "collapsed": true
   },
   "outputs": [],
   "source": [
    "russ_6 = translate.translate(russian_df_6, 'ru-en')['text']"
   ]
  },
  {
   "cell_type": "code",
   "execution_count": 365,
   "metadata": {
    "collapsed": true
   },
   "outputs": [],
   "source": [
    "russ_7 = translate.translate(russian_df_7, 'ru-en')['text']"
   ]
  },
  {
   "cell_type": "code",
   "execution_count": 366,
   "metadata": {
    "collapsed": true
   },
   "outputs": [],
   "source": [
    "russ_8 = translate.translate(russian_df_8, 'ru-en')['text']"
   ]
  },
  {
   "cell_type": "code",
   "execution_count": 367,
   "metadata": {
    "collapsed": true
   },
   "outputs": [],
   "source": [
    "russ_9 = translate.translate(russian_df_9, 'ru-en')['text']"
   ]
  },
  {
   "cell_type": "code",
   "execution_count": 368,
   "metadata": {
    "collapsed": true
   },
   "outputs": [],
   "source": [
    "russ_10 = translate.translate(russian_df_10, 'ru-en')['text']"
   ]
  },
  {
   "cell_type": "code",
   "execution_count": 369,
   "metadata": {
    "collapsed": true
   },
   "outputs": [],
   "source": [
    "russ_11 = translate.translate(russian_df_11, 'ru-en')['text']"
   ]
  },
  {
   "cell_type": "code",
   "execution_count": 370,
   "metadata": {
    "collapsed": true
   },
   "outputs": [],
   "source": [
    "russ_12 = translate.translate(russian_df_12, 'ru-en')['text']"
   ]
  },
  {
   "cell_type": "code",
   "execution_count": 371,
   "metadata": {
    "collapsed": true
   },
   "outputs": [],
   "source": [
    "russ_13 = translate.translate(russian_df_13, 'ru-en')['text']"
   ]
  },
  {
   "cell_type": "code",
   "execution_count": 372,
   "metadata": {
    "collapsed": true
   },
   "outputs": [],
   "source": [
    "russ_14 = translate.translate(russian_df_14, 'ru-en')['text']"
   ]
  },
  {
   "cell_type": "code",
   "execution_count": 373,
   "metadata": {
    "collapsed": true
   },
   "outputs": [],
   "source": [
    "russ_15 = translate.translate(russian_df_15, 'ru-en')['text']"
   ]
  },
  {
   "cell_type": "code",
   "execution_count": 374,
   "metadata": {
    "collapsed": true
   },
   "outputs": [],
   "source": [
    "russ_16 = translate.translate(russian_df_16, 'ru-en')['text']"
   ]
  },
  {
   "cell_type": "code",
   "execution_count": 375,
   "metadata": {
    "collapsed": true
   },
   "outputs": [],
   "source": [
    "russ_17 = translate.translate(russian_df_17, 'ru-en')['text']"
   ]
  },
  {
   "cell_type": "code",
   "execution_count": 376,
   "metadata": {
    "collapsed": true
   },
   "outputs": [],
   "source": [
    "russ_18 = translate.translate(russian_df_18, 'ru-en')['text']"
   ]
  },
  {
   "cell_type": "code",
   "execution_count": 377,
   "metadata": {
    "collapsed": true
   },
   "outputs": [],
   "source": [
    "russ_19 = translate.translate(russian_df_19, 'ru-en')['text']"
   ]
  },
  {
   "cell_type": "code",
   "execution_count": 378,
   "metadata": {
    "collapsed": true
   },
   "outputs": [],
   "source": [
    "russ_20 = translate.translate(russian_df_20, 'ru-en')['text']"
   ]
  },
  {
   "cell_type": "code",
   "execution_count": 379,
   "metadata": {
    "collapsed": true
   },
   "outputs": [],
   "source": [
    "russ_21 = translate.translate(russian_df_21, 'ru-en')['text']"
   ]
  },
  {
   "cell_type": "code",
   "execution_count": 380,
   "metadata": {
    "collapsed": true
   },
   "outputs": [],
   "source": [
    "russ_22 = translate.translate(russian_df_22, 'ru-en')['text']"
   ]
  },
  {
   "cell_type": "code",
   "execution_count": 491,
   "metadata": {
    "collapsed": true
   },
   "outputs": [],
   "source": [
    "russ_total_lists = russ_1 + russ_2 + russ_3 + russ_4 + russ_5\\\n",
    "                + russ_6 + russ_7 + russ_8 + russ_9 + russ_10\\\n",
    "                + russ_11 + russ_12 + russ_13 + russ_14 + russ_15\\\n",
    "                + russ_16+ russ_17 +russ_18 +russ_19+ russ_20 +russ_21 + russ_22"
   ]
  },
  {
   "cell_type": "code",
   "execution_count": 492,
   "metadata": {
    "collapsed": true
   },
   "outputs": [],
   "source": [
    "with open('russ_total_lists.pickle', 'wb') as f:\n",
    "    # Pickle the 'data' dictionary using the highest protocol available.\n",
    "    pickle.dump(russ_total_lists, f, pickle.HIGHEST_PROTOCOL)"
   ]
  },
  {
   "cell_type": "code",
   "execution_count": 493,
   "metadata": {
    "collapsed": false
   },
   "outputs": [
    {
     "data": {
      "text/plain": [
       "1081"
      ]
     },
     "execution_count": 493,
     "metadata": {},
     "output_type": "execute_result"
    }
   ],
   "source": [
    "len (russ_total_lists)"
   ]
  },
  {
   "cell_type": "code",
   "execution_count": 533,
   "metadata": {
    "collapsed": false
   },
   "outputs": [],
   "source": [
    "#russian_se = pd.Series(russian['text']) "
   ]
  },
  {
   "cell_type": "code",
   "execution_count": 489,
   "metadata": {
    "collapsed": true
   },
   "outputs": [],
   "source": [
    "#str_total_text_ru = ''.join(russ_total)"
   ]
  },
  {
   "cell_type": "code",
   "execution_count": null,
   "metadata": {
    "collapsed": true
   },
   "outputs": [],
   "source": [
    "'''\n",
    "сохранить текст в список \n",
    "\n",
    "tokenizer=lambda x: x\n",
    "pickle\n",
    "\n",
    "https://docs.python.org/3/library/pickle.html#examples\n",
    "https://docs.python.org/3/library/pickle.html\n",
    "\n",
    "1 весь текст - text rank в каждом отзыве \n",
    "2 подаем векторизатору на вход список списков - где первый элемент список ключевых слов 1-го отзыва\n",
    "3 запускаем кластеризации \n",
    "4 получаем кластеры с группой отзывов - смотрим их интерпретацию \n",
    "\n",
    "\n",
    "2 векторизиируем каждый текст - строки отзывы, колонки - ключевые слова из text rank \n",
    "Vectorizer \n",
    "fit tranform (есть подсчет слов) - подать список ключевых слов, в качестве токенизации указать функцию, \n",
    "которая берет на вход \n",
    "tokenizer - должен взять список и отдать список (вместо взять сплошной текст и отдать список слов)\n",
    "\n",
    "составляем список из ключевых слов\n",
    "\n",
    "\n",
    "'''"
   ]
  },
  {
   "cell_type": "code",
   "execution_count": 528,
   "metadata": {
    "collapsed": false
   },
   "outputs": [
    {
     "name": "stdout",
     "output_type": "stream",
     "text": [
      "1081\n"
     ]
    }
   ],
   "source": [
    "# надо в цикле вытаскивать для каждого отзыва по отдельности и складывать в общий список \n",
    "\n",
    "key_phrases = []\n",
    "for i in russ_total_lists:\n",
    "    t = ''.join(i).lower()\n",
    "    key_phrases.append(list(textrank.extract_key_phrases(t)))\n",
    "print (len(key_phrases ))"
   ]
  },
  {
   "cell_type": "code",
   "execution_count": 613,
   "metadata": {
    "collapsed": true
   },
   "outputs": [],
   "source": [
    "# Сохраняем данные на диске в формате python списка "
   ]
  },
  {
   "cell_type": "code",
   "execution_count": 532,
   "metadata": {
    "collapsed": true
   },
   "outputs": [],
   "source": [
    "with open('key_phrases.pickle', 'wb') as f:\n",
    "    # Pickle the 'data' dictionary using the highest protocol available.\n",
    "    pickle.dump(key_phrases, f, pickle.HIGHEST_PROTOCOL)"
   ]
  },
  {
   "cell_type": "code",
   "execution_count": 521,
   "metadata": {
    "collapsed": false
   },
   "outputs": [
    {
     "data": {
      "text/plain": [
       "['example', 'allotted', 'opportunity']"
      ]
     },
     "execution_count": 521,
     "metadata": {},
     "output_type": "execute_result"
    }
   ],
   "source": [
    "key_phrases[10]"
   ]
  },
  {
   "cell_type": "markdown",
   "metadata": {},
   "source": [
    "##  Векторизация "
   ]
  },
  {
   "cell_type": "code",
   "execution_count": 529,
   "metadata": {
    "collapsed": false
   },
   "outputs": [],
   "source": [
    "import sklearn.feature_extraction.text\n",
    "vctr = sklearn.feature_extraction.text.CountVectorizer(tokenizer = lambda key_phrases: key_phrases)\n",
    "\n",
    "# tokenizer = lambda key_phrases: key_phrases - должен взять список и отдать список \n",
    "#(вместо взять сплошной текст и отдать список слов)"
   ]
  },
  {
   "cell_type": "code",
   "execution_count": 552,
   "metadata": {
    "collapsed": false
   },
   "outputs": [
    {
     "data": {
      "text/plain": [
       "1081"
      ]
     },
     "execution_count": 552,
     "metadata": {},
     "output_type": "execute_result"
    }
   ],
   "source": [
    "len(key_phrases)"
   ]
  },
  {
   "cell_type": "code",
   "execution_count": 549,
   "metadata": {
    "collapsed": false
   },
   "outputs": [
    {
     "data": {
      "text/plain": [
       "['everything harmonious much thank',\n",
       " 'application example information attention sleep',\n",
       " 'beginning completion dream walk',\n",
       " 'simple',\n",
       " 'super']"
      ]
     },
     "execution_count": 549,
     "metadata": {},
     "output_type": "execute_result"
    }
   ],
   "source": [
    "list(' '.join(i) for i in key_phrases[:5])"
   ]
  },
  {
   "cell_type": "code",
   "execution_count": 550,
   "metadata": {
    "collapsed": false
   },
   "outputs": [],
   "source": [
    "X_train = vctr.fit_transform(list(' '.join(i) for i in key_phrases)) # скармливаем весь текст ключевых слов "
   ]
  },
  {
   "cell_type": "code",
   "execution_count": 551,
   "metadata": {
    "collapsed": false
   },
   "outputs": [
    {
     "data": {
      "text/plain": [
       "(1081, 44)"
      ]
     },
     "execution_count": 551,
     "metadata": {},
     "output_type": "execute_result"
    }
   ],
   "source": [
    "# Почему 44 строки ???\n",
    "X_train.shape"
   ]
  },
  {
   "cell_type": "code",
   "execution_count": 607,
   "metadata": {
    "collapsed": false
   },
   "outputs": [
    {
     "name": "stdout",
     "output_type": "stream",
     "text": [
      "  (0, 22)\t1\n",
      "  (0, 14)\t1\n",
      "  (0, 30)\t1\n",
      "  (0, 32)\t2\n",
      "  (0, 26)\t2\n",
      "  (0, 24)\t2\n",
      "  (0, 12)\t2\n",
      "  (0, 0)\t3\n",
      "  (0, 18)\t1\n",
      "  (0, 25)\t3\n",
      "  (0, 20)\t2\n",
      "  (0, 19)\t4\n",
      "  (0, 31)\t2\n",
      "  (0, 36)\t1\n",
      "  (0, 29)\t2\n",
      "  (0, 33)\t1\n",
      "  (0, 16)\t2\n",
      "  (1, 17)\t1\n",
      "  (1, 35)\t1\n",
      "  (1, 23)\t3\n",
      "  (1, 27)\t4\n",
      "  (1, 14)\t1\n",
      "  (1, 30)\t1\n",
      "  (1, 26)\t4\n",
      "  (1, 24)\t2\n",
      "  :\t:\n",
      "  (1078, 18)\t1\n",
      "  (1078, 25)\t1\n",
      "  (1078, 20)\t1\n",
      "  (1078, 19)\t2\n",
      "  (1078, 31)\t2\n",
      "  (1078, 36)\t1\n",
      "  (1078, 29)\t3\n",
      "  (1078, 33)\t1\n",
      "  (1078, 16)\t3\n",
      "  (1079, 34)\t1\n",
      "  (1079, 17)\t1\n",
      "  (1079, 23)\t1\n",
      "  (1079, 27)\t2\n",
      "  (1079, 14)\t1\n",
      "  (1079, 26)\t1\n",
      "  (1079, 12)\t2\n",
      "  (1079, 0)\t1\n",
      "  (1079, 25)\t1\n",
      "  (1079, 20)\t3\n",
      "  (1079, 31)\t1\n",
      "  (1079, 16)\t1\n",
      "  (1080, 34)\t1\n",
      "  (1080, 17)\t1\n",
      "  (1080, 20)\t1\n",
      "  (1080, 16)\t1\n"
     ]
    }
   ],
   "source": [
    "print (X_train) # посмотрим на матрицу "
   ]
  },
  {
   "cell_type": "markdown",
   "metadata": {},
   "source": [
    "## Кластеризация "
   ]
  },
  {
   "cell_type": "code",
   "execution_count": 539,
   "metadata": {
    "collapsed": true
   },
   "outputs": [],
   "source": [
    "from sklearn.cluster import KMeans"
   ]
  },
  {
   "cell_type": "code",
   "execution_count": 608,
   "metadata": {
    "collapsed": true
   },
   "outputs": [],
   "source": [
    "# Выбираем оптимальное кол-во кластеров "
   ]
  },
  {
   "cell_type": "code",
   "execution_count": 540,
   "metadata": {
    "collapsed": false
   },
   "outputs": [
    {
     "data": {
      "image/png": "[encoded data removed]",
      "text/plain": [
       "<matplotlib.figure.Figure at 0x117d2f320>"
      ]
     },
     "metadata": {},
     "output_type": "display_data"
    }
   ],
   "source": [
    "inertia = []\n",
    "for k in range(1, 8):\n",
    "    kmeans = KMeans(n_clusters=k, random_state=1).fit(X_train)\n",
    "    inertia.append(np.sqrt(kmeans.inertia_))\n",
    "\n",
    "plt.plot(range(1, 8), inertia, marker='s');\n",
    "plt.xlabel('$k$')\n",
    "plt.ylabel('$J(C_k)$');"
   ]
  },
  {
   "cell_type": "code",
   "execution_count": 463,
   "metadata": {
    "collapsed": true
   },
   "outputs": [],
   "source": [
    "clf_kmeans = KMeans(n_clusters=4)"
   ]
  },
  {
   "cell_type": "code",
   "execution_count": null,
   "metadata": {
    "collapsed": true
   },
   "outputs": [],
   "source": [
    "# Передаем в модель все данные "
   ]
  },
  {
   "cell_type": "code",
   "execution_count": 541,
   "metadata": {
    "collapsed": true
   },
   "outputs": [],
   "source": [
    "clusters_kmeans = clf_kmeans.fit_predict(X_train)"
   ]
  },
  {
   "cell_type": "code",
   "execution_count": 594,
   "metadata": {
    "collapsed": true
   },
   "outputs": [],
   "source": [
    "# Каждый текст это точка в пространстве признаков, а признаки - это наличие ключевого слова \n",
    "# У нас 4 кластера. Показываем к какому кластеру относится текст  \n",
    "\n",
    "text_cluster_0 =[]\n",
    "text_cluster_1 =[]\n",
    "text_cluster_2 =[]\n",
    "text_cluster_3 =[]\n",
    "for i, elem in enumerate(clusters_kmeans):\n",
    "    if elem == 0:\n",
    "        text_cluster_0.append(russ_total_lists[i])\n",
    "    if elem == 1:\n",
    "        text_cluster_1.append(russ_total_lists[i])\n",
    "    if elem == 2:\n",
    "        text_cluster_2.append(russ_total_lists[i])\n",
    "    if elem == 3:\n",
    "        text_cluster_3.append(russ_total_lists[i])"
   ]
  },
  {
   "cell_type": "code",
   "execution_count": 612,
   "metadata": {
    "collapsed": false
   },
   "outputs": [
    {
     "data": {
      "text/plain": [
       "[\"The app correctly displays the information in the end of the day. For example, the child's sleep consists of 37 hours per day. How can this be? When the baby was sleeping 11 hours. Or walk, walking one hour, the application writes the results of 14 hours. Developers, pay attention to it.\",\n",
       " 'The app is user friendly, everything you need + nice visualization of graphs. But somehow it does not display correctly feeding at the time of the day. I would also like to be able to keep records in ml and breast milk is not expressed, as many mothers in certain periods there is a need to measure how much a child eats.',\n",
       " 'The app is good, use regularly for 4 months. There are a couple of podobnosti for me personally... I would Like to have the opportunity to transfer data to another device. To expand the function of \"remind\". So for example you could remind me in 12 hours to give one drug, and in 3 hours more.']"
      ]
     },
     "execution_count": 612,
     "metadata": {},
     "output_type": "execute_result"
    }
   ],
   "source": [
    "text_cluster_0[0:3]"
   ]
  },
  {
   "cell_type": "code",
   "execution_count": 601,
   "metadata": {
    "collapsed": false
   },
   "outputs": [
    {
     "data": {
      "text/plain": [
       "['Good app, but it incorrectly displays the statistics, in particular the mode of the day. Sleep and feeding there somehow overlap in time, though in fact no. It would be nice to have the possibility of a direct transition from statistics to action(s) click on the chart. Also lacks the short (compact) display the day\\'s actions, where each action takes one line. Not enough option activity simply \"vigil\".',\n",
       " \"Changes after the upgrade didn't like. The fact that it is not always on hand phone and therefore it is not possible to set a timer during feeding, so it happens that watch point after the fact - by default, the program feeding the left chest, choose the right and the feeding time is changed to current, it is necessary to expose anew. As for feeding both right and left breast, before you could set the total time for both, now for each separately. Again, this is useful for those who not releases the phone from his hands. I would like to return, as before the opportunity to exhibit the total time without losing the innovations for those who prefer. There is no timer for walks and, in my opinion, you need a widget or a separate button to start feeding\",\n",
       " 'Great app, best of its kind. There are some minor cons: 1.if you want to change the chest to an existing record feeding, and time to the current. 2.not logical, a reminder about sleep. For example, I want to have the child awake no longer than 1.5 hours. I.e. reminder should assume 1.5 hours from last waking up, and not just close off the gaps in 1.5 hours. VERY BIG DISADVANTAGE - THE LACK OF SYNCHRONIZATION OR BACKUP. Had to reinstall the app, in the end, all the data is gone ( Very happy that the developers are working on app!']"
      ]
     },
     "execution_count": 601,
     "metadata": {},
     "output_type": "execute_result"
    }
   ],
   "source": [
    "text_cluster_1[0:3]"
   ]
  },
  {
   "cell_type": "code",
   "execution_count": 597,
   "metadata": {
    "collapsed": false
   },
   "outputs": [
    {
     "data": {
      "text/plain": [
       "['Thank you so much for your work! This is the best app I have installed. 👍👍👍 Has everything you need to analyze the harmonious life of the baby.',\n",
       " 'Somehow, the walk began to set ending time. That is, you cannot run it like a dream, and to note the completion time. Walk immediately puts the beginning and end of the minute. You have to edit the time manually']"
      ]
     },
     "execution_count": 597,
     "metadata": {},
     "output_type": "execute_result"
    }
   ],
   "source": [
    "text_cluster_2[0:2]"
   ]
  },
  {
   "cell_type": "code",
   "execution_count": 602,
   "metadata": {
    "collapsed": false
   },
   "outputs": [
    {
     "data": {
      "text/plain": [
       "['Simple, convenient, no ads almost',\n",
       " 'Super! Very helpful!',\n",
       " 'I would like to decrypt in the charts clicking on a filled plot',\n",
       " 'Super app when you do not have to bother with all sorts of graphs. Very easy and simple',\n",
       " 'Cool',\n",
       " 'Very handy app）',\n",
       " 'Until all happy! Very convenient!',\n",
       " 'All super',\n",
       " 'The app, now I can test the power of your read, thank you)',\n",
       " 'Very good app. Helps me 😉']"
      ]
     },
     "execution_count": 602,
     "metadata": {},
     "output_type": "execute_result"
    }
   ],
   "source": [
    "text_cluster_3[0:10]"
   ]
  },
  {
   "cell_type": "code",
   "execution_count": 603,
   "metadata": {
    "collapsed": true
   },
   "outputs": [],
   "source": [
    "# У нас 4 кластера. Показываем к какому кластеру относятся ключевые слова \n",
    "\n",
    "key_cluster_0 =[]\n",
    "key_cluster_1 =[]\n",
    "key_cluster_2 = [] \n",
    "key_cluster_3 = []\n",
    "for i, elem in enumerate(clusters_kmeans):\n",
    "    if elem == 0:\n",
    "        key_cluster_0.append(key_phrases[i])\n",
    "    if elem == 1:\n",
    "        key_cluster_1.append(key_phrases[i])\n",
    "    if elem == 2:\n",
    "        key_cluster_2.append(key_phrases[i])\n",
    "    if elem == 3:\n",
    "        key_cluster_3.append(key_phrases[i])"
   ]
  },
  {
   "cell_type": "code",
   "execution_count": 609,
   "metadata": {
    "collapsed": false
   },
   "outputs": [
    {
     "data": {
      "text/plain": [
       "[['application', 'example', 'information', 'attention', 'sleep'],\n",
       " ['graphs',\n",
       "  'everything',\n",
       "  'visualization',\n",
       "  'breast',\n",
       "  'certain',\n",
       "  'child',\n",
       "  'user'],\n",
       " ['podobnosti', 'example', 'function', 'opportunity'],\n",
       " ['convenient', 'routine', 'simple', 'everything'],\n",
       " ['convenient', 'everything', 'beautiful', 'schedule', 'dream'],\n",
       " ['birth', 'possible', 'current', 'october', 'question'],\n",
       " ['comfortable', 'prioritise', 'everything'],\n",
       " ['checkbox', 'ostrovki', 'duration', 'useful', 'additional'],\n",
       " ['authorization', 'symbol', 'change', 'recommend', 'sensor', 'diaper'],\n",
       " ['accuracy', 'everything', 'anything', 'whole', 'chart', 'period']]"
      ]
     },
     "execution_count": 609,
     "metadata": {},
     "output_type": "execute_result"
    }
   ],
   "source": [
    "key_cluster_0[0:10]"
   ]
  },
  {
   "cell_type": "code",
   "execution_count": 610,
   "metadata": {
    "collapsed": false,
    "scrolled": false
   },
   "outputs": [
    {
     "data": {
      "text/plain": [
       "[['option activity',\n",
       "  'particular',\n",
       "  'direct transition',\n",
       "  'enough option',\n",
       "  'possibility',\n",
       "  'feeding',\n",
       "  'compact'],\n",
       " ['separate button',\n",
       "  'necessary',\n",
       "  'possible',\n",
       "  'current',\n",
       "  'upgrade',\n",
       "  'opinion',\n",
       "  'useful',\n",
       "  'default',\n",
       "  'program feeding',\n",
       "  'opportunity',\n",
       "  'feeding'],\n",
       " ['synchronization',\n",
       "  'current',\n",
       "  'example',\n",
       "  'record feeding',\n",
       "  'reminder',\n",
       "  'logical',\n",
       "  'disadvantage',\n",
       "  'backup',\n",
       "  'happy'],\n",
       " ['convenient',\n",
       "  'graphs',\n",
       "  'screen',\n",
       "  'previous review',\n",
       "  'cranky',\n",
       "  'sleeping',\n",
       "  'everything',\n",
       "  'button feeding',\n",
       "  'couple',\n",
       "  'weight',\n",
       "  'previous feeding',\n",
       "  'general',\n",
       "  'control',\n",
       "  'ability',\n",
       "  'bottom',\n",
       "  'feeding timer/sleep',\n",
       "  'useful',\n",
       "  'somehow',\n",
       "  'benefit'],\n",
       " ['convenient',\n",
       "  '10-00',\n",
       "  'example',\n",
       "  'opinion',\n",
       "  'matter',\n",
       "  'useful',\n",
       "  'topical',\n",
       "  'stability',\n",
       "  'internet',\n",
       "  'unnecessary'],\n",
       " ['convenient',\n",
       "  'correct',\n",
       "  'visible',\n",
       "  'medication',\n",
       "  'example',\n",
       "  'useful',\n",
       "  'mixture',\n",
       "  'feeding',\n",
       "  'different',\n",
       "  'volume'],\n",
       " ['mixed',\n",
       "  'convenient',\n",
       "  'complementary feeding',\n",
       "  'reaction',\n",
       "  'ability',\n",
       "  'particular product',\n",
       "  'breast',\n",
       "  'thing',\n",
       "  'feeding'],\n",
       " ['cereal',\n",
       "  'section',\n",
       "  'thank',\n",
       "  'important',\n",
       "  'product',\n",
       "  'comfortable',\n",
       "  'orange',\n",
       "  'separate',\n",
       "  'difficult',\n",
       "  'child'],\n",
       " ['convenient',\n",
       "  'function',\n",
       "  'picture',\n",
       "  'trifle',\n",
       "  'application',\n",
       "  'something',\n",
       "  'several',\n",
       "  'column',\n",
       "  'manual',\n",
       "  'beautiful design',\n",
       "  'equivalent',\n",
       "  'default',\n",
       "  'widget',\n",
       "  'russian',\n",
       "  'primary button',\n",
       "  'capital'],\n",
       " ['formula',\n",
       "  'complementary feeding',\n",
       "  'swimming',\n",
       "  'doctor',\n",
       "  'general',\n",
       "  'useful',\n",
       "  'possibility',\n",
       "  'display',\n",
       "  'feeding',\n",
       "  'different']]"
      ]
     },
     "execution_count": 610,
     "metadata": {},
     "output_type": "execute_result"
    }
   ],
   "source": [
    "key_cluster_1[0:10]"
   ]
  },
  {
   "cell_type": "code",
   "execution_count": 611,
   "metadata": {
    "collapsed": false
   },
   "outputs": [
    {
     "data": {
      "text/plain": [
       "[['everything', 'harmonious', 'much', 'thank'],\n",
       " ['beginning', 'completion', 'dream', 'walk'],\n",
       " ['convenient'],\n",
       " ['utility', 'inexperienced'],\n",
       " ['example', 'allotted', 'opportunity'],\n",
       " ['convenient'],\n",
       " ['convenient version'],\n",
       " ['convenient'],\n",
       " ['convenient', 'amazing'],\n",
       " ['phone', 'please', 'great']]"
      ]
     },
     "execution_count": 611,
     "metadata": {},
     "output_type": "execute_result"
    }
   ],
   "source": [
    "key_cluster_2[0:10]"
   ]
  },
  {
   "cell_type": "code",
   "execution_count": 606,
   "metadata": {
    "collapsed": false
   },
   "outputs": [
    {
     "data": {
      "text/plain": [
       "[['simple'],\n",
       " ['super'],\n",
       " ['i'],\n",
       " ['graphs', 'simple'],\n",
       " [],\n",
       " ['handy'],\n",
       " ['happy'],\n",
       " ['super'],\n",
       " ['power', 'app'],\n",
       " ['good']]"
      ]
     },
     "execution_count": 606,
     "metadata": {},
     "output_type": "execute_result"
    }
   ],
   "source": [
    "key_cluster_3[0:10]"
   ]
  },
  {
   "cell_type": "markdown",
   "metadata": {},
   "source": [
    "## Идеи "
   ]
  },
  {
   "cell_type": "code",
   "execution_count": null,
   "metadata": {
    "collapsed": true
   },
   "outputs": [],
   "source": [
    "# сравнить с обычным IDF - посчитать - выявить самые важные темы и как часто встречаются - story impact, а потом группируем их \n",
    "\n",
    "# латентная модель - для поиска схожих текстов !!! \n",
    "\n",
    "# гугл для латинских языков \n",
    "\n",
    "# после textrank можно попробовать rake и сравнить результат\n",
    "# обогатить словарь - word net или word2vec - (за счет краулинга ключевых слов - только для существительных - NLTK - анализатор)\n",
    "# сравнить text rank и мешок слов обычный "
   ]
  },
  {
   "cell_type": "code",
   "execution_count": null,
   "metadata": {
    "collapsed": true
   },
   "outputs": [],
   "source": []
  },
  {
   "cell_type": "code",
   "execution_count": null,
   "metadata": {
    "collapsed": true
   },
   "outputs": [],
   "source": []
  },
  {
   "cell_type": "code",
   "execution_count": null,
   "metadata": {
    "collapsed": true
   },
   "outputs": [],
   "source": []
  },
  {
   "cell_type": "code",
   "execution_count": null,
   "metadata": {
    "collapsed": true
   },
   "outputs": [],
   "source": []
  },
  {
   "cell_type": "markdown",
   "metadata": {},
   "source": [
    "## Португальский "
   ]
  },
  {
   "cell_type": "code",
   "execution_count": 227,
   "metadata": {
    "collapsed": true
   },
   "outputs": [],
   "source": [
    "portugalian_df = df_1[df_1['Lang'] == 'pt'][:50]"
   ]
  },
  {
   "cell_type": "code",
   "execution_count": 228,
   "metadata": {
    "collapsed": true
   },
   "outputs": [],
   "source": [
    "portugalian_df_translate = portugalian_df['Review']"
   ]
  },
  {
   "cell_type": "code",
   "execution_count": 229,
   "metadata": {
    "collapsed": false
   },
   "outputs": [],
   "source": [
    "portugalian = translate.translate(portugalian_df_translate, 'pt-en')"
   ]
  },
  {
   "cell_type": "code",
   "execution_count": 230,
   "metadata": {
    "collapsed": true
   },
   "outputs": [],
   "source": [
    "portugalian_se = pd.Series(portugalian['text']) "
   ]
  },
  {
   "cell_type": "code",
   "execution_count": 231,
   "metadata": {
    "collapsed": true
   },
   "outputs": [],
   "source": [
    "portugalian_df['English'] = portugalian_se"
   ]
  },
  {
   "cell_type": "code",
   "execution_count": 248,
   "metadata": {
    "collapsed": false
   },
   "outputs": [
    {
     "data": {
      "text/html": [
       "<div>\n",
       "<style>\n",
       "    .dataframe thead tr:only-child th {\n",
       "        text-align: right;\n",
       "    }\n",
       "\n",
       "    .dataframe thead th {\n",
       "        text-align: left;\n",
       "    }\n",
       "\n",
       "    .dataframe tbody tr th {\n",
       "        vertical-align: top;\n",
       "    }\n",
       "</style>\n",
       "<table border=\"1\" class=\"dataframe\">\n",
       "  <thead>\n",
       "    <tr style=\"text-align: right;\">\n",
       "      <th></th>\n",
       "      <th>Date</th>\n",
       "      <th>Lang</th>\n",
       "      <th>Author</th>\n",
       "      <th>Stars</th>\n",
       "      <th>Title</th>\n",
       "      <th>Review</th>\n",
       "      <th>Reply</th>\n",
       "      <th>English</th>\n",
       "    </tr>\n",
       "  </thead>\n",
       "  <tbody>\n",
       "    <tr>\n",
       "      <th>0</th>\n",
       "      <td>\\t2017-10-11</td>\n",
       "      <td>pt</td>\n",
       "      <td>Renato Morais</td>\n",
       "      <td>5</td>\n",
       "      <td>NaN</td>\n",
       "      <td>Muito bom</td>\n",
       "      <td>NaN</td>\n",
       "      <td>Very good</td>\n",
       "    </tr>\n",
       "    <tr>\n",
       "      <th>2</th>\n",
       "      <td>\\t2017-10-11</td>\n",
       "      <td>pt</td>\n",
       "      <td>NaN</td>\n",
       "      <td>5</td>\n",
       "      <td>NaN</td>\n",
       "      <td>Perfeito. Consigo controlar todos os dados imp...</td>\n",
       "      <td>NaN</td>\n",
       "      <td>I switched cell phone and I lost all records o...</td>\n",
       "    </tr>\n",
       "    <tr>\n",
       "      <th>5</th>\n",
       "      <td>\\t2017-10-11</td>\n",
       "      <td>pt</td>\n",
       "      <td>Larissa Campos</td>\n",
       "      <td>4</td>\n",
       "      <td>NaN</td>\n",
       "      <td>Troquei de celular e perdi todos os registros ...</td>\n",
       "      <td>NaN</td>\n",
       "      <td>Very good</td>\n",
       "    </tr>\n",
       "    <tr>\n",
       "      <th>7</th>\n",
       "      <td>\\t2017-10-10</td>\n",
       "      <td>pt</td>\n",
       "      <td>NaN</td>\n",
       "      <td>5</td>\n",
       "      <td>NaN</td>\n",
       "      <td>Muito bom consigo amamentar minha bebe nas hor...</td>\n",
       "      <td>NaN</td>\n",
       "      <td>I loved it, helps me a lot, to me organize and...</td>\n",
       "    </tr>\n",
       "    <tr>\n",
       "      <th>10</th>\n",
       "      <td>\\t2017-10-10</td>\n",
       "      <td>pt</td>\n",
       "      <td>NaN</td>\n",
       "      <td>5</td>\n",
       "      <td>NaN</td>\n",
       "      <td>Me ajuda muito no controle de mamadas e fralda...</td>\n",
       "      <td>NaN</td>\n",
       "      <td>Very nice application I love it</td>\n",
       "    </tr>\n",
       "  </tbody>\n",
       "</table>\n",
       "</div>"
      ],
      "text/plain": [
       "            Date Lang          Author  Stars Title  \\\n",
       "0   \\t2017-10-11   pt   Renato Morais      5   NaN   \n",
       "2   \\t2017-10-11   pt             NaN      5   NaN   \n",
       "5   \\t2017-10-11   pt  Larissa Campos      4   NaN   \n",
       "7   \\t2017-10-10   pt             NaN      5   NaN   \n",
       "10  \\t2017-10-10   pt             NaN      5   NaN   \n",
       "\n",
       "                                               Review Reply  \\\n",
       "0                                           Muito bom   NaN   \n",
       "2   Perfeito. Consigo controlar todos os dados imp...   NaN   \n",
       "5   Troquei de celular e perdi todos os registros ...   NaN   \n",
       "7   Muito bom consigo amamentar minha bebe nas hor...   NaN   \n",
       "10  Me ajuda muito no controle de mamadas e fralda...   NaN   \n",
       "\n",
       "                                              English  \n",
       "0                                           Very good  \n",
       "2   I switched cell phone and I lost all records o...  \n",
       "5                                           Very good  \n",
       "7   I loved it, helps me a lot, to me organize and...  \n",
       "10                    Very nice application I love it  "
      ]
     },
     "execution_count": 248,
     "metadata": {},
     "output_type": "execute_result"
    }
   ],
   "source": [
    "portugalian_df.head(5)"
   ]
  },
  {
   "cell_type": "markdown",
   "metadata": {},
   "source": [
    "## Испанский"
   ]
  },
  {
   "cell_type": "code",
   "execution_count": 233,
   "metadata": {
    "collapsed": true
   },
   "outputs": [],
   "source": [
    "spanish_df = df_1[df_1['Lang'] == 'es'][:50]"
   ]
  },
  {
   "cell_type": "code",
   "execution_count": 234,
   "metadata": {
    "collapsed": true
   },
   "outputs": [],
   "source": [
    "spanish_df_translate = spanish_df['Review']"
   ]
  },
  {
   "cell_type": "code",
   "execution_count": 235,
   "metadata": {
    "collapsed": false
   },
   "outputs": [],
   "source": [
    "spanish = translate.translate(spanish_df_translate, 'es-en')"
   ]
  },
  {
   "cell_type": "code",
   "execution_count": 236,
   "metadata": {
    "collapsed": true
   },
   "outputs": [],
   "source": [
    "spanish_se = pd.Series(spanish['text']) "
   ]
  },
  {
   "cell_type": "code",
   "execution_count": 237,
   "metadata": {
    "collapsed": true
   },
   "outputs": [],
   "source": [
    "spanish_df['English'] = spanish_se"
   ]
  },
  {
   "cell_type": "code",
   "execution_count": 238,
   "metadata": {
    "collapsed": false
   },
   "outputs": [
    {
     "data": {
      "text/html": [
       "<div>\n",
       "<style>\n",
       "    .dataframe thead tr:only-child th {\n",
       "        text-align: right;\n",
       "    }\n",
       "\n",
       "    .dataframe thead th {\n",
       "        text-align: left;\n",
       "    }\n",
       "\n",
       "    .dataframe tbody tr th {\n",
       "        vertical-align: top;\n",
       "    }\n",
       "</style>\n",
       "<table border=\"1\" class=\"dataframe\">\n",
       "  <thead>\n",
       "    <tr style=\"text-align: right;\">\n",
       "      <th></th>\n",
       "      <th>Date</th>\n",
       "      <th>Lang</th>\n",
       "      <th>Author</th>\n",
       "      <th>Stars</th>\n",
       "      <th>Title</th>\n",
       "      <th>Review</th>\n",
       "      <th>Reply</th>\n",
       "      <th>English</th>\n",
       "    </tr>\n",
       "  </thead>\n",
       "  <tbody>\n",
       "    <tr>\n",
       "      <th>4</th>\n",
       "      <td>\\t2017-10-11</td>\n",
       "      <td>es</td>\n",
       "      <td>NaN</td>\n",
       "      <td>5</td>\n",
       "      <td>NaN</td>\n",
       "      <td>Excelente</td>\n",
       "      <td>NaN</td>\n",
       "      <td>To find out your schedule and create a routine...</td>\n",
       "    </tr>\n",
       "    <tr>\n",
       "      <th>13</th>\n",
       "      <td>\\t2017-10-10</td>\n",
       "      <td>es</td>\n",
       "      <td>NaN</td>\n",
       "      <td>5</td>\n",
       "      <td>NaN</td>\n",
       "      <td>Muy buena!</td>\n",
       "      <td>NaN</td>\n",
       "      <td>The app has many functions, but you need to ha...</td>\n",
       "    </tr>\n",
       "    <tr>\n",
       "      <th>19</th>\n",
       "      <td>\\t2017-10-10</td>\n",
       "      <td>es</td>\n",
       "      <td>cyntiahartmann</td>\n",
       "      <td>5</td>\n",
       "      <td>NaN</td>\n",
       "      <td>Muy útil</td>\n",
       "      <td>NaN</td>\n",
       "      <td>Very useful!</td>\n",
       "    </tr>\n",
       "    <tr>\n",
       "      <th>48</th>\n",
       "      <td>\\t2017-10-08</td>\n",
       "      <td>es</td>\n",
       "      <td>Sandra Vallejo</td>\n",
       "      <td>5</td>\n",
       "      <td>NaN</td>\n",
       "      <td>Muy útil. Acabo de tener un bebé y me viene fe...</td>\n",
       "      <td>NaN</td>\n",
       "      <td>How do I make a backup of my data saved in thi...</td>\n",
       "    </tr>\n",
       "    <tr>\n",
       "      <th>51</th>\n",
       "      <td>\\t2017-10-07</td>\n",
       "      <td>es</td>\n",
       "      <td>Yohana Sosa</td>\n",
       "      <td>4</td>\n",
       "      <td>NaN</td>\n",
       "      <td>Para saber sus horarios y crear una rutina con...</td>\n",
       "      <td>NaN</td>\n",
       "      <td>NaN</td>\n",
       "    </tr>\n",
       "  </tbody>\n",
       "</table>\n",
       "</div>"
      ],
      "text/plain": [
       "            Date Lang          Author  Stars Title  \\\n",
       "4   \\t2017-10-11   es             NaN      5   NaN   \n",
       "13  \\t2017-10-10   es             NaN      5   NaN   \n",
       "19  \\t2017-10-10   es  cyntiahartmann      5   NaN   \n",
       "48  \\t2017-10-08   es  Sandra Vallejo      5   NaN   \n",
       "51  \\t2017-10-07   es     Yohana Sosa      4   NaN   \n",
       "\n",
       "                                               Review Reply  \\\n",
       "4                                           Excelente   NaN   \n",
       "13                                         Muy buena!   NaN   \n",
       "19                                           Muy útil   NaN   \n",
       "48  Muy útil. Acabo de tener un bebé y me viene fe...   NaN   \n",
       "51  Para saber sus horarios y crear una rutina con...   NaN   \n",
       "\n",
       "                                              English  \n",
       "4   To find out your schedule and create a routine...  \n",
       "13  The app has many functions, but you need to ha...  \n",
       "19                                       Very useful!  \n",
       "48  How do I make a backup of my data saved in thi...  \n",
       "51                                                NaN  "
      ]
     },
     "execution_count": 238,
     "metadata": {},
     "output_type": "execute_result"
    }
   ],
   "source": [
    "spanish_df.head() # почему не совпадает ???"
   ]
  },
  {
   "cell_type": "markdown",
   "metadata": {},
   "source": [
    "## Немецкий"
   ]
  },
  {
   "cell_type": "code",
   "execution_count": 239,
   "metadata": {
    "collapsed": true
   },
   "outputs": [],
   "source": [
    "german_df = df_1[df_1['Lang'] == 'de'][:50]"
   ]
  },
  {
   "cell_type": "code",
   "execution_count": 240,
   "metadata": {
    "collapsed": true
   },
   "outputs": [],
   "source": [
    "german_df_translate = german_df['Review']"
   ]
  },
  {
   "cell_type": "code",
   "execution_count": 241,
   "metadata": {
    "collapsed": false
   },
   "outputs": [],
   "source": [
    "german = translate.translate(german_df_translate, 'de-en')"
   ]
  },
  {
   "cell_type": "code",
   "execution_count": 242,
   "metadata": {
    "collapsed": true
   },
   "outputs": [],
   "source": [
    "german_se = pd.Series(german['text']) "
   ]
  },
  {
   "cell_type": "code",
   "execution_count": 243,
   "metadata": {
    "collapsed": true
   },
   "outputs": [],
   "source": [
    "german_df['English'] = german_se"
   ]
  },
  {
   "cell_type": "code",
   "execution_count": 244,
   "metadata": {
    "collapsed": false
   },
   "outputs": [
    {
     "data": {
      "text/html": [
       "<div>\n",
       "<style>\n",
       "    .dataframe thead tr:only-child th {\n",
       "        text-align: right;\n",
       "    }\n",
       "\n",
       "    .dataframe thead th {\n",
       "        text-align: left;\n",
       "    }\n",
       "\n",
       "    .dataframe tbody tr th {\n",
       "        vertical-align: top;\n",
       "    }\n",
       "</style>\n",
       "<table border=\"1\" class=\"dataframe\">\n",
       "  <thead>\n",
       "    <tr style=\"text-align: right;\">\n",
       "      <th></th>\n",
       "      <th>Date</th>\n",
       "      <th>Lang</th>\n",
       "      <th>Author</th>\n",
       "      <th>Stars</th>\n",
       "      <th>Title</th>\n",
       "      <th>Review</th>\n",
       "      <th>Reply</th>\n",
       "      <th>English</th>\n",
       "    </tr>\n",
       "  </thead>\n",
       "  <tbody>\n",
       "    <tr>\n",
       "      <th>1</th>\n",
       "      <td>\\t2017-10-11</td>\n",
       "      <td>de</td>\n",
       "      <td>NaN</td>\n",
       "      <td>4</td>\n",
       "      <td>NaN</td>\n",
       "      <td>Scheint eine gute App zu sein. Sehr übersichtl...</td>\n",
       "      <td>NaN</td>\n",
       "      <td>Everything was great, great App for everything...</td>\n",
       "    </tr>\n",
       "    <tr>\n",
       "      <th>9</th>\n",
       "      <td>\\t2017-10-10</td>\n",
       "      <td>de</td>\n",
       "      <td>NaN</td>\n",
       "      <td>4</td>\n",
       "      <td>NaN</td>\n",
       "      <td>Alles super, klasse App für alles Wichtige. Di...</td>\n",
       "      <td>NaN</td>\n",
       "      <td>Super App can👍need with all you!</td>\n",
       "    </tr>\n",
       "    <tr>\n",
       "      <th>24</th>\n",
       "      <td>\\t2017-10-09</td>\n",
       "      <td>de</td>\n",
       "      <td>Jenny Löhndorf</td>\n",
       "      <td>4</td>\n",
       "      <td>NaN</td>\n",
       "      <td>App, die alles hat, was man braucht. Stilltime...</td>\n",
       "      <td>NaN</td>\n",
       "      <td>App has all the Fubktionieren, you need to kee...</td>\n",
       "    </tr>\n",
       "    <tr>\n",
       "      <th>25</th>\n",
       "      <td>\\t2017-10-09</td>\n",
       "      <td>de</td>\n",
       "      <td>Francesca Barbaro</td>\n",
       "      <td>5</td>\n",
       "      <td>NaN</td>\n",
       "      <td>Finde die App super...vergesse nämlich oft wan...</td>\n",
       "      <td>NaN</td>\n",
       "      <td>Great App that is easy to handle and a good Ov...</td>\n",
       "    </tr>\n",
       "    <tr>\n",
       "      <th>66</th>\n",
       "      <td>\\t2017-10-07</td>\n",
       "      <td>de</td>\n",
       "      <td>Eva-Maria Mäßig</td>\n",
       "      <td>5</td>\n",
       "      <td>NaN</td>\n",
       "      <td>Ich finde die App sehr gut. Vor allem weil man...</td>\n",
       "      <td>NaN</td>\n",
       "      <td>NaN</td>\n",
       "    </tr>\n",
       "  </tbody>\n",
       "</table>\n",
       "</div>"
      ],
      "text/plain": [
       "            Date Lang             Author  Stars Title  \\\n",
       "1   \\t2017-10-11   de                NaN      4   NaN   \n",
       "9   \\t2017-10-10   de                NaN      4   NaN   \n",
       "24  \\t2017-10-09   de     Jenny Löhndorf      4   NaN   \n",
       "25  \\t2017-10-09   de  Francesca Barbaro      5   NaN   \n",
       "66  \\t2017-10-07   de    Eva-Maria Mäßig      5   NaN   \n",
       "\n",
       "                                               Review Reply  \\\n",
       "1   Scheint eine gute App zu sein. Sehr übersichtl...   NaN   \n",
       "9   Alles super, klasse App für alles Wichtige. Di...   NaN   \n",
       "24  App, die alles hat, was man braucht. Stilltime...   NaN   \n",
       "25  Finde die App super...vergesse nämlich oft wan...   NaN   \n",
       "66  Ich finde die App sehr gut. Vor allem weil man...   NaN   \n",
       "\n",
       "                                              English  \n",
       "1   Everything was great, great App for everything...  \n",
       "9                    Super App can👍need with all you!  \n",
       "24  App has all the Fubktionieren, you need to kee...  \n",
       "25  Great App that is easy to handle and a good Ov...  \n",
       "66                                                NaN  "
      ]
     },
     "execution_count": 244,
     "metadata": {},
     "output_type": "execute_result"
    }
   ],
   "source": [
    "german_df.head()"
   ]
  },
  {
   "cell_type": "markdown",
   "metadata": {},
   "source": [
    "## Соединяем dataframes "
   ]
  },
  {
   "cell_type": "code",
   "execution_count": 245,
   "metadata": {
    "collapsed": true
   },
   "outputs": [],
   "source": [
    "frames = [russian_df, portugalian_df, spanish_df, german_df]"
   ]
  },
  {
   "cell_type": "code",
   "execution_count": 246,
   "metadata": {
    "collapsed": true
   },
   "outputs": [],
   "source": [
    "result = pd.concat(frames)"
   ]
  },
  {
   "cell_type": "code",
   "execution_count": 247,
   "metadata": {
    "collapsed": false
   },
   "outputs": [
    {
     "data": {
      "text/html": [
       "<div>\n",
       "<style>\n",
       "    .dataframe thead tr:only-child th {\n",
       "        text-align: right;\n",
       "    }\n",
       "\n",
       "    .dataframe thead th {\n",
       "        text-align: left;\n",
       "    }\n",
       "\n",
       "    .dataframe tbody tr th {\n",
       "        vertical-align: top;\n",
       "    }\n",
       "</style>\n",
       "<table border=\"1\" class=\"dataframe\">\n",
       "  <thead>\n",
       "    <tr style=\"text-align: right;\">\n",
       "      <th></th>\n",
       "      <th>Date</th>\n",
       "      <th>Lang</th>\n",
       "      <th>Author</th>\n",
       "      <th>Stars</th>\n",
       "      <th>Title</th>\n",
       "      <th>Review</th>\n",
       "      <th>Reply</th>\n",
       "      <th>English</th>\n",
       "    </tr>\n",
       "  </thead>\n",
       "  <tbody>\n",
       "    <tr>\n",
       "      <th>3</th>\n",
       "      <td>\\t2017-10-11</td>\n",
       "      <td>ru</td>\n",
       "      <td>Eva Lollipop</td>\n",
       "      <td>5</td>\n",
       "      <td>NaN</td>\n",
       "      <td>Огромное спасибо, за ваш труд! Это лучше прило...</td>\n",
       "      <td>NaN</td>\n",
       "      <td>Simple, convenient, no ads almost</td>\n",
       "    </tr>\n",
       "    <tr>\n",
       "      <th>11</th>\n",
       "      <td>\\t2017-10-10</td>\n",
       "      <td>ru</td>\n",
       "      <td>Ирина Фатурова</td>\n",
       "      <td>3</td>\n",
       "      <td>NaN</td>\n",
       "      <td>Приложение некорректно отображает информацию в...</td>\n",
       "      <td>NaN</td>\n",
       "      <td>Very handy app）</td>\n",
       "    </tr>\n",
       "    <tr>\n",
       "      <th>12</th>\n",
       "      <td>\\t2017-10-10</td>\n",
       "      <td>ru</td>\n",
       "      <td>Анна Ромас</td>\n",
       "      <td>4</td>\n",
       "      <td>NaN</td>\n",
       "      <td>Почему-то прогулку стало выставлять сразу окон...</td>\n",
       "      <td>NaN</td>\n",
       "      <td>The app is user friendly, everything you need ...</td>\n",
       "    </tr>\n",
       "    <tr>\n",
       "      <th>15</th>\n",
       "      <td>\\t2017-10-10</td>\n",
       "      <td>ru</td>\n",
       "      <td>Екатерина Артеменкова</td>\n",
       "      <td>5</td>\n",
       "      <td>NaN</td>\n",
       "      <td>Просто, удобно, без рекламы почти</td>\n",
       "      <td>NaN</td>\n",
       "      <td>The app is good, use regularly for 4 months. T...</td>\n",
       "    </tr>\n",
       "    <tr>\n",
       "      <th>16</th>\n",
       "      <td>\\t2017-10-10</td>\n",
       "      <td>ru</td>\n",
       "      <td>Елена Кадрова</td>\n",
       "      <td>5</td>\n",
       "      <td>NaN</td>\n",
       "      <td>Супер! Очень выручает!</td>\n",
       "      <td>NaN</td>\n",
       "      <td>I like this app! Very convenient version.</td>\n",
       "    </tr>\n",
       "    <tr>\n",
       "      <th>26</th>\n",
       "      <td>\\t2017-10-09</td>\n",
       "      <td>ru</td>\n",
       "      <td>Anna Babashina</td>\n",
       "      <td>4</td>\n",
       "      <td>NaN</td>\n",
       "      <td>Хотелось бы расшифровки в графиках при нажатии...</td>\n",
       "      <td>NaN</td>\n",
       "      <td>Great app! Without in any way! Everything is t...</td>\n",
       "    </tr>\n",
       "    <tr>\n",
       "      <th>27</th>\n",
       "      <td>\\t2017-10-09</td>\n",
       "      <td>ru</td>\n",
       "      <td>Инна Борщ</td>\n",
       "      <td>5</td>\n",
       "      <td>NaN</td>\n",
       "      <td>очень удобно</td>\n",
       "      <td>NaN</td>\n",
       "      <td>I personally very helpful app!)</td>\n",
       "    </tr>\n",
       "    <tr>\n",
       "      <th>28</th>\n",
       "      <td>\\t2017-10-09</td>\n",
       "      <td>ru</td>\n",
       "      <td>Алиса Януш</td>\n",
       "      <td>5</td>\n",
       "      <td>NaN</td>\n",
       "      <td>Нравится приложение, как неопытная мамочка веч...</td>\n",
       "      <td>NaN</td>\n",
       "      <td>The app is super! To me it is very helpful to ...</td>\n",
       "    </tr>\n",
       "    <tr>\n",
       "      <th>29</th>\n",
       "      <td>\\t2017-10-09</td>\n",
       "      <td>ru</td>\n",
       "      <td>Элиза Дорохова</td>\n",
       "      <td>5</td>\n",
       "      <td>NaN</td>\n",
       "      <td>Супер приложение, когда не надо заморачиваться...</td>\n",
       "      <td>NaN</td>\n",
       "      <td>Very handy app</td>\n",
       "    </tr>\n",
       "    <tr>\n",
       "      <th>38</th>\n",
       "      <td>\\t2017-10-08</td>\n",
       "      <td>ru</td>\n",
       "      <td>Ali Ali</td>\n",
       "      <td>5</td>\n",
       "      <td>NaN</td>\n",
       "      <td>Круто</td>\n",
       "      <td>NaN</td>\n",
       "      <td>The app is extremely helpful! One big disadvan...</td>\n",
       "    </tr>\n",
       "    <tr>\n",
       "      <th>42</th>\n",
       "      <td>\\t2017-10-08</td>\n",
       "      <td>ru</td>\n",
       "      <td>NaN</td>\n",
       "      <td>4</td>\n",
       "      <td>NaN</td>\n",
       "      <td>Мне очень нравится. Если добавить несколько фу...</td>\n",
       "      <td>NaN</td>\n",
       "      <td>the app is super! indispensable to me now! and...</td>\n",
       "    </tr>\n",
       "    <tr>\n",
       "      <th>43</th>\n",
       "      <td>\\t2017-10-08</td>\n",
       "      <td>ru</td>\n",
       "      <td>Лілія Озеранська</td>\n",
       "      <td>4</td>\n",
       "      <td>NaN</td>\n",
       "      <td>Очень удобное приложение）</td>\n",
       "      <td>NaN</td>\n",
       "      <td>Very convenient. There are problems with chron...</td>\n",
       "    </tr>\n",
       "    <tr>\n",
       "      <th>47</th>\n",
       "      <td>\\t2017-10-08</td>\n",
       "      <td>ru</td>\n",
       "      <td>Динара Хамидуллина</td>\n",
       "      <td>5</td>\n",
       "      <td>NaN</td>\n",
       "      <td>Приложение удобное, все самое необходимое + хо...</td>\n",
       "      <td>NaN</td>\n",
       "      <td>I like</td>\n",
       "    </tr>\n",
       "    <tr>\n",
       "      <th>49</th>\n",
       "      <td>\\t2017-10-08</td>\n",
       "      <td>ru</td>\n",
       "      <td>Анастасия Иванова</td>\n",
       "      <td>5</td>\n",
       "      <td>NaN</td>\n",
       "      <td>Очень удобно</td>\n",
       "      <td>NaN</td>\n",
       "      <td>Well</td>\n",
       "    </tr>\n",
       "    <tr>\n",
       "      <th>58</th>\n",
       "      <td>\\t2017-10-07</td>\n",
       "      <td>ru</td>\n",
       "      <td>Ирина Азямова</td>\n",
       "      <td>5</td>\n",
       "      <td>NaN</td>\n",
       "      <td>Пока все устраивает! Очень удобно!</td>\n",
       "      <td>NaN</td>\n",
       "      <td>NaN</td>\n",
       "    </tr>\n",
       "    <tr>\n",
       "      <th>62</th>\n",
       "      <td>\\t2017-10-07</td>\n",
       "      <td>ru</td>\n",
       "      <td>Александра Кубыщенко</td>\n",
       "      <td>4</td>\n",
       "      <td>NaN</td>\n",
       "      <td>Приложение хорошее, пользуюсь регулярно уже 4 ...</td>\n",
       "      <td>NaN</td>\n",
       "      <td>NaN</td>\n",
       "    </tr>\n",
       "    <tr>\n",
       "      <th>67</th>\n",
       "      <td>\\t2017-10-07</td>\n",
       "      <td>ru</td>\n",
       "      <td>ОКСАНА Дороничева</td>\n",
       "      <td>5</td>\n",
       "      <td>NaN</td>\n",
       "      <td>Мне приложение понравилось! Очень удобная версия.</td>\n",
       "      <td>NaN</td>\n",
       "      <td>NaN</td>\n",
       "    </tr>\n",
       "    <tr>\n",
       "      <th>68</th>\n",
       "      <td>\\t2017-10-07</td>\n",
       "      <td>ru</td>\n",
       "      <td>Mary Demyanova</td>\n",
       "      <td>5</td>\n",
       "      <td>NaN</td>\n",
       "      <td>Все супер</td>\n",
       "      <td>NaN</td>\n",
       "      <td>NaN</td>\n",
       "    </tr>\n",
       "    <tr>\n",
       "      <th>74</th>\n",
       "      <td>\\t2017-10-06</td>\n",
       "      <td>ru</td>\n",
       "      <td>Kamelia Rahmetdinova</td>\n",
       "      <td>5</td>\n",
       "      <td>NaN</td>\n",
       "      <td>Приложение очень удобное, теперь я могу провер...</td>\n",
       "      <td>NaN</td>\n",
       "      <td>NaN</td>\n",
       "    </tr>\n",
       "    <tr>\n",
       "      <th>75</th>\n",
       "      <td>\\t2017-10-06</td>\n",
       "      <td>ru</td>\n",
       "      <td>Елена Розентальс</td>\n",
       "      <td>5</td>\n",
       "      <td>NaN</td>\n",
       "      <td>Очень хорошее приложение. Мне помогает 😉</td>\n",
       "      <td>NaN</td>\n",
       "      <td>NaN</td>\n",
       "    </tr>\n",
       "    <tr>\n",
       "      <th>81</th>\n",
       "      <td>\\t2017-10-06</td>\n",
       "      <td>ru</td>\n",
       "      <td>Ульяна Гулина</td>\n",
       "      <td>5</td>\n",
       "      <td>NaN</td>\n",
       "      <td>Мне удобно</td>\n",
       "      <td>NaN</td>\n",
       "      <td>NaN</td>\n",
       "    </tr>\n",
       "    <tr>\n",
       "      <th>82</th>\n",
       "      <td>\\t2017-10-06</td>\n",
       "      <td>ru</td>\n",
       "      <td>Ксения Киселева</td>\n",
       "      <td>5</td>\n",
       "      <td>NaN</td>\n",
       "      <td>Приложение супер, все просто и понятно. Очень ...</td>\n",
       "      <td>NaN</td>\n",
       "      <td>NaN</td>\n",
       "    </tr>\n",
       "    <tr>\n",
       "      <th>90</th>\n",
       "      <td>\\t2017-10-06</td>\n",
       "      <td>ru</td>\n",
       "      <td>Анастасия Корнийченко</td>\n",
       "      <td>5</td>\n",
       "      <td>NaN</td>\n",
       "      <td>Удобное приложенте. Спасает особенно в плане к...</td>\n",
       "      <td>NaN</td>\n",
       "      <td>NaN</td>\n",
       "    </tr>\n",
       "    <tr>\n",
       "      <th>91</th>\n",
       "      <td>\\t2017-10-06</td>\n",
       "      <td>ru</td>\n",
       "      <td>NaN</td>\n",
       "      <td>5</td>\n",
       "      <td>NaN</td>\n",
       "      <td>Всё удобно и прекрасно. Но почему в режиме дня...</td>\n",
       "      <td>NaN</td>\n",
       "      <td>NaN</td>\n",
       "    </tr>\n",
       "    <tr>\n",
       "      <th>97</th>\n",
       "      <td>\\t2017-10-05</td>\n",
       "      <td>ru</td>\n",
       "      <td>Алена Бардакова</td>\n",
       "      <td>5</td>\n",
       "      <td>NaN</td>\n",
       "      <td>Приложение просто отличное! Но пожалуйста разр...</td>\n",
       "      <td>NaN</td>\n",
       "      <td>NaN</td>\n",
       "    </tr>\n",
       "    <tr>\n",
       "      <th>110</th>\n",
       "      <td>\\t2017-10-05</td>\n",
       "      <td>ru</td>\n",
       "      <td>Eitan Poryadkov</td>\n",
       "      <td>5</td>\n",
       "      <td>NaN</td>\n",
       "      <td>Прога супер. Простая, без лишнего и очень удоб...</td>\n",
       "      <td>NaN</td>\n",
       "      <td>NaN</td>\n",
       "    </tr>\n",
       "    <tr>\n",
       "      <th>111</th>\n",
       "      <td>\\t2017-10-05</td>\n",
       "      <td>ru</td>\n",
       "      <td>NaN</td>\n",
       "      <td>5</td>\n",
       "      <td>NaN</td>\n",
       "      <td>Отличное приложение! Без него никак! Все проду...</td>\n",
       "      <td>NaN</td>\n",
       "      <td>NaN</td>\n",
       "    </tr>\n",
       "    <tr>\n",
       "      <th>122</th>\n",
       "      <td>\\t2017-10-04</td>\n",
       "      <td>ru</td>\n",
       "      <td>NaN</td>\n",
       "      <td>5</td>\n",
       "      <td>NaN</td>\n",
       "      <td>Мне лично очень помогло приложение!)</td>\n",
       "      <td>NaN</td>\n",
       "      <td>NaN</td>\n",
       "    </tr>\n",
       "    <tr>\n",
       "      <th>123</th>\n",
       "      <td>\\t2017-10-04</td>\n",
       "      <td>ru</td>\n",
       "      <td>NaN</td>\n",
       "      <td>5</td>\n",
       "      <td>NaN</td>\n",
       "      <td>Приложение супер! Мне оно очень помогает отсле...</td>\n",
       "      <td>NaN</td>\n",
       "      <td>NaN</td>\n",
       "    </tr>\n",
       "    <tr>\n",
       "      <th>125</th>\n",
       "      <td>\\t2017-10-04</td>\n",
       "      <td>ru</td>\n",
       "      <td>Mary Pasechnik</td>\n",
       "      <td>5</td>\n",
       "      <td>NaN</td>\n",
       "      <td>Очень удобное приложение</td>\n",
       "      <td>NaN</td>\n",
       "      <td>NaN</td>\n",
       "    </tr>\n",
       "    <tr>\n",
       "      <th>...</th>\n",
       "      <td>...</td>\n",
       "      <td>...</td>\n",
       "      <td>...</td>\n",
       "      <td>...</td>\n",
       "      <td>...</td>\n",
       "      <td>...</td>\n",
       "      <td>...</td>\n",
       "      <td>...</td>\n",
       "    </tr>\n",
       "    <tr>\n",
       "      <th>194</th>\n",
       "      <td>\\t2017-09-29</td>\n",
       "      <td>de</td>\n",
       "      <td>M S-S</td>\n",
       "      <td>5</td>\n",
       "      <td>NaN</td>\n",
       "      <td>App funktioniert gut. Nur ein Widget fehlt noc...</td>\n",
       "      <td>NaN</td>\n",
       "      <td>NaN</td>\n",
       "    </tr>\n",
       "    <tr>\n",
       "      <th>203</th>\n",
       "      <td>\\t2017-09-29</td>\n",
       "      <td>de</td>\n",
       "      <td>Viktoria Mihajlovic</td>\n",
       "      <td>5</td>\n",
       "      <td>NaN</td>\n",
       "      <td>Für mich alles dabei, was ich benötige</td>\n",
       "      <td>NaN</td>\n",
       "      <td>NaN</td>\n",
       "    </tr>\n",
       "    <tr>\n",
       "      <th>212</th>\n",
       "      <td>\\t2017-09-29</td>\n",
       "      <td>de</td>\n",
       "      <td>Sandra Meyer</td>\n",
       "      <td>4</td>\n",
       "      <td>NaN</td>\n",
       "      <td>An sich eine tolle App, nur die Statistik kann...</td>\n",
       "      <td>NaN</td>\n",
       "      <td>NaN</td>\n",
       "    </tr>\n",
       "    <tr>\n",
       "      <th>213</th>\n",
       "      <td>\\t2017-09-29</td>\n",
       "      <td>de</td>\n",
       "      <td>Rosa Flambo</td>\n",
       "      <td>4</td>\n",
       "      <td>NaN</td>\n",
       "      <td>Gute App. Bei Zwilligen ist app doch etwas kom...</td>\n",
       "      <td>NaN</td>\n",
       "      <td>NaN</td>\n",
       "    </tr>\n",
       "    <tr>\n",
       "      <th>215</th>\n",
       "      <td>\\t2017-09-29</td>\n",
       "      <td>de</td>\n",
       "      <td>Anne Opri</td>\n",
       "      <td>5</td>\n",
       "      <td>NaN</td>\n",
       "      <td>App hat alle Fubktionieren, die man braucht, u...</td>\n",
       "      <td>NaN</td>\n",
       "      <td>NaN</td>\n",
       "    </tr>\n",
       "    <tr>\n",
       "      <th>217</th>\n",
       "      <td>\\t2017-09-29</td>\n",
       "      <td>de</td>\n",
       "      <td>NaN</td>\n",
       "      <td>5</td>\n",
       "      <td>NaN</td>\n",
       "      <td>Tolle App, die einfach zu handhaben ist und ei...</td>\n",
       "      <td>NaN</td>\n",
       "      <td>NaN</td>\n",
       "    </tr>\n",
       "    <tr>\n",
       "      <th>222</th>\n",
       "      <td>\\t2017-09-28</td>\n",
       "      <td>de</td>\n",
       "      <td>NaN</td>\n",
       "      <td>5</td>\n",
       "      <td>NaN</td>\n",
       "      <td>Alles was man braucht in einer App. Übersichtl...</td>\n",
       "      <td>NaN</td>\n",
       "      <td>NaN</td>\n",
       "    </tr>\n",
       "    <tr>\n",
       "      <th>244</th>\n",
       "      <td>\\t2017-09-27</td>\n",
       "      <td>de</td>\n",
       "      <td>Katharina Daege</td>\n",
       "      <td>5</td>\n",
       "      <td>NaN</td>\n",
       "      <td>Ich bin begeistert. Die App ist kostenlos und ...</td>\n",
       "      <td>NaN</td>\n",
       "      <td>NaN</td>\n",
       "    </tr>\n",
       "    <tr>\n",
       "      <th>245</th>\n",
       "      <td>\\t2017-09-27</td>\n",
       "      <td>de</td>\n",
       "      <td>NaN</td>\n",
       "      <td>5</td>\n",
       "      <td>NaN</td>\n",
       "      <td>Finde alles super. Alles was man braucht und t...</td>\n",
       "      <td>NaN</td>\n",
       "      <td>NaN</td>\n",
       "    </tr>\n",
       "    <tr>\n",
       "      <th>249</th>\n",
       "      <td>\\t2017-09-27</td>\n",
       "      <td>de</td>\n",
       "      <td>Sasa Babeej</td>\n",
       "      <td>4</td>\n",
       "      <td>NaN</td>\n",
       "      <td>Super App. Bin wirklich sehr zufrieden!</td>\n",
       "      <td>NaN</td>\n",
       "      <td>NaN</td>\n",
       "    </tr>\n",
       "    <tr>\n",
       "      <th>257</th>\n",
       "      <td>\\t2017-09-27</td>\n",
       "      <td>de</td>\n",
       "      <td>Charleen Herberg</td>\n",
       "      <td>5</td>\n",
       "      <td>NaN</td>\n",
       "      <td>Sie hat alles was man braucht. Es hilft mir sehr.</td>\n",
       "      <td>NaN</td>\n",
       "      <td>NaN</td>\n",
       "    </tr>\n",
       "    <tr>\n",
       "      <th>267</th>\n",
       "      <td>\\t2017-09-26</td>\n",
       "      <td>de</td>\n",
       "      <td>NaN</td>\n",
       "      <td>5</td>\n",
       "      <td>NaN</td>\n",
       "      <td>Ich finde die App sehr simpel und praktisch! W...</td>\n",
       "      <td>NaN</td>\n",
       "      <td>NaN</td>\n",
       "    </tr>\n",
       "    <tr>\n",
       "      <th>269</th>\n",
       "      <td>\\t2017-09-26</td>\n",
       "      <td>de</td>\n",
       "      <td>NaN</td>\n",
       "      <td>5</td>\n",
       "      <td>NaN</td>\n",
       "      <td>Super App. Hilft einem den Überblick zu behalt...</td>\n",
       "      <td>NaN</td>\n",
       "      <td>NaN</td>\n",
       "    </tr>\n",
       "    <tr>\n",
       "      <th>270</th>\n",
       "      <td>\\t2017-09-26</td>\n",
       "      <td>de</td>\n",
       "      <td>Julia Mustermann</td>\n",
       "      <td>4</td>\n",
       "      <td>NaN</td>\n",
       "      <td>Mir hilft die App sehr, vor allem in der Nacht...</td>\n",
       "      <td>NaN</td>\n",
       "      <td>NaN</td>\n",
       "    </tr>\n",
       "    <tr>\n",
       "      <th>271</th>\n",
       "      <td>\\t2017-09-26</td>\n",
       "      <td>de</td>\n",
       "      <td>Johanna Soltys</td>\n",
       "      <td>4</td>\n",
       "      <td>NaN</td>\n",
       "      <td>Sehr nützlich für mich.</td>\n",
       "      <td>NaN</td>\n",
       "      <td>NaN</td>\n",
       "    </tr>\n",
       "    <tr>\n",
       "      <th>272</th>\n",
       "      <td>\\t2017-09-26</td>\n",
       "      <td>de</td>\n",
       "      <td>Maria Hanemann</td>\n",
       "      <td>4</td>\n",
       "      <td>NaN</td>\n",
       "      <td>Die App lässt alles dokumentieren (Statistik) ...</td>\n",
       "      <td>NaN</td>\n",
       "      <td>NaN</td>\n",
       "    </tr>\n",
       "    <tr>\n",
       "      <th>281</th>\n",
       "      <td>\\t2017-09-26</td>\n",
       "      <td>de</td>\n",
       "      <td>Laruel flower</td>\n",
       "      <td>5</td>\n",
       "      <td>NaN</td>\n",
       "      <td>Alles wichtige ist enthalten. Nachtragen wenn ...</td>\n",
       "      <td>NaN</td>\n",
       "      <td>NaN</td>\n",
       "    </tr>\n",
       "    <tr>\n",
       "      <th>282</th>\n",
       "      <td>\\t2017-09-26</td>\n",
       "      <td>de</td>\n",
       "      <td>NaN</td>\n",
       "      <td>4</td>\n",
       "      <td>NaN</td>\n",
       "      <td>Sehr zufrieden! :)</td>\n",
       "      <td>NaN</td>\n",
       "      <td>NaN</td>\n",
       "    </tr>\n",
       "    <tr>\n",
       "      <th>288</th>\n",
       "      <td>\\t2017-09-25</td>\n",
       "      <td>de</td>\n",
       "      <td>NaN</td>\n",
       "      <td>5</td>\n",
       "      <td>NaN</td>\n",
       "      <td>Erfüllt zweck</td>\n",
       "      <td>NaN</td>\n",
       "      <td>NaN</td>\n",
       "    </tr>\n",
       "    <tr>\n",
       "      <th>290</th>\n",
       "      <td>\\t2017-09-25</td>\n",
       "      <td>de</td>\n",
       "      <td>Felix Richter</td>\n",
       "      <td>5</td>\n",
       "      <td>NaN</td>\n",
       "      <td>Sehr gute App Sehr übersichtlich und hilfreich...</td>\n",
       "      <td>NaN</td>\n",
       "      <td>NaN</td>\n",
       "    </tr>\n",
       "    <tr>\n",
       "      <th>311</th>\n",
       "      <td>\\t2017-09-24</td>\n",
       "      <td>de</td>\n",
       "      <td>Sil ke</td>\n",
       "      <td>5</td>\n",
       "      <td>NaN</td>\n",
       "      <td>Segr einfache Bedienung. Übersichtlich und ein...</td>\n",
       "      <td>NaN</td>\n",
       "      <td>NaN</td>\n",
       "    </tr>\n",
       "    <tr>\n",
       "      <th>315</th>\n",
       "      <td>\\t2017-09-23</td>\n",
       "      <td>de</td>\n",
       "      <td>Gemmalyn Carréon</td>\n",
       "      <td>5</td>\n",
       "      <td>NaN</td>\n",
       "      <td>Sehr einfach &amp; übersichtlich aufgebaut :). Gra...</td>\n",
       "      <td>NaN</td>\n",
       "      <td>NaN</td>\n",
       "    </tr>\n",
       "    <tr>\n",
       "      <th>322</th>\n",
       "      <td>\\t2017-09-23</td>\n",
       "      <td>de</td>\n",
       "      <td>Regina Willms</td>\n",
       "      <td>5</td>\n",
       "      <td>NaN</td>\n",
       "      <td>Super app</td>\n",
       "      <td>NaN</td>\n",
       "      <td>NaN</td>\n",
       "    </tr>\n",
       "    <tr>\n",
       "      <th>337</th>\n",
       "      <td>\\t2017-09-22</td>\n",
       "      <td>de</td>\n",
       "      <td>Nata B</td>\n",
       "      <td>5</td>\n",
       "      <td>NaN</td>\n",
       "      <td>Einfach, schnell, übersichtlich und bedienerfr...</td>\n",
       "      <td>NaN</td>\n",
       "      <td>NaN</td>\n",
       "    </tr>\n",
       "    <tr>\n",
       "      <th>343</th>\n",
       "      <td>\\t2017-09-21</td>\n",
       "      <td>de</td>\n",
       "      <td>Selda A</td>\n",
       "      <td>5</td>\n",
       "      <td>NaN</td>\n",
       "      <td>Super app, bin sehr sehr zufrieden und benutze...</td>\n",
       "      <td>NaN</td>\n",
       "      <td>NaN</td>\n",
       "    </tr>\n",
       "    <tr>\n",
       "      <th>355</th>\n",
       "      <td>\\t2017-09-20</td>\n",
       "      <td>de</td>\n",
       "      <td>Franziska Piric</td>\n",
       "      <td>5</td>\n",
       "      <td>NaN</td>\n",
       "      <td>Bin Total zufrieden bist jetzt! Die Statistik ...</td>\n",
       "      <td>NaN</td>\n",
       "      <td>NaN</td>\n",
       "    </tr>\n",
       "    <tr>\n",
       "      <th>359</th>\n",
       "      <td>\\t2017-09-20</td>\n",
       "      <td>de</td>\n",
       "      <td>NaN</td>\n",
       "      <td>5</td>\n",
       "      <td>NaN</td>\n",
       "      <td>Sehr zu empfehlen die App sie erinnert ein ger...</td>\n",
       "      <td>NaN</td>\n",
       "      <td>NaN</td>\n",
       "    </tr>\n",
       "    <tr>\n",
       "      <th>362</th>\n",
       "      <td>\\t2017-09-20</td>\n",
       "      <td>de</td>\n",
       "      <td>Irina Taubert</td>\n",
       "      <td>5</td>\n",
       "      <td>NaN</td>\n",
       "      <td>Perfekt! Gerade für den Anfang in der Stillzei...</td>\n",
       "      <td>NaN</td>\n",
       "      <td>NaN</td>\n",
       "    </tr>\n",
       "    <tr>\n",
       "      <th>363</th>\n",
       "      <td>\\t2017-09-20</td>\n",
       "      <td>de</td>\n",
       "      <td>Anna Zeiler</td>\n",
       "      <td>5</td>\n",
       "      <td>NaN</td>\n",
       "      <td>Nutze die App, um Still- und Schlafzeiten zu t...</td>\n",
       "      <td>NaN</td>\n",
       "      <td>NaN</td>\n",
       "    </tr>\n",
       "    <tr>\n",
       "      <th>364</th>\n",
       "      <td>\\t2017-09-20</td>\n",
       "      <td>de</td>\n",
       "      <td>Melanie Ruppel</td>\n",
       "      <td>5</td>\n",
       "      <td>NaN</td>\n",
       "      <td>Super App!</td>\n",
       "      <td>NaN</td>\n",
       "      <td>NaN</td>\n",
       "    </tr>\n",
       "  </tbody>\n",
       "</table>\n",
       "<p>200 rows × 8 columns</p>\n",
       "</div>"
      ],
      "text/plain": [
       "             Date Lang                 Author  Stars Title  \\\n",
       "3    \\t2017-10-11   ru           Eva Lollipop      5   NaN   \n",
       "11   \\t2017-10-10   ru         Ирина Фатурова      3   NaN   \n",
       "12   \\t2017-10-10   ru             Анна Ромас      4   NaN   \n",
       "15   \\t2017-10-10   ru  Екатерина Артеменкова      5   NaN   \n",
       "16   \\t2017-10-10   ru          Елена Кадрова      5   NaN   \n",
       "26   \\t2017-10-09   ru         Anna Babashina      4   NaN   \n",
       "27   \\t2017-10-09   ru              Инна Борщ      5   NaN   \n",
       "28   \\t2017-10-09   ru             Алиса Януш      5   NaN   \n",
       "29   \\t2017-10-09   ru         Элиза Дорохова      5   NaN   \n",
       "38   \\t2017-10-08   ru                Ali Ali      5   NaN   \n",
       "42   \\t2017-10-08   ru                    NaN      4   NaN   \n",
       "43   \\t2017-10-08   ru       Лілія Озеранська      4   NaN   \n",
       "47   \\t2017-10-08   ru     Динара Хамидуллина      5   NaN   \n",
       "49   \\t2017-10-08   ru      Анастасия Иванова      5   NaN   \n",
       "58   \\t2017-10-07   ru          Ирина Азямова      5   NaN   \n",
       "62   \\t2017-10-07   ru   Александра Кубыщенко      4   NaN   \n",
       "67   \\t2017-10-07   ru      ОКСАНА Дороничева      5   NaN   \n",
       "68   \\t2017-10-07   ru         Mary Demyanova      5   NaN   \n",
       "74   \\t2017-10-06   ru   Kamelia Rahmetdinova      5   NaN   \n",
       "75   \\t2017-10-06   ru       Елена Розентальс      5   NaN   \n",
       "81   \\t2017-10-06   ru          Ульяна Гулина      5   NaN   \n",
       "82   \\t2017-10-06   ru        Ксения Киселева      5   NaN   \n",
       "90   \\t2017-10-06   ru  Анастасия Корнийченко      5   NaN   \n",
       "91   \\t2017-10-06   ru                    NaN      5   NaN   \n",
       "97   \\t2017-10-05   ru        Алена Бардакова      5   NaN   \n",
       "110  \\t2017-10-05   ru        Eitan Poryadkov      5   NaN   \n",
       "111  \\t2017-10-05   ru                    NaN      5   NaN   \n",
       "122  \\t2017-10-04   ru                    NaN      5   NaN   \n",
       "123  \\t2017-10-04   ru                    NaN      5   NaN   \n",
       "125  \\t2017-10-04   ru         Mary Pasechnik      5   NaN   \n",
       "..            ...  ...                    ...    ...   ...   \n",
       "194  \\t2017-09-29   de                  M S-S      5   NaN   \n",
       "203  \\t2017-09-29   de    Viktoria Mihajlovic      5   NaN   \n",
       "212  \\t2017-09-29   de           Sandra Meyer      4   NaN   \n",
       "213  \\t2017-09-29   de            Rosa Flambo      4   NaN   \n",
       "215  \\t2017-09-29   de              Anne Opri      5   NaN   \n",
       "217  \\t2017-09-29   de                    NaN      5   NaN   \n",
       "222  \\t2017-09-28   de                    NaN      5   NaN   \n",
       "244  \\t2017-09-27   de        Katharina Daege      5   NaN   \n",
       "245  \\t2017-09-27   de                    NaN      5   NaN   \n",
       "249  \\t2017-09-27   de            Sasa Babeej      4   NaN   \n",
       "257  \\t2017-09-27   de       Charleen Herberg      5   NaN   \n",
       "267  \\t2017-09-26   de                    NaN      5   NaN   \n",
       "269  \\t2017-09-26   de                    NaN      5   NaN   \n",
       "270  \\t2017-09-26   de       Julia Mustermann      4   NaN   \n",
       "271  \\t2017-09-26   de         Johanna Soltys      4   NaN   \n",
       "272  \\t2017-09-26   de         Maria Hanemann      4   NaN   \n",
       "281  \\t2017-09-26   de          Laruel flower      5   NaN   \n",
       "282  \\t2017-09-26   de                    NaN      4   NaN   \n",
       "288  \\t2017-09-25   de                    NaN      5   NaN   \n",
       "290  \\t2017-09-25   de          Felix Richter      5   NaN   \n",
       "311  \\t2017-09-24   de                 Sil ke      5   NaN   \n",
       "315  \\t2017-09-23   de       Gemmalyn Carréon      5   NaN   \n",
       "322  \\t2017-09-23   de          Regina Willms      5   NaN   \n",
       "337  \\t2017-09-22   de                 Nata B      5   NaN   \n",
       "343  \\t2017-09-21   de                Selda A      5   NaN   \n",
       "355  \\t2017-09-20   de        Franziska Piric      5   NaN   \n",
       "359  \\t2017-09-20   de                    NaN      5   NaN   \n",
       "362  \\t2017-09-20   de          Irina Taubert      5   NaN   \n",
       "363  \\t2017-09-20   de            Anna Zeiler      5   NaN   \n",
       "364  \\t2017-09-20   de         Melanie Ruppel      5   NaN   \n",
       "\n",
       "                                                Review Reply  \\\n",
       "3    Огромное спасибо, за ваш труд! Это лучше прило...   NaN   \n",
       "11   Приложение некорректно отображает информацию в...   NaN   \n",
       "12   Почему-то прогулку стало выставлять сразу окон...   NaN   \n",
       "15                   Просто, удобно, без рекламы почти   NaN   \n",
       "16                              Супер! Очень выручает!   NaN   \n",
       "26   Хотелось бы расшифровки в графиках при нажатии...   NaN   \n",
       "27                                        очень удобно   NaN   \n",
       "28   Нравится приложение, как неопытная мамочка веч...   NaN   \n",
       "29   Супер приложение, когда не надо заморачиваться...   NaN   \n",
       "38                                               Круто   NaN   \n",
       "42   Мне очень нравится. Если добавить несколько фу...   NaN   \n",
       "43                           Очень удобное приложение）   NaN   \n",
       "47   Приложение удобное, все самое необходимое + хо...   NaN   \n",
       "49                                        Очень удобно   NaN   \n",
       "58                  Пока все устраивает! Очень удобно!   NaN   \n",
       "62   Приложение хорошее, пользуюсь регулярно уже 4 ...   NaN   \n",
       "67   Мне приложение понравилось! Очень удобная версия.   NaN   \n",
       "68                                           Все супер   NaN   \n",
       "74   Приложение очень удобное, теперь я могу провер...   NaN   \n",
       "75            Очень хорошее приложение. Мне помогает 😉   NaN   \n",
       "81                                          Мне удобно   NaN   \n",
       "82   Приложение супер, все просто и понятно. Очень ...   NaN   \n",
       "90   Удобное приложенте. Спасает особенно в плане к...   NaN   \n",
       "91   Всё удобно и прекрасно. Но почему в режиме дня...   NaN   \n",
       "97   Приложение просто отличное! Но пожалуйста разр...   NaN   \n",
       "110  Прога супер. Простая, без лишнего и очень удоб...   NaN   \n",
       "111  Отличное приложение! Без него никак! Все проду...   NaN   \n",
       "122               Мне лично очень помогло приложение!)   NaN   \n",
       "123  Приложение супер! Мне оно очень помогает отсле...   NaN   \n",
       "125                           Очень удобное приложение   NaN   \n",
       "..                                                 ...   ...   \n",
       "194  App funktioniert gut. Nur ein Widget fehlt noc...   NaN   \n",
       "203             Für mich alles dabei, was ich benötige   NaN   \n",
       "212  An sich eine tolle App, nur die Statistik kann...   NaN   \n",
       "213  Gute App. Bei Zwilligen ist app doch etwas kom...   NaN   \n",
       "215  App hat alle Fubktionieren, die man braucht, u...   NaN   \n",
       "217  Tolle App, die einfach zu handhaben ist und ei...   NaN   \n",
       "222  Alles was man braucht in einer App. Übersichtl...   NaN   \n",
       "244  Ich bin begeistert. Die App ist kostenlos und ...   NaN   \n",
       "245  Finde alles super. Alles was man braucht und t...   NaN   \n",
       "249            Super App. Bin wirklich sehr zufrieden!   NaN   \n",
       "257  Sie hat alles was man braucht. Es hilft mir sehr.   NaN   \n",
       "267  Ich finde die App sehr simpel und praktisch! W...   NaN   \n",
       "269  Super App. Hilft einem den Überblick zu behalt...   NaN   \n",
       "270  Mir hilft die App sehr, vor allem in der Nacht...   NaN   \n",
       "271                            Sehr nützlich für mich.   NaN   \n",
       "272  Die App lässt alles dokumentieren (Statistik) ...   NaN   \n",
       "281  Alles wichtige ist enthalten. Nachtragen wenn ...   NaN   \n",
       "282                                 Sehr zufrieden! :)   NaN   \n",
       "288                                      Erfüllt zweck   NaN   \n",
       "290  Sehr gute App Sehr übersichtlich und hilfreich...   NaN   \n",
       "311  Segr einfache Bedienung. Übersichtlich und ein...   NaN   \n",
       "315  Sehr einfach & übersichtlich aufgebaut :). Gra...   NaN   \n",
       "322                                          Super app   NaN   \n",
       "337  Einfach, schnell, übersichtlich und bedienerfr...   NaN   \n",
       "343  Super app, bin sehr sehr zufrieden und benutze...   NaN   \n",
       "355  Bin Total zufrieden bist jetzt! Die Statistik ...   NaN   \n",
       "359  Sehr zu empfehlen die App sie erinnert ein ger...   NaN   \n",
       "362  Perfekt! Gerade für den Anfang in der Stillzei...   NaN   \n",
       "363  Nutze die App, um Still- und Schlafzeiten zu t...   NaN   \n",
       "364                                         Super App!   NaN   \n",
       "\n",
       "                                               English  \n",
       "3                    Simple, convenient, no ads almost  \n",
       "11                                     Very handy app）  \n",
       "12   The app is user friendly, everything you need ...  \n",
       "15   The app is good, use regularly for 4 months. T...  \n",
       "16           I like this app! Very convenient version.  \n",
       "26   Great app! Without in any way! Everything is t...  \n",
       "27                     I personally very helpful app!)  \n",
       "28   The app is super! To me it is very helpful to ...  \n",
       "29                                      Very handy app  \n",
       "38   The app is extremely helpful! One big disadvan...  \n",
       "42   the app is super! indispensable to me now! and...  \n",
       "43   Very convenient. There are problems with chron...  \n",
       "47                                              I like  \n",
       "49                                                Well  \n",
       "58                                                 NaN  \n",
       "62                                                 NaN  \n",
       "67                                                 NaN  \n",
       "68                                                 NaN  \n",
       "74                                                 NaN  \n",
       "75                                                 NaN  \n",
       "81                                                 NaN  \n",
       "82                                                 NaN  \n",
       "90                                                 NaN  \n",
       "91                                                 NaN  \n",
       "97                                                 NaN  \n",
       "110                                                NaN  \n",
       "111                                                NaN  \n",
       "122                                                NaN  \n",
       "123                                                NaN  \n",
       "125                                                NaN  \n",
       "..                                                 ...  \n",
       "194                                                NaN  \n",
       "203                                                NaN  \n",
       "212                                                NaN  \n",
       "213                                                NaN  \n",
       "215                                                NaN  \n",
       "217                                                NaN  \n",
       "222                                                NaN  \n",
       "244                                                NaN  \n",
       "245                                                NaN  \n",
       "249                                                NaN  \n",
       "257                                                NaN  \n",
       "267                                                NaN  \n",
       "269                                                NaN  \n",
       "270                                                NaN  \n",
       "271                                                NaN  \n",
       "272                                                NaN  \n",
       "281                                                NaN  \n",
       "282                                                NaN  \n",
       "288                                                NaN  \n",
       "290                                                NaN  \n",
       "311                                                NaN  \n",
       "315                                                NaN  \n",
       "322                                                NaN  \n",
       "337                                                NaN  \n",
       "343                                                NaN  \n",
       "355                                                NaN  \n",
       "359                                                NaN  \n",
       "362                                                NaN  \n",
       "363                                                NaN  \n",
       "364                                                NaN  \n",
       "\n",
       "[200 rows x 8 columns]"
      ]
     },
     "execution_count": 247,
     "metadata": {},
     "output_type": "execute_result"
    }
   ],
   "source": [
    "result"
   ]
  },
  {
   "cell_type": "code",
   "execution_count": null,
   "metadata": {
    "collapsed": true
   },
   "outputs": [],
   "source": []
  }
 ],
 "metadata": {
  "kernelspec": {
   "display_name": "Python 3",
   "language": "python",
   "name": "python3"
  },
  "language_info": {
   "codemirror_mode": {
    "name": "ipython",
    "version": 3
   },
   "file_extension": ".py",
   "mimetype": "text/x-python",
   "name": "python",
   "nbconvert_exporter": "python",
   "pygments_lexer": "ipython3",
   "version": "3.6.0"
  }
 },
 "nbformat": 4,
 "nbformat_minor": 2
}
